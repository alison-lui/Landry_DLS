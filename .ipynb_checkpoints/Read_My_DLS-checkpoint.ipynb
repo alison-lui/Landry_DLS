{
 "cells": [
  {
   "cell_type": "markdown",
   "id": "6de1a241",
   "metadata": {},
   "source": [
    "# DLS Reading Python Code"
   ]
  },
  {
   "cell_type": "markdown",
   "id": "8145bb4f-7b4c-4cc2-9318-e5b588e658b1",
   "metadata": {
    "tags": [],
    "toc-hr-collapsed": true
   },
   "source": [
    "# Import packages"
   ]
  },
  {
   "cell_type": "code",
   "execution_count": 2,
   "id": "e335a5ef",
   "metadata": {
    "colab": {
     "background_save": true
    },
    "id": "e335a5ef",
    "tags": []
   },
   "outputs": [],
   "source": [
    "import os\n",
    "import numpy as np\n",
    "import pandas as pd\n",
    "import seaborn as sns\n",
    "import matplotlib.pyplot as plt\n",
    "import re\n",
    "import calendar\n",
    "from scipy.optimize import curve_fit\n",
    "#from google.colab import drive\n",
    "#drive.mount('/content/drive')"
   ]
  },
  {
   "cell_type": "markdown",
   "id": "b5f59905",
   "metadata": {
    "id": "b5f59905",
    "jp-MarkdownHeadingCollapsed": true,
    "tags": [],
    "toc-hr-collapsed": true
   },
   "source": [
    "# LOAD & FORMAT DATA"
   ]
  },
  {
   "cell_type": "code",
   "execution_count": null,
   "id": "3a05a610",
   "metadata": {
    "colab": {
     "base_uri": "https://localhost:8080/",
     "height": 483
    },
    "executionInfo": {
     "elapsed": 25,
     "status": "ok",
     "timestamp": 1689888731308,
     "user": {
      "displayName": "Justin Gardner",
      "userId": "14342044284888010814"
     },
     "user_tz": 420
    },
    "id": "3a05a610",
    "outputId": "e15cd070-8fa2-432d-f6a6-f6fd635073e2",
    "tags": []
   },
   "outputs": [],
   "source": [
    "#df = pd.read_excel('/Users/alison/Library/CloudStorage/GoogleDrive-alui@berkeley.edu/My Drive/Research/AL Data/B3P170 - R18 and CF LUV + LNP/2023-07-27 - DLS/2023-07-27 lnp.xlsx')\n",
    "df = pd.read_excel('/Users/alison/Library/CloudStorage/GoogleDrive-alui@berkeley.edu/My Drive/Research/AL Data/B3P170 - R18 and CF LUV + LNP/2023-07-21 - DLS/2023-07-21 LUV + LNP.xlsx')"
   ]
  },
  {
   "cell_type": "code",
   "execution_count": null,
   "id": "1244a459-7b78-40dc-9515-dfd49f318726",
   "metadata": {
    "tags": []
   },
   "outputs": [],
   "source": [
    "# choose folder which includes hella DLS files\n",
    "path = r'/Users/alison/Library/CloudStorage/GoogleDrive-alui@berkeley.edu/My Drive/Research/Alison DLS'\n",
    "files = os.listdir(path)\n",
    "\n",
    "def check_year_zeta(filename):\n",
    "    if 'zeta' not in filename:\n",
    "        if '2023' in filename:\n",
    "            return filename\n",
    "        elif '2022' in filename:\n",
    "            return filename\n",
    "\n",
    "files = list(filter(check_year_zeta, files))\n",
    "\n",
    "# choose only the excel files\n",
    "files_xls = [f for f in files if f[-4:] == 'xlsx']\n",
    "\n",
    "# initiate new dataframe\n",
    "df = pd.DataFrame()\n",
    "\n",
    "# open each file and concatenate into df\n",
    "for f in files_xls:\n",
    "    \n",
    "    # open excel file\n",
    "    xl = pd.ExcelFile(os.path.join(path,f))\n",
    "    \n",
    "    # read sheetnames\n",
    "    if 'Sheet1' in xl.sheet_names:\n",
    "        sheet_name = 'Sheet1'\n",
    "    elif 'intensity + number' in xl.sheet_names:\n",
    "        sheet_name = 'intensity + number'\n",
    "    else:\n",
    "        sheet_name = xl.sheet_names[0]\n",
    "        print(\"f = \" + f)\n",
    "        print(\"sheet name = \" + sheet_name)\n",
    "    \n",
    "    data = pd.read_excel(os.path.join(path,f), sheet_name, header=0)\n",
    "    data[\"filename\"] = f\n",
    "    df = pd.concat([df,data])"
   ]
  },
  {
   "cell_type": "markdown",
   "id": "b2873ada-b7fb-45c8-b367-32ee19ed4bac",
   "metadata": {
    "tags": []
   },
   "source": [
    "## Format df"
   ]
  },
  {
   "cell_type": "code",
   "execution_count": null,
   "id": "0c178766-5612-4180-add1-314dc06c932a",
   "metadata": {
    "tags": []
   },
   "outputs": [],
   "source": [
    "# remove any columns that include the word Zeta\n",
    "df = df.drop(columns=df.filter(regex=(r\"Zeta\")).columns)"
   ]
  },
  {
   "cell_type": "code",
   "execution_count": null,
   "id": "4a847e54-3b51-4552-afbf-0bcba5e9eb41",
   "metadata": {
    "tags": []
   },
   "outputs": [],
   "source": [
    "# if no measurement date & time, fill with Jan 0, 2000\n",
    "df[\"Measurement Date and Time\"] = df[\"Measurement Date and Time\"].fillna('Monday, January 1, 2000 12:00:00 AM')"
   ]
  },
  {
   "cell_type": "code",
   "execution_count": null,
   "id": "1e31a6ae-de01-42de-bc62-eb2dd084beb3",
   "metadata": {
    "tags": []
   },
   "outputs": [],
   "source": [
    "# drop Record Number column\n",
    "df.drop(columns=\"Record Number\")\n",
    "\n",
    "# reset index to be unique values\n",
    "df.reset_index(drop=True, inplace=True)\n",
    "\n",
    "# make new column called Record Number which includes just unique indices\n",
    "df[\"Record Number\"] = df.index.values"
   ]
  },
  {
   "cell_type": "markdown",
   "id": "04e4ac3c",
   "metadata": {
    "id": "04e4ac3c",
    "tags": []
   },
   "source": [
    "## Extract Size Data in `size` df"
   ]
  },
  {
   "cell_type": "code",
   "execution_count": null,
   "id": "d5a4faf1",
   "metadata": {
    "id": "d5a4faf1",
    "tags": []
   },
   "outputs": [],
   "source": [
    "size = df.filter(regex=r'Size').drop_duplicates().dropna().T.reset_index().rename(columns={0:\"Diameter (nm)\"})\n",
    "size['DLS index'] = size['index'].str.findall(r'\\d+').explode().astype(int)\n",
    "size['Log Diameter'] = size[\"Diameter (nm)\"].apply(\"log10\")\n",
    "size = size.drop(columns='index')\n",
    "size"
   ]
  },
  {
   "cell_type": "markdown",
   "id": "2d57713a",
   "metadata": {
    "id": "2d57713a"
   },
   "source": [
    "## Format sample names and dates in `info` df"
   ]
  },
  {
   "cell_type": "code",
   "execution_count": null,
   "id": "a62b7f99",
   "metadata": {
    "id": "a62b7f99",
    "tags": []
   },
   "outputs": [],
   "source": [
    "info = pd.DataFrame(df.loc[:,['Measurement Date and Time','Sample Name','Record Number']].copy(deep=True))\n",
    "info['Triplicate'] = info['Sample Name'].str.strip().str[-1]\n",
    "info['title'] = info['Sample Name'].str.rstrip(r'123 ')\n",
    "\n",
    "# extract date and time information\n",
    "info = info.join(pd.DataFrame(info[\"Measurement Date and Time\"].str.findall(r'([A-Z][a-z]*), ([A-Z][a-z]*) (\\d\\d?), (\\d{4}) (\\d\\d?:\\d\\d?:\\d\\d [AP]M)').explode().to_list(), columns=[\"day of week\",\"month\",\"day\",\"year\",\"time\"]))\n",
    "\n",
    "# replace string month to numerical month to be read by datetime function\n",
    "d = dict((v,k) for k,v in enumerate(calendar.month_name))\n",
    "info[\"month\"] = info.month.map(d)\n",
    "\n",
    "# convert columns to integer datatype\n",
    "info[\"day\"] = info[\"day\"].astype(int)\n",
    "info[\"month\"] = info[\"month\"].astype(int)\n",
    "info[\"year\"] = info[\"year\"].astype(int)\n",
    "\n",
    "# convert month/day/year into datetime format\n",
    "info[\"date\"] = pd.to_datetime(info.loc[:,[\"year\",\"month\",\"day\"]])\n",
    "\n",
    "# remove month/date/year columns\n",
    "info.drop(columns=['year','month','day','day of week'], inplace=True)\n",
    "\n",
    "info.head()"
   ]
  },
  {
   "cell_type": "markdown",
   "id": "f25d051b-73e8-42e9-aee5-7c57f14206fa",
   "metadata": {},
   "source": [
    "## Find all unique titles and dates in `info`. Save to `samples` dataframe and generate unique sample `id`. "
   ]
  },
  {
   "cell_type": "code",
   "execution_count": null,
   "id": "4e107a7e-802c-4a3c-ad27-360384ecf839",
   "metadata": {
    "tags": []
   },
   "outputs": [],
   "source": [
    "samples = info.loc[:,[\"title\",\"date\"]].drop_duplicates()"
   ]
  },
  {
   "cell_type": "code",
   "execution_count": null,
   "id": "cd53cf41-a518-46ea-9a70-b59b352c0624",
   "metadata": {
    "tags": []
   },
   "outputs": [],
   "source": [
    "samples[\"id\"] = np.arange(0,samples.shape[0])\n",
    "samples.head()"
   ]
  },
  {
   "cell_type": "markdown",
   "id": "2e0ebb08-beda-4b23-bf6b-d8514200e74f",
   "metadata": {},
   "source": [
    "## Compute days since first sample for each unique title"
   ]
  },
  {
   "cell_type": "code",
   "execution_count": null,
   "id": "ddf2a24a-d48a-42ff-999c-fff1f2f51cb0",
   "metadata": {
    "tags": []
   },
   "outputs": [],
   "source": [
    "# new startdate pivot table with earliest date for each unique title\n",
    "startdate = pd.pivot_table(data=samples,\n",
    "               index=\"title\",\n",
    "               values=\"date\",\n",
    "               aggfunc=\"min\").rename(columns={\"date\" : \"start date\"})"
   ]
  },
  {
   "cell_type": "code",
   "execution_count": null,
   "id": "834d9c4d-49e1-4aeb-9e32-9fce17b9bbf4",
   "metadata": {
    "tags": []
   },
   "outputs": [],
   "source": [
    "# add back in to samples and compute days since 'start date'\n",
    "samples = samples.merge(startdate, left_on=\"title\",right_on=\"title\")\n",
    "samples[\"days since\"] = samples[\"date\"] - samples[\"start date\"]\n",
    "samples[\"days since\"] = samples[\"days since\"].apply(lambda x: x.days)"
   ]
  },
  {
   "cell_type": "code",
   "execution_count": null,
   "id": "935e224c-5990-40b5-b7f2-4323773168af",
   "metadata": {
    "tags": []
   },
   "outputs": [],
   "source": [
    "# return info back to `info` dataframe\n",
    "info = info.merge(samples, \n",
    "           left_on=[\"title\",\"date\"],\n",
    "           right_on=[\"title\",\"date\"]\n",
    "          )\n",
    "info.head()"
   ]
  },
  {
   "cell_type": "markdown",
   "id": "cf1fac4d",
   "metadata": {
    "id": "cf1fac4d"
   },
   "source": [
    "## Create intensity dataframe"
   ]
  },
  {
   "cell_type": "code",
   "execution_count": null,
   "id": "c01770f9",
   "metadata": {
    "id": "c01770f9",
    "tags": []
   },
   "outputs": [],
   "source": [
    "intensity = df.filter(regex=r'Record Number|Intensities').set_index('Record Number').T\n",
    "intensity['DLS index'] = pd.Series(intensity.index).str.findall(r'\\d+').explode().values.astype(int)\n",
    "\n",
    "# drop any rows for which there are nan values\n",
    "intensity = intensity.dropna(axis=1)\n",
    "intensity.head(3)"
   ]
  },
  {
   "cell_type": "markdown",
   "id": "f80dc515",
   "metadata": {
    "id": "f80dc515"
   },
   "source": [
    "## Create number dataframe"
   ]
  },
  {
   "cell_type": "code",
   "execution_count": null,
   "id": "99781cb2",
   "metadata": {
    "id": "99781cb2",
    "tags": []
   },
   "outputs": [],
   "source": [
    "number = df.filter(regex=r'Record Number|Numbers').set_index('Record Number').T\n",
    "number['DLS index'] = pd.Series(number.index).str.findall(r'\\d+').explode().values\n",
    "\n",
    "# drop any rows for which there are nan values\n",
    "number = number.dropna(axis=1)\n",
    "number.head(3)"
   ]
  },
  {
   "cell_type": "markdown",
   "id": "c9419735",
   "metadata": {
    "id": "c9419735"
   },
   "source": [
    "## Join `intensity`, `number`, `size`, and `info` to `df_main`"
   ]
  },
  {
   "cell_type": "code",
   "execution_count": null,
   "id": "6b41a2a0-aa49-4020-a1ba-03a3fed8e9ed",
   "metadata": {
    "tags": []
   },
   "outputs": [],
   "source": [
    "df_main = intensity.melt(id_vars='DLS index', value_vars=intensity.columns, value_name='Intensity %')\n",
    "print(df_main.shape)\n",
    "df_main.head(3)"
   ]
  },
  {
   "cell_type": "code",
   "execution_count": null,
   "id": "cd7bed2e-db97-4f88-98f6-18d359c8f70e",
   "metadata": {
    "tags": []
   },
   "outputs": [],
   "source": [
    "df_main = df_main.join(number.melt(id_vars='DLS index', value_vars=number.columns, value_name='Number %').loc[:,\"Number %\"])\n",
    "print(df_main.shape)\n",
    "df_main.head(3)"
   ]
  },
  {
   "cell_type": "code",
   "execution_count": null,
   "id": "737275ba-89e8-490b-bafe-9f751ca16101",
   "metadata": {
    "tags": []
   },
   "outputs": [],
   "source": [
    "df_main = df_main.merge(size, left_on=\"DLS index\", right_on=\"DLS index\")\n",
    "print(df_main.shape)\n",
    "df_main.head(3)"
   ]
  },
  {
   "cell_type": "code",
   "execution_count": null,
   "id": "9d542437-e700-402a-a00b-72e55c446615",
   "metadata": {
    "tags": []
   },
   "outputs": [],
   "source": [
    "df_main = df_main.merge(info, left_on=\"Record Number\", right_on=\"Record Number\")\n",
    "print(df_main.shape)\n",
    "df_main.head(3)"
   ]
  },
  {
   "cell_type": "markdown",
   "id": "a532d988-60a8-46ee-a86d-133d22d2f6b0",
   "metadata": {
    "tags": []
   },
   "source": [
    "## Extract LUV/LNP Parameters from Title\n",
    "fluorophore, LUV, LNP, lipid, lipidoid, pH"
   ]
  },
  {
   "cell_type": "code",
   "execution_count": null,
   "id": "bfbd172c-52bf-4b10-8419-f183bb217336",
   "metadata": {
    "tags": []
   },
   "outputs": [],
   "source": [
    "df_main[\"LUV\"] = df_main[\"title\"].str.count(r'LUV')"
   ]
  },
  {
   "cell_type": "code",
   "execution_count": null,
   "id": "26715177-5930-428b-8246-e2e0424d426d",
   "metadata": {
    "tags": []
   },
   "outputs": [],
   "source": [
    "df_main[\"LNP\"] = df_main[\"title\"].str.count(r'LNP')"
   ]
  },
  {
   "cell_type": "code",
   "execution_count": null,
   "id": "1c28d8e1-37f4-4611-aa6a-7ead54c7de29",
   "metadata": {
    "tags": []
   },
   "outputs": [],
   "source": [
    "df_test = df_main[\"title\"].str.findall(r'R18 \\+ CF|R18|CF').explode()\n",
    "df_test = df_test[~df_test.index.duplicated(keep='first')]\n",
    "df_main[\"fluorophore\"] = df_test"
   ]
  },
  {
   "cell_type": "code",
   "execution_count": null,
   "id": "8f832ddd-fda0-4c6a-b4cf-3d178a0c7b1a",
   "metadata": {
    "tags": []
   },
   "outputs": [],
   "source": [
    "df_main[\"lipid\"] = df_main[\"title\"].str.findall(r'(POPC|POPG)').explode()\n",
    "df_main[\"lipid\"] = df_main[\"lipid\"].fillna('POPC')"
   ]
  },
  {
   "cell_type": "code",
   "execution_count": null,
   "id": "e1c64005-5591-4f1e-8b43-03cb749db4a3",
   "metadata": {
    "tags": []
   },
   "outputs": [],
   "source": [
    "df_main[\"lipidoid\"] = df_main[\"title\"].str.findall(r'\\d{3}\\w{1,2}10').explode()"
   ]
  },
  {
   "cell_type": "code",
   "execution_count": null,
   "id": "ab6cae44-a0fa-4866-9eb0-47cd5bd5e857",
   "metadata": {
    "tags": []
   },
   "outputs": [],
   "source": [
    "df_main[\"pH\"] = df_main[\"title\"].str.findall(r'pH (5.5|7.4)').explode()\n",
    "df_main[\"pH\"] = df_main[\"pH\"].fillna('7.4')"
   ]
  },
  {
   "cell_type": "code",
   "execution_count": null,
   "id": "c690cd3d-4ee6-415d-b404-02d51444db3f",
   "metadata": {},
   "outputs": [],
   "source": [
    "df_main[\"fluorophore and pH\"] = df_main[\"fluorophore\"] + \" pH \" + df_main[\"pH\"].astype(str)"
   ]
  },
  {
   "cell_type": "code",
   "execution_count": null,
   "id": "8324828f-aabd-4b6b-bb2c-34cd98568fa0",
   "metadata": {
    "tags": []
   },
   "outputs": [],
   "source": [
    "df_main[\"Triton\"] = df_main[\"title\"].str.count(r'Triton')"
   ]
  },
  {
   "cell_type": "markdown",
   "id": "f846d77b-fa34-499f-90b3-9f926196b308",
   "metadata": {
    "jp-MarkdownHeadingCollapsed": true,
    "tags": [],
    "toc-hr-collapsed": true
   },
   "source": [
    "# CALCULATIONS"
   ]
  },
  {
   "cell_type": "markdown",
   "id": "c0d4c1d5",
   "metadata": {
    "id": "c0d4c1d5"
   },
   "source": [
    "## Compute Peak Diameter (mode) for each `id` "
   ]
  },
  {
   "cell_type": "code",
   "execution_count": null,
   "id": "09de615f-b2c0-4dc8-8a6f-2961456b1d2f",
   "metadata": {
    "tags": []
   },
   "outputs": [],
   "source": [
    "# aggfunc finds the index of the maximum value for intensity and number columns, then uses index to find the diameter at which the max is found\n",
    "df_pivot = pd.pivot_table(data=df_main,\n",
    "               index='id',\n",
    "               values = [\"Intensity %\",\"Number %\"],\n",
    "               aggfunc = [lambda x: df_main.loc[x.idxmax(0),\"Diameter (nm)\"]]\n",
    "              )"
   ]
  },
  {
   "cell_type": "code",
   "execution_count": null,
   "id": "26d16232-c171-46ff-9752-60dfdade3aa6",
   "metadata": {
    "tags": []
   },
   "outputs": [],
   "source": [
    "# format column names\n",
    "df_pivot.columns = [\"Peak Diameter by \" + a[1] for a in df_pivot.columns.to_flat_index()]\n",
    "\n",
    "df_pivot"
   ]
  },
  {
   "cell_type": "code",
   "execution_count": null,
   "id": "be56f101-8004-40fe-b7f0-fa0adcfed72a",
   "metadata": {
    "tags": []
   },
   "outputs": [],
   "source": [
    "# merge back in to df_main\n",
    "df_main = df_main.merge(df_pivot, left_on=\"id\", right_on=\"id\")\n",
    "df_main"
   ]
  },
  {
   "cell_type": "code",
   "execution_count": null,
   "id": "10b301ef-845a-432a-b972-45b85c6f0f35",
   "metadata": {
    "tags": []
   },
   "outputs": [],
   "source": [
    "fig, ax = plt.subplots(2, sharex=True)\n",
    "\n",
    "# plot peak diameter by intensity\n",
    "sns.barplot(data=df_main,\n",
    "            x=\"lipidoid\",\n",
    "            y=\"Peak Diameter by Intensity %\",\n",
    "            hue=\"pH\",\n",
    "           ax=ax[0])\n",
    "\n",
    "ax[0].set_ylabel('Peak Diameter (nm) \\n by Intensity %')\n",
    "ax[0].legend(loc='center left', bbox_to_anchor=(1, 0.5), title=\"days old\")\n",
    "\n",
    "# plot peak diameter by number\n",
    "sns.barplot(data=df_main,\n",
    "            x=\"lipidoid\",\n",
    "            y=\"Peak Diameter by Number %\",\n",
    "            hue=\"pH\",\n",
    "            ax=ax[1])\n",
    "\n",
    "ax[1].set_ylabel('Peak Diameter (nm) \\n by Number %')\n",
    "ax[1].legend(loc='center left', bbox_to_anchor=(1, 0.5))\n",
    "\n",
    "plt.xticks(rotation = 45)\n",
    "\n",
    "plt.tight_layout()"
   ]
  },
  {
   "cell_type": "markdown",
   "id": "58613a4f-9c7f-4a73-be4e-25c79f21573c",
   "metadata": {},
   "source": [
    "## Compute weighted average intensity and number"
   ]
  },
  {
   "cell_type": "code",
   "execution_count": null,
   "id": "40b6a869-42a0-40e2-aeff-a70426f39c1c",
   "metadata": {
    "tags": []
   },
   "outputs": [],
   "source": [
    "df_main.columns"
   ]
  },
  {
   "cell_type": "code",
   "execution_count": null,
   "id": "2ed1df24-7af2-4b3c-a1ff-cabfbefbd31a",
   "metadata": {
    "tags": []
   },
   "outputs": [],
   "source": [
    "# prepare temporary dataframe for calculation\n",
    "df_rn = pd.DataFrame(df_main[\"Record Number\"].drop_duplicates()).set_index(\"Record Number\")\n",
    "\n",
    "# for each unique record number, compute the weighted average intensity and number\n",
    "for rn in df_rn.index:\n",
    "    rn_sum_prod_int = df_main.loc[df_main[\"Record Number\"] == rn].loc[:,[\"Intensity %\",\"Diameter (nm)\"]].product(axis=1).sum()\n",
    "    rn_sum_prod_num = df_main.loc[df_main[\"Record Number\"] == rn].loc[:,[\"Number %\",\"Diameter (nm)\"]].product(axis=1).sum()\n",
    "    rn_sum_weights_int = df_main.loc[df_main[\"Record Number\"] == rn].loc[:,[\"Intensity %\"]].sum().values\n",
    "    rn_sum_weights_num = df_main.loc[df_main[\"Record Number\"] == rn].loc[:,[\"Number %\"]].sum().values\n",
    "\n",
    "    # assign value in df_rn\n",
    "    df_rn.loc[rn,\"Weighted Average Intensity\"] = rn_sum_prod_int / rn_sum_weights_int\n",
    "    df_rn.loc[rn,\"Weighted Average Number\"] = rn_sum_prod_num / rn_sum_weights_num"
   ]
  },
  {
   "cell_type": "code",
   "execution_count": null,
   "id": "3e67c216-5e05-4f3b-810a-2fce70cc9a70",
   "metadata": {
    "tags": []
   },
   "outputs": [],
   "source": [
    "df_main.columns"
   ]
  },
  {
   "cell_type": "markdown",
   "id": "b050ba88-fd56-4aaa-ac2d-be3a1193ff86",
   "metadata": {},
   "source": [
    "## Fit Curves to Gaussian and Extract parameters"
   ]
  },
  {
   "cell_type": "markdown",
   "id": "07557152-ceba-4bd0-8f88-46e330cee51f",
   "metadata": {},
   "source": [
    "### Generate fitted parameters (a, x0, sigma)"
   ]
  },
  {
   "cell_type": "code",
   "execution_count": null,
   "id": "529bb9e3-a681-442b-bfb3-c199413e73bf",
   "metadata": {
    "tags": []
   },
   "outputs": [],
   "source": [
    "# Define Gaussian function that we will fit to\n",
    "def Gauss(x, a, x0, sigma):\n",
    "    # a = maximum \n",
    "    # x0 = mean\n",
    "    # sigma = standard of deviation\n",
    "    return a*np.exp(-(x-x0)**2/(2*sigma**2))\n",
    "\n",
    "# initial guess for data\n",
    "p0_guess = p0=[10,2,1]"
   ]
  },
  {
   "cell_type": "code",
   "execution_count": null,
   "id": "47b0e4af-d503-4266-a07f-d54ca6189fa8",
   "metadata": {
    "tags": []
   },
   "outputs": [],
   "source": [
    "for rn in df_rn.index:\n",
    "    \n",
    "    for datatype in [\"Intensity\",\"Number\"]:\n",
    "\n",
    "        # extract dataframe for this record number\n",
    "        df_temp = df_main.loc[df_main[\"Record Number\"]==rn].loc[:,[\"Log Diameter\",datatype + \" %\"]].copy(deep=True)\n",
    "\n",
    "        # Execute Curve Fit\n",
    "        popt, pcov = curve_fit(Gauss, \n",
    "                               df_temp[\"Log Diameter\"].values, \n",
    "                               df_temp[datatype + \" %\"].values,\n",
    "                               p0=p0_guess)\n",
    "\n",
    "        # load Optimized values into df_rn\n",
    "        df_rn.loc[rn,[\"a \"+datatype,\"log10 x0 \"+datatype,\"log10 sigma \"+datatype]] = popt\n",
    "        \n",
    "        # generate new fitted data\n",
    "        yfit = Gauss(df_temp[\"Log Diameter\"].values, \n",
    "                     popt[0], popt[1], popt[2])\n",
    "        \n",
    "        # load into df_temp, then join with df_main\n",
    "        df_main.loc[df_temp.index,\"Fitted \"+datatype+\" %\"] = yfit"
   ]
  },
  {
   "cell_type": "code",
   "execution_count": null,
   "id": "6c6e9e09-c920-4a90-af35-bdaf97c1fad7",
   "metadata": {},
   "outputs": [],
   "source": [
    "# calculate and load confidence interval data into df_rn\n",
    "for datatype in [\"Intensity\",\"Number\"]:\n",
    "    # convert x0 and sigma back to linear space\n",
    "    df_rn.loc[:,\"x0 \"+datatype]    = np.power(10,df_rn.loc[:,\"log10 x0 \" + datatype])\n",
    "    df_rn.loc[:,\"sigma \"+datatype] = np.power(10,df_rn.loc[:,\"log10 sigma \" + datatype])\n",
    "\n",
    "    # calculate lower and upper bounds of confidence interval\n",
    "    df_rn.loc[:,\"lower \"+datatype] = np.power(10, df_rn.loc[:,\"log10 x0 \" + datatype] - df_rn.loc[:,\"log10 sigma \" + datatype])\n",
    "    df_rn.loc[:,\"upper \"+datatype] = np.power(10, df_rn.loc[:,\"log10 x0 \" + datatype] + df_rn.loc[:,\"log10 sigma \" + datatype])\n",
    "\n",
    "    # calculate lower and upper error bars of confidence interval\n",
    "    df_rn.loc[:,\"lower err \"+datatype] = df_rn.loc[:,\"x0 \"+datatype]      - df_rn.loc[:,\"lower \"+datatype]\n",
    "    df_rn.loc[:,\"upper err \"+datatype] = df_rn.loc[:,\"upper \"+datatype] - df_rn.loc[:,\"x0 \"+datatype]"
   ]
  },
  {
   "cell_type": "code",
   "execution_count": null,
   "id": "a920e3d1-2cd3-4d93-a089-97b8fbbec0cb",
   "metadata": {
    "tags": []
   },
   "outputs": [],
   "source": [
    "df_main.columns"
   ]
  },
  {
   "cell_type": "code",
   "execution_count": null,
   "id": "26b9f69a-5356-4d97-999d-0df19efe3569",
   "metadata": {
    "tags": []
   },
   "outputs": [],
   "source": [
    "# merge all that new confidence interval information into df_main\n",
    "df_main = df_main.merge(df_rn, left_on=\"Record Number\", right_on=df_rn.index)"
   ]
  },
  {
   "cell_type": "code",
   "execution_count": null,
   "id": "b81d8e1e-8ed3-4c1c-83b7-e586882d7c2e",
   "metadata": {
    "tags": []
   },
   "outputs": [],
   "source": [
    "df_main.columns"
   ]
  },
  {
   "cell_type": "markdown",
   "id": "8bb9bf71-27a6-4a6c-83e4-c4f4f6a52ee4",
   "metadata": {
    "jp-MarkdownHeadingCollapsed": true,
    "tags": []
   },
   "source": [
    "# SAVE dataframe!"
   ]
  },
  {
   "cell_type": "code",
   "execution_count": 14,
   "id": "7db8e3ca-52da-431c-9f05-f304cb788c7b",
   "metadata": {
    "tags": []
   },
   "outputs": [],
   "source": [
    "df_main.to_excel('data/df_main.xlsx', sheet_name='all data')"
   ]
  },
  {
   "cell_type": "code",
   "execution_count": null,
   "id": "3cd3e2dc-a0f3-4761-a7a1-3a3d7b0e45f3",
   "metadata": {
    "tags": []
   },
   "outputs": [],
   "source": [
    "df_main.columns"
   ]
  },
  {
   "cell_type": "markdown",
   "id": "92a6bb83-5e44-4edc-ae74-92bef0c6b8a9",
   "metadata": {},
   "source": [
    "# LOAD DATAFRAME"
   ]
  },
  {
   "cell_type": "code",
   "execution_count": 3,
   "id": "94e5242b-0677-48cf-a021-ec24449b0f97",
   "metadata": {
    "tags": []
   },
   "outputs": [],
   "source": [
    "df_main = pd.read_excel('data/df_main.xlsx', sheet_name='all data')"
   ]
  },
  {
   "cell_type": "markdown",
   "id": "3f92f93b-63e3-4363-9d1e-91cc49ae8407",
   "metadata": {},
   "source": [
    "# PLOTTING"
   ]
  },
  {
   "cell_type": "markdown",
   "id": "316a9179-045e-4f04-8a4e-547073f3b17c",
   "metadata": {},
   "source": [
    "## Bar Graphs of Peak, Weighted Mean Diameter, and Fitted Mean Diameter"
   ]
  },
  {
   "cell_type": "code",
   "execution_count": 4,
   "id": "cff8c8a1-1de6-43cb-b030-ae584fe64dfb",
   "metadata": {
    "tags": []
   },
   "outputs": [
    {
     "data": {
      "image/png": "[encoded data removed]",
      "text/plain": [
       "<Figure size 1200x400 with 3 Axes>"
      ]
     },
     "metadata": {},
     "output_type": "display_data"
    }
   ],
   "source": [
    "fig, ax = plt.subplots(1,3, figsize=(12,4), sharey=True)\n",
    "\n",
    "var_id = 0\n",
    "\n",
    "for variable in ['Peak Diameter by Intensity %', 'x0 Intensity', 'Weighted Average Intensity']:\n",
    "\n",
    "    # plot peak diameter by intensity\n",
    "    sns.barplot(data=df_main.sort_values(by=\"lipidoid\"),\n",
    "                x=\"lipidoid\",\n",
    "                y=variable,\n",
    "                hue=\"pH\",\n",
    "                ax=ax[var_id])\n",
    "    \n",
    "    for c in ax[var_id].containers:\n",
    "        # set the bar label\n",
    "        ax[var_id].bar_label(c, fmt='%.0f', label_type='edge', padding=1)\n",
    "\n",
    "    #ax[0,0].set_ylabel('Mean Diameter (nm) \\n by Intensity %')\n",
    "    #ax[0,0].legend(loc='center left', bbox_to_anchor=(1, 0.5), title=\"pH\")\n",
    "    #plt.xticks(rotation = 45)\n",
    "    var_id += 1\n",
    "    \n",
    "    plt.tight_layout()"
   ]
  },
  {
   "cell_type": "code",
   "execution_count": 5,
   "id": "eed1d9c0-8f6b-4f1d-8186-43d9aaf91141",
   "metadata": {
    "tags": []
   },
   "outputs": [
    {
     "data": {
      "image/png": "[encoded data removed]",
      "text/plain": [
       "<Figure size 400x400 with 1 Axes>"
      ]
     },
     "metadata": {},
     "output_type": "display_data"
    }
   ],
   "source": [
    "fig, ax = plt.subplots(1,1, figsize=(4,4))\n",
    "\n",
    "# plot peak diameter by intensity\n",
    "sns.barplot(data=df_main.sort_values(by=\"lipidoid\"),\n",
    "            x=\"lipidoid\",\n",
    "            y='x0 Intensity',\n",
    "            hue=\"pH\",\n",
    "            ax=ax)\n",
    "\n",
    "for c in ax.containers:\n",
    "    # set the bar label\n",
    "    ax.bar_label(c, fmt='%.0f', label_type='edge', padding=1)\n",
    "    c.yerr=[100, 200, 300, 400]\n",
    "    \n",
    "\n",
    "#ax[0,0].set_ylabel('Mean Diameter (nm) \\n by Intensity %')\n",
    "#ax[0,0].legend(loc='center left', bbox_to_anchor=(1, 0.5), title=\"pH\")\n",
    "#plt.xticks(rotation = 45)\n",
    "\n",
    "plt.tight_layout()"
   ]
  },
  {
   "cell_type": "code",
   "execution_count": 17,
   "id": "a5c52ee3-cc70-4283-ab52-530d0ad95933",
   "metadata": {
    "tags": []
   },
   "outputs": [
    {
     "data": {
      "text/plain": [
       "Index(['Unnamed: 0', 'DLS index', 'Record Number', 'Intensity %', 'Number %',\n",
       "       'Volume %', 'Diameter (nm)', 'Log Diameter',\n",
       "       'Measurement Date and Time', 'Sample Name',\n",
       "       'Diffusion Coefficient (µ²/s)', 'Z-Average (d.nm)', 'PdI',\n",
       "       'PdI Width (d.nm)', 'Concentration (%)', 'Intensity Mean (d.nm)',\n",
       "       'Number Mean (d.nm)', 'Volume Mean (d.nm)', 'filename', 'sheetname',\n",
       "       'Triplicate', 'title', 'time', 'date', 'id', 'start date', 'days since',\n",
       "       'LUV', 'LNP', 'fluorophore', 'lipid', 'lipidoid', 'pH', 'Triton',\n",
       "       'Peak Diameter by Intensity %', 'Peak Diameter by Number %',\n",
       "       'Peak Diameter by Volume %', 'Fitted Intensity %', 'Fitted Number %',\n",
       "       'Weighted Average Intensity', 'Weighted Average Number', 'a Intensity',\n",
       "       'log10 x0 Intensity', 'log10 sigma Intensity', 'a Number',\n",
       "       'log10 x0 Number', 'log10 sigma Number', 'x0 Intensity',\n",
       "       'sigma Intensity', 'lower Intensity', 'upper Intensity',\n",
       "       'lower err Intensity', 'upper err Intensity', 'x0 Number',\n",
       "       'sigma Number', 'lower Number', 'upper Number', 'lower err Number',\n",
       "       'upper err Number', 'fluorophore and pH'],\n",
       "      dtype='object')"
      ]
     },
     "execution_count": 17,
     "metadata": {},
     "output_type": "execute_result"
    }
   ],
   "source": [
    "df_main.columns"
   ]
  },
  {
   "cell_type": "code",
   "execution_count": 18,
   "id": "00a4eec1-d122-4fd1-9635-41526666e289",
   "metadata": {
    "tags": []
   },
   "outputs": [
    {
     "data": {
      "image/png": "[encoded data removed]",
      "text/plain": [
       "<Figure size 1200x400 with 4 Axes>"
      ]
     },
     "metadata": {},
     "output_type": "display_data"
    }
   ],
   "source": [
    "fig, ax = plt.subplots(1,4, figsize=(12,4), sharey=True)\n",
    "\n",
    "var_id = 0\n",
    "\n",
    "for variable in ['Peak Diameter by Intensity %', 'x0 Intensity', 'Weighted Average Intensity', 'Z-Average (d.nm)']:\n",
    "\n",
    "    # plot peak diameter by intensity\n",
    "    sns.barplot(data=df_main.sort_values(by=\"lipidoid\"),\n",
    "                x=\"lipid\",\n",
    "                y=variable,\n",
    "                hue=\"fluorophore and pH\",\n",
    "                ax=ax[var_id])\n",
    "    \n",
    "    for c in ax[var_id].containers:\n",
    "        # set the bar label\n",
    "        ax[var_id].bar_label(c, fmt='%.0f', label_type='edge', padding=1)\n",
    "\n",
    "    #ax[0,0].set_ylabel('Mean Diameter (nm) \\n by Intensity %')\n",
    "    #ax[0,0].legend(loc='center left', bbox_to_anchor=(1, 0.5), title=\"pH\")\n",
    "    #plt.xticks(rotation = 45)\n",
    "    var_id += 1\n",
    "    \n",
    "    plt.tight_layout()"
   ]
  },
  {
   "cell_type": "code",
   "execution_count": null,
   "id": "8166e310-b84f-484b-9a00-c71fccefa4c6",
   "metadata": {
    "tags": []
   },
   "outputs": [],
   "source": [
    "ax.get_xticks()"
   ]
  },
  {
   "cell_type": "markdown",
   "id": "7a15e84a-ebfb-4e67-9470-27c1a162ed0b",
   "metadata": {},
   "source": [
    "# SCRAP WORK"
   ]
  },
  {
   "cell_type": "markdown",
   "id": "39aba158-236b-4699-874c-2e696349ffea",
   "metadata": {},
   "source": [
    "## Plot LUV by type of lipid for samples with no Triton"
   ]
  },
  {
   "cell_type": "code",
   "execution_count": null,
   "id": "eb4ed9e7",
   "metadata": {
    "id": "eb4ed9e7"
   },
   "outputs": [],
   "source": [
    "LUV = 1\n",
    "lipid = \"POPC\"\n",
    "fluorophore = \"R18\"\n",
    "pH = \"5.5\"\n",
    "Triton = 0\n",
    "\n",
    "temp_data = df_main[(df_main[\"LUV\"] == LUV) &\n",
    "                    (df_main[\"fluorophore\"] == fluorophore) &\n",
    "                    #(df_main[\"pH\"] == pH) &\n",
    "                    (df_main[\"Triton\"] == Triton)]\n",
    "\n",
    "for lipid in temp_data[\"lipid\"].dropna().unique():\n",
    "    print(lipid)\n",
    "    \n",
    "    fig, ax = plt.subplots(2,1, sharex=True)\n",
    "\n",
    "    sns.lineplot(data=temp_data[temp_data[\"lipid\"] == lipid],\n",
    "                 x=\"Diameter (nm)\",\n",
    "                 y=\"Intensity %\",\n",
    "                 hue=\"title\",\n",
    "                 ax=ax[0])\n",
    "\n",
    "    sns.lineplot(data=temp_data[temp_data[\"lipid\"] == lipid],\n",
    "                 x=\"Diameter (nm)\",\n",
    "                 y=\"Number %\",\n",
    "                 hue=\"title\",\n",
    "                 ax=ax[1])\n",
    "\n",
    "    ax[0].legend(loc='center left', bbox_to_anchor=(1, 0.5), title=\"lipid\")\n",
    "    ax[1].legend(loc='center left', bbox_to_anchor=(1, 0.5), title=\"lipid\")\n",
    "\n",
    "    ax[0].set_xscale('log')"
   ]
  },
  {
   "cell_type": "code",
   "execution_count": null,
   "id": "c5bef818-892b-4019-b916-44d3516c7eba",
   "metadata": {
    "id": "eb4ed9e7"
   },
   "outputs": [],
   "source": [
    "fig, ax = plt.subplots(2,1, sharex=True)\n",
    "\n",
    "temp_data = df_main[df_main['lipidoid'].notna()]\n",
    "\n",
    "sns.lineplot(data=temp_data,\n",
    "             x=\"Diameter (nm)\",\n",
    "             y=\"Intensity %\",\n",
    "             hue=\"lipidoid\",\n",
    "             style=\"pH\",\n",
    "             ax=ax[0])\n",
    "\n",
    "sns.lineplot(data=temp_data,\n",
    "             x=\"Diameter (nm)\",\n",
    "             y=\"Number %\",\n",
    "             hue=\"lipidoid\",\n",
    "             style=\"pH\",\n",
    "             ax=ax[1])\n",
    "\n",
    "ax[0].legend(loc='center left', bbox_to_anchor=(1, 0.5), title=\"lipidoid\")\n",
    "ax[1].legend(loc='center left', bbox_to_anchor=(1, 0.5), title=\"lipidoid\")\n",
    "\n",
    "ax[0].set_xscale('log')"
   ]
  },
  {
   "cell_type": "markdown",
   "id": "e2fde9ae-a5c2-47dd-bb36-ac51db6d92e3",
   "metadata": {},
   "source": [
    "## Bargraph of x0 using fitted error bars"
   ]
  },
  {
   "cell_type": "markdown",
   "id": "2dfffe48-4df1-4b89-bc8a-2f64be155d58",
   "metadata": {},
   "source": [
    "### Find one record number which is lipidoid 200oi10 and make a bar graph"
   ]
  },
  {
   "cell_type": "code",
   "execution_count": null,
   "id": "743a4ac7-1c64-442a-9c2d-84480c5a15d0",
   "metadata": {
    "tags": []
   },
   "outputs": [],
   "source": [
    "df_main.columns"
   ]
  },
  {
   "cell_type": "code",
   "execution_count": null,
   "id": "20380ffd-9d14-4c2a-b74a-5568dc0352b7",
   "metadata": {
    "tags": []
   },
   "outputs": [],
   "source": [
    "df_main.loc[df_main[\"Record Number\"]==123].loc[:,[\"lipidoid\",\"x0 Intensity\",\"lower err Intensity\",\"upper err Intensity\"]].drop_duplicates().values"
   ]
  },
  {
   "cell_type": "code",
   "execution_count": null,
   "id": "716983a2-fdc2-4c76-9898-969b82944a14",
   "metadata": {
    "tags": []
   },
   "outputs": [],
   "source": [
    "x = df_main.loc[df_main[\"Record Number\"]==123].loc[:,\"lipidoid\"].drop_duplicates().values\n",
    "y = df_main.loc[df_main[\"Record Number\"]==123].loc[:,\"x0 Intensity\"].drop_duplicates().values\n",
    "y = y[0]\n",
    "\n",
    "yerr = df_main.loc[df_main[\"Record Number\"]==123].loc[:,[\"lower err Intensity\",\"upper err Intensity\"]].drop_duplicates().values\n",
    "yerr = yerr[0]\n",
    "yerr = yerr.reshape(2,1)"
   ]
  },
  {
   "cell_type": "code",
   "execution_count": null,
   "id": "a88de1c2-b4c4-45e6-adee-94acf3270295",
   "metadata": {
    "tags": []
   },
   "outputs": [],
   "source": [
    "print(x)\n",
    "print(y)\n",
    "print(yerr)"
   ]
  },
  {
   "cell_type": "code",
   "execution_count": null,
   "id": "d5abab8d-8ab0-4666-8f8c-c1a45624a434",
   "metadata": {
    "tags": []
   },
   "outputs": [],
   "source": [
    "np.shape(yerr)"
   ]
  },
  {
   "cell_type": "code",
   "execution_count": null,
   "id": "812d8d12-6c4f-46f1-a5c7-c7cb1626f50b",
   "metadata": {
    "tags": []
   },
   "outputs": [],
   "source": [
    "fig, ax = plt.subplots()\n",
    "\n",
    "ax.bar(0, y, yerr=yerr, tick_label=123, capsize=10)\n",
    "ax.set_yscale('log')"
   ]
  },
  {
   "cell_type": "markdown",
   "id": "af5c83fb-1f44-4519-9556-a6da86d5206e",
   "metadata": {},
   "source": [
    "## one bar for each record number, different colors for pH"
   ]
  },
  {
   "cell_type": "code",
   "execution_count": null,
   "id": "f9969f43-6c39-40c0-9957-a77542d39797",
   "metadata": {
    "tags": []
   },
   "outputs": [],
   "source": [
    "fig, ax = plt.subplots(figsize=(8,4))\n",
    "\n",
    "x_start = 0\n",
    "\n",
    "color_dict = {\"5.5\" : \"blue\",\n",
    "              \"7.4\" : \"orange\"}\n",
    "\n",
    "xticks = []\n",
    "xticklabels = []\n",
    "\n",
    "for pH in [\"7.4\",\"5.5\"]:\n",
    "\n",
    "    rn_list = df_main.loc[(df_main[\"lipidoid\"]==\"200oi10\") &\n",
    "                          (df_main[\"pH\"] == pH)][\"Record Number\"].unique()\n",
    "    x = x_start + np.arange(0,len(rn_list))\n",
    "    y = df_main.loc[df_main[\"Record Number\"].isin(rn_list)].loc[:,\"x0 Intensity\"].drop_duplicates().values\n",
    "    yerr = df_main.loc[df_main[\"Record Number\"].isin(rn_list)].loc[:,[\"lower err Intensity\",\"upper err Intensity\"]].drop_duplicates().values.T\n",
    "\n",
    "    ax.bar(x, y, yerr=yerr, \n",
    "           tick_label=rn_list, \n",
    "           capsize=5,\n",
    "           color=color_dict[pH])\n",
    "    \n",
    "    # reset\n",
    "    x_start = np.max(x)+1\n",
    "    xticks = np.append(xticks, ax.get_xticks())\n",
    "    xticklabels = np.append(xticklabels, rn_list)\n",
    "\n",
    "ax.set_xticks(xticks)\n",
    "ax.set_xticklabels(xticklabels)\n",
    "...\n",
    "\n",
    "# print all titles with rn\n",
    "df_main.loc[df_main[\"lipidoid\"]==\"200oi10\"].loc[:,[\"Record Number\",\"pH\",\"title\",\"Measurement Date and Time\"]].drop_duplicates()"
   ]
  },
  {
   "cell_type": "code",
   "execution_count": null,
   "id": "d82c359e-ed05-4b29-85ae-96f77b8bfd34",
   "metadata": {
    "tags": []
   },
   "outputs": [],
   "source": [
    "# for each lipidoid, extract x0, and lower/upper sigma, and AVERAGE\n",
    "pd.pivot_table(data=df_main,\n",
    "               index=[\"lipidoid\",\"pH\"],\n",
    "               values=[\"x0 Intensity\",\"lower err Intensity\",\"upper err Intensity\"],\n",
    "               aggfunc=\"mean\")"
   ]
  },
  {
   "cell_type": "code",
   "execution_count": null,
   "id": "1854bd54-3563-44d1-942c-871dbda28b10",
   "metadata": {
    "tags": []
   },
   "outputs": [],
   "source": [
    "fig, ax = plt.subplots(1, figsize=(8,8))\n",
    "\n",
    "# plot peak diameter by intensity\n",
    "\n",
    "sns.barplot(data=df_main.sort_values(by=\"lipidoid\"),\n",
    "            x=\"lipidoid\",\n",
    "            y=\"Weighted Average Intensity_x\",\n",
    "            hue=\"pH\",\n",
    "            ax=ax)\n",
    "\n",
    "for c in ax.containers:\n",
    "    # set the bar label\n",
    "    ax.bar_label(c, fmt='%.0f', label_type='edge', padding=1)\n",
    "\n",
    "#ax[0,0].set_ylabel('Mean Diameter (nm) \\n by Intensity %')\n",
    "#ax[0,0].legend(loc='center left', bbox_to_anchor=(1, 0.5), title=\"pH\")\n",
    "#plt.xticks(rotation = 45)\n",
    "var_id += 1\n",
    "\n",
    "plt.tight_layout()"
   ]
  },
  {
   "cell_type": "markdown",
   "id": "2bfd1426-12d9-422f-bfc9-976dd1f5bf35",
   "metadata": {},
   "source": [
    "# Plot spectra by lipidoid using seaborn"
   ]
  },
  {
   "cell_type": "code",
   "execution_count": null,
   "id": "52919549-fe12-43e1-8191-e432598bd55e",
   "metadata": {
    "tags": []
   },
   "outputs": [],
   "source": [
    "fig, ax = plt.subplots(2, sharex=True)\n",
    "\n",
    "# plot intensity data\n",
    "\n",
    "sns.lineplot(df_main,\n",
    "             x=\"Diameter (nm)\",\n",
    "             y=\"Intensity %\",\n",
    "             hue=\"lipidoid\",\n",
    "             style=\"pH\",\n",
    "             ax=ax[0])\n",
    "\n",
    "# plot number data\n",
    "\n",
    "sns.lineplot(df_main,\n",
    "             x=\"Diameter (nm)\",\n",
    "             y=\"Number %\",\n",
    "             hue=\"lipidoid\",\n",
    "             style=\"pH\",\n",
    "             ax=ax[1])\n",
    "\n",
    "# format axes\n",
    "\n",
    "ax[0].set_xscale('log')\n",
    "ax[1].set_xscale('log')\n",
    "\n",
    "ax[0].set_ylabel('Intensity %')\n",
    "ax[1].set_ylabel('Number %')\n",
    "\n",
    "ax[0].set_xlabel('Diameter (nm)')\n",
    "\n",
    "# format legend\n",
    "\n",
    "ax[1].legend()\n",
    "\n",
    "    \n",
    "plt.tight_layout()"
   ]
  },
  {
   "cell_type": "code",
   "execution_count": null,
   "id": "363b4bb7-cc33-4ac1-9c23-68b2d5e44b44",
   "metadata": {
    "tags": []
   },
   "outputs": [],
   "source": [
    "N = len(df_main[\"lipidoid\"].unique())\n",
    "\n",
    "fig, ax = plt.subplots(N,2, figsize=(20,N*3))\n",
    "\n",
    "ax_id = 0\n",
    "\n",
    "for lipidoid in df_main[\"lipidoid\"].unique():\n",
    "    \n",
    "    # plot intensity data\n",
    "    \n",
    "    sns.lineplot(df_main.loc[df_main[\"lipidoid\"]==lipidoid],\n",
    "                 x=\"Diameter (nm)\",\n",
    "                 y=\"Intensity %\",\n",
    "                 label=\"Raw Data\",\n",
    "                 hue=\"pH\",\n",
    "                 ax=ax[ax_id,0])\n",
    "    sns.lineplot(df_main.loc[df_main[\"lipidoid\"]==lipidoid],\n",
    "                 x=\"Diameter (nm)\",\n",
    "                 y=\"Fitted Intensity %\",\n",
    "                 label=\"Fitted Data\",\n",
    "                 hue=\"pH\",\n",
    "                 linestyle=\"dashed\",\n",
    "                 ax=ax[ax_id,0])\n",
    "\n",
    "    # plot number data\n",
    "    \n",
    "    sns.lineplot(df_main.loc[df_main[\"lipidoid\"]==lipidoid],\n",
    "                 x=\"Diameter (nm)\",\n",
    "                 y=\"Number %\",\n",
    "                 label=\"Raw Data\",\n",
    "                 hue=\"pH\",\n",
    "                 ax=ax[ax_id,1])\n",
    "    sns.lineplot(df_main.loc[df_main[\"lipidoid\"]==lipidoid],\n",
    "                 x=\"Diameter (nm)\",\n",
    "                 y=\"Fitted Number %\",\n",
    "                 label=\"Fitted Data\",\n",
    "                 hue=\"pH\",\n",
    "                 linestyle=\"dashed\",\n",
    "                 ax=ax[ax_id,1])\n",
    "\n",
    "    # format axes\n",
    "    \n",
    "    ax[ax_id,0].set_xscale('log')\n",
    "    ax[ax_id,1].set_xscale('log')\n",
    "    \n",
    "    ax[ax_id,0].set_title(lipidoid)\n",
    "    \n",
    "    ax[ax_id,0].set_ylabel('Intensity %')\n",
    "    ax[ax_id,1].set_ylabel('Number %')\n",
    "    \n",
    "    ax[ax_id,0].set_xlabel('Diameter (nm)')\n",
    "    ax[ax_id,1].set_xlabel('Diameter (nm)')\n",
    "    \n",
    "    # format legend\n",
    "    \n",
    "    ax[ax_id,1].legend()\n",
    "    \n",
    "    # format text\n",
    "    '''\n",
    "    ax[rn-1,0].text(df_main[\"Diameter (nm)\"].min(),\n",
    "                  0.5*df_main.loc[df_main[\"Record Number\"] == rn].loc[:,\"Intensity %\"].max(),\n",
    "                  \"mean = \" + \"{:.2f}\".format(df_main.loc[rn,\"x0 Intensity\"]) + \"\\n\" + \"$\\sigma$ = \" + \"10^{:.2f}\".format(df_rn.loc[rn,\"sigma Intensity\"]))\n",
    "\n",
    "    ax[rn-1,1].text(df_main[\"Diameter (nm)\"].min(),\n",
    "                  0.5*df_main.loc[df_main[\"Record Number\"] == rn].loc[:,\"Number %\"].max(),\n",
    "                  \"mean = \" + \"{:.2f}\".format(df_rn.loc[rn,\"x0 Number\"]) + \"\\n\" + \"$\\sigma$ = \" + \"10^{:.2f}\".format(df_rn.loc[rn,\"sigma Number\"]))\n",
    "    '''\n",
    "    \n",
    "    ax_id += 1\n",
    "    \n",
    "plt.tight_layout()"
   ]
  },
  {
   "cell_type": "markdown",
   "id": "f507f7a1-6ca3-4b6e-8b4a-9339fd445b04",
   "metadata": {},
   "source": [
    "# Plot spectra by lipidoid using matplotlib"
   ]
  },
  {
   "cell_type": "code",
   "execution_count": null,
   "id": "b9c77dba-9177-44bb-9b3f-251667553f4f",
   "metadata": {
    "tags": []
   },
   "outputs": [],
   "source": [
    "N = len(df_main[\"lipidoid\"].unique())\n",
    "\n",
    "fig, ax = plt.subplots(N,2, figsize=(20,N*3))\n",
    "\n",
    "ax_id = 0\n",
    "\n",
    "for lipidoid in df_main[\"lipidoid\"].unique():\n",
    "    \n",
    "    # plot intensity data\n",
    "    \n",
    "    ax[ax_id,0].plot(df_main.loc[df_main[\"lipidoid\"]==lipidoid].loc[:,\"Diameter (nm)\"],\n",
    "                   df_main.loc[df_main[\"lipidoid\"]==lipidoid].loc[:,\"Intensity %\"],\n",
    "                   label=\"Raw Data\")\n",
    "    ax[ax_id,0].plot(df_main.loc[df_main[\"lipidoid\"]==lipidoid].loc[:,\"Diameter (nm)\"],\n",
    "                  df_main.loc[df_main[\"lipidoid\"]==lipidoid].loc[:,\"Fitted Intensity %\"],\n",
    "                  label=\"Fitted Data\")\n",
    "    \n",
    "    # plot number data\n",
    "    \n",
    "    ax[ax_id,1].plot(df_main.loc[df_main[\"lipidoid\"]==lipidoid].loc[:,\"Diameter (nm)\"],\n",
    "                  df_main.loc[df_main[\"lipidoid\"]==lipidoid].loc[:,\"Number %\"],\n",
    "                  label=\"Raw Data\")\n",
    "    ax[ax_id,1].plot(df_main.loc[df_main[\"lipidoid\"]==lipidoid].loc[:,\"Diameter (nm)\"],\n",
    "                  df_main.loc[df_main[\"lipidoid\"]==lipidoid].loc[:,\"Fitted Number %\"],\n",
    "                  label=\"Fitted Data\")\n",
    "\n",
    "    # format axes\n",
    "    \n",
    "    ax[ax_id,0].set_xscale('log')\n",
    "    ax[ax_id,1].set_xscale('log')\n",
    "    \n",
    "    ax[ax_id,0].set_title(lipidoid)\n",
    "    \n",
    "    ax[ax_id,0].set_ylabel('Intensity %')\n",
    "    ax[ax_id,1].set_ylabel('Number %')\n",
    "    \n",
    "    ax[ax_id,0].set_xlabel('Diameter (nm)')\n",
    "    ax[ax_id,1].set_xlabel('Diameter (nm)')\n",
    "    \n",
    "    # format legend\n",
    "    \n",
    "    ax[ax_id,1].legend()\n",
    "    \n",
    "    # format text\n",
    "    '''\n",
    "    ax[rn-1,0].text(df_main[\"Diameter (nm)\"].min(),\n",
    "                  0.5*df_main.loc[df_main[\"Record Number\"] == rn].loc[:,\"Intensity %\"].max(),\n",
    "                  \"mean = \" + \"{:.2f}\".format(df_main.loc[rn,\"x0 Intensity\"]) + \"\\n\" + \"$\\sigma$ = \" + \"10^{:.2f}\".format(df_rn.loc[rn,\"sigma Intensity\"]))\n",
    "\n",
    "    ax[rn-1,1].text(df_main[\"Diameter (nm)\"].min(),\n",
    "                  0.5*df_main.loc[df_main[\"Record Number\"] == rn].loc[:,\"Number %\"].max(),\n",
    "                  \"mean = \" + \"{:.2f}\".format(df_rn.loc[rn,\"x0 Number\"]) + \"\\n\" + \"$\\sigma$ = \" + \"10^{:.2f}\".format(df_rn.loc[rn,\"sigma Number\"]))\n",
    "    '''\n",
    "    \n",
    "    ax_id += 1\n",
    "    \n",
    "plt.tight_layout()"
   ]
  },
  {
   "cell_type": "markdown",
   "id": "53068047-4685-40d7-b06c-2cf2378596ec",
   "metadata": {
    "tags": []
   },
   "source": [
    "## Plot fitted and raw data for every record number"
   ]
  },
  {
   "cell_type": "code",
   "execution_count": null,
   "id": "d053f93b-033c-42a9-b56e-da7b8f475e32",
   "metadata": {
    "tags": []
   },
   "outputs": [],
   "source": [
    "'''\n",
    "N = len(df_main[\"Record Number\"].unique())\n",
    "\n",
    "fig, ax = plt.subplots(N,2, figsize=(8,N*4))\n",
    "\n",
    "for rn in df_main[\"Record Number\"].unique():\n",
    "    \n",
    "    # plot intensity data\n",
    "    \n",
    "    ax[rn-1,0].plot(df_main.loc[df_main[\"Record Number\"]==rn].loc[:,\"Diameter (nm)\"],\n",
    "                  df_main.loc[df_main[\"Rrn*4ecord Number\"]==rn].loc[:,\"Intensity %\"],\n",
    "                  label=\"Raw Data\")\n",
    "    ax[rn-1,0].plot(df_main.loc[df_main[\"Record Number\"]==rn].loc[:,\"Diameter (nm)\"],\n",
    "                  df_main.loc[df_main[\"Record Number\"]==rn].loc[:,\"Fitted Intensity %\"],\n",
    "                  label=\"Fitted Data\")\n",
    "\n",
    "    # plot number data\n",
    "    \n",
    "    ax[rn-1,1].plot(df_main.loc[df_main[\"Record Number\"]==rn].loc[:,\"Diameter (nm)\"],\n",
    "                  df_main.loc[df_main[\"Record Number\"]==rn].loc[:,\"Number %\"],\n",
    "                  label=\"Raw Data\")\n",
    "    ax[rn-1,1].plot(df_main.loc[df_main[\"Record Number\"]==rn].loc[:,\"Diameter (nm)\"],\n",
    "                  df_main.loc[df_main[\"Record Number\"]==rn].loc[:,\"Fitted Number %\"],\n",
    "                  label=\"Fitted Data\")\n",
    "\n",
    "    # format axes\n",
    "    \n",
    "    ax[rn-1,0].set_xscale('log')\n",
    "    ax[rn-1,1].set_xscale('log')\n",
    "    \n",
    "    ax[rn-1,0].set_title('Record Number '+str(rn))\n",
    "    \n",
    "    ax[rn-1,0].set_ylabel('Intensity %')\n",
    "    ax[rn-1,1].set_ylabel('Number %')\n",
    "    \n",
    "    ax[rn-1,0].set_xlabel('Diameter (nm)')\n",
    "    ax[rn-1,1].set_xlabel('Diameter (nm)')\n",
    "    \n",
    "    # format text\n",
    "    \n",
    "    ax[rn-1,0].text(df_main[\"Diameter (nm)\"].min(),\n",
    "                  0.5*df_main.loc[df_main[\"Record Number\"] == rn].loc[:,\"Intensity %\"].max(),\n",
    "                  \"mean = \" + \"{:.2f}\".format(df_main.loc[rn,\"x0 Intensity\"]) + \"\\n\" + \"$\\sigma$ = \" + \"10^{:.2f}\".format(df_rn.loc[rn,\"sigma Intensity\"]))\n",
    "\n",
    "    ax[rn-1,1].text(df_main[\"Diameter (nm)\"].min(),\n",
    "                  0.5*df_main.loc[df_main[\"Record Number\"] == rn].loc[:,\"Number %\"].max(),\n",
    "                  \"mean = \" + \"{:.2f}\".format(df_rn.loc[rn,\"x0 Number\"]) + \"\\n\" + \"$\\sigma$ = \" + \"10^{:.2f}\".format(df_rn.loc[rn,\"sigma Number\"]))\n",
    "\n",
    "    plt.tight_layout()\n",
    "'''"
   ]
  },
  {
   "cell_type": "markdown",
   "id": "459af9ac-2dc4-4ef7-8944-78766c47100e",
   "metadata": {},
   "source": [
    "#  Plot specific items"
   ]
  },
  {
   "cell_type": "markdown",
   "id": "26dd33e5-022a-4613-bd56-ba410841ddce",
   "metadata": {},
   "source": [
    "# R18 POPC LUV by pH"
   ]
  },
  {
   "cell_type": "code",
   "execution_count": null,
   "id": "e15b2a8e-b613-4be0-ad2f-c62e56b61a52",
   "metadata": {
    "tags": []
   },
   "outputs": [],
   "source": [
    "keeptitles = [\"R18 POPC LUV pH 5.5 0.05X\",\n",
    "              \"R18 POPC LUV pH 7.4 0.025X\"]\n",
    "             #\"R18 POPC LUV 0.01X\",]"
   ]
  },
  {
   "cell_type": "code",
   "execution_count": null,
   "id": "4c94ca6a-9a7a-43ad-b7f9-bd3e83d79af9",
   "metadata": {
    "tags": []
   },
   "outputs": [],
   "source": [
    "df_keep = df_main.loc[df_main[\"title\"].isin(keeptitles)]"
   ]
  },
  {
   "cell_type": "code",
   "execution_count": null,
   "id": "0976db65-bc71-40db-ab51-88a35216b178",
   "metadata": {
    "tags": []
   },
   "outputs": [],
   "source": [
    "fig, ax = plt.subplots(2,1, figsize=(4,4), sharex=True)\n",
    "\n",
    "sns.lineplot(data=df_keep,\n",
    "             x=\"Diameter (nm)\",\n",
    "             y=\"Intensity %\",\n",
    "             hue=\"pH\",\n",
    "             ax=ax[0])\n",
    "\n",
    "sns.lineplot(data=df_keep,\n",
    "             x=\"Diameter (nm)\",\n",
    "             y=\"Number %\",\n",
    "             hue=\"pH\",\n",
    "             ax=ax[1])\n",
    "\n",
    "ax[0].set_xscale('log')"
   ]
  },
  {
   "cell_type": "code",
   "execution_count": null,
   "id": "139c126a-c8ac-4d9a-8f56-0c80636eb2b8",
   "metadata": {
    "tags": []
   },
   "outputs": [],
   "source": [
    "fig, ax = plt.subplots(2,1, figsize=(4,4), sharex=True)\n",
    "\n",
    "sns.barplot(data=df_keep,\n",
    "             x=\"pH\",\n",
    "             y=\"x0 Intensity\",\n",
    "             ax=ax[0])\n",
    "\n",
    "sns.barplot(data=df_keep,\n",
    "             x=\"pH\",\n",
    "             y=\"x0 Number\",\n",
    "             ax=ax[1])\n",
    "\n",
    "for c in ax[0].containers:\n",
    "    # set the bar label\n",
    "    ax[0].bar_label(c, fmt='%.0f', label_type='edge', padding=1)\n"
   ]
  },
  {
   "cell_type": "code",
   "execution_count": null,
   "id": "8c3ba628-2120-431a-bc33-f823592f575b",
   "metadata": {
    "tags": []
   },
   "outputs": [],
   "source": [
    "fig, ax = plt.subplots(1,3, figsize=(12,4), sharey=True)\n",
    "\n",
    "var_id = 0\n",
    "\n",
    "for variable in ['Peak Diameter by Intensity %', 'x0 Intensity', 'Weighted Average Intensity_x']:\n",
    "\n",
    "    # plot peak diameter by intensity\n",
    "    sns.barplot(data=df_keep,\n",
    "                x=\"pH\",\n",
    "                y=variable,\n",
    "               ax=ax[var_id])\n",
    "\n",
    "    #ax[0,0].set_ylabel('Mean Diameter (nm) \\n by Intensity %')\n",
    "    #ax[0,0].legend(loc='center left', bbox_to_anchor=(1, 0.5), title=\"pH\")\n",
    "    #plt.xticks(rotation = 45)\n",
    "    var_id += 1\n",
    "    \n",
    "    plt.tight_layout()"
   ]
  },
  {
   "cell_type": "code",
   "execution_count": null,
   "id": "27430082-738e-45f6-983d-2de333624bb5",
   "metadata": {},
   "outputs": [],
   "source": []
  }
 ],
 "metadata": {
  "colab": {
   "provenance": []
  },
  "kernelspec": {
   "display_name": "Python 3 (ipykernel)",
   "language": "python",
   "name": "python3"
  },
  "language_info": {
   "codemirror_mode": {
    "name": "ipython",
    "version": 3
   },
   "file_extension": ".py",
   "mimetype": "text/x-python",
   "name": "python",
   "nbconvert_exporter": "python",
   "pygments_lexer": "ipython3",
   "version": "3.11.2"
  }
 },
 "nbformat": 4,
 "nbformat_minor": 5
}
