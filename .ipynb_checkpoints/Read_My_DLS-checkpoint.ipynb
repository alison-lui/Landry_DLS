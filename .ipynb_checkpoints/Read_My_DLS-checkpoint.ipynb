{
 "cells": [
  {
   "cell_type": "markdown",
   "id": "6de1a241",
   "metadata": {},
   "source": [
    "# DLS Reading Python Code"
   ]
  },
  {
   "cell_type": "markdown",
   "id": "8145bb4f-7b4c-4cc2-9318-e5b588e658b1",
   "metadata": {},
   "source": [
    "# Import packages"
   ]
  },
  {
   "cell_type": "code",
   "execution_count": 1,
   "id": "e335a5ef",
   "metadata": {
    "colab": {
     "background_save": true
    },
    "id": "e335a5ef",
    "tags": []
   },
   "outputs": [],
   "source": [
    "import numpy as np\n",
    "import pandas as pd\n",
    "import seaborn as sns\n",
    "import matplotlib.pyplot as plt\n",
    "import scipy.stats as stats\n",
    "import re\n",
    "import calendar\n",
    "\n",
    "#from google.colab import drive\n",
    "#drive.mount('/content/drive')"
   ]
  },
  {
   "cell_type": "markdown",
   "id": "b5f59905",
   "metadata": {
    "id": "b5f59905"
   },
   "source": [
    "# Load Data"
   ]
  },
  {
   "cell_type": "code",
   "execution_count": 2,
   "id": "3a05a610",
   "metadata": {
    "colab": {
     "base_uri": "https://localhost:8080/",
     "height": 483
    },
    "executionInfo": {
     "elapsed": 25,
     "status": "ok",
     "timestamp": 1689888731308,
     "user": {
      "displayName": "Justin Gardner",
      "userId": "14342044284888010814"
     },
     "user_tz": 420
    },
    "id": "3a05a610",
    "outputId": "e15cd070-8fa2-432d-f6a6-f6fd635073e2",
    "tags": []
   },
   "outputs": [],
   "source": [
    "df = pd.read_excel('/Users/alison/Library/CloudStorage/GoogleDrive-alui@berkeley.edu/My Drive/Research/AL Data/B3P170 - R18 and CF LUV + LNP/2023-07-27 - DLS/2023-07-27 lnp.xlsx')"
   ]
  },
  {
   "cell_type": "markdown",
   "id": "04e4ac3c",
   "metadata": {
    "id": "04e4ac3c"
   },
   "source": [
    "## Extract Size Data in `size` df"
   ]
  },
  {
   "cell_type": "code",
   "execution_count": 3,
   "id": "d5a4faf1",
   "metadata": {
    "id": "d5a4faf1",
    "tags": []
   },
   "outputs": [
    {
     "data": {
      "text/html": [
       "<div>\n",
       "<style scoped>\n",
       "    .dataframe tbody tr th:only-of-type {\n",
       "        vertical-align: middle;\n",
       "    }\n",
       "\n",
       "    .dataframe tbody tr th {\n",
       "        vertical-align: top;\n",
       "    }\n",
       "\n",
       "    .dataframe thead th {\n",
       "        text-align: right;\n",
       "    }\n",
       "</style>\n",
       "<table border=\"1\" class=\"dataframe\">\n",
       "  <thead>\n",
       "    <tr style=\"text-align: right;\">\n",
       "      <th></th>\n",
       "      <th>Diameter (nm)</th>\n",
       "      <th>DLS index</th>\n",
       "    </tr>\n",
       "  </thead>\n",
       "  <tbody>\n",
       "    <tr>\n",
       "      <th>0</th>\n",
       "      <td>0.4000</td>\n",
       "      <td>1</td>\n",
       "    </tr>\n",
       "    <tr>\n",
       "      <th>1</th>\n",
       "      <td>0.4632</td>\n",
       "      <td>2</td>\n",
       "    </tr>\n",
       "  </tbody>\n",
       "</table>\n",
       "</div>"
      ],
      "text/plain": [
       "   Diameter (nm) DLS index\n",
       "0         0.4000         1\n",
       "1         0.4632         2"
      ]
     },
     "execution_count": 3,
     "metadata": {},
     "output_type": "execute_result"
    }
   ],
   "source": [
    "size = df.filter(regex=r'Size').drop_duplicates().T.reset_index().rename(columns={0:\"Diameter (nm)\"})\n",
    "size['DLS index'] = size['index'].str.findall(r'\\d+').explode()\n",
    "size = size.drop(columns='index')\n",
    "size.head(2)"
   ]
  },
  {
   "cell_type": "markdown",
   "id": "2d57713a",
   "metadata": {
    "id": "2d57713a"
   },
   "source": [
    "## Format sample names and dates in `info` df"
   ]
  },
  {
   "cell_type": "code",
   "execution_count": 4,
   "id": "a62b7f99",
   "metadata": {
    "id": "a62b7f99",
    "tags": []
   },
   "outputs": [
    {
     "data": {
      "text/html": [
       "<div>\n",
       "<style scoped>\n",
       "    .dataframe tbody tr th:only-of-type {\n",
       "        vertical-align: middle;\n",
       "    }\n",
       "\n",
       "    .dataframe tbody tr th {\n",
       "        vertical-align: top;\n",
       "    }\n",
       "\n",
       "    .dataframe thead th {\n",
       "        text-align: right;\n",
       "    }\n",
       "</style>\n",
       "<table border=\"1\" class=\"dataframe\">\n",
       "  <thead>\n",
       "    <tr style=\"text-align: right;\">\n",
       "      <th></th>\n",
       "      <th>Measurement Date and Time</th>\n",
       "      <th>Sample Name</th>\n",
       "      <th>Triplicate</th>\n",
       "      <th>title</th>\n",
       "      <th>time</th>\n",
       "      <th>date</th>\n",
       "    </tr>\n",
       "  </thead>\n",
       "  <tbody>\n",
       "    <tr>\n",
       "      <th>0</th>\n",
       "      <td>Thursday, July 27, 2023 8:42:10 PM</td>\n",
       "      <td>306oi10 LNP pH 7.4 0.1X 1</td>\n",
       "      <td>1</td>\n",
       "      <td>306oi10 LNP pH 7.4 0.1X</td>\n",
       "      <td>8:42:10 PM</td>\n",
       "      <td>2023-07-27</td>\n",
       "    </tr>\n",
       "    <tr>\n",
       "      <th>1</th>\n",
       "      <td>Thursday, July 27, 2023 8:44:43 PM</td>\n",
       "      <td>306oi10 LNP pH 7.4 0.1X 2</td>\n",
       "      <td>2</td>\n",
       "      <td>306oi10 LNP pH 7.4 0.1X</td>\n",
       "      <td>8:44:43 PM</td>\n",
       "      <td>2023-07-27</td>\n",
       "    </tr>\n",
       "    <tr>\n",
       "      <th>2</th>\n",
       "      <td>Thursday, July 27, 2023 8:47:16 PM</td>\n",
       "      <td>306oi10 LNP pH 7.4 0.1X 3</td>\n",
       "      <td>3</td>\n",
       "      <td>306oi10 LNP pH 7.4 0.1X</td>\n",
       "      <td>8:47:16 PM</td>\n",
       "      <td>2023-07-27</td>\n",
       "    </tr>\n",
       "    <tr>\n",
       "      <th>3</th>\n",
       "      <td>Friday, July 28, 2023 6:32:18 PM</td>\n",
       "      <td>306oi10 LNP pH 7.4 0.1X 1</td>\n",
       "      <td>1</td>\n",
       "      <td>306oi10 LNP pH 7.4 0.1X</td>\n",
       "      <td>6:32:18 PM</td>\n",
       "      <td>2023-07-28</td>\n",
       "    </tr>\n",
       "    <tr>\n",
       "      <th>4</th>\n",
       "      <td>Friday, July 28, 2023 6:34:41 PM</td>\n",
       "      <td>306oi10 LNP pH 7.4 0.1X 2</td>\n",
       "      <td>2</td>\n",
       "      <td>306oi10 LNP pH 7.4 0.1X</td>\n",
       "      <td>6:34:41 PM</td>\n",
       "      <td>2023-07-28</td>\n",
       "    </tr>\n",
       "  </tbody>\n",
       "</table>\n",
       "</div>"
      ],
      "text/plain": [
       "            Measurement Date and Time                Sample Name Triplicate  \\\n",
       "0  Thursday, July 27, 2023 8:42:10 PM  306oi10 LNP pH 7.4 0.1X 1          1   \n",
       "1  Thursday, July 27, 2023 8:44:43 PM  306oi10 LNP pH 7.4 0.1X 2          2   \n",
       "2  Thursday, July 27, 2023 8:47:16 PM  306oi10 LNP pH 7.4 0.1X 3          3   \n",
       "3    Friday, July 28, 2023 6:32:18 PM  306oi10 LNP pH 7.4 0.1X 1          1   \n",
       "4    Friday, July 28, 2023 6:34:41 PM  306oi10 LNP pH 7.4 0.1X 2          2   \n",
       "\n",
       "                     title        time       date  \n",
       "0  306oi10 LNP pH 7.4 0.1X  8:42:10 PM 2023-07-27  \n",
       "1  306oi10 LNP pH 7.4 0.1X  8:44:43 PM 2023-07-27  \n",
       "2  306oi10 LNP pH 7.4 0.1X  8:47:16 PM 2023-07-27  \n",
       "3  306oi10 LNP pH 7.4 0.1X  6:32:18 PM 2023-07-28  \n",
       "4  306oi10 LNP pH 7.4 0.1X  6:34:41 PM 2023-07-28  "
      ]
     },
     "execution_count": 4,
     "metadata": {},
     "output_type": "execute_result"
    }
   ],
   "source": [
    "info = pd.DataFrame(df.loc[:,['Measurement Date and Time','Sample Name']].copy(deep=True))\n",
    "info['Triplicate'] = info['Sample Name'].str.strip().str[-1]\n",
    "info['title'] = info['Sample Name'].str.rstrip(r'123 ')\n",
    "\n",
    "# extract date and time information\n",
    "info = info.join(pd.DataFrame(info[\"Measurement Date and Time\"].str.findall(r'([A-Z][a-z]*), ([A-Z][a-z]*) (\\d\\d?), (\\d{4}) (\\d\\d?:\\d\\d?:\\d\\d [AP]M)').explode().to_list(), columns=[\"day of week\",\"month\",\"day\",\"year\",\"time\"]))\n",
    "\n",
    "# replace string month to numerical month to be read by datetime function\n",
    "d = dict((v,k) for k,v in enumerate(calendar.month_name))\n",
    "info[\"month\"] = info.month.map(d)\n",
    "\n",
    "# convert columns to integer datatype\n",
    "info[\"day\"] = info[\"day\"].astype(int)\n",
    "info[\"month\"] = info[\"month\"].astype(int)\n",
    "info[\"year\"] = info[\"year\"].astype(int)\n",
    "\n",
    "# convert month/day/year into datetime format\n",
    "info[\"date\"] = pd.to_datetime(info.loc[:,[\"year\",\"month\",\"day\"]])\n",
    "\n",
    "# remove month/date/year columns\n",
    "info.drop(columns=['year','month','day','day of week'], inplace=True)\n",
    "\n",
    "info.head()"
   ]
  },
  {
   "cell_type": "markdown",
   "id": "f25d051b-73e8-42e9-aee5-7c57f14206fa",
   "metadata": {},
   "source": [
    "## Find all unique titles and dates in `info`. Save to `samples` dataframe and generate unique sample `id`. "
   ]
  },
  {
   "cell_type": "code",
   "execution_count": 5,
   "id": "4e107a7e-802c-4a3c-ad27-360384ecf839",
   "metadata": {
    "tags": []
   },
   "outputs": [],
   "source": [
    "samples = info.loc[:,[\"title\",\"date\"]].drop_duplicates()"
   ]
  },
  {
   "cell_type": "code",
   "execution_count": 6,
   "id": "cd53cf41-a518-46ea-9a70-b59b352c0624",
   "metadata": {
    "tags": []
   },
   "outputs": [
    {
     "data": {
      "text/html": [
       "<div>\n",
       "<style scoped>\n",
       "    .dataframe tbody tr th:only-of-type {\n",
       "        vertical-align: middle;\n",
       "    }\n",
       "\n",
       "    .dataframe tbody tr th {\n",
       "        vertical-align: top;\n",
       "    }\n",
       "\n",
       "    .dataframe thead th {\n",
       "        text-align: right;\n",
       "    }\n",
       "</style>\n",
       "<table border=\"1\" class=\"dataframe\">\n",
       "  <thead>\n",
       "    <tr style=\"text-align: right;\">\n",
       "      <th></th>\n",
       "      <th>title</th>\n",
       "      <th>date</th>\n",
       "      <th>id</th>\n",
       "    </tr>\n",
       "  </thead>\n",
       "  <tbody>\n",
       "    <tr>\n",
       "      <th>0</th>\n",
       "      <td>306oi10 LNP pH 7.4 0.1X</td>\n",
       "      <td>2023-07-27</td>\n",
       "      <td>0</td>\n",
       "    </tr>\n",
       "    <tr>\n",
       "      <th>3</th>\n",
       "      <td>306oi10 LNP pH 7.4 0.1X</td>\n",
       "      <td>2023-07-28</td>\n",
       "      <td>1</td>\n",
       "    </tr>\n",
       "    <tr>\n",
       "      <th>6</th>\n",
       "      <td>306oi10 LNP pH 7.4 0.1X</td>\n",
       "      <td>2023-07-31</td>\n",
       "      <td>2</td>\n",
       "    </tr>\n",
       "    <tr>\n",
       "      <th>9</th>\n",
       "      <td>CF POPG LUV 1X</td>\n",
       "      <td>2023-07-31</td>\n",
       "      <td>3</td>\n",
       "    </tr>\n",
       "    <tr>\n",
       "      <th>12</th>\n",
       "      <td>CF POPC LUV 1X</td>\n",
       "      <td>2023-07-31</td>\n",
       "      <td>4</td>\n",
       "    </tr>\n",
       "  </tbody>\n",
       "</table>\n",
       "</div>"
      ],
      "text/plain": [
       "                      title       date  id\n",
       "0   306oi10 LNP pH 7.4 0.1X 2023-07-27   0\n",
       "3   306oi10 LNP pH 7.4 0.1X 2023-07-28   1\n",
       "6   306oi10 LNP pH 7.4 0.1X 2023-07-31   2\n",
       "9            CF POPG LUV 1X 2023-07-31   3\n",
       "12           CF POPC LUV 1X 2023-07-31   4"
      ]
     },
     "execution_count": 6,
     "metadata": {},
     "output_type": "execute_result"
    }
   ],
   "source": [
    "samples[\"id\"] = np.arange(0,samples.shape[0])\n",
    "samples.head()"
   ]
  },
  {
   "cell_type": "markdown",
   "id": "2e0ebb08-beda-4b23-bf6b-d8514200e74f",
   "metadata": {},
   "source": [
    "## Compute days since first sample for each unique title"
   ]
  },
  {
   "cell_type": "code",
   "execution_count": 7,
   "id": "ddf2a24a-d48a-42ff-999c-fff1f2f51cb0",
   "metadata": {
    "tags": []
   },
   "outputs": [],
   "source": [
    "# new startdate pivot table with earliest date for each unique title\n",
    "startdate = pd.pivot_table(data=samples,\n",
    "               index=\"title\",\n",
    "               values=\"date\",\n",
    "               aggfunc=\"min\").rename(columns={\"date\" : \"start date\"})"
   ]
  },
  {
   "cell_type": "code",
   "execution_count": 8,
   "id": "834d9c4d-49e1-4aeb-9e32-9fce17b9bbf4",
   "metadata": {
    "tags": []
   },
   "outputs": [],
   "source": [
    "# add back in to samples and compute days since 'start date'\n",
    "samples = samples.merge(startdate, left_on=\"title\",right_on=\"title\")\n",
    "samples[\"days since\"] = samples[\"date\"] - samples[\"start date\"]\n",
    "samples[\"days since\"] = samples[\"days since\"].apply(lambda x: x.days)"
   ]
  },
  {
   "cell_type": "code",
   "execution_count": 9,
   "id": "935e224c-5990-40b5-b7f2-4323773168af",
   "metadata": {
    "tags": []
   },
   "outputs": [
    {
     "data": {
      "text/html": [
       "<div>\n",
       "<style scoped>\n",
       "    .dataframe tbody tr th:only-of-type {\n",
       "        vertical-align: middle;\n",
       "    }\n",
       "\n",
       "    .dataframe tbody tr th {\n",
       "        vertical-align: top;\n",
       "    }\n",
       "\n",
       "    .dataframe thead th {\n",
       "        text-align: right;\n",
       "    }\n",
       "</style>\n",
       "<table border=\"1\" class=\"dataframe\">\n",
       "  <thead>\n",
       "    <tr style=\"text-align: right;\">\n",
       "      <th></th>\n",
       "      <th>Measurement Date and Time</th>\n",
       "      <th>Sample Name</th>\n",
       "      <th>Triplicate</th>\n",
       "      <th>title</th>\n",
       "      <th>time</th>\n",
       "      <th>date</th>\n",
       "      <th>id</th>\n",
       "      <th>start date</th>\n",
       "      <th>days since</th>\n",
       "    </tr>\n",
       "  </thead>\n",
       "  <tbody>\n",
       "    <tr>\n",
       "      <th>0</th>\n",
       "      <td>Thursday, July 27, 2023 8:42:10 PM</td>\n",
       "      <td>306oi10 LNP pH 7.4 0.1X 1</td>\n",
       "      <td>1</td>\n",
       "      <td>306oi10 LNP pH 7.4 0.1X</td>\n",
       "      <td>8:42:10 PM</td>\n",
       "      <td>2023-07-27</td>\n",
       "      <td>0</td>\n",
       "      <td>2023-07-27</td>\n",
       "      <td>0</td>\n",
       "    </tr>\n",
       "    <tr>\n",
       "      <th>1</th>\n",
       "      <td>Thursday, July 27, 2023 8:44:43 PM</td>\n",
       "      <td>306oi10 LNP pH 7.4 0.1X 2</td>\n",
       "      <td>2</td>\n",
       "      <td>306oi10 LNP pH 7.4 0.1X</td>\n",
       "      <td>8:44:43 PM</td>\n",
       "      <td>2023-07-27</td>\n",
       "      <td>0</td>\n",
       "      <td>2023-07-27</td>\n",
       "      <td>0</td>\n",
       "    </tr>\n",
       "    <tr>\n",
       "      <th>2</th>\n",
       "      <td>Thursday, July 27, 2023 8:47:16 PM</td>\n",
       "      <td>306oi10 LNP pH 7.4 0.1X 3</td>\n",
       "      <td>3</td>\n",
       "      <td>306oi10 LNP pH 7.4 0.1X</td>\n",
       "      <td>8:47:16 PM</td>\n",
       "      <td>2023-07-27</td>\n",
       "      <td>0</td>\n",
       "      <td>2023-07-27</td>\n",
       "      <td>0</td>\n",
       "    </tr>\n",
       "    <tr>\n",
       "      <th>3</th>\n",
       "      <td>Friday, July 28, 2023 6:32:18 PM</td>\n",
       "      <td>306oi10 LNP pH 7.4 0.1X 1</td>\n",
       "      <td>1</td>\n",
       "      <td>306oi10 LNP pH 7.4 0.1X</td>\n",
       "      <td>6:32:18 PM</td>\n",
       "      <td>2023-07-28</td>\n",
       "      <td>1</td>\n",
       "      <td>2023-07-27</td>\n",
       "      <td>1</td>\n",
       "    </tr>\n",
       "    <tr>\n",
       "      <th>4</th>\n",
       "      <td>Friday, July 28, 2023 6:34:41 PM</td>\n",
       "      <td>306oi10 LNP pH 7.4 0.1X 2</td>\n",
       "      <td>2</td>\n",
       "      <td>306oi10 LNP pH 7.4 0.1X</td>\n",
       "      <td>6:34:41 PM</td>\n",
       "      <td>2023-07-28</td>\n",
       "      <td>1</td>\n",
       "      <td>2023-07-27</td>\n",
       "      <td>1</td>\n",
       "    </tr>\n",
       "  </tbody>\n",
       "</table>\n",
       "</div>"
      ],
      "text/plain": [
       "            Measurement Date and Time                Sample Name Triplicate  \\\n",
       "0  Thursday, July 27, 2023 8:42:10 PM  306oi10 LNP pH 7.4 0.1X 1          1   \n",
       "1  Thursday, July 27, 2023 8:44:43 PM  306oi10 LNP pH 7.4 0.1X 2          2   \n",
       "2  Thursday, July 27, 2023 8:47:16 PM  306oi10 LNP pH 7.4 0.1X 3          3   \n",
       "3    Friday, July 28, 2023 6:32:18 PM  306oi10 LNP pH 7.4 0.1X 1          1   \n",
       "4    Friday, July 28, 2023 6:34:41 PM  306oi10 LNP pH 7.4 0.1X 2          2   \n",
       "\n",
       "                     title        time       date  id start date  days since  \n",
       "0  306oi10 LNP pH 7.4 0.1X  8:42:10 PM 2023-07-27   0 2023-07-27           0  \n",
       "1  306oi10 LNP pH 7.4 0.1X  8:44:43 PM 2023-07-27   0 2023-07-27           0  \n",
       "2  306oi10 LNP pH 7.4 0.1X  8:47:16 PM 2023-07-27   0 2023-07-27           0  \n",
       "3  306oi10 LNP pH 7.4 0.1X  6:32:18 PM 2023-07-28   1 2023-07-27           1  \n",
       "4  306oi10 LNP pH 7.4 0.1X  6:34:41 PM 2023-07-28   1 2023-07-27           1  "
      ]
     },
     "execution_count": 9,
     "metadata": {},
     "output_type": "execute_result"
    }
   ],
   "source": [
    "# return info back to `info` dataframe\n",
    "info = info.merge(samples, \n",
    "           left_on=[\"title\",\"date\"],\n",
    "           right_on=[\"title\",\"date\"]\n",
    "          )\n",
    "info.head()"
   ]
  },
  {
   "cell_type": "markdown",
   "id": "cf1fac4d",
   "metadata": {
    "id": "cf1fac4d"
   },
   "source": [
    "## Create intensity dataframe"
   ]
  },
  {
   "cell_type": "code",
   "execution_count": 10,
   "id": "c01770f9",
   "metadata": {
    "id": "c01770f9",
    "tags": []
   },
   "outputs": [],
   "source": [
    "intensity = df.filter(regex=r'Sample Name|Intensities').set_index('Sample Name').T\n",
    "intensity['DLS index'] = pd.Series(intensity.index).str.findall(r'\\d+').explode().values"
   ]
  },
  {
   "cell_type": "markdown",
   "id": "f80dc515",
   "metadata": {
    "id": "f80dc515"
   },
   "source": [
    "## Create number dataframe"
   ]
  },
  {
   "cell_type": "code",
   "execution_count": 11,
   "id": "99781cb2",
   "metadata": {
    "id": "99781cb2",
    "tags": []
   },
   "outputs": [],
   "source": [
    "number = df.filter(regex=r'Sample Name|Numbers').set_index('Sample Name').T\n",
    "number['DLS index'] = pd.Series(number.index).str.findall(r'\\d+').explode().values"
   ]
  },
  {
   "cell_type": "markdown",
   "id": "c9419735",
   "metadata": {
    "id": "c9419735"
   },
   "source": [
    "## Join `intensity`, `number`, `size`, and `info` to `df_main`"
   ]
  },
  {
   "cell_type": "code",
   "execution_count": 12,
   "id": "31c696a6",
   "metadata": {
    "id": "31c696a6",
    "tags": []
   },
   "outputs": [
    {
     "data": {
      "text/html": [
       "<div>\n",
       "<style scoped>\n",
       "    .dataframe tbody tr th:only-of-type {\n",
       "        vertical-align: middle;\n",
       "    }\n",
       "\n",
       "    .dataframe tbody tr th {\n",
       "        vertical-align: top;\n",
       "    }\n",
       "\n",
       "    .dataframe thead th {\n",
       "        text-align: right;\n",
       "    }\n",
       "</style>\n",
       "<table border=\"1\" class=\"dataframe\">\n",
       "  <thead>\n",
       "    <tr style=\"text-align: right;\">\n",
       "      <th></th>\n",
       "      <th>DLS index</th>\n",
       "      <th>Sample Name</th>\n",
       "      <th>Intensity %</th>\n",
       "      <th>Number %</th>\n",
       "      <th>Diameter (nm)</th>\n",
       "      <th>Measurement Date and Time</th>\n",
       "      <th>Triplicate</th>\n",
       "      <th>title</th>\n",
       "      <th>time</th>\n",
       "      <th>date</th>\n",
       "      <th>id</th>\n",
       "      <th>start date</th>\n",
       "      <th>days since</th>\n",
       "    </tr>\n",
       "  </thead>\n",
       "  <tbody>\n",
       "    <tr>\n",
       "      <th>0</th>\n",
       "      <td>1</td>\n",
       "      <td>306oi10 LNP pH 7.4 0.1X 1</td>\n",
       "      <td>0.0</td>\n",
       "      <td>0.0</td>\n",
       "      <td>0.4</td>\n",
       "      <td>Thursday, July 27, 2023 8:42:10 PM</td>\n",
       "      <td>1</td>\n",
       "      <td>306oi10 LNP pH 7.4 0.1X</td>\n",
       "      <td>8:42:10 PM</td>\n",
       "      <td>2023-07-27</td>\n",
       "      <td>0</td>\n",
       "      <td>2023-07-27</td>\n",
       "      <td>0</td>\n",
       "    </tr>\n",
       "    <tr>\n",
       "      <th>1</th>\n",
       "      <td>1</td>\n",
       "      <td>306oi10 LNP pH 7.4 0.1X 1</td>\n",
       "      <td>0.0</td>\n",
       "      <td>0.0</td>\n",
       "      <td>0.4</td>\n",
       "      <td>Friday, July 28, 2023 6:32:18 PM</td>\n",
       "      <td>1</td>\n",
       "      <td>306oi10 LNP pH 7.4 0.1X</td>\n",
       "      <td>6:32:18 PM</td>\n",
       "      <td>2023-07-28</td>\n",
       "      <td>1</td>\n",
       "      <td>2023-07-27</td>\n",
       "      <td>1</td>\n",
       "    </tr>\n",
       "    <tr>\n",
       "      <th>2</th>\n",
       "      <td>1</td>\n",
       "      <td>306oi10 LNP pH 7.4 0.1X 1</td>\n",
       "      <td>0.0</td>\n",
       "      <td>0.0</td>\n",
       "      <td>0.4</td>\n",
       "      <td>Monday, July 31, 2023 11:19:00 AM</td>\n",
       "      <td>1</td>\n",
       "      <td>306oi10 LNP pH 7.4 0.1X</td>\n",
       "      <td>11:19:00 AM</td>\n",
       "      <td>2023-07-31</td>\n",
       "      <td>2</td>\n",
       "      <td>2023-07-27</td>\n",
       "      <td>4</td>\n",
       "    </tr>\n",
       "    <tr>\n",
       "      <th>3</th>\n",
       "      <td>1</td>\n",
       "      <td>306oi10 LNP pH 7.4 0.1X 1</td>\n",
       "      <td>0.0</td>\n",
       "      <td>0.0</td>\n",
       "      <td>0.4</td>\n",
       "      <td>Thursday, July 27, 2023 8:42:10 PM</td>\n",
       "      <td>1</td>\n",
       "      <td>306oi10 LNP pH 7.4 0.1X</td>\n",
       "      <td>8:42:10 PM</td>\n",
       "      <td>2023-07-27</td>\n",
       "      <td>0</td>\n",
       "      <td>2023-07-27</td>\n",
       "      <td>0</td>\n",
       "    </tr>\n",
       "    <tr>\n",
       "      <th>4</th>\n",
       "      <td>1</td>\n",
       "      <td>306oi10 LNP pH 7.4 0.1X 1</td>\n",
       "      <td>0.0</td>\n",
       "      <td>0.0</td>\n",
       "      <td>0.4</td>\n",
       "      <td>Friday, July 28, 2023 6:32:18 PM</td>\n",
       "      <td>1</td>\n",
       "      <td>306oi10 LNP pH 7.4 0.1X</td>\n",
       "      <td>6:32:18 PM</td>\n",
       "      <td>2023-07-28</td>\n",
       "      <td>1</td>\n",
       "      <td>2023-07-27</td>\n",
       "      <td>1</td>\n",
       "    </tr>\n",
       "  </tbody>\n",
       "</table>\n",
       "</div>"
      ],
      "text/plain": [
       "  DLS index                Sample Name  Intensity %  Number %  Diameter (nm)  \\\n",
       "0         1  306oi10 LNP pH 7.4 0.1X 1          0.0       0.0            0.4   \n",
       "1         1  306oi10 LNP pH 7.4 0.1X 1          0.0       0.0            0.4   \n",
       "2         1  306oi10 LNP pH 7.4 0.1X 1          0.0       0.0            0.4   \n",
       "3         1  306oi10 LNP pH 7.4 0.1X 1          0.0       0.0            0.4   \n",
       "4         1  306oi10 LNP pH 7.4 0.1X 1          0.0       0.0            0.4   \n",
       "\n",
       "            Measurement Date and Time Triplicate                    title  \\\n",
       "0  Thursday, July 27, 2023 8:42:10 PM          1  306oi10 LNP pH 7.4 0.1X   \n",
       "1    Friday, July 28, 2023 6:32:18 PM          1  306oi10 LNP pH 7.4 0.1X   \n",
       "2   Monday, July 31, 2023 11:19:00 AM          1  306oi10 LNP pH 7.4 0.1X   \n",
       "3  Thursday, July 27, 2023 8:42:10 PM          1  306oi10 LNP pH 7.4 0.1X   \n",
       "4    Friday, July 28, 2023 6:32:18 PM          1  306oi10 LNP pH 7.4 0.1X   \n",
       "\n",
       "          time       date  id start date  days since  \n",
       "0   8:42:10 PM 2023-07-27   0 2023-07-27           0  \n",
       "1   6:32:18 PM 2023-07-28   1 2023-07-27           1  \n",
       "2  11:19:00 AM 2023-07-31   2 2023-07-27           4  \n",
       "3   8:42:10 PM 2023-07-27   0 2023-07-27           0  \n",
       "4   6:32:18 PM 2023-07-28   1 2023-07-27           1  "
      ]
     },
     "execution_count": 12,
     "metadata": {},
     "output_type": "execute_result"
    }
   ],
   "source": [
    "df_main = intensity.melt(id_vars='DLS index', value_vars=intensity.columns, value_name='Intensity %')\n",
    "df_main = df_main.merge(number.melt(id_vars='DLS index', value_vars=number.columns, value_name='Number %'))\n",
    "df_main = df_main.merge(size).merge(info)\n",
    "\n",
    "df_main.head()"
   ]
  },
  {
   "cell_type": "markdown",
   "id": "36353474",
   "metadata": {
    "id": "36353474"
   },
   "source": [
    "# Plot DLS Data"
   ]
  },
  {
   "cell_type": "markdown",
   "id": "e9bd5efe-8170-4e3c-957f-9e12cef23f83",
   "metadata": {},
   "source": [
    "## Plot by `id`"
   ]
  },
  {
   "cell_type": "code",
   "execution_count": 19,
   "id": "eb4ed9e7",
   "metadata": {
    "id": "eb4ed9e7"
   },
   "outputs": [
    {
     "data": {
      "image/png": "[encoded data removed]",
      "text/plain": [
       "<Figure size 640x480 with 2 Axes>"
      ]
     },
     "metadata": {},
     "output_type": "display_data"
    }
   ],
   "source": [
    "fig, ax = plt.subplots(2,1, sharex=True)\n",
    "\n",
    "sns.lineplot(data=df_main,\n",
    "             x=\"Diameter (nm)\",\n",
    "             y=\"Intensity %\",\n",
    "             hue=\"id\",\n",
    "             ax=ax[0])\n",
    "\n",
    "sns.lineplot(data=df_main,\n",
    "             x=\"Diameter (nm)\",\n",
    "             y=\"Number %\",\n",
    "             hue=\"id\",\n",
    "             ax=ax[1])\n",
    "\n",
    "ax[0].legend(loc='center left', bbox_to_anchor=(1, 0.5), title=\"id\")\n",
    "ax[1].legend(loc='center left', bbox_to_anchor=(1, 0.5), title=\"id\")\n",
    "\n",
    "ax[0].set_xscale('log')"
   ]
  },
  {
   "cell_type": "markdown",
   "id": "c0d4c1d5",
   "metadata": {
    "id": "c0d4c1d5"
   },
   "source": [
    "# Compute mean mode for each `id` "
   ]
  },
  {
   "cell_type": "code",
   "execution_count": 14,
   "id": "09de615f-b2c0-4dc8-8a6f-2961456b1d2f",
   "metadata": {
    "tags": []
   },
   "outputs": [
    {
     "data": {
      "text/html": [
       "<div>\n",
       "<style scoped>\n",
       "    .dataframe tbody tr th:only-of-type {\n",
       "        vertical-align: middle;\n",
       "    }\n",
       "\n",
       "    .dataframe tbody tr th {\n",
       "        vertical-align: top;\n",
       "    }\n",
       "\n",
       "    .dataframe thead th {\n",
       "        text-align: right;\n",
       "    }\n",
       "</style>\n",
       "<table border=\"1\" class=\"dataframe\">\n",
       "  <thead>\n",
       "    <tr style=\"text-align: right;\">\n",
       "      <th></th>\n",
       "      <th>Peak Diameter by Intensity %</th>\n",
       "      <th>Peak Diameter by Number %</th>\n",
       "    </tr>\n",
       "    <tr>\n",
       "      <th>id</th>\n",
       "      <th></th>\n",
       "      <th></th>\n",
       "    </tr>\n",
       "  </thead>\n",
       "  <tbody>\n",
       "    <tr>\n",
       "      <th>0</th>\n",
       "      <td>190.10</td>\n",
       "      <td>105.70</td>\n",
       "    </tr>\n",
       "    <tr>\n",
       "      <th>1</th>\n",
       "      <td>190.10</td>\n",
       "      <td>105.70</td>\n",
       "    </tr>\n",
       "    <tr>\n",
       "      <th>2</th>\n",
       "      <td>190.10</td>\n",
       "      <td>105.70</td>\n",
       "    </tr>\n",
       "    <tr>\n",
       "      <th>3</th>\n",
       "      <td>91.28</td>\n",
       "      <td>58.77</td>\n",
       "    </tr>\n",
       "    <tr>\n",
       "      <th>4</th>\n",
       "      <td>141.80</td>\n",
       "      <td>91.28</td>\n",
       "    </tr>\n",
       "    <tr>\n",
       "      <th>5</th>\n",
       "      <td>122.40</td>\n",
       "      <td>68.06</td>\n",
       "    </tr>\n",
       "    <tr>\n",
       "      <th>6</th>\n",
       "      <td>141.80</td>\n",
       "      <td>91.28</td>\n",
       "    </tr>\n",
       "  </tbody>\n",
       "</table>\n",
       "</div>"
      ],
      "text/plain": [
       "    Peak Diameter by Intensity %  Peak Diameter by Number %\n",
       "id                                                         \n",
       "0                         190.10                     105.70\n",
       "1                         190.10                     105.70\n",
       "2                         190.10                     105.70\n",
       "3                          91.28                      58.77\n",
       "4                         141.80                      91.28\n",
       "5                         122.40                      68.06\n",
       "6                         141.80                      91.28"
      ]
     },
     "execution_count": 14,
     "metadata": {},
     "output_type": "execute_result"
    }
   ],
   "source": [
    "# aggfunc finds the index of the maximum value for intensity and number columns, then uses index to find the diameter at which the max is found\n",
    "df_pivot = pd.pivot_table(data=df_main,\n",
    "               index='id',\n",
    "               values = [\"Intensity %\",\"Number %\"],\n",
    "               aggfunc = [lambda x: df_main.loc[x.idxmax(0),\"Diameter (nm)\"]]\n",
    "              )\n",
    "\n",
    "# format column names\n",
    "df_pivot.columns = [\"Peak Diameter by \" + a[1] for a in df_pivot.columns.to_flat_index()]\n",
    "\n",
    "df_pivot"
   ]
  },
  {
   "cell_type": "code",
   "execution_count": 15,
   "id": "be56f101-8004-40fe-b7f0-fa0adcfed72a",
   "metadata": {
    "tags": []
   },
   "outputs": [
    {
     "data": {
      "text/html": [
       "<div>\n",
       "<style scoped>\n",
       "    .dataframe tbody tr th:only-of-type {\n",
       "        vertical-align: middle;\n",
       "    }\n",
       "\n",
       "    .dataframe tbody tr th {\n",
       "        vertical-align: top;\n",
       "    }\n",
       "\n",
       "    .dataframe thead th {\n",
       "        text-align: right;\n",
       "    }\n",
       "</style>\n",
       "<table border=\"1\" class=\"dataframe\">\n",
       "  <thead>\n",
       "    <tr style=\"text-align: right;\">\n",
       "      <th></th>\n",
       "      <th>DLS index</th>\n",
       "      <th>Sample Name</th>\n",
       "      <th>Intensity %</th>\n",
       "      <th>Number %</th>\n",
       "      <th>Diameter (nm)</th>\n",
       "      <th>Measurement Date and Time</th>\n",
       "      <th>Triplicate</th>\n",
       "      <th>title</th>\n",
       "      <th>time</th>\n",
       "      <th>date</th>\n",
       "      <th>id</th>\n",
       "      <th>start date</th>\n",
       "      <th>days since</th>\n",
       "      <th>Peak Diameter by Intensity %</th>\n",
       "      <th>Peak Diameter by Number %</th>\n",
       "    </tr>\n",
       "  </thead>\n",
       "  <tbody>\n",
       "    <tr>\n",
       "      <th>0</th>\n",
       "      <td>1</td>\n",
       "      <td>306oi10 LNP pH 7.4 0.1X 1</td>\n",
       "      <td>0.0</td>\n",
       "      <td>0.0</td>\n",
       "      <td>0.4</td>\n",
       "      <td>Thursday, July 27, 2023 8:42:10 PM</td>\n",
       "      <td>1</td>\n",
       "      <td>306oi10 LNP pH 7.4 0.1X</td>\n",
       "      <td>8:42:10 PM</td>\n",
       "      <td>2023-07-27</td>\n",
       "      <td>0</td>\n",
       "      <td>2023-07-27</td>\n",
       "      <td>0</td>\n",
       "      <td>190.1</td>\n",
       "      <td>105.7</td>\n",
       "    </tr>\n",
       "    <tr>\n",
       "      <th>1</th>\n",
       "      <td>1</td>\n",
       "      <td>306oi10 LNP pH 7.4 0.1X 1</td>\n",
       "      <td>0.0</td>\n",
       "      <td>0.0</td>\n",
       "      <td>0.4</td>\n",
       "      <td>Thursday, July 27, 2023 8:42:10 PM</td>\n",
       "      <td>1</td>\n",
       "      <td>306oi10 LNP pH 7.4 0.1X</td>\n",
       "      <td>8:42:10 PM</td>\n",
       "      <td>2023-07-27</td>\n",
       "      <td>0</td>\n",
       "      <td>2023-07-27</td>\n",
       "      <td>0</td>\n",
       "      <td>190.1</td>\n",
       "      <td>105.7</td>\n",
       "    </tr>\n",
       "    <tr>\n",
       "      <th>2</th>\n",
       "      <td>1</td>\n",
       "      <td>306oi10 LNP pH 7.4 0.1X 1</td>\n",
       "      <td>0.0</td>\n",
       "      <td>0.0</td>\n",
       "      <td>0.4</td>\n",
       "      <td>Thursday, July 27, 2023 8:42:10 PM</td>\n",
       "      <td>1</td>\n",
       "      <td>306oi10 LNP pH 7.4 0.1X</td>\n",
       "      <td>8:42:10 PM</td>\n",
       "      <td>2023-07-27</td>\n",
       "      <td>0</td>\n",
       "      <td>2023-07-27</td>\n",
       "      <td>0</td>\n",
       "      <td>190.1</td>\n",
       "      <td>105.7</td>\n",
       "    </tr>\n",
       "    <tr>\n",
       "      <th>3</th>\n",
       "      <td>1</td>\n",
       "      <td>306oi10 LNP pH 7.4 0.1X 1</td>\n",
       "      <td>0.0</td>\n",
       "      <td>0.0</td>\n",
       "      <td>0.4</td>\n",
       "      <td>Thursday, July 27, 2023 8:42:10 PM</td>\n",
       "      <td>1</td>\n",
       "      <td>306oi10 LNP pH 7.4 0.1X</td>\n",
       "      <td>8:42:10 PM</td>\n",
       "      <td>2023-07-27</td>\n",
       "      <td>0</td>\n",
       "      <td>2023-07-27</td>\n",
       "      <td>0</td>\n",
       "      <td>190.1</td>\n",
       "      <td>105.7</td>\n",
       "    </tr>\n",
       "    <tr>\n",
       "      <th>4</th>\n",
       "      <td>1</td>\n",
       "      <td>306oi10 LNP pH 7.4 0.1X 1</td>\n",
       "      <td>0.0</td>\n",
       "      <td>0.0</td>\n",
       "      <td>0.4</td>\n",
       "      <td>Thursday, July 27, 2023 8:42:10 PM</td>\n",
       "      <td>1</td>\n",
       "      <td>306oi10 LNP pH 7.4 0.1X</td>\n",
       "      <td>8:42:10 PM</td>\n",
       "      <td>2023-07-27</td>\n",
       "      <td>0</td>\n",
       "      <td>2023-07-27</td>\n",
       "      <td>0</td>\n",
       "      <td>190.1</td>\n",
       "      <td>105.7</td>\n",
       "    </tr>\n",
       "  </tbody>\n",
       "</table>\n",
       "</div>"
      ],
      "text/plain": [
       "  DLS index                Sample Name  Intensity %  Number %  Diameter (nm)  \\\n",
       "0         1  306oi10 LNP pH 7.4 0.1X 1          0.0       0.0            0.4   \n",
       "1         1  306oi10 LNP pH 7.4 0.1X 1          0.0       0.0            0.4   \n",
       "2         1  306oi10 LNP pH 7.4 0.1X 1          0.0       0.0            0.4   \n",
       "3         1  306oi10 LNP pH 7.4 0.1X 1          0.0       0.0            0.4   \n",
       "4         1  306oi10 LNP pH 7.4 0.1X 1          0.0       0.0            0.4   \n",
       "\n",
       "            Measurement Date and Time Triplicate                    title  \\\n",
       "0  Thursday, July 27, 2023 8:42:10 PM          1  306oi10 LNP pH 7.4 0.1X   \n",
       "1  Thursday, July 27, 2023 8:42:10 PM          1  306oi10 LNP pH 7.4 0.1X   \n",
       "2  Thursday, July 27, 2023 8:42:10 PM          1  306oi10 LNP pH 7.4 0.1X   \n",
       "3  Thursday, July 27, 2023 8:42:10 PM          1  306oi10 LNP pH 7.4 0.1X   \n",
       "4  Thursday, July 27, 2023 8:42:10 PM          1  306oi10 LNP pH 7.4 0.1X   \n",
       "\n",
       "         time       date  id start date  days since  \\\n",
       "0  8:42:10 PM 2023-07-27   0 2023-07-27           0   \n",
       "1  8:42:10 PM 2023-07-27   0 2023-07-27           0   \n",
       "2  8:42:10 PM 2023-07-27   0 2023-07-27           0   \n",
       "3  8:42:10 PM 2023-07-27   0 2023-07-27           0   \n",
       "4  8:42:10 PM 2023-07-27   0 2023-07-27           0   \n",
       "\n",
       "   Peak Diameter by Intensity %  Peak Diameter by Number %  \n",
       "0                         190.1                      105.7  \n",
       "1                         190.1                      105.7  \n",
       "2                         190.1                      105.7  \n",
       "3                         190.1                      105.7  \n",
       "4                         190.1                      105.7  "
      ]
     },
     "execution_count": 15,
     "metadata": {},
     "output_type": "execute_result"
    }
   ],
   "source": [
    "# merge back in to df_main\n",
    "df_main = df_main.merge(df_pivot, left_on=\"id\", right_on=\"id\")\n",
    "df_main.head()"
   ]
  },
  {
   "cell_type": "code",
   "execution_count": 16,
   "id": "c4c9e191-e264-4054-8a4f-3436c23cf873",
   "metadata": {
    "tags": []
   },
   "outputs": [
    {
     "data": {
      "image/png": "[encoded data removed]",
      "text/plain": [
       "<Figure size 640x480 with 2 Axes>"
      ]
     },
     "metadata": {},
     "output_type": "display_data"
    }
   ],
   "source": [
    "fig, ax = plt.subplots(2, sharex=True)\n",
    "\n",
    "# plot peak diameter by intensity\n",
    "sns.barplot(data=df_main,\n",
    "            x=\"title\",\n",
    "            y=\"Peak Diameter by Intensity %\",\n",
    "            hue=\"days since\",\n",
    "           ax=ax[0])\n",
    "\n",
    "ax[0].set_ylabel('Peak Diameter (nm) \\n by Intensity %')\n",
    "ax[0].legend(loc='center left', bbox_to_anchor=(1, 0.5), title=\"days old\")\n",
    "\n",
    "# plot peak diameter by number\n",
    "sns.barplot(data=df_main,\n",
    "            x=\"title\",\n",
    "            y=\"Peak Diameter by Number %\",\n",
    "            hue=\"days since\",\n",
    "            ax=ax[1])\n",
    "\n",
    "ax[1].set_ylabel('Peak Diameter (nm) \\n by Number %')\n",
    "ax[1].legend(loc='center left', bbox_to_anchor=(1, 0.5), title=\"days old\")\n",
    "\n",
    "plt.xticks(rotation = 45)\n",
    "\n",
    "plt.tight_layout()"
   ]
  },
  {
   "cell_type": "code",
   "execution_count": null,
   "id": "fda54479-1f56-4270-8f0c-da5be6809dbf",
   "metadata": {},
   "outputs": [],
   "source": []
  }
 ],
 "metadata": {
  "colab": {
   "provenance": []
  },
  "kernelspec": {
   "display_name": "Python 3 (ipykernel)",
   "language": "python",
   "name": "python3"
  },
  "language_info": {
   "codemirror_mode": {
    "name": "ipython",
    "version": 3
   },
   "file_extension": ".py",
   "mimetype": "text/x-python",
   "name": "python",
   "nbconvert_exporter": "python",
   "pygments_lexer": "ipython3",
   "version": "3.11.2"
  }
 },
 "nbformat": 4,
 "nbformat_minor": 5
}
