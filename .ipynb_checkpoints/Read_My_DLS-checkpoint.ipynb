{
 "cells": [
  {
   "cell_type": "markdown",
   "id": "6de1a241",
   "metadata": {},
   "source": [
    "# DLS Reading Python Code"
   ]
  },
  {
   "cell_type": "markdown",
   "id": "8145bb4f-7b4c-4cc2-9318-e5b588e658b1",
   "metadata": {
    "tags": [],
    "toc-hr-collapsed": true
   },
   "source": [
    "# Import packages"
   ]
  },
  {
   "cell_type": "code",
   "execution_count": 1,
   "id": "e335a5ef",
   "metadata": {
    "colab": {
     "background_save": true
    },
    "id": "e335a5ef",
    "tags": []
   },
   "outputs": [],
   "source": [
    "import os\n",
    "import numpy as np\n",
    "import pandas as pd\n",
    "import seaborn as sns\n",
    "import matplotlib.pyplot as plt\n",
    "import re\n",
    "import calendar\n",
    "from scipy.optimize import curve_fit\n",
    "#from google.colab import drive\n",
    "#drive.mount('/content/drive')"
   ]
  },
  {
   "cell_type": "markdown",
   "id": "b5f59905",
   "metadata": {
    "id": "b5f59905",
    "tags": [],
    "toc-hr-collapsed": true
   },
   "source": [
    "# LOAD & FORMAT DATA"
   ]
  },
  {
   "cell_type": "code",
   "execution_count": 2,
   "id": "3a05a610",
   "metadata": {
    "colab": {
     "base_uri": "https://localhost:8080/",
     "height": 483
    },
    "executionInfo": {
     "elapsed": 25,
     "status": "ok",
     "timestamp": 1689888731308,
     "user": {
      "displayName": "Justin Gardner",
      "userId": "14342044284888010814"
     },
     "user_tz": 420
    },
    "id": "3a05a610",
    "outputId": "e15cd070-8fa2-432d-f6a6-f6fd635073e2",
    "tags": []
   },
   "outputs": [],
   "source": [
    "#df = pd.read_excel('/Users/alison/Library/CloudStorage/GoogleDrive-alui@berkeley.edu/My Drive/Research/AL Data/B3P170 - R18 and CF LUV + LNP/2023-07-27 - DLS/2023-07-27 lnp.xlsx')\n",
    "df = pd.read_excel('/Users/alison/Library/CloudStorage/GoogleDrive-alui@berkeley.edu/My Drive/Research/AL Data/B3P170 - R18 and CF LUV + LNP/2023-07-21 - DLS/2023-07-21 LUV + LNP.xlsx')"
   ]
  },
  {
   "cell_type": "code",
   "execution_count": 3,
   "id": "1244a459-7b78-40dc-9515-dfd49f318726",
   "metadata": {
    "tags": []
   },
   "outputs": [
    {
     "name": "stdout",
     "output_type": "stream",
     "text": [
      "f = 2022 - COMPOSITE DLS DATA.xlsx\n",
      "sheet name = Sheet4\n",
      "f = 2022-04-14 POPG LUV + Triton.xlsx\n",
      "sheet name = 2022-08-19 CF-LUV\n",
      "f = 2023-01-23 free dye + iodixanol.xlsx\n",
      "sheet name = Free CF\n",
      "f = 2023-01-20 LUV, iodixanol, AuNP, BSA.xlsx\n",
      "sheet name = intensity +  number\n",
      "f = 2023 - COMPOSITE DLS DATA.xlsx\n",
      "sheet name = 2023-01-20 LUV, iodixanol, AuNP\n"
     ]
    }
   ],
   "source": [
    "# choose folder which includes hella DLS files\n",
    "path = r'/Users/alison/Library/CloudStorage/GoogleDrive-alui@berkeley.edu/My Drive/Research/Alison DLS'\n",
    "files = os.listdir(path)\n",
    "\n",
    "def check_year_zeta(filename):\n",
    "    if 'zeta' not in filename:\n",
    "        if '2023' in filename:\n",
    "            return filename\n",
    "        elif '2022' in filename:\n",
    "            return filename\n",
    "\n",
    "files = list(filter(check_year_zeta, files))\n",
    "\n",
    "# choose only the excel files\n",
    "files_xls = [f for f in files if f[-4:] == 'xlsx']\n",
    "\n",
    "# initiate new dataframe\n",
    "df = pd.DataFrame()\n",
    "\n",
    "# open each file and concatenate into df\n",
    "for f in files_xls:\n",
    "    \n",
    "    # open excel file\n",
    "    xl = pd.ExcelFile(os.path.join(path,f))\n",
    "    \n",
    "    # read sheetnames\n",
    "    if 'Sheet1' in xl.sheet_names:\n",
    "        sheet_name = 'Sheet1'\n",
    "    elif 'intensity + number' in xl.sheet_names:\n",
    "        sheet_name = 'intensity + number'\n",
    "    else:\n",
    "        sheet_name = xl.sheet_names[0]\n",
    "        print(\"f = \" + f)\n",
    "        print(\"sheet name = \" + sheet_name)\n",
    "    \n",
    "    data = pd.read_excel(os.path.join(path,f), sheet_name, header=0)\n",
    "    data[\"filename\"] = f\n",
    "    df = pd.concat([df,data])"
   ]
  },
  {
   "cell_type": "markdown",
   "id": "b2873ada-b7fb-45c8-b367-32ee19ed4bac",
   "metadata": {
    "tags": []
   },
   "source": [
    "## Format df"
   ]
  },
  {
   "cell_type": "code",
   "execution_count": 4,
   "id": "0c178766-5612-4180-add1-314dc06c932a",
   "metadata": {
    "tags": []
   },
   "outputs": [],
   "source": [
    "# remove any columns that include the word Zeta\n",
    "df = df.drop(columns=df.filter(regex=(r\"Zeta\")).columns)"
   ]
  },
  {
   "cell_type": "code",
   "execution_count": 5,
   "id": "4a847e54-3b51-4552-afbf-0bcba5e9eb41",
   "metadata": {
    "tags": []
   },
   "outputs": [],
   "source": [
    "# if no measurement date & time, fill with Jan 0, 2000\n",
    "df[\"Measurement Date and Time\"] = df[\"Measurement Date and Time\"].fillna('Monday, January 1, 2000 12:00:00 AM')"
   ]
  },
  {
   "cell_type": "code",
   "execution_count": 6,
   "id": "1e31a6ae-de01-42de-bc62-eb2dd084beb3",
   "metadata": {
    "tags": []
   },
   "outputs": [],
   "source": [
    "# drop Record Number column\n",
    "df.drop(columns=\"Record Number\")\n",
    "\n",
    "# reset index to be unique values\n",
    "df.reset_index(drop=True, inplace=True)\n",
    "\n",
    "# make new column called Record Number which includes just unique indices\n",
    "df[\"Record Number\"] = df.index.values"
   ]
  },
  {
   "cell_type": "markdown",
   "id": "04e4ac3c",
   "metadata": {
    "id": "04e4ac3c",
    "tags": []
   },
   "source": [
    "## Extract Size Data in `size` df"
   ]
  },
  {
   "cell_type": "code",
   "execution_count": 7,
   "id": "d5a4faf1",
   "metadata": {
    "id": "d5a4faf1",
    "tags": []
   },
   "outputs": [
    {
     "data": {
      "text/html": [
       "<div>\n",
       "<style scoped>\n",
       "    .dataframe tbody tr th:only-of-type {\n",
       "        vertical-align: middle;\n",
       "    }\n",
       "\n",
       "    .dataframe tbody tr th {\n",
       "        vertical-align: top;\n",
       "    }\n",
       "\n",
       "    .dataframe thead th {\n",
       "        text-align: right;\n",
       "    }\n",
       "</style>\n",
       "<table border=\"1\" class=\"dataframe\">\n",
       "  <thead>\n",
       "    <tr style=\"text-align: right;\">\n",
       "      <th></th>\n",
       "      <th>Diameter (nm)</th>\n",
       "      <th>835</th>\n",
       "      <th>DLS index</th>\n",
       "      <th>Log Diameter</th>\n",
       "    </tr>\n",
       "  </thead>\n",
       "  <tbody>\n",
       "    <tr>\n",
       "      <th>0</th>\n",
       "      <td>0.4</td>\n",
       "      <td>Sizes[1] (d.nm)</td>\n",
       "      <td>1</td>\n",
       "      <td>-0.397940</td>\n",
       "    </tr>\n",
       "    <tr>\n",
       "      <th>1</th>\n",
       "      <td>0.4632</td>\n",
       "      <td>Sizes[2] (d.nm)</td>\n",
       "      <td>2</td>\n",
       "      <td>-0.334231</td>\n",
       "    </tr>\n",
       "    <tr>\n",
       "      <th>2</th>\n",
       "      <td>0.5365</td>\n",
       "      <td>Sizes[3] (d.nm)</td>\n",
       "      <td>3</td>\n",
       "      <td>-0.270430</td>\n",
       "    </tr>\n",
       "    <tr>\n",
       "      <th>3</th>\n",
       "      <td>0.6213</td>\n",
       "      <td>Sizes[4] (d.nm)</td>\n",
       "      <td>4</td>\n",
       "      <td>-0.206699</td>\n",
       "    </tr>\n",
       "    <tr>\n",
       "      <th>4</th>\n",
       "      <td>0.7195</td>\n",
       "      <td>Sizes[5] (d.nm)</td>\n",
       "      <td>5</td>\n",
       "      <td>-0.142969</td>\n",
       "    </tr>\n",
       "    <tr>\n",
       "      <th>...</th>\n",
       "      <td>...</td>\n",
       "      <td>...</td>\n",
       "      <td>...</td>\n",
       "      <td>...</td>\n",
       "    </tr>\n",
       "    <tr>\n",
       "      <th>65</th>\n",
       "      <td>5560.0</td>\n",
       "      <td>Sizes[66] (d.nm)</td>\n",
       "      <td>66</td>\n",
       "      <td>3.745075</td>\n",
       "    </tr>\n",
       "    <tr>\n",
       "      <th>66</th>\n",
       "      <td>6439.0</td>\n",
       "      <td>Sizes[67] (d.nm)</td>\n",
       "      <td>67</td>\n",
       "      <td>3.808818</td>\n",
       "    </tr>\n",
       "    <tr>\n",
       "      <th>67</th>\n",
       "      <td>7456.0</td>\n",
       "      <td>Sizes[68] (d.nm)</td>\n",
       "      <td>68</td>\n",
       "      <td>3.872506</td>\n",
       "    </tr>\n",
       "    <tr>\n",
       "      <th>68</th>\n",
       "      <td>8635.0</td>\n",
       "      <td>Sizes[69] (d.nm)</td>\n",
       "      <td>69</td>\n",
       "      <td>3.936262</td>\n",
       "    </tr>\n",
       "    <tr>\n",
       "      <th>69</th>\n",
       "      <td>10000.0</td>\n",
       "      <td>Sizes[70] (d.nm)</td>\n",
       "      <td>70</td>\n",
       "      <td>4.000000</td>\n",
       "    </tr>\n",
       "  </tbody>\n",
       "</table>\n",
       "<p>70 rows × 4 columns</p>\n",
       "</div>"
      ],
      "text/plain": [
       "   Diameter (nm)               835  DLS index  Log Diameter\n",
       "0            0.4   Sizes[1] (d.nm)          1     -0.397940\n",
       "1         0.4632   Sizes[2] (d.nm)          2     -0.334231\n",
       "2         0.5365   Sizes[3] (d.nm)          3     -0.270430\n",
       "3         0.6213   Sizes[4] (d.nm)          4     -0.206699\n",
       "4         0.7195   Sizes[5] (d.nm)          5     -0.142969\n",
       "..           ...               ...        ...           ...\n",
       "65        5560.0  Sizes[66] (d.nm)         66      3.745075\n",
       "66        6439.0  Sizes[67] (d.nm)         67      3.808818\n",
       "67        7456.0  Sizes[68] (d.nm)         68      3.872506\n",
       "68        8635.0  Sizes[69] (d.nm)         69      3.936262\n",
       "69       10000.0  Sizes[70] (d.nm)         70      4.000000\n",
       "\n",
       "[70 rows x 4 columns]"
      ]
     },
     "execution_count": 7,
     "metadata": {},
     "output_type": "execute_result"
    }
   ],
   "source": [
    "size = df.filter(regex=r'Size').drop_duplicates().dropna().T.reset_index().rename(columns={0:\"Diameter (nm)\"})\n",
    "size['DLS index'] = size['index'].str.findall(r'\\d+').explode().astype(int)\n",
    "size['Log Diameter'] = np.log10(size[\"Diameter (nm)\"].astype(float))\n",
    "size = size.drop(columns='index')\n",
    "size"
   ]
  },
  {
   "cell_type": "markdown",
   "id": "2d57713a",
   "metadata": {
    "id": "2d57713a"
   },
   "source": [
    "## Format sample names and dates in `info` df"
   ]
  },
  {
   "cell_type": "code",
   "execution_count": 8,
   "id": "a62b7f99",
   "metadata": {
    "id": "a62b7f99",
    "tags": []
   },
   "outputs": [
    {
     "data": {
      "text/html": [
       "<div>\n",
       "<style scoped>\n",
       "    .dataframe tbody tr th:only-of-type {\n",
       "        vertical-align: middle;\n",
       "    }\n",
       "\n",
       "    .dataframe tbody tr th {\n",
       "        vertical-align: top;\n",
       "    }\n",
       "\n",
       "    .dataframe thead th {\n",
       "        text-align: right;\n",
       "    }\n",
       "</style>\n",
       "<table border=\"1\" class=\"dataframe\">\n",
       "  <thead>\n",
       "    <tr style=\"text-align: right;\">\n",
       "      <th></th>\n",
       "      <th>Measurement Date and Time</th>\n",
       "      <th>Sample Name</th>\n",
       "      <th>Record Number</th>\n",
       "      <th>Triplicate</th>\n",
       "      <th>title</th>\n",
       "      <th>time</th>\n",
       "      <th>date</th>\n",
       "    </tr>\n",
       "  </thead>\n",
       "  <tbody>\n",
       "    <tr>\n",
       "      <th>0</th>\n",
       "      <td>Monday, January 1, 2000 12:00:00 AM</td>\n",
       "      <td>1X CF-LUV eluted in 1X PBS pH 5.5 1</td>\n",
       "      <td>0</td>\n",
       "      <td>1</td>\n",
       "      <td>1X CF-LUV eluted in 1X PBS pH 5.5</td>\n",
       "      <td>12:00:00 AM</td>\n",
       "      <td>2000-01-01</td>\n",
       "    </tr>\n",
       "    <tr>\n",
       "      <th>1</th>\n",
       "      <td>Monday, January 1, 2000 12:00:00 AM</td>\n",
       "      <td>1X CF-LUV eluted in 1X PBS pH 5.5 2</td>\n",
       "      <td>1</td>\n",
       "      <td>2</td>\n",
       "      <td>1X CF-LUV eluted in 1X PBS pH 5.5</td>\n",
       "      <td>12:00:00 AM</td>\n",
       "      <td>2000-01-01</td>\n",
       "    </tr>\n",
       "    <tr>\n",
       "      <th>2</th>\n",
       "      <td>Monday, January 1, 2000 12:00:00 AM</td>\n",
       "      <td>1X CF-LUV eluted in 1X PBS pH 5.5 3</td>\n",
       "      <td>2</td>\n",
       "      <td>3</td>\n",
       "      <td>1X CF-LUV eluted in 1X PBS pH 5.5</td>\n",
       "      <td>12:00:00 AM</td>\n",
       "      <td>2000-01-01</td>\n",
       "    </tr>\n",
       "    <tr>\n",
       "      <th>3</th>\n",
       "      <td>Monday, January 1, 2000 12:00:00 AM</td>\n",
       "      <td>1X CF-LUV eluted in 1X PBS pH 5.5 16 hour 1</td>\n",
       "      <td>3</td>\n",
       "      <td>1</td>\n",
       "      <td>1X CF-LUV eluted in 1X PBS pH 5.5 16 hour</td>\n",
       "      <td>12:00:00 AM</td>\n",
       "      <td>2000-01-01</td>\n",
       "    </tr>\n",
       "    <tr>\n",
       "      <th>4</th>\n",
       "      <td>Monday, January 1, 2000 12:00:00 AM</td>\n",
       "      <td>1X CF-LUV eluted in 1X PBS pH 5.5 16 hour 2</td>\n",
       "      <td>4</td>\n",
       "      <td>2</td>\n",
       "      <td>1X CF-LUV eluted in 1X PBS pH 5.5 16 hour</td>\n",
       "      <td>12:00:00 AM</td>\n",
       "      <td>2000-01-01</td>\n",
       "    </tr>\n",
       "  </tbody>\n",
       "</table>\n",
       "</div>"
      ],
      "text/plain": [
       "             Measurement Date and Time  \\\n",
       "0  Monday, January 1, 2000 12:00:00 AM   \n",
       "1  Monday, January 1, 2000 12:00:00 AM   \n",
       "2  Monday, January 1, 2000 12:00:00 AM   \n",
       "3  Monday, January 1, 2000 12:00:00 AM   \n",
       "4  Monday, January 1, 2000 12:00:00 AM   \n",
       "\n",
       "                                   Sample Name  Record Number Triplicate  \\\n",
       "0          1X CF-LUV eluted in 1X PBS pH 5.5 1              0          1   \n",
       "1          1X CF-LUV eluted in 1X PBS pH 5.5 2              1          2   \n",
       "2          1X CF-LUV eluted in 1X PBS pH 5.5 3              2          3   \n",
       "3  1X CF-LUV eluted in 1X PBS pH 5.5 16 hour 1              3          1   \n",
       "4  1X CF-LUV eluted in 1X PBS pH 5.5 16 hour 2              4          2   \n",
       "\n",
       "                                       title         time       date  \n",
       "0          1X CF-LUV eluted in 1X PBS pH 5.5  12:00:00 AM 2000-01-01  \n",
       "1          1X CF-LUV eluted in 1X PBS pH 5.5  12:00:00 AM 2000-01-01  \n",
       "2          1X CF-LUV eluted in 1X PBS pH 5.5  12:00:00 AM 2000-01-01  \n",
       "3  1X CF-LUV eluted in 1X PBS pH 5.5 16 hour  12:00:00 AM 2000-01-01  \n",
       "4  1X CF-LUV eluted in 1X PBS pH 5.5 16 hour  12:00:00 AM 2000-01-01  "
      ]
     },
     "execution_count": 8,
     "metadata": {},
     "output_type": "execute_result"
    }
   ],
   "source": [
    "info = pd.DataFrame(df.loc[:,['Measurement Date and Time','Sample Name','Record Number']].copy(deep=True))\n",
    "info['Triplicate'] = info['Sample Name'].str.strip().str[-1]\n",
    "info['title'] = info['Sample Name'].str.rstrip(r'123 ')\n",
    "\n",
    "# extract date and time information\n",
    "info = info.join(pd.DataFrame(info[\"Measurement Date and Time\"].str.findall(r'([A-Z][a-z]*), ([A-Z][a-z]*) (\\d\\d?), (\\d{4}) (\\d\\d?:\\d\\d?:\\d\\d [AP]M)').explode().to_list(), columns=[\"day of week\",\"month\",\"day\",\"year\",\"time\"]))\n",
    "\n",
    "# replace string month to numerical month to be read by datetime function\n",
    "d = dict((v,k) for k,v in enumerate(calendar.month_name))\n",
    "info[\"month\"] = info.month.map(d)\n",
    "\n",
    "# convert columns to integer datatype\n",
    "info[\"day\"] = info[\"day\"].astype(int)\n",
    "info[\"month\"] = info[\"month\"].astype(int)\n",
    "info[\"year\"] = info[\"year\"].astype(int)\n",
    "\n",
    "# convert month/day/year into datetime format\n",
    "info[\"date\"] = pd.to_datetime(info.loc[:,[\"year\",\"month\",\"day\"]])\n",
    "\n",
    "# remove month/date/year columns\n",
    "info.drop(columns=['year','month','day','day of week'], inplace=True)\n",
    "\n",
    "info.head()"
   ]
  },
  {
   "cell_type": "markdown",
   "id": "f25d051b-73e8-42e9-aee5-7c57f14206fa",
   "metadata": {},
   "source": [
    "## Find all unique titles and dates in `info`. Save to `samples` dataframe and generate unique sample `id`. "
   ]
  },
  {
   "cell_type": "code",
   "execution_count": 9,
   "id": "4e107a7e-802c-4a3c-ad27-360384ecf839",
   "metadata": {
    "tags": []
   },
   "outputs": [],
   "source": [
    "samples = info.loc[:,[\"title\",\"date\"]].drop_duplicates()"
   ]
  },
  {
   "cell_type": "code",
   "execution_count": 10,
   "id": "cd53cf41-a518-46ea-9a70-b59b352c0624",
   "metadata": {
    "tags": []
   },
   "outputs": [
    {
     "data": {
      "text/html": [
       "<div>\n",
       "<style scoped>\n",
       "    .dataframe tbody tr th:only-of-type {\n",
       "        vertical-align: middle;\n",
       "    }\n",
       "\n",
       "    .dataframe tbody tr th {\n",
       "        vertical-align: top;\n",
       "    }\n",
       "\n",
       "    .dataframe thead th {\n",
       "        text-align: right;\n",
       "    }\n",
       "</style>\n",
       "<table border=\"1\" class=\"dataframe\">\n",
       "  <thead>\n",
       "    <tr style=\"text-align: right;\">\n",
       "      <th></th>\n",
       "      <th>title</th>\n",
       "      <th>date</th>\n",
       "      <th>id</th>\n",
       "    </tr>\n",
       "  </thead>\n",
       "  <tbody>\n",
       "    <tr>\n",
       "      <th>0</th>\n",
       "      <td>1X CF-LUV eluted in 1X PBS pH 5.5</td>\n",
       "      <td>2000-01-01</td>\n",
       "      <td>0</td>\n",
       "    </tr>\n",
       "    <tr>\n",
       "      <th>3</th>\n",
       "      <td>1X CF-LUV eluted in 1X PBS pH 5.5 16 hour</td>\n",
       "      <td>2000-01-01</td>\n",
       "      <td>1</td>\n",
       "    </tr>\n",
       "    <tr>\n",
       "      <th>6</th>\n",
       "      <td>POPC-LUV extruded 200 nm</td>\n",
       "      <td>2000-01-01</td>\n",
       "      <td>2</td>\n",
       "    </tr>\n",
       "    <tr>\n",
       "      <th>9</th>\n",
       "      <td>N:P 1:1 LNP 0.1X</td>\n",
       "      <td>2023-03-01</td>\n",
       "      <td>3</td>\n",
       "    </tr>\n",
       "    <tr>\n",
       "      <th>12</th>\n",
       "      <td>N:P 5:1 LNP 0.1X</td>\n",
       "      <td>2023-03-02</td>\n",
       "      <td>4</td>\n",
       "    </tr>\n",
       "  </tbody>\n",
       "</table>\n",
       "</div>"
      ],
      "text/plain": [
       "                                        title       date  id\n",
       "0           1X CF-LUV eluted in 1X PBS pH 5.5 2000-01-01   0\n",
       "3   1X CF-LUV eluted in 1X PBS pH 5.5 16 hour 2000-01-01   1\n",
       "6                    POPC-LUV extruded 200 nm 2000-01-01   2\n",
       "9                            N:P 1:1 LNP 0.1X 2023-03-01   3\n",
       "12                           N:P 5:1 LNP 0.1X 2023-03-02   4"
      ]
     },
     "execution_count": 10,
     "metadata": {},
     "output_type": "execute_result"
    }
   ],
   "source": [
    "samples[\"id\"] = np.arange(0,samples.shape[0])\n",
    "samples.head()"
   ]
  },
  {
   "cell_type": "markdown",
   "id": "2e0ebb08-beda-4b23-bf6b-d8514200e74f",
   "metadata": {},
   "source": [
    "## Compute days since first sample for each unique title"
   ]
  },
  {
   "cell_type": "code",
   "execution_count": 11,
   "id": "ddf2a24a-d48a-42ff-999c-fff1f2f51cb0",
   "metadata": {
    "tags": []
   },
   "outputs": [],
   "source": [
    "# new startdate pivot table with earliest date for each unique title\n",
    "startdate = pd.pivot_table(data=samples,\n",
    "               index=\"title\",\n",
    "               values=\"date\",\n",
    "               aggfunc=\"min\").rename(columns={\"date\" : \"start date\"})"
   ]
  },
  {
   "cell_type": "code",
   "execution_count": 12,
   "id": "834d9c4d-49e1-4aeb-9e32-9fce17b9bbf4",
   "metadata": {
    "tags": []
   },
   "outputs": [],
   "source": [
    "# add back in to samples and compute days since 'start date'\n",
    "samples = samples.merge(startdate, left_on=\"title\",right_on=\"title\")\n",
    "samples[\"days since\"] = samples[\"date\"] - samples[\"start date\"]\n",
    "samples[\"days since\"] = samples[\"days since\"].apply(lambda x: x.days)"
   ]
  },
  {
   "cell_type": "code",
   "execution_count": 13,
   "id": "935e224c-5990-40b5-b7f2-4323773168af",
   "metadata": {
    "tags": []
   },
   "outputs": [
    {
     "data": {
      "text/html": [
       "<div>\n",
       "<style scoped>\n",
       "    .dataframe tbody tr th:only-of-type {\n",
       "        vertical-align: middle;\n",
       "    }\n",
       "\n",
       "    .dataframe tbody tr th {\n",
       "        vertical-align: top;\n",
       "    }\n",
       "\n",
       "    .dataframe thead th {\n",
       "        text-align: right;\n",
       "    }\n",
       "</style>\n",
       "<table border=\"1\" class=\"dataframe\">\n",
       "  <thead>\n",
       "    <tr style=\"text-align: right;\">\n",
       "      <th></th>\n",
       "      <th>Measurement Date and Time</th>\n",
       "      <th>Sample Name</th>\n",
       "      <th>Record Number</th>\n",
       "      <th>Triplicate</th>\n",
       "      <th>title</th>\n",
       "      <th>time</th>\n",
       "      <th>date</th>\n",
       "      <th>id</th>\n",
       "      <th>start date</th>\n",
       "      <th>days since</th>\n",
       "    </tr>\n",
       "  </thead>\n",
       "  <tbody>\n",
       "    <tr>\n",
       "      <th>0</th>\n",
       "      <td>Monday, January 1, 2000 12:00:00 AM</td>\n",
       "      <td>1X CF-LUV eluted in 1X PBS pH 5.5 1</td>\n",
       "      <td>0</td>\n",
       "      <td>1</td>\n",
       "      <td>1X CF-LUV eluted in 1X PBS pH 5.5</td>\n",
       "      <td>12:00:00 AM</td>\n",
       "      <td>2000-01-01</td>\n",
       "      <td>0</td>\n",
       "      <td>2000-01-01</td>\n",
       "      <td>0</td>\n",
       "    </tr>\n",
       "    <tr>\n",
       "      <th>1</th>\n",
       "      <td>Monday, January 1, 2000 12:00:00 AM</td>\n",
       "      <td>1X CF-LUV eluted in 1X PBS pH 5.5 2</td>\n",
       "      <td>1</td>\n",
       "      <td>2</td>\n",
       "      <td>1X CF-LUV eluted in 1X PBS pH 5.5</td>\n",
       "      <td>12:00:00 AM</td>\n",
       "      <td>2000-01-01</td>\n",
       "      <td>0</td>\n",
       "      <td>2000-01-01</td>\n",
       "      <td>0</td>\n",
       "    </tr>\n",
       "    <tr>\n",
       "      <th>2</th>\n",
       "      <td>Monday, January 1, 2000 12:00:00 AM</td>\n",
       "      <td>1X CF-LUV eluted in 1X PBS pH 5.5 3</td>\n",
       "      <td>2</td>\n",
       "      <td>3</td>\n",
       "      <td>1X CF-LUV eluted in 1X PBS pH 5.5</td>\n",
       "      <td>12:00:00 AM</td>\n",
       "      <td>2000-01-01</td>\n",
       "      <td>0</td>\n",
       "      <td>2000-01-01</td>\n",
       "      <td>0</td>\n",
       "    </tr>\n",
       "    <tr>\n",
       "      <th>3</th>\n",
       "      <td>Monday, January 1, 2000 12:00:00 AM</td>\n",
       "      <td>1X CF-LUV eluted in 1X PBS pH 5.5 16 hour 1</td>\n",
       "      <td>3</td>\n",
       "      <td>1</td>\n",
       "      <td>1X CF-LUV eluted in 1X PBS pH 5.5 16 hour</td>\n",
       "      <td>12:00:00 AM</td>\n",
       "      <td>2000-01-01</td>\n",
       "      <td>1</td>\n",
       "      <td>2000-01-01</td>\n",
       "      <td>0</td>\n",
       "    </tr>\n",
       "    <tr>\n",
       "      <th>4</th>\n",
       "      <td>Monday, January 1, 2000 12:00:00 AM</td>\n",
       "      <td>1X CF-LUV eluted in 1X PBS pH 5.5 16 hour 2</td>\n",
       "      <td>4</td>\n",
       "      <td>2</td>\n",
       "      <td>1X CF-LUV eluted in 1X PBS pH 5.5 16 hour</td>\n",
       "      <td>12:00:00 AM</td>\n",
       "      <td>2000-01-01</td>\n",
       "      <td>1</td>\n",
       "      <td>2000-01-01</td>\n",
       "      <td>0</td>\n",
       "    </tr>\n",
       "  </tbody>\n",
       "</table>\n",
       "</div>"
      ],
      "text/plain": [
       "             Measurement Date and Time  \\\n",
       "0  Monday, January 1, 2000 12:00:00 AM   \n",
       "1  Monday, January 1, 2000 12:00:00 AM   \n",
       "2  Monday, January 1, 2000 12:00:00 AM   \n",
       "3  Monday, January 1, 2000 12:00:00 AM   \n",
       "4  Monday, January 1, 2000 12:00:00 AM   \n",
       "\n",
       "                                   Sample Name  Record Number Triplicate  \\\n",
       "0          1X CF-LUV eluted in 1X PBS pH 5.5 1              0          1   \n",
       "1          1X CF-LUV eluted in 1X PBS pH 5.5 2              1          2   \n",
       "2          1X CF-LUV eluted in 1X PBS pH 5.5 3              2          3   \n",
       "3  1X CF-LUV eluted in 1X PBS pH 5.5 16 hour 1              3          1   \n",
       "4  1X CF-LUV eluted in 1X PBS pH 5.5 16 hour 2              4          2   \n",
       "\n",
       "                                       title         time       date  id  \\\n",
       "0          1X CF-LUV eluted in 1X PBS pH 5.5  12:00:00 AM 2000-01-01   0   \n",
       "1          1X CF-LUV eluted in 1X PBS pH 5.5  12:00:00 AM 2000-01-01   0   \n",
       "2          1X CF-LUV eluted in 1X PBS pH 5.5  12:00:00 AM 2000-01-01   0   \n",
       "3  1X CF-LUV eluted in 1X PBS pH 5.5 16 hour  12:00:00 AM 2000-01-01   1   \n",
       "4  1X CF-LUV eluted in 1X PBS pH 5.5 16 hour  12:00:00 AM 2000-01-01   1   \n",
       "\n",
       "  start date  days since  \n",
       "0 2000-01-01           0  \n",
       "1 2000-01-01           0  \n",
       "2 2000-01-01           0  \n",
       "3 2000-01-01           0  \n",
       "4 2000-01-01           0  "
      ]
     },
     "execution_count": 13,
     "metadata": {},
     "output_type": "execute_result"
    }
   ],
   "source": [
    "# return info back to `info` dataframe\n",
    "info = info.merge(samples, \n",
    "           left_on=[\"title\",\"date\"],\n",
    "           right_on=[\"title\",\"date\"]\n",
    "          )\n",
    "info.head()"
   ]
  },
  {
   "cell_type": "markdown",
   "id": "cf1fac4d",
   "metadata": {
    "id": "cf1fac4d"
   },
   "source": [
    "## Create intensity dataframe"
   ]
  },
  {
   "cell_type": "code",
   "execution_count": 14,
   "id": "c01770f9",
   "metadata": {
    "id": "c01770f9",
    "tags": []
   },
   "outputs": [
    {
     "data": {
      "text/html": [
       "<div>\n",
       "<style scoped>\n",
       "    .dataframe tbody tr th:only-of-type {\n",
       "        vertical-align: middle;\n",
       "    }\n",
       "\n",
       "    .dataframe tbody tr th {\n",
       "        vertical-align: top;\n",
       "    }\n",
       "\n",
       "    .dataframe thead th {\n",
       "        text-align: right;\n",
       "    }\n",
       "</style>\n",
       "<table border=\"1\" class=\"dataframe\">\n",
       "  <thead>\n",
       "    <tr style=\"text-align: right;\">\n",
       "      <th>Record Number</th>\n",
       "      <th>0</th>\n",
       "      <th>1</th>\n",
       "      <th>2</th>\n",
       "      <th>3</th>\n",
       "      <th>4</th>\n",
       "      <th>5</th>\n",
       "      <th>6</th>\n",
       "      <th>7</th>\n",
       "      <th>8</th>\n",
       "      <th>9</th>\n",
       "      <th>...</th>\n",
       "      <th>867</th>\n",
       "      <th>868</th>\n",
       "      <th>869</th>\n",
       "      <th>870</th>\n",
       "      <th>871</th>\n",
       "      <th>872</th>\n",
       "      <th>873</th>\n",
       "      <th>874</th>\n",
       "      <th>875</th>\n",
       "      <th>DLS index</th>\n",
       "    </tr>\n",
       "  </thead>\n",
       "  <tbody>\n",
       "    <tr>\n",
       "      <th>Intensities[1] (Percent)</th>\n",
       "      <td>0.0</td>\n",
       "      <td>0.0</td>\n",
       "      <td>0.0</td>\n",
       "      <td>0.0</td>\n",
       "      <td>0.0</td>\n",
       "      <td>0.0</td>\n",
       "      <td>0.0</td>\n",
       "      <td>0.0</td>\n",
       "      <td>0.0</td>\n",
       "      <td>0.0</td>\n",
       "      <td>...</td>\n",
       "      <td>0</td>\n",
       "      <td>0</td>\n",
       "      <td>0</td>\n",
       "      <td>0</td>\n",
       "      <td>0</td>\n",
       "      <td>0</td>\n",
       "      <td>0</td>\n",
       "      <td>0</td>\n",
       "      <td>0</td>\n",
       "      <td>1</td>\n",
       "    </tr>\n",
       "    <tr>\n",
       "      <th>Intensities[2] (Percent)</th>\n",
       "      <td>0.0</td>\n",
       "      <td>0.0</td>\n",
       "      <td>0.0</td>\n",
       "      <td>0.0</td>\n",
       "      <td>0.0</td>\n",
       "      <td>0.0</td>\n",
       "      <td>0.0</td>\n",
       "      <td>0.0</td>\n",
       "      <td>0.0</td>\n",
       "      <td>0.0</td>\n",
       "      <td>...</td>\n",
       "      <td>0</td>\n",
       "      <td>0</td>\n",
       "      <td>0</td>\n",
       "      <td>0</td>\n",
       "      <td>0</td>\n",
       "      <td>0</td>\n",
       "      <td>0</td>\n",
       "      <td>0</td>\n",
       "      <td>0</td>\n",
       "      <td>2</td>\n",
       "    </tr>\n",
       "    <tr>\n",
       "      <th>Intensities[3] (Percent)</th>\n",
       "      <td>0.0</td>\n",
       "      <td>0.0</td>\n",
       "      <td>0.0</td>\n",
       "      <td>0.0</td>\n",
       "      <td>0.0</td>\n",
       "      <td>0.0</td>\n",
       "      <td>0.0</td>\n",
       "      <td>0.0</td>\n",
       "      <td>0.0</td>\n",
       "      <td>0.0</td>\n",
       "      <td>...</td>\n",
       "      <td>0</td>\n",
       "      <td>0</td>\n",
       "      <td>0</td>\n",
       "      <td>0</td>\n",
       "      <td>0</td>\n",
       "      <td>0</td>\n",
       "      <td>0</td>\n",
       "      <td>0</td>\n",
       "      <td>0</td>\n",
       "      <td>3</td>\n",
       "    </tr>\n",
       "  </tbody>\n",
       "</table>\n",
       "<p>3 rows × 780 columns</p>\n",
       "</div>"
      ],
      "text/plain": [
       "Record Number               0    1    2    3    4    5    6    7    8    9  \\\n",
       "Intensities[1] (Percent)  0.0  0.0  0.0  0.0  0.0  0.0  0.0  0.0  0.0  0.0   \n",
       "Intensities[2] (Percent)  0.0  0.0  0.0  0.0  0.0  0.0  0.0  0.0  0.0  0.0   \n",
       "Intensities[3] (Percent)  0.0  0.0  0.0  0.0  0.0  0.0  0.0  0.0  0.0  0.0   \n",
       "\n",
       "Record Number             ... 867 868 869 870 871 872 873 874 875 DLS index  \n",
       "Intensities[1] (Percent)  ...   0   0   0   0   0   0   0   0   0         1  \n",
       "Intensities[2] (Percent)  ...   0   0   0   0   0   0   0   0   0         2  \n",
       "Intensities[3] (Percent)  ...   0   0   0   0   0   0   0   0   0         3  \n",
       "\n",
       "[3 rows x 780 columns]"
      ]
     },
     "execution_count": 14,
     "metadata": {},
     "output_type": "execute_result"
    }
   ],
   "source": [
    "intensity = df.filter(regex=r'Record Number|Intensities').set_index('Record Number').T\n",
    "intensity['DLS index'] = pd.Series(intensity.index).str.findall(r'\\d+').explode().values.astype(int)\n",
    "\n",
    "# drop any rows for which there are nan values\n",
    "intensity = intensity.dropna(axis=1)\n",
    "intensity.head(3)"
   ]
  },
  {
   "cell_type": "markdown",
   "id": "f80dc515",
   "metadata": {
    "id": "f80dc515"
   },
   "source": [
    "## Create number dataframe"
   ]
  },
  {
   "cell_type": "code",
   "execution_count": 15,
   "id": "99781cb2",
   "metadata": {
    "id": "99781cb2",
    "tags": []
   },
   "outputs": [
    {
     "data": {
      "text/html": [
       "<div>\n",
       "<style scoped>\n",
       "    .dataframe tbody tr th:only-of-type {\n",
       "        vertical-align: middle;\n",
       "    }\n",
       "\n",
       "    .dataframe tbody tr th {\n",
       "        vertical-align: top;\n",
       "    }\n",
       "\n",
       "    .dataframe thead th {\n",
       "        text-align: right;\n",
       "    }\n",
       "</style>\n",
       "<table border=\"1\" class=\"dataframe\">\n",
       "  <thead>\n",
       "    <tr style=\"text-align: right;\">\n",
       "      <th>Record Number</th>\n",
       "      <th>0</th>\n",
       "      <th>1</th>\n",
       "      <th>2</th>\n",
       "      <th>3</th>\n",
       "      <th>4</th>\n",
       "      <th>5</th>\n",
       "      <th>6</th>\n",
       "      <th>7</th>\n",
       "      <th>8</th>\n",
       "      <th>9</th>\n",
       "      <th>...</th>\n",
       "      <th>867</th>\n",
       "      <th>868</th>\n",
       "      <th>869</th>\n",
       "      <th>870</th>\n",
       "      <th>871</th>\n",
       "      <th>872</th>\n",
       "      <th>873</th>\n",
       "      <th>874</th>\n",
       "      <th>875</th>\n",
       "      <th>DLS index</th>\n",
       "    </tr>\n",
       "  </thead>\n",
       "  <tbody>\n",
       "    <tr>\n",
       "      <th>Numbers[1] (Percent)</th>\n",
       "      <td>0.0</td>\n",
       "      <td>0.0</td>\n",
       "      <td>0.0</td>\n",
       "      <td>0.0</td>\n",
       "      <td>0.0</td>\n",
       "      <td>0.0</td>\n",
       "      <td>0.0</td>\n",
       "      <td>0.0</td>\n",
       "      <td>0.0</td>\n",
       "      <td>0.0</td>\n",
       "      <td>...</td>\n",
       "      <td>0</td>\n",
       "      <td>0</td>\n",
       "      <td>0</td>\n",
       "      <td>0</td>\n",
       "      <td>0</td>\n",
       "      <td>0</td>\n",
       "      <td>0</td>\n",
       "      <td>0</td>\n",
       "      <td>0</td>\n",
       "      <td>1</td>\n",
       "    </tr>\n",
       "    <tr>\n",
       "      <th>Numbers[2] (Percent)</th>\n",
       "      <td>0.0</td>\n",
       "      <td>0.0</td>\n",
       "      <td>0.0</td>\n",
       "      <td>0.0</td>\n",
       "      <td>0.0</td>\n",
       "      <td>0.0</td>\n",
       "      <td>0.0</td>\n",
       "      <td>0.0</td>\n",
       "      <td>0.0</td>\n",
       "      <td>0.0</td>\n",
       "      <td>...</td>\n",
       "      <td>0</td>\n",
       "      <td>0</td>\n",
       "      <td>0</td>\n",
       "      <td>0</td>\n",
       "      <td>0</td>\n",
       "      <td>0</td>\n",
       "      <td>0</td>\n",
       "      <td>0</td>\n",
       "      <td>0</td>\n",
       "      <td>2</td>\n",
       "    </tr>\n",
       "    <tr>\n",
       "      <th>Numbers[3] (Percent)</th>\n",
       "      <td>0.0</td>\n",
       "      <td>0.0</td>\n",
       "      <td>0.0</td>\n",
       "      <td>0.0</td>\n",
       "      <td>0.0</td>\n",
       "      <td>0.0</td>\n",
       "      <td>0.0</td>\n",
       "      <td>0.0</td>\n",
       "      <td>0.0</td>\n",
       "      <td>0.0</td>\n",
       "      <td>...</td>\n",
       "      <td>0.0</td>\n",
       "      <td>0.0</td>\n",
       "      <td>0.0</td>\n",
       "      <td>0.0</td>\n",
       "      <td>0.0</td>\n",
       "      <td>0.0</td>\n",
       "      <td>0.0</td>\n",
       "      <td>0.0</td>\n",
       "      <td>0.0</td>\n",
       "      <td>3</td>\n",
       "    </tr>\n",
       "  </tbody>\n",
       "</table>\n",
       "<p>3 rows × 780 columns</p>\n",
       "</div>"
      ],
      "text/plain": [
       "Record Number           0    1    2    3    4    5    6    7    8    9  ...  \\\n",
       "Numbers[1] (Percent)  0.0  0.0  0.0  0.0  0.0  0.0  0.0  0.0  0.0  0.0  ...   \n",
       "Numbers[2] (Percent)  0.0  0.0  0.0  0.0  0.0  0.0  0.0  0.0  0.0  0.0  ...   \n",
       "Numbers[3] (Percent)  0.0  0.0  0.0  0.0  0.0  0.0  0.0  0.0  0.0  0.0  ...   \n",
       "\n",
       "Record Number         867  868  869  870  871  872  873  874  875 DLS index  \n",
       "Numbers[1] (Percent)    0    0    0    0    0    0    0    0    0         1  \n",
       "Numbers[2] (Percent)    0    0    0    0    0    0    0    0    0         2  \n",
       "Numbers[3] (Percent)  0.0  0.0  0.0  0.0  0.0  0.0  0.0  0.0  0.0         3  \n",
       "\n",
       "[3 rows x 780 columns]"
      ]
     },
     "execution_count": 15,
     "metadata": {},
     "output_type": "execute_result"
    }
   ],
   "source": [
    "number = df.filter(regex=r'Record Number|Numbers').set_index('Record Number').T\n",
    "number['DLS index'] = pd.Series(number.index).str.findall(r'\\d+').explode().values\n",
    "\n",
    "# drop any rows for which there are nan values\n",
    "number = number.dropna(axis=1)\n",
    "number.head(3)"
   ]
  },
  {
   "cell_type": "markdown",
   "id": "c9419735",
   "metadata": {
    "id": "c9419735"
   },
   "source": [
    "## Join `intensity`, `number`, `size`, and `info` to `df_main`"
   ]
  },
  {
   "cell_type": "code",
   "execution_count": 16,
   "id": "6b41a2a0-aa49-4020-a1ba-03a3fed8e9ed",
   "metadata": {
    "tags": []
   },
   "outputs": [
    {
     "name": "stdout",
     "output_type": "stream",
     "text": [
      "(54530, 3)\n"
     ]
    },
    {
     "data": {
      "text/html": [
       "<div>\n",
       "<style scoped>\n",
       "    .dataframe tbody tr th:only-of-type {\n",
       "        vertical-align: middle;\n",
       "    }\n",
       "\n",
       "    .dataframe tbody tr th {\n",
       "        vertical-align: top;\n",
       "    }\n",
       "\n",
       "    .dataframe thead th {\n",
       "        text-align: right;\n",
       "    }\n",
       "</style>\n",
       "<table border=\"1\" class=\"dataframe\">\n",
       "  <thead>\n",
       "    <tr style=\"text-align: right;\">\n",
       "      <th></th>\n",
       "      <th>DLS index</th>\n",
       "      <th>Record Number</th>\n",
       "      <th>Intensity %</th>\n",
       "    </tr>\n",
       "  </thead>\n",
       "  <tbody>\n",
       "    <tr>\n",
       "      <th>0</th>\n",
       "      <td>1</td>\n",
       "      <td>0</td>\n",
       "      <td>0.0</td>\n",
       "    </tr>\n",
       "    <tr>\n",
       "      <th>1</th>\n",
       "      <td>2</td>\n",
       "      <td>0</td>\n",
       "      <td>0.0</td>\n",
       "    </tr>\n",
       "    <tr>\n",
       "      <th>2</th>\n",
       "      <td>3</td>\n",
       "      <td>0</td>\n",
       "      <td>0.0</td>\n",
       "    </tr>\n",
       "  </tbody>\n",
       "</table>\n",
       "</div>"
      ],
      "text/plain": [
       "   DLS index Record Number Intensity %\n",
       "0          1             0         0.0\n",
       "1          2             0         0.0\n",
       "2          3             0         0.0"
      ]
     },
     "execution_count": 16,
     "metadata": {},
     "output_type": "execute_result"
    }
   ],
   "source": [
    "df_main = intensity.melt(id_vars='DLS index', value_vars=intensity.columns, value_name='Intensity %')\n",
    "print(df_main.shape)\n",
    "df_main.head(3)"
   ]
  },
  {
   "cell_type": "code",
   "execution_count": 17,
   "id": "cd7bed2e-db97-4f88-98f6-18d359c8f70e",
   "metadata": {
    "tags": []
   },
   "outputs": [
    {
     "name": "stdout",
     "output_type": "stream",
     "text": [
      "(54530, 4)\n"
     ]
    },
    {
     "data": {
      "text/html": [
       "<div>\n",
       "<style scoped>\n",
       "    .dataframe tbody tr th:only-of-type {\n",
       "        vertical-align: middle;\n",
       "    }\n",
       "\n",
       "    .dataframe tbody tr th {\n",
       "        vertical-align: top;\n",
       "    }\n",
       "\n",
       "    .dataframe thead th {\n",
       "        text-align: right;\n",
       "    }\n",
       "</style>\n",
       "<table border=\"1\" class=\"dataframe\">\n",
       "  <thead>\n",
       "    <tr style=\"text-align: right;\">\n",
       "      <th></th>\n",
       "      <th>DLS index</th>\n",
       "      <th>Record Number</th>\n",
       "      <th>Intensity %</th>\n",
       "      <th>Number %</th>\n",
       "    </tr>\n",
       "  </thead>\n",
       "  <tbody>\n",
       "    <tr>\n",
       "      <th>0</th>\n",
       "      <td>1</td>\n",
       "      <td>0</td>\n",
       "      <td>0.0</td>\n",
       "      <td>0.0</td>\n",
       "    </tr>\n",
       "    <tr>\n",
       "      <th>1</th>\n",
       "      <td>2</td>\n",
       "      <td>0</td>\n",
       "      <td>0.0</td>\n",
       "      <td>0.0</td>\n",
       "    </tr>\n",
       "    <tr>\n",
       "      <th>2</th>\n",
       "      <td>3</td>\n",
       "      <td>0</td>\n",
       "      <td>0.0</td>\n",
       "      <td>0.0</td>\n",
       "    </tr>\n",
       "  </tbody>\n",
       "</table>\n",
       "</div>"
      ],
      "text/plain": [
       "   DLS index Record Number Intensity % Number %\n",
       "0          1             0         0.0      0.0\n",
       "1          2             0         0.0      0.0\n",
       "2          3             0         0.0      0.0"
      ]
     },
     "execution_count": 17,
     "metadata": {},
     "output_type": "execute_result"
    }
   ],
   "source": [
    "df_main = df_main.join(number.melt(id_vars='DLS index', value_vars=number.columns, value_name='Number %').loc[:,\"Number %\"])\n",
    "print(df_main.shape)\n",
    "df_main.head(3)"
   ]
  },
  {
   "cell_type": "code",
   "execution_count": 18,
   "id": "737275ba-89e8-490b-bafe-9f751ca16101",
   "metadata": {
    "tags": []
   },
   "outputs": [
    {
     "name": "stdout",
     "output_type": "stream",
     "text": [
      "(54530, 7)\n"
     ]
    },
    {
     "data": {
      "text/html": [
       "<div>\n",
       "<style scoped>\n",
       "    .dataframe tbody tr th:only-of-type {\n",
       "        vertical-align: middle;\n",
       "    }\n",
       "\n",
       "    .dataframe tbody tr th {\n",
       "        vertical-align: top;\n",
       "    }\n",
       "\n",
       "    .dataframe thead th {\n",
       "        text-align: right;\n",
       "    }\n",
       "</style>\n",
       "<table border=\"1\" class=\"dataframe\">\n",
       "  <thead>\n",
       "    <tr style=\"text-align: right;\">\n",
       "      <th></th>\n",
       "      <th>DLS index</th>\n",
       "      <th>Record Number</th>\n",
       "      <th>Intensity %</th>\n",
       "      <th>Number %</th>\n",
       "      <th>Diameter (nm)</th>\n",
       "      <th>835</th>\n",
       "      <th>Log Diameter</th>\n",
       "    </tr>\n",
       "  </thead>\n",
       "  <tbody>\n",
       "    <tr>\n",
       "      <th>0</th>\n",
       "      <td>1</td>\n",
       "      <td>0</td>\n",
       "      <td>0.0</td>\n",
       "      <td>0.0</td>\n",
       "      <td>0.4</td>\n",
       "      <td>Sizes[1] (d.nm)</td>\n",
       "      <td>-0.39794</td>\n",
       "    </tr>\n",
       "    <tr>\n",
       "      <th>1</th>\n",
       "      <td>1</td>\n",
       "      <td>1</td>\n",
       "      <td>0.0</td>\n",
       "      <td>0.0</td>\n",
       "      <td>0.4</td>\n",
       "      <td>Sizes[1] (d.nm)</td>\n",
       "      <td>-0.39794</td>\n",
       "    </tr>\n",
       "    <tr>\n",
       "      <th>2</th>\n",
       "      <td>1</td>\n",
       "      <td>2</td>\n",
       "      <td>0.0</td>\n",
       "      <td>0.0</td>\n",
       "      <td>0.4</td>\n",
       "      <td>Sizes[1] (d.nm)</td>\n",
       "      <td>-0.39794</td>\n",
       "    </tr>\n",
       "  </tbody>\n",
       "</table>\n",
       "</div>"
      ],
      "text/plain": [
       "   DLS index Record Number Intensity % Number % Diameter (nm)  \\\n",
       "0          1             0         0.0      0.0           0.4   \n",
       "1          1             1         0.0      0.0           0.4   \n",
       "2          1             2         0.0      0.0           0.4   \n",
       "\n",
       "               835  Log Diameter  \n",
       "0  Sizes[1] (d.nm)      -0.39794  \n",
       "1  Sizes[1] (d.nm)      -0.39794  \n",
       "2  Sizes[1] (d.nm)      -0.39794  "
      ]
     },
     "execution_count": 18,
     "metadata": {},
     "output_type": "execute_result"
    }
   ],
   "source": [
    "df_main = df_main.merge(size, left_on=\"DLS index\", right_on=\"DLS index\")\n",
    "print(df_main.shape)\n",
    "df_main.head(3)"
   ]
  },
  {
   "cell_type": "code",
   "execution_count": 19,
   "id": "9d542437-e700-402a-a00b-72e55c446615",
   "metadata": {
    "tags": []
   },
   "outputs": [
    {
     "name": "stdout",
     "output_type": "stream",
     "text": [
      "(54530, 16)\n"
     ]
    },
    {
     "data": {
      "text/html": [
       "<div>\n",
       "<style scoped>\n",
       "    .dataframe tbody tr th:only-of-type {\n",
       "        vertical-align: middle;\n",
       "    }\n",
       "\n",
       "    .dataframe tbody tr th {\n",
       "        vertical-align: top;\n",
       "    }\n",
       "\n",
       "    .dataframe thead th {\n",
       "        text-align: right;\n",
       "    }\n",
       "</style>\n",
       "<table border=\"1\" class=\"dataframe\">\n",
       "  <thead>\n",
       "    <tr style=\"text-align: right;\">\n",
       "      <th></th>\n",
       "      <th>DLS index</th>\n",
       "      <th>Record Number</th>\n",
       "      <th>Intensity %</th>\n",
       "      <th>Number %</th>\n",
       "      <th>Diameter (nm)</th>\n",
       "      <th>835</th>\n",
       "      <th>Log Diameter</th>\n",
       "      <th>Measurement Date and Time</th>\n",
       "      <th>Sample Name</th>\n",
       "      <th>Triplicate</th>\n",
       "      <th>title</th>\n",
       "      <th>time</th>\n",
       "      <th>date</th>\n",
       "      <th>id</th>\n",
       "      <th>start date</th>\n",
       "      <th>days since</th>\n",
       "    </tr>\n",
       "  </thead>\n",
       "  <tbody>\n",
       "    <tr>\n",
       "      <th>0</th>\n",
       "      <td>1</td>\n",
       "      <td>0</td>\n",
       "      <td>0.0</td>\n",
       "      <td>0.0</td>\n",
       "      <td>0.4</td>\n",
       "      <td>Sizes[1] (d.nm)</td>\n",
       "      <td>-0.397940</td>\n",
       "      <td>Monday, January 1, 2000 12:00:00 AM</td>\n",
       "      <td>1X CF-LUV eluted in 1X PBS pH 5.5 1</td>\n",
       "      <td>1</td>\n",
       "      <td>1X CF-LUV eluted in 1X PBS pH 5.5</td>\n",
       "      <td>12:00:00 AM</td>\n",
       "      <td>2000-01-01</td>\n",
       "      <td>0</td>\n",
       "      <td>2000-01-01</td>\n",
       "      <td>0</td>\n",
       "    </tr>\n",
       "    <tr>\n",
       "      <th>1</th>\n",
       "      <td>2</td>\n",
       "      <td>0</td>\n",
       "      <td>0.0</td>\n",
       "      <td>0.0</td>\n",
       "      <td>0.4632</td>\n",
       "      <td>Sizes[2] (d.nm)</td>\n",
       "      <td>-0.334231</td>\n",
       "      <td>Monday, January 1, 2000 12:00:00 AM</td>\n",
       "      <td>1X CF-LUV eluted in 1X PBS pH 5.5 1</td>\n",
       "      <td>1</td>\n",
       "      <td>1X CF-LUV eluted in 1X PBS pH 5.5</td>\n",
       "      <td>12:00:00 AM</td>\n",
       "      <td>2000-01-01</td>\n",
       "      <td>0</td>\n",
       "      <td>2000-01-01</td>\n",
       "      <td>0</td>\n",
       "    </tr>\n",
       "    <tr>\n",
       "      <th>2</th>\n",
       "      <td>3</td>\n",
       "      <td>0</td>\n",
       "      <td>0.0</td>\n",
       "      <td>0.0</td>\n",
       "      <td>0.5365</td>\n",
       "      <td>Sizes[3] (d.nm)</td>\n",
       "      <td>-0.270430</td>\n",
       "      <td>Monday, January 1, 2000 12:00:00 AM</td>\n",
       "      <td>1X CF-LUV eluted in 1X PBS pH 5.5 1</td>\n",
       "      <td>1</td>\n",
       "      <td>1X CF-LUV eluted in 1X PBS pH 5.5</td>\n",
       "      <td>12:00:00 AM</td>\n",
       "      <td>2000-01-01</td>\n",
       "      <td>0</td>\n",
       "      <td>2000-01-01</td>\n",
       "      <td>0</td>\n",
       "    </tr>\n",
       "  </tbody>\n",
       "</table>\n",
       "</div>"
      ],
      "text/plain": [
       "   DLS index Record Number Intensity % Number % Diameter (nm)  \\\n",
       "0          1             0         0.0      0.0           0.4   \n",
       "1          2             0         0.0      0.0        0.4632   \n",
       "2          3             0         0.0      0.0        0.5365   \n",
       "\n",
       "               835  Log Diameter            Measurement Date and Time  \\\n",
       "0  Sizes[1] (d.nm)     -0.397940  Monday, January 1, 2000 12:00:00 AM   \n",
       "1  Sizes[2] (d.nm)     -0.334231  Monday, January 1, 2000 12:00:00 AM   \n",
       "2  Sizes[3] (d.nm)     -0.270430  Monday, January 1, 2000 12:00:00 AM   \n",
       "\n",
       "                           Sample Name Triplicate  \\\n",
       "0  1X CF-LUV eluted in 1X PBS pH 5.5 1          1   \n",
       "1  1X CF-LUV eluted in 1X PBS pH 5.5 1          1   \n",
       "2  1X CF-LUV eluted in 1X PBS pH 5.5 1          1   \n",
       "\n",
       "                               title         time       date  id start date  \\\n",
       "0  1X CF-LUV eluted in 1X PBS pH 5.5  12:00:00 AM 2000-01-01   0 2000-01-01   \n",
       "1  1X CF-LUV eluted in 1X PBS pH 5.5  12:00:00 AM 2000-01-01   0 2000-01-01   \n",
       "2  1X CF-LUV eluted in 1X PBS pH 5.5  12:00:00 AM 2000-01-01   0 2000-01-01   \n",
       "\n",
       "   days since  \n",
       "0           0  \n",
       "1           0  \n",
       "2           0  "
      ]
     },
     "execution_count": 19,
     "metadata": {},
     "output_type": "execute_result"
    }
   ],
   "source": [
    "df_main = df_main.merge(info, left_on=\"Record Number\", right_on=\"Record Number\")\n",
    "print(df_main.shape)\n",
    "df_main.head(3)"
   ]
  },
  {
   "cell_type": "markdown",
   "id": "a532d988-60a8-46ee-a86d-133d22d2f6b0",
   "metadata": {
    "tags": []
   },
   "source": [
    "## Extract LUV/LNP Parameters from Title\n",
    "fluorophore, LUV, LNP, lipid, lipidoid, pH"
   ]
  },
  {
   "cell_type": "code",
   "execution_count": 20,
   "id": "bfbd172c-52bf-4b10-8419-f183bb217336",
   "metadata": {
    "tags": []
   },
   "outputs": [],
   "source": [
    "df_main[\"LUV\"] = df_main[\"title\"].str.count(r'LUV')"
   ]
  },
  {
   "cell_type": "code",
   "execution_count": 21,
   "id": "26715177-5930-428b-8246-e2e0424d426d",
   "metadata": {
    "tags": []
   },
   "outputs": [],
   "source": [
    "df_main[\"LNP\"] = df_main[\"title\"].str.count(r'LNP')"
   ]
  },
  {
   "cell_type": "code",
   "execution_count": 22,
   "id": "1c28d8e1-37f4-4611-aa6a-7ead54c7de29",
   "metadata": {
    "tags": []
   },
   "outputs": [],
   "source": [
    "df_test = df_main[\"title\"].str.findall(r'R18 \\+ CF|R18|CF').explode()\n",
    "df_test = df_test[~df_test.index.duplicated(keep='first')]\n",
    "df_main[\"fluorophore\"] = df_test"
   ]
  },
  {
   "cell_type": "code",
   "execution_count": 24,
   "id": "90aa1f62-6456-45e1-9f0a-5b4dbdd56017",
   "metadata": {
    "tags": []
   },
   "outputs": [
    {
     "data": {
      "text/plain": [
       "Index([                'DLS index',             'Record Number',\n",
       "                     'Intensity %',                  'Number %',\n",
       "                   'Diameter (nm)',                         835,\n",
       "                    'Log Diameter', 'Measurement Date and Time',\n",
       "                     'Sample Name',                'Triplicate',\n",
       "                           'title',                      'time',\n",
       "                            'date',                        'id',\n",
       "                      'start date',                'days since',\n",
       "                             'LUV',                       'LNP',\n",
       "                     'fluorophore'],\n",
       "      dtype='object')"
      ]
     },
     "execution_count": 24,
     "metadata": {},
     "output_type": "execute_result"
    }
   ],
   "source": [
    "df_main.columns"
   ]
  },
  {
   "cell_type": "code",
   "execution_count": 79,
   "id": "15eb1727-d5a4-462b-a16c-98359b264ff1",
   "metadata": {
    "tags": []
   },
   "outputs": [],
   "source": [
    "lipids = df_main[\"title\"].str.findall(r'(POPC)|(POPG)').explode().fillna('POPC')"
   ]
  },
  {
   "cell_type": "code",
   "execution_count": 80,
   "id": "cf1e0f5b-3b64-4adf-b51f-dfaaed2632f3",
   "metadata": {
    "tags": []
   },
   "outputs": [],
   "source": [
    "df_main[\"lipid\"] = lipids.reset_index().drop_duplicates(subset=\"index\").loc[:,\"title\"]"
   ]
  },
  {
   "cell_type": "code",
   "execution_count": 81,
   "id": "e1c64005-5591-4f1e-8b43-03cb749db4a3",
   "metadata": {
    "tags": []
   },
   "outputs": [],
   "source": [
    "df_main[\"lipidoid\"] = df_main[\"title\"].str.findall(r'\\d{3}\\w{1,2}10').explode()"
   ]
  },
  {
   "cell_type": "code",
   "execution_count": 82,
   "id": "ab6cae44-a0fa-4866-9eb0-47cd5bd5e857",
   "metadata": {
    "tags": []
   },
   "outputs": [],
   "source": [
    "df_main[\"pH\"] = df_main[\"title\"].str.findall(r'pH (5.5|7.4)').explode()\n",
    "df_main[\"pH\"] = df_main[\"pH\"].fillna('7.4')"
   ]
  },
  {
   "cell_type": "code",
   "execution_count": 83,
   "id": "c690cd3d-4ee6-415d-b404-02d51444db3f",
   "metadata": {},
   "outputs": [],
   "source": [
    "df_main[\"fluorophore and pH\"] = df_main[\"fluorophore\"] + \" pH \" + df_main[\"pH\"].astype(str)"
   ]
  },
  {
   "cell_type": "code",
   "execution_count": 84,
   "id": "8324828f-aabd-4b6b-bb2c-34cd98568fa0",
   "metadata": {
    "tags": []
   },
   "outputs": [],
   "source": [
    "df_main[\"Triton\"] = df_main[\"title\"].str.count(r'Triton')"
   ]
  },
  {
   "cell_type": "markdown",
   "id": "f846d77b-fa34-499f-90b3-9f926196b308",
   "metadata": {
    "tags": [],
    "toc-hr-collapsed": true
   },
   "source": [
    "# CALCULATIONS"
   ]
  },
  {
   "cell_type": "markdown",
   "id": "c0d4c1d5",
   "metadata": {
    "id": "c0d4c1d5"
   },
   "source": [
    "## Compute Peak Diameter (mode) for each `id` "
   ]
  },
  {
   "cell_type": "code",
   "execution_count": 85,
   "id": "09de615f-b2c0-4dc8-8a6f-2961456b1d2f",
   "metadata": {
    "tags": []
   },
   "outputs": [
    {
     "ename": "TypeError",
     "evalue": "reduction operation 'argmax' not allowed for this dtype",
     "output_type": "error",
     "traceback": [
      "\u001b[0;31m---------------------------------------------------------------------------\u001b[0m",
      "\u001b[0;31mValueError\u001b[0m                                Traceback (most recent call last)",
      "File \u001b[0;32m~/venv/lib/python3.11/site-packages/pandas/core/groupby/generic.py:926\u001b[0m, in \u001b[0;36mDataFrameGroupBy.aggregate\u001b[0;34m(self, func, engine, engine_kwargs, *args, **kwargs)\u001b[0m\n\u001b[1;32m    925\u001b[0m \u001b[38;5;28;01mtry\u001b[39;00m:\n\u001b[0;32m--> 926\u001b[0m     result \u001b[38;5;241m=\u001b[39m \u001b[43mgba\u001b[49m\u001b[38;5;241;43m.\u001b[39;49m\u001b[43magg\u001b[49m\u001b[43m(\u001b[49m\u001b[43m)\u001b[49m\n\u001b[1;32m    928\u001b[0m \u001b[38;5;28;01mexcept\u001b[39;00m \u001b[38;5;167;01mValueError\u001b[39;00m \u001b[38;5;28;01mas\u001b[39;00m err:\n",
      "File \u001b[0;32m~/venv/lib/python3.11/site-packages/pandas/core/apply.py:175\u001b[0m, in \u001b[0;36mApply.agg\u001b[0;34m(self)\u001b[0m\n\u001b[1;32m    173\u001b[0m \u001b[38;5;28;01melif\u001b[39;00m is_list_like(arg):\n\u001b[1;32m    174\u001b[0m     \u001b[38;5;66;03m# we require a list, but not a 'str'\u001b[39;00m\n\u001b[0;32m--> 175\u001b[0m     \u001b[38;5;28;01mreturn\u001b[39;00m \u001b[38;5;28;43mself\u001b[39;49m\u001b[38;5;241;43m.\u001b[39;49m\u001b[43magg_list_like\u001b[49m\u001b[43m(\u001b[49m\u001b[43m)\u001b[49m\n\u001b[1;32m    177\u001b[0m \u001b[38;5;28;01mif\u001b[39;00m callable(arg):\n",
      "File \u001b[0;32m~/venv/lib/python3.11/site-packages/pandas/core/apply.py:438\u001b[0m, in \u001b[0;36mApply.agg_list_like\u001b[0;34m(self)\u001b[0m\n\u001b[1;32m    437\u001b[0m \u001b[38;5;28;01mif\u001b[39;00m \u001b[38;5;129;01mnot\u001b[39;00m \u001b[38;5;28mlen\u001b[39m(results):\n\u001b[0;32m--> 438\u001b[0m     \u001b[38;5;28;01mraise\u001b[39;00m \u001b[38;5;167;01mValueError\u001b[39;00m(\u001b[38;5;124m\"\u001b[39m\u001b[38;5;124mno results\u001b[39m\u001b[38;5;124m\"\u001b[39m)\n\u001b[1;32m    440\u001b[0m \u001b[38;5;28;01mif\u001b[39;00m \u001b[38;5;28mlen\u001b[39m(failed_names) \u001b[38;5;241m>\u001b[39m \u001b[38;5;241m0\u001b[39m:\n",
      "\u001b[0;31mValueError\u001b[0m: no results",
      "\nDuring handling of the above exception, another exception occurred:\n",
      "\u001b[0;31mTypeError\u001b[0m                                 Traceback (most recent call last)",
      "Cell \u001b[0;32mIn[85], line 2\u001b[0m\n\u001b[1;32m      1\u001b[0m \u001b[38;5;66;03m# aggfunc finds the index of the maximum value for intensity and number columns, then uses index to find the diameter at which the max is found\u001b[39;00m\n\u001b[0;32m----> 2\u001b[0m df_pivot \u001b[38;5;241m=\u001b[39m \u001b[43mpd\u001b[49m\u001b[38;5;241;43m.\u001b[39;49m\u001b[43mpivot_table\u001b[49m\u001b[43m(\u001b[49m\u001b[43mdata\u001b[49m\u001b[38;5;241;43m=\u001b[39;49m\u001b[43mdf_main\u001b[49m\u001b[43m,\u001b[49m\n\u001b[1;32m      3\u001b[0m \u001b[43m               \u001b[49m\u001b[43mindex\u001b[49m\u001b[38;5;241;43m=\u001b[39;49m\u001b[38;5;124;43m'\u001b[39;49m\u001b[38;5;124;43mid\u001b[39;49m\u001b[38;5;124;43m'\u001b[39;49m\u001b[43m,\u001b[49m\n\u001b[1;32m      4\u001b[0m \u001b[43m               \u001b[49m\u001b[43mvalues\u001b[49m\u001b[43m \u001b[49m\u001b[38;5;241;43m=\u001b[39;49m\u001b[43m \u001b[49m\u001b[43m[\u001b[49m\u001b[38;5;124;43m\"\u001b[39;49m\u001b[38;5;124;43mIntensity \u001b[39;49m\u001b[38;5;124;43m%\u001b[39;49m\u001b[38;5;124;43m\"\u001b[39;49m\u001b[43m,\u001b[49m\u001b[38;5;124;43m\"\u001b[39;49m\u001b[38;5;124;43mNumber \u001b[39;49m\u001b[38;5;124;43m%\u001b[39;49m\u001b[38;5;124;43m\"\u001b[39;49m\u001b[43m]\u001b[49m\u001b[43m,\u001b[49m\n\u001b[1;32m      5\u001b[0m \u001b[43m               \u001b[49m\u001b[43maggfunc\u001b[49m\u001b[43m \u001b[49m\u001b[38;5;241;43m=\u001b[39;49m\u001b[43m \u001b[49m\u001b[43m[\u001b[49m\u001b[38;5;28;43;01mlambda\u001b[39;49;00m\u001b[43m \u001b[49m\u001b[43mx\u001b[49m\u001b[43m:\u001b[49m\u001b[43m \u001b[49m\u001b[43mdf_main\u001b[49m\u001b[38;5;241;43m.\u001b[39;49m\u001b[43mloc\u001b[49m\u001b[43m[\u001b[49m\u001b[43mx\u001b[49m\u001b[38;5;241;43m.\u001b[39;49m\u001b[43midxmax\u001b[49m\u001b[43m(\u001b[49m\u001b[38;5;241;43m0\u001b[39;49m\u001b[43m)\u001b[49m\u001b[43m,\u001b[49m\u001b[38;5;124;43m\"\u001b[39;49m\u001b[38;5;124;43mDiameter (nm)\u001b[39;49m\u001b[38;5;124;43m\"\u001b[39;49m\u001b[43m]\u001b[49m\u001b[43m]\u001b[49m\n\u001b[1;32m      6\u001b[0m \u001b[43m              \u001b[49m\u001b[43m)\u001b[49m\n",
      "File \u001b[0;32m~/venv/lib/python3.11/site-packages/pandas/core/reshape/pivot.py:78\u001b[0m, in \u001b[0;36mpivot_table\u001b[0;34m(data, values, index, columns, aggfunc, fill_value, margins, dropna, margins_name, observed, sort)\u001b[0m\n\u001b[1;32m     76\u001b[0m keys \u001b[38;5;241m=\u001b[39m []\n\u001b[1;32m     77\u001b[0m \u001b[38;5;28;01mfor\u001b[39;00m func \u001b[38;5;129;01min\u001b[39;00m aggfunc:\n\u001b[0;32m---> 78\u001b[0m     _table \u001b[38;5;241m=\u001b[39m \u001b[43m__internal_pivot_table\u001b[49m\u001b[43m(\u001b[49m\n\u001b[1;32m     79\u001b[0m \u001b[43m        \u001b[49m\u001b[43mdata\u001b[49m\u001b[43m,\u001b[49m\n\u001b[1;32m     80\u001b[0m \u001b[43m        \u001b[49m\u001b[43mvalues\u001b[49m\u001b[38;5;241;43m=\u001b[39;49m\u001b[43mvalues\u001b[49m\u001b[43m,\u001b[49m\n\u001b[1;32m     81\u001b[0m \u001b[43m        \u001b[49m\u001b[43mindex\u001b[49m\u001b[38;5;241;43m=\u001b[39;49m\u001b[43mindex\u001b[49m\u001b[43m,\u001b[49m\n\u001b[1;32m     82\u001b[0m \u001b[43m        \u001b[49m\u001b[43mcolumns\u001b[49m\u001b[38;5;241;43m=\u001b[39;49m\u001b[43mcolumns\u001b[49m\u001b[43m,\u001b[49m\n\u001b[1;32m     83\u001b[0m \u001b[43m        \u001b[49m\u001b[43mfill_value\u001b[49m\u001b[38;5;241;43m=\u001b[39;49m\u001b[43mfill_value\u001b[49m\u001b[43m,\u001b[49m\n\u001b[1;32m     84\u001b[0m \u001b[43m        \u001b[49m\u001b[43maggfunc\u001b[49m\u001b[38;5;241;43m=\u001b[39;49m\u001b[43mfunc\u001b[49m\u001b[43m,\u001b[49m\n\u001b[1;32m     85\u001b[0m \u001b[43m        \u001b[49m\u001b[43mmargins\u001b[49m\u001b[38;5;241;43m=\u001b[39;49m\u001b[43mmargins\u001b[49m\u001b[43m,\u001b[49m\n\u001b[1;32m     86\u001b[0m \u001b[43m        \u001b[49m\u001b[43mdropna\u001b[49m\u001b[38;5;241;43m=\u001b[39;49m\u001b[43mdropna\u001b[49m\u001b[43m,\u001b[49m\n\u001b[1;32m     87\u001b[0m \u001b[43m        \u001b[49m\u001b[43mmargins_name\u001b[49m\u001b[38;5;241;43m=\u001b[39;49m\u001b[43mmargins_name\u001b[49m\u001b[43m,\u001b[49m\n\u001b[1;32m     88\u001b[0m \u001b[43m        \u001b[49m\u001b[43mobserved\u001b[49m\u001b[38;5;241;43m=\u001b[39;49m\u001b[43mobserved\u001b[49m\u001b[43m,\u001b[49m\n\u001b[1;32m     89\u001b[0m \u001b[43m        \u001b[49m\u001b[43msort\u001b[49m\u001b[38;5;241;43m=\u001b[39;49m\u001b[43msort\u001b[49m\u001b[43m,\u001b[49m\n\u001b[1;32m     90\u001b[0m \u001b[43m    \u001b[49m\u001b[43m)\u001b[49m\n\u001b[1;32m     91\u001b[0m     pieces\u001b[38;5;241m.\u001b[39mappend(_table)\n\u001b[1;32m     92\u001b[0m     keys\u001b[38;5;241m.\u001b[39mappend(\u001b[38;5;28mgetattr\u001b[39m(func, \u001b[38;5;124m\"\u001b[39m\u001b[38;5;124m__name__\u001b[39m\u001b[38;5;124m\"\u001b[39m, func))\n",
      "File \u001b[0;32m~/venv/lib/python3.11/site-packages/pandas/core/reshape/pivot.py:177\u001b[0m, in \u001b[0;36m__internal_pivot_table\u001b[0;34m(data, values, index, columns, aggfunc, fill_value, margins, dropna, margins_name, observed, sort)\u001b[0m\n\u001b[1;32m    167\u001b[0m msg \u001b[38;5;241m=\u001b[39m (\n\u001b[1;32m    168\u001b[0m     \u001b[38;5;124m\"\u001b[39m\u001b[38;5;124mpivot_table dropped a column because it failed to aggregate. This behavior \u001b[39m\u001b[38;5;124m\"\u001b[39m\n\u001b[1;32m    169\u001b[0m     \u001b[38;5;124m\"\u001b[39m\u001b[38;5;124mis deprecated and will raise in a future version of pandas. Select only the \u001b[39m\u001b[38;5;124m\"\u001b[39m\n\u001b[1;32m    170\u001b[0m     \u001b[38;5;124m\"\u001b[39m\u001b[38;5;124mcolumns that can be aggregated.\u001b[39m\u001b[38;5;124m\"\u001b[39m\n\u001b[1;32m    171\u001b[0m )\n\u001b[1;32m    172\u001b[0m \u001b[38;5;28;01mwith\u001b[39;00m rewrite_warning(\n\u001b[1;32m    173\u001b[0m     target_message\u001b[38;5;241m=\u001b[39m\u001b[38;5;124m\"\u001b[39m\u001b[38;5;124mThe default value of numeric_only\u001b[39m\u001b[38;5;124m\"\u001b[39m,\n\u001b[1;32m    174\u001b[0m     target_category\u001b[38;5;241m=\u001b[39m\u001b[38;5;167;01mFutureWarning\u001b[39;00m,\n\u001b[1;32m    175\u001b[0m     new_message\u001b[38;5;241m=\u001b[39mmsg,\n\u001b[1;32m    176\u001b[0m ):\n\u001b[0;32m--> 177\u001b[0m     agged \u001b[38;5;241m=\u001b[39m \u001b[43mgrouped\u001b[49m\u001b[38;5;241;43m.\u001b[39;49m\u001b[43magg\u001b[49m\u001b[43m(\u001b[49m\u001b[43maggfunc\u001b[49m\u001b[43m)\u001b[49m\n\u001b[1;32m    179\u001b[0m \u001b[38;5;28;01mif\u001b[39;00m dropna \u001b[38;5;129;01mand\u001b[39;00m \u001b[38;5;28misinstance\u001b[39m(agged, ABCDataFrame) \u001b[38;5;129;01mand\u001b[39;00m \u001b[38;5;28mlen\u001b[39m(agged\u001b[38;5;241m.\u001b[39mcolumns):\n\u001b[1;32m    180\u001b[0m     agged \u001b[38;5;241m=\u001b[39m agged\u001b[38;5;241m.\u001b[39mdropna(how\u001b[38;5;241m=\u001b[39m\u001b[38;5;124m\"\u001b[39m\u001b[38;5;124mall\u001b[39m\u001b[38;5;124m\"\u001b[39m)\n",
      "File \u001b[0;32m~/venv/lib/python3.11/site-packages/pandas/core/groupby/generic.py:932\u001b[0m, in \u001b[0;36mDataFrameGroupBy.aggregate\u001b[0;34m(self, func, engine, engine_kwargs, *args, **kwargs)\u001b[0m\n\u001b[1;32m    929\u001b[0m     \u001b[38;5;28;01mif\u001b[39;00m \u001b[38;5;124m\"\u001b[39m\u001b[38;5;124mno results\u001b[39m\u001b[38;5;124m\"\u001b[39m \u001b[38;5;129;01mnot\u001b[39;00m \u001b[38;5;129;01min\u001b[39;00m \u001b[38;5;28mstr\u001b[39m(err):\n\u001b[1;32m    930\u001b[0m         \u001b[38;5;66;03m# raised directly by _aggregate_multiple_funcs\u001b[39;00m\n\u001b[1;32m    931\u001b[0m         \u001b[38;5;28;01mraise\u001b[39;00m\n\u001b[0;32m--> 932\u001b[0m     result \u001b[38;5;241m=\u001b[39m \u001b[38;5;28;43mself\u001b[39;49m\u001b[38;5;241;43m.\u001b[39;49m\u001b[43m_aggregate_frame\u001b[49m\u001b[43m(\u001b[49m\u001b[43mfunc\u001b[49m\u001b[43m)\u001b[49m\n\u001b[1;32m    934\u001b[0m \u001b[38;5;28;01melse\u001b[39;00m:\n\u001b[1;32m    935\u001b[0m     sobj \u001b[38;5;241m=\u001b[39m \u001b[38;5;28mself\u001b[39m\u001b[38;5;241m.\u001b[39m_selected_obj\n",
      "File \u001b[0;32m~/venv/lib/python3.11/site-packages/pandas/core/groupby/generic.py:982\u001b[0m, in \u001b[0;36mDataFrameGroupBy._aggregate_frame\u001b[0;34m(self, func, *args, **kwargs)\u001b[0m\n\u001b[1;32m    979\u001b[0m \u001b[38;5;28;01mif\u001b[39;00m \u001b[38;5;28mself\u001b[39m\u001b[38;5;241m.\u001b[39maxis \u001b[38;5;241m==\u001b[39m \u001b[38;5;241m0\u001b[39m:\n\u001b[1;32m    980\u001b[0m     \u001b[38;5;66;03m# test_pass_args_kwargs_duplicate_columns gets here with non-unique columns\u001b[39;00m\n\u001b[1;32m    981\u001b[0m     \u001b[38;5;28;01mfor\u001b[39;00m name, data \u001b[38;5;129;01min\u001b[39;00m \u001b[38;5;28mself\u001b[39m\u001b[38;5;241m.\u001b[39mgrouper\u001b[38;5;241m.\u001b[39mget_iterator(obj, \u001b[38;5;28mself\u001b[39m\u001b[38;5;241m.\u001b[39maxis):\n\u001b[0;32m--> 982\u001b[0m         fres \u001b[38;5;241m=\u001b[39m \u001b[43mfunc\u001b[49m\u001b[43m(\u001b[49m\u001b[43mdata\u001b[49m\u001b[43m,\u001b[49m\u001b[43m \u001b[49m\u001b[38;5;241;43m*\u001b[39;49m\u001b[43margs\u001b[49m\u001b[43m,\u001b[49m\u001b[43m \u001b[49m\u001b[38;5;241;43m*\u001b[39;49m\u001b[38;5;241;43m*\u001b[39;49m\u001b[43mkwargs\u001b[49m\u001b[43m)\u001b[49m\n\u001b[1;32m    983\u001b[0m         result[name] \u001b[38;5;241m=\u001b[39m fres\n\u001b[1;32m    984\u001b[0m \u001b[38;5;28;01melse\u001b[39;00m:\n\u001b[1;32m    985\u001b[0m     \u001b[38;5;66;03m# we get here in a number of test_multilevel tests\u001b[39;00m\n",
      "Cell \u001b[0;32mIn[85], line 5\u001b[0m, in \u001b[0;36m<lambda>\u001b[0;34m(x)\u001b[0m\n\u001b[1;32m      1\u001b[0m \u001b[38;5;66;03m# aggfunc finds the index of the maximum value for intensity and number columns, then uses index to find the diameter at which the max is found\u001b[39;00m\n\u001b[1;32m      2\u001b[0m df_pivot \u001b[38;5;241m=\u001b[39m pd\u001b[38;5;241m.\u001b[39mpivot_table(data\u001b[38;5;241m=\u001b[39mdf_main,\n\u001b[1;32m      3\u001b[0m                index\u001b[38;5;241m=\u001b[39m\u001b[38;5;124m'\u001b[39m\u001b[38;5;124mid\u001b[39m\u001b[38;5;124m'\u001b[39m,\n\u001b[1;32m      4\u001b[0m                values \u001b[38;5;241m=\u001b[39m [\u001b[38;5;124m\"\u001b[39m\u001b[38;5;124mIntensity \u001b[39m\u001b[38;5;124m%\u001b[39m\u001b[38;5;124m\"\u001b[39m,\u001b[38;5;124m\"\u001b[39m\u001b[38;5;124mNumber \u001b[39m\u001b[38;5;124m%\u001b[39m\u001b[38;5;124m\"\u001b[39m],\n\u001b[0;32m----> 5\u001b[0m                aggfunc \u001b[38;5;241m=\u001b[39m [\u001b[38;5;28;01mlambda\u001b[39;00m x: df_main\u001b[38;5;241m.\u001b[39mloc[\u001b[43mx\u001b[49m\u001b[38;5;241;43m.\u001b[39;49m\u001b[43midxmax\u001b[49m\u001b[43m(\u001b[49m\u001b[38;5;241;43m0\u001b[39;49m\u001b[43m)\u001b[49m,\u001b[38;5;124m\"\u001b[39m\u001b[38;5;124mDiameter (nm)\u001b[39m\u001b[38;5;124m\"\u001b[39m]]\n\u001b[1;32m      6\u001b[0m               )\n",
      "File \u001b[0;32m~/venv/lib/python3.11/site-packages/pandas/core/frame.py:11021\u001b[0m, in \u001b[0;36mDataFrame.idxmax\u001b[0;34m(self, axis, skipna, numeric_only)\u001b[0m\n\u001b[1;32m  11018\u001b[0m \u001b[38;5;28;01melse\u001b[39;00m:\n\u001b[1;32m  11019\u001b[0m     data \u001b[38;5;241m=\u001b[39m \u001b[38;5;28mself\u001b[39m\n\u001b[0;32m> 11021\u001b[0m res \u001b[38;5;241m=\u001b[39m \u001b[43mdata\u001b[49m\u001b[38;5;241;43m.\u001b[39;49m\u001b[43m_reduce\u001b[49m\u001b[43m(\u001b[49m\n\u001b[1;32m  11022\u001b[0m \u001b[43m    \u001b[49m\u001b[43mnanops\u001b[49m\u001b[38;5;241;43m.\u001b[39;49m\u001b[43mnanargmax\u001b[49m\u001b[43m,\u001b[49m\u001b[43m \u001b[49m\u001b[38;5;124;43m\"\u001b[39;49m\u001b[38;5;124;43margmax\u001b[39;49m\u001b[38;5;124;43m\"\u001b[39;49m\u001b[43m,\u001b[49m\u001b[43m \u001b[49m\u001b[43maxis\u001b[49m\u001b[38;5;241;43m=\u001b[39;49m\u001b[43maxis\u001b[49m\u001b[43m,\u001b[49m\u001b[43m \u001b[49m\u001b[43mskipna\u001b[49m\u001b[38;5;241;43m=\u001b[39;49m\u001b[43mskipna\u001b[49m\u001b[43m,\u001b[49m\u001b[43m \u001b[49m\u001b[43mnumeric_only\u001b[49m\u001b[38;5;241;43m=\u001b[39;49m\u001b[38;5;28;43;01mFalse\u001b[39;49;00m\n\u001b[1;32m  11023\u001b[0m \u001b[43m\u001b[49m\u001b[43m)\u001b[49m\n\u001b[1;32m  11024\u001b[0m indices \u001b[38;5;241m=\u001b[39m res\u001b[38;5;241m.\u001b[39m_values\n\u001b[1;32m  11026\u001b[0m \u001b[38;5;66;03m# indices will always be np.ndarray since axis is not None and\u001b[39;00m\n\u001b[1;32m  11027\u001b[0m \u001b[38;5;66;03m# values is a 2d array for DataFrame\u001b[39;00m\n\u001b[1;32m  11028\u001b[0m \u001b[38;5;66;03m# error: Item \"int\" of \"Union[int, Any]\" has no attribute \"__iter__\"\u001b[39;00m\n",
      "File \u001b[0;32m~/venv/lib/python3.11/site-packages/pandas/core/frame.py:10856\u001b[0m, in \u001b[0;36mDataFrame._reduce\u001b[0;34m(self, op, name, axis, skipna, numeric_only, filter_type, **kwds)\u001b[0m\n\u001b[1;32m  10852\u001b[0m ignore_failures \u001b[38;5;241m=\u001b[39m numeric_only \u001b[38;5;129;01mis\u001b[39;00m \u001b[38;5;28;01mNone\u001b[39;00m\n\u001b[1;32m  10854\u001b[0m \u001b[38;5;66;03m# After possibly _get_data and transposing, we are now in the\u001b[39;00m\n\u001b[1;32m  10855\u001b[0m \u001b[38;5;66;03m#  simple case where we can use BlockManager.reduce\u001b[39;00m\n\u001b[0;32m> 10856\u001b[0m res, _ \u001b[38;5;241m=\u001b[39m \u001b[43mdf\u001b[49m\u001b[38;5;241;43m.\u001b[39;49m\u001b[43m_mgr\u001b[49m\u001b[38;5;241;43m.\u001b[39;49m\u001b[43mreduce\u001b[49m\u001b[43m(\u001b[49m\u001b[43mblk_func\u001b[49m\u001b[43m,\u001b[49m\u001b[43m \u001b[49m\u001b[43mignore_failures\u001b[49m\u001b[38;5;241;43m=\u001b[39;49m\u001b[43mignore_failures\u001b[49m\u001b[43m)\u001b[49m\n\u001b[1;32m  10857\u001b[0m out \u001b[38;5;241m=\u001b[39m df\u001b[38;5;241m.\u001b[39m_constructor(res)\u001b[38;5;241m.\u001b[39miloc[\u001b[38;5;241m0\u001b[39m]\n\u001b[1;32m  10858\u001b[0m \u001b[38;5;28;01mif\u001b[39;00m out_dtype \u001b[38;5;129;01mis\u001b[39;00m \u001b[38;5;129;01mnot\u001b[39;00m \u001b[38;5;28;01mNone\u001b[39;00m:\n",
      "File \u001b[0;32m~/venv/lib/python3.11/site-packages/pandas/core/internals/managers.py:1569\u001b[0m, in \u001b[0;36mBlockManager.reduce\u001b[0;34m(self, func, ignore_failures)\u001b[0m\n\u001b[1;32m   1567\u001b[0m res_blocks: \u001b[38;5;28mlist\u001b[39m[Block] \u001b[38;5;241m=\u001b[39m []\n\u001b[1;32m   1568\u001b[0m \u001b[38;5;28;01mfor\u001b[39;00m blk \u001b[38;5;129;01min\u001b[39;00m \u001b[38;5;28mself\u001b[39m\u001b[38;5;241m.\u001b[39mblocks:\n\u001b[0;32m-> 1569\u001b[0m     nbs \u001b[38;5;241m=\u001b[39m \u001b[43mblk\u001b[49m\u001b[38;5;241;43m.\u001b[39;49m\u001b[43mreduce\u001b[49m\u001b[43m(\u001b[49m\u001b[43mfunc\u001b[49m\u001b[43m,\u001b[49m\u001b[43m \u001b[49m\u001b[43mignore_failures\u001b[49m\u001b[43m)\u001b[49m\n\u001b[1;32m   1570\u001b[0m     res_blocks\u001b[38;5;241m.\u001b[39mextend(nbs)\n\u001b[1;32m   1572\u001b[0m index \u001b[38;5;241m=\u001b[39m Index([\u001b[38;5;28;01mNone\u001b[39;00m])  \u001b[38;5;66;03m# placeholder\u001b[39;00m\n",
      "File \u001b[0;32m~/venv/lib/python3.11/site-packages/pandas/core/internals/blocks.py:136\u001b[0m, in \u001b[0;36mmaybe_split.<locals>.newfunc\u001b[0;34m(self, *args, **kwargs)\u001b[0m\n\u001b[1;32m    133\u001b[0m     \u001b[38;5;28;01mreturn\u001b[39;00m meth(\u001b[38;5;28mself\u001b[39m, \u001b[38;5;241m*\u001b[39margs, \u001b[38;5;241m*\u001b[39m\u001b[38;5;241m*\u001b[39mkwargs)\n\u001b[1;32m    134\u001b[0m \u001b[38;5;28;01melse\u001b[39;00m:\n\u001b[1;32m    135\u001b[0m     \u001b[38;5;66;03m# Split and operate column-by-column\u001b[39;00m\n\u001b[0;32m--> 136\u001b[0m     \u001b[38;5;28;01mreturn\u001b[39;00m \u001b[38;5;28;43mself\u001b[39;49m\u001b[38;5;241;43m.\u001b[39;49m\u001b[43msplit_and_operate\u001b[49m\u001b[43m(\u001b[49m\u001b[43mmeth\u001b[49m\u001b[43m,\u001b[49m\u001b[43m \u001b[49m\u001b[38;5;241;43m*\u001b[39;49m\u001b[43margs\u001b[49m\u001b[43m,\u001b[49m\u001b[43m \u001b[49m\u001b[38;5;241;43m*\u001b[39;49m\u001b[38;5;241;43m*\u001b[39;49m\u001b[43mkwargs\u001b[49m\u001b[43m)\u001b[49m\n",
      "File \u001b[0;32m~/venv/lib/python3.11/site-packages/pandas/core/internals/blocks.py:432\u001b[0m, in \u001b[0;36mBlock.split_and_operate\u001b[0;34m(self, func, *args, **kwargs)\u001b[0m\n\u001b[1;32m    430\u001b[0m res_blocks \u001b[38;5;241m=\u001b[39m []\n\u001b[1;32m    431\u001b[0m \u001b[38;5;28;01mfor\u001b[39;00m nb \u001b[38;5;129;01min\u001b[39;00m \u001b[38;5;28mself\u001b[39m\u001b[38;5;241m.\u001b[39m_split():\n\u001b[0;32m--> 432\u001b[0m     rbs \u001b[38;5;241m=\u001b[39m \u001b[43mfunc\u001b[49m\u001b[43m(\u001b[49m\u001b[43mnb\u001b[49m\u001b[43m,\u001b[49m\u001b[43m \u001b[49m\u001b[38;5;241;43m*\u001b[39;49m\u001b[43margs\u001b[49m\u001b[43m,\u001b[49m\u001b[43m \u001b[49m\u001b[38;5;241;43m*\u001b[39;49m\u001b[38;5;241;43m*\u001b[39;49m\u001b[43mkwargs\u001b[49m\u001b[43m)\u001b[49m\n\u001b[1;32m    433\u001b[0m     res_blocks\u001b[38;5;241m.\u001b[39mextend(rbs)\n\u001b[1;32m    434\u001b[0m \u001b[38;5;28;01mreturn\u001b[39;00m res_blocks\n",
      "File \u001b[0;32m~/venv/lib/python3.11/site-packages/pandas/core/internals/blocks.py:2036\u001b[0m, in \u001b[0;36mObjectBlock.reduce\u001b[0;34m(self, func, ignore_failures)\u001b[0m\n\u001b[1;32m   2033\u001b[0m \u001b[38;5;28;01massert\u001b[39;00m \u001b[38;5;28mself\u001b[39m\u001b[38;5;241m.\u001b[39mndim \u001b[38;5;241m==\u001b[39m \u001b[38;5;241m2\u001b[39m\n\u001b[1;32m   2035\u001b[0m \u001b[38;5;28;01mtry\u001b[39;00m:\n\u001b[0;32m-> 2036\u001b[0m     res \u001b[38;5;241m=\u001b[39m \u001b[43mfunc\u001b[49m\u001b[43m(\u001b[49m\u001b[38;5;28;43mself\u001b[39;49m\u001b[38;5;241;43m.\u001b[39;49m\u001b[43mvalues\u001b[49m\u001b[43m)\u001b[49m\n\u001b[1;32m   2037\u001b[0m \u001b[38;5;28;01mexcept\u001b[39;00m \u001b[38;5;167;01mTypeError\u001b[39;00m:\n\u001b[1;32m   2038\u001b[0m     \u001b[38;5;28;01mif\u001b[39;00m \u001b[38;5;129;01mnot\u001b[39;00m ignore_failures:\n",
      "File \u001b[0;32m~/venv/lib/python3.11/site-packages/pandas/core/frame.py:10827\u001b[0m, in \u001b[0;36mDataFrame._reduce.<locals>.blk_func\u001b[0;34m(values, axis)\u001b[0m\n\u001b[1;32m  10825\u001b[0m     \u001b[38;5;28;01mreturn\u001b[39;00m values\u001b[38;5;241m.\u001b[39m_reduce(name, skipna\u001b[38;5;241m=\u001b[39mskipna, \u001b[38;5;241m*\u001b[39m\u001b[38;5;241m*\u001b[39mkwds)\n\u001b[1;32m  10826\u001b[0m \u001b[38;5;28;01melse\u001b[39;00m:\n\u001b[0;32m> 10827\u001b[0m     \u001b[38;5;28;01mreturn\u001b[39;00m \u001b[43mop\u001b[49m\u001b[43m(\u001b[49m\u001b[43mvalues\u001b[49m\u001b[43m,\u001b[49m\u001b[43m \u001b[49m\u001b[43maxis\u001b[49m\u001b[38;5;241;43m=\u001b[39;49m\u001b[43maxis\u001b[49m\u001b[43m,\u001b[49m\u001b[43m \u001b[49m\u001b[43mskipna\u001b[49m\u001b[38;5;241;43m=\u001b[39;49m\u001b[43mskipna\u001b[49m\u001b[43m,\u001b[49m\u001b[43m \u001b[49m\u001b[38;5;241;43m*\u001b[39;49m\u001b[38;5;241;43m*\u001b[39;49m\u001b[43mkwds\u001b[49m\u001b[43m)\u001b[49m\n",
      "File \u001b[0;32m~/venv/lib/python3.11/site-packages/pandas/core/nanops.py:88\u001b[0m, in \u001b[0;36mdisallow.__call__.<locals>._f\u001b[0;34m(*args, **kwargs)\u001b[0m\n\u001b[1;32m     86\u001b[0m \u001b[38;5;28;01mif\u001b[39;00m \u001b[38;5;28many\u001b[39m(\u001b[38;5;28mself\u001b[39m\u001b[38;5;241m.\u001b[39mcheck(obj) \u001b[38;5;28;01mfor\u001b[39;00m obj \u001b[38;5;129;01min\u001b[39;00m obj_iter):\n\u001b[1;32m     87\u001b[0m     f_name \u001b[38;5;241m=\u001b[39m f\u001b[38;5;241m.\u001b[39m\u001b[38;5;18m__name__\u001b[39m\u001b[38;5;241m.\u001b[39mreplace(\u001b[38;5;124m\"\u001b[39m\u001b[38;5;124mnan\u001b[39m\u001b[38;5;124m\"\u001b[39m, \u001b[38;5;124m\"\u001b[39m\u001b[38;5;124m\"\u001b[39m)\n\u001b[0;32m---> 88\u001b[0m     \u001b[38;5;28;01mraise\u001b[39;00m \u001b[38;5;167;01mTypeError\u001b[39;00m(\n\u001b[1;32m     89\u001b[0m         \u001b[38;5;124mf\u001b[39m\u001b[38;5;124m\"\u001b[39m\u001b[38;5;124mreduction operation \u001b[39m\u001b[38;5;124m'\u001b[39m\u001b[38;5;132;01m{\u001b[39;00mf_name\u001b[38;5;132;01m}\u001b[39;00m\u001b[38;5;124m'\u001b[39m\u001b[38;5;124m not allowed for this dtype\u001b[39m\u001b[38;5;124m\"\u001b[39m\n\u001b[1;32m     90\u001b[0m     )\n\u001b[1;32m     91\u001b[0m \u001b[38;5;28;01mtry\u001b[39;00m:\n\u001b[1;32m     92\u001b[0m     \u001b[38;5;28;01mwith\u001b[39;00m np\u001b[38;5;241m.\u001b[39merrstate(invalid\u001b[38;5;241m=\u001b[39m\u001b[38;5;124m\"\u001b[39m\u001b[38;5;124mignore\u001b[39m\u001b[38;5;124m\"\u001b[39m):\n",
      "\u001b[0;31mTypeError\u001b[0m: reduction operation 'argmax' not allowed for this dtype"
     ]
    }
   ],
   "source": [
    "# aggfunc finds the index of the maximum value for intensity and number columns, then uses index to find the diameter at which the max is found\n",
    "df_pivot = pd.pivot_table(data=df_main,\n",
    "               index='id',\n",
    "               values = [\"Intensity %\",\"Number %\"],\n",
    "               aggfunc = [lambda x: df_main.loc[x.idxmax(0),\"Diameter (nm)\"]]\n",
    "              )"
   ]
  },
  {
   "cell_type": "code",
   "execution_count": null,
   "id": "26d16232-c171-46ff-9752-60dfdade3aa6",
   "metadata": {
    "tags": []
   },
   "outputs": [],
   "source": [
    "# format column names\n",
    "df_pivot.columns = [\"Peak Diameter by \" + a[1] for a in df_pivot.columns.to_flat_index()]\n",
    "\n",
    "df_pivot"
   ]
  },
  {
   "cell_type": "code",
   "execution_count": null,
   "id": "be56f101-8004-40fe-b7f0-fa0adcfed72a",
   "metadata": {
    "tags": []
   },
   "outputs": [],
   "source": [
    "# merge back in to df_main\n",
    "df_main = df_main.merge(df_pivot, left_on=\"id\", right_on=\"id\")\n",
    "df_main"
   ]
  },
  {
   "cell_type": "code",
   "execution_count": null,
   "id": "10b301ef-845a-432a-b972-45b85c6f0f35",
   "metadata": {
    "tags": []
   },
   "outputs": [],
   "source": [
    "fig, ax = plt.subplots(2, sharex=True)\n",
    "\n",
    "# plot peak diameter by intensity\n",
    "sns.barplot(data=df_main,\n",
    "            x=\"lipidoid\",\n",
    "            y=\"Peak Diameter by Intensity %\",\n",
    "            hue=\"pH\",\n",
    "           ax=ax[0])\n",
    "\n",
    "ax[0].set_ylabel('Peak Diameter (nm) \\n by Intensity %')\n",
    "ax[0].legend(loc='center left', bbox_to_anchor=(1, 0.5), title=\"days old\")\n",
    "\n",
    "# plot peak diameter by number\n",
    "sns.barplot(data=df_main,\n",
    "            x=\"lipidoid\",\n",
    "            y=\"Peak Diameter by Number %\",\n",
    "            hue=\"pH\",\n",
    "            ax=ax[1])\n",
    "\n",
    "ax[1].set_ylabel('Peak Diameter (nm) \\n by Number %')\n",
    "ax[1].legend(loc='center left', bbox_to_anchor=(1, 0.5))\n",
    "\n",
    "plt.xticks(rotation = 45)\n",
    "\n",
    "plt.tight_layout()"
   ]
  },
  {
   "cell_type": "markdown",
   "id": "58613a4f-9c7f-4a73-be4e-25c79f21573c",
   "metadata": {},
   "source": [
    "## Compute weighted average intensity and number"
   ]
  },
  {
   "cell_type": "code",
   "execution_count": 86,
   "id": "40b6a869-42a0-40e2-aeff-a70426f39c1c",
   "metadata": {
    "tags": []
   },
   "outputs": [
    {
     "data": {
      "text/plain": [
       "Index([                'DLS index',             'Record Number',\n",
       "                     'Intensity %',                  'Number %',\n",
       "                   'Diameter (nm)',                         835,\n",
       "                    'Log Diameter', 'Measurement Date and Time',\n",
       "                     'Sample Name',                'Triplicate',\n",
       "                           'title',                      'time',\n",
       "                            'date',                        'id',\n",
       "                      'start date',                'days since',\n",
       "                             'LUV',                       'LNP',\n",
       "                     'fluorophore',                  'lipidoid',\n",
       "                              'pH',        'fluorophore and pH',\n",
       "                          'Triton',                     'lipid'],\n",
       "      dtype='object')"
      ]
     },
     "execution_count": 86,
     "metadata": {},
     "output_type": "execute_result"
    }
   ],
   "source": [
    "df_main.columns"
   ]
  },
  {
   "cell_type": "code",
   "execution_count": 87,
   "id": "2ed1df24-7af2-4b3c-a1ff-cabfbefbd31a",
   "metadata": {
    "tags": []
   },
   "outputs": [
    {
     "name": "stderr",
     "output_type": "stream",
     "text": [
      "/var/folders/hw/0c_7gpv502zb91jv54cs9tmc0000gn/T/ipykernel_56054/1307512396.py:6: FutureWarning: Dropping of nuisance columns in DataFrame reductions (with 'numeric_only=None') is deprecated; in a future version this will raise TypeError.  Select only valid columns before calling the reduction.\n",
      "  rn_sum_prod_int = df_main.loc[df_main[\"Record Number\"] == rn].loc[:,[\"Intensity %\",\"Diameter (nm)\"]].product(axis=1).sum()\n",
      "/var/folders/hw/0c_7gpv502zb91jv54cs9tmc0000gn/T/ipykernel_56054/1307512396.py:7: FutureWarning: Dropping of nuisance columns in DataFrame reductions (with 'numeric_only=None') is deprecated; in a future version this will raise TypeError.  Select only valid columns before calling the reduction.\n",
      "  rn_sum_prod_num = df_main.loc[df_main[\"Record Number\"] == rn].loc[:,[\"Number %\",\"Diameter (nm)\"]].product(axis=1).sum()\n"
     ]
    },
    {
     "ename": "TypeError",
     "evalue": "unsupported operand type(s) for /: 'float' and 'str'",
     "output_type": "error",
     "traceback": [
      "\u001b[0;31m---------------------------------------------------------------------------\u001b[0m",
      "\u001b[0;31mTypeError\u001b[0m                                 Traceback (most recent call last)",
      "Cell \u001b[0;32mIn[87], line 12\u001b[0m\n\u001b[1;32m      9\u001b[0m rn_sum_weights_num \u001b[38;5;241m=\u001b[39m df_main\u001b[38;5;241m.\u001b[39mloc[df_main[\u001b[38;5;124m\"\u001b[39m\u001b[38;5;124mRecord Number\u001b[39m\u001b[38;5;124m\"\u001b[39m] \u001b[38;5;241m==\u001b[39m rn]\u001b[38;5;241m.\u001b[39mloc[:,[\u001b[38;5;124m\"\u001b[39m\u001b[38;5;124mNumber \u001b[39m\u001b[38;5;124m%\u001b[39m\u001b[38;5;124m\"\u001b[39m]]\u001b[38;5;241m.\u001b[39msum()\u001b[38;5;241m.\u001b[39mvalues\n\u001b[1;32m     11\u001b[0m \u001b[38;5;66;03m# assign value in df_rn\u001b[39;00m\n\u001b[0;32m---> 12\u001b[0m df_rn\u001b[38;5;241m.\u001b[39mloc[rn,\u001b[38;5;124m\"\u001b[39m\u001b[38;5;124mWeighted Average Intensity\u001b[39m\u001b[38;5;124m\"\u001b[39m] \u001b[38;5;241m=\u001b[39m \u001b[43mrn_sum_prod_int\u001b[49m\u001b[43m \u001b[49m\u001b[38;5;241;43m/\u001b[39;49m\u001b[43m \u001b[49m\u001b[43mrn_sum_weights_int\u001b[49m\n\u001b[1;32m     13\u001b[0m df_rn\u001b[38;5;241m.\u001b[39mloc[rn,\u001b[38;5;124m\"\u001b[39m\u001b[38;5;124mWeighted Average Number\u001b[39m\u001b[38;5;124m\"\u001b[39m] \u001b[38;5;241m=\u001b[39m rn_sum_prod_num \u001b[38;5;241m/\u001b[39m rn_sum_weights_num\n",
      "\u001b[0;31mTypeError\u001b[0m: unsupported operand type(s) for /: 'float' and 'str'"
     ]
    }
   ],
   "source": [
    "# prepare temporary dataframe for calculation\n",
    "df_rn = pd.DataFrame(df_main[\"Record Number\"].drop_duplicates()).set_index(\"Record Number\")\n",
    "\n",
    "# for each unique record number, compute the weighted average intensity and number\n",
    "for rn in df_rn.index:\n",
    "    rn_sum_prod_int = df_main.loc[df_main[\"Record Number\"] == rn].loc[:,[\"Intensity %\",\"Diameter (nm)\"]].product(axis=1).sum()\n",
    "    rn_sum_prod_num = df_main.loc[df_main[\"Record Number\"] == rn].loc[:,[\"Number %\",\"Diameter (nm)\"]].product(axis=1).sum()\n",
    "    rn_sum_weights_int = df_main.loc[df_main[\"Record Number\"] == rn].loc[:,[\"Intensity %\"]].sum().values\n",
    "    rn_sum_weights_num = df_main.loc[df_main[\"Record Number\"] == rn].loc[:,[\"Number %\"]].sum().values\n",
    "\n",
    "    # assign value in df_rn\n",
    "    df_rn.loc[rn,\"Weighted Average Intensity\"] = rn_sum_prod_int / rn_sum_weights_int\n",
    "    df_rn.loc[rn,\"Weighted Average Number\"] = rn_sum_prod_num / rn_sum_weights_num"
   ]
  },
  {
   "cell_type": "code",
   "execution_count": null,
   "id": "3e67c216-5e05-4f3b-810a-2fce70cc9a70",
   "metadata": {
    "tags": []
   },
   "outputs": [],
   "source": [
    "df_main.columns"
   ]
  },
  {
   "cell_type": "markdown",
   "id": "b050ba88-fd56-4aaa-ac2d-be3a1193ff86",
   "metadata": {},
   "source": [
    "## Fit Curves to Gaussian and Extract parameters"
   ]
  },
  {
   "cell_type": "markdown",
   "id": "07557152-ceba-4bd0-8f88-46e330cee51f",
   "metadata": {},
   "source": [
    "### Generate fitted parameters (a, x0, sigma)"
   ]
  },
  {
   "cell_type": "code",
   "execution_count": null,
   "id": "529bb9e3-a681-442b-bfb3-c199413e73bf",
   "metadata": {
    "tags": []
   },
   "outputs": [],
   "source": [
    "# Define Gaussian function that we will fit to\n",
    "def Gauss(x, a, x0, sigma):\n",
    "    # a = maximum \n",
    "    # x0 = mean\n",
    "    # sigma = standard of deviation\n",
    "    return a*np.exp(-(x-x0)**2/(2*sigma**2))\n",
    "\n",
    "# initial guess for data\n",
    "p0_guess = p0=[10,2,1]"
   ]
  },
  {
   "cell_type": "code",
   "execution_count": null,
   "id": "47b0e4af-d503-4266-a07f-d54ca6189fa8",
   "metadata": {
    "tags": []
   },
   "outputs": [],
   "source": [
    "for rn in df_rn.index:\n",
    "    \n",
    "    for datatype in [\"Intensity\",\"Number\"]:\n",
    "\n",
    "        # extract dataframe for this record number\n",
    "        df_temp = df_main.loc[df_main[\"Record Number\"]==rn].loc[:,[\"Log Diameter\",datatype + \" %\"]].copy(deep=True)\n",
    "\n",
    "        # Execute Curve Fit\n",
    "        popt, pcov = curve_fit(Gauss, \n",
    "                               df_temp[\"Log Diameter\"].values, \n",
    "                               df_temp[datatype + \" %\"].values,\n",
    "                               p0=p0_guess)\n",
    "\n",
    "        # load Optimized values into df_rn\n",
    "        df_rn.loc[rn,[\"a \"+datatype,\"log10 x0 \"+datatype,\"log10 sigma \"+datatype]] = popt\n",
    "        \n",
    "        # generate new fitted data\n",
    "        yfit = Gauss(df_temp[\"Log Diameter\"].values, \n",
    "                     popt[0], popt[1], popt[2])\n",
    "        \n",
    "        # load into df_temp, then join with df_main\n",
    "        df_main.loc[df_temp.index,\"Fitted \"+datatype+\" %\"] = yfit"
   ]
  },
  {
   "cell_type": "code",
   "execution_count": null,
   "id": "6c6e9e09-c920-4a90-af35-bdaf97c1fad7",
   "metadata": {},
   "outputs": [],
   "source": [
    "# calculate and load confidence interval data into df_rn\n",
    "for datatype in [\"Intensity\",\"Number\"]:\n",
    "    # convert x0 and sigma back to linear space\n",
    "    df_rn.loc[:,\"x0 \"+datatype]    = np.power(10,df_rn.loc[:,\"log10 x0 \" + datatype])\n",
    "    df_rn.loc[:,\"sigma \"+datatype] = np.power(10,df_rn.loc[:,\"log10 sigma \" + datatype])\n",
    "\n",
    "    # calculate lower and upper bounds of confidence interval\n",
    "    df_rn.loc[:,\"lower \"+datatype] = np.power(10, df_rn.loc[:,\"log10 x0 \" + datatype] - df_rn.loc[:,\"log10 sigma \" + datatype])\n",
    "    df_rn.loc[:,\"upper \"+datatype] = np.power(10, df_rn.loc[:,\"log10 x0 \" + datatype] + df_rn.loc[:,\"log10 sigma \" + datatype])\n",
    "\n",
    "    # calculate lower and upper error bars of confidence interval\n",
    "    df_rn.loc[:,\"lower err \"+datatype] = df_rn.loc[:,\"x0 \"+datatype]      - df_rn.loc[:,\"lower \"+datatype]\n",
    "    df_rn.loc[:,\"upper err \"+datatype] = df_rn.loc[:,\"upper \"+datatype] - df_rn.loc[:,\"x0 \"+datatype]"
   ]
  },
  {
   "cell_type": "code",
   "execution_count": null,
   "id": "a920e3d1-2cd3-4d93-a089-97b8fbbec0cb",
   "metadata": {
    "tags": []
   },
   "outputs": [],
   "source": [
    "df_main.columns"
   ]
  },
  {
   "cell_type": "code",
   "execution_count": null,
   "id": "26b9f69a-5356-4d97-999d-0df19efe3569",
   "metadata": {
    "tags": []
   },
   "outputs": [],
   "source": [
    "# merge all that new confidence interval information into df_main\n",
    "df_main = df_main.merge(df_rn, left_on=\"Record Number\", right_on=df_rn.index)"
   ]
  },
  {
   "cell_type": "code",
   "execution_count": null,
   "id": "b81d8e1e-8ed3-4c1c-83b7-e586882d7c2e",
   "metadata": {
    "tags": []
   },
   "outputs": [],
   "source": [
    "df_main.columns"
   ]
  },
  {
   "cell_type": "markdown",
   "id": "8bb9bf71-27a6-4a6c-83e4-c4f4f6a52ee4",
   "metadata": {
    "jp-MarkdownHeadingCollapsed": true,
    "tags": []
   },
   "source": [
    "# SAVE dataframe!"
   ]
  },
  {
   "cell_type": "code",
   "execution_count": null,
   "id": "7db8e3ca-52da-431c-9f05-f304cb788c7b",
   "metadata": {
    "tags": []
   },
   "outputs": [],
   "source": [
    "df_main.to_excel('data/df_main.xlsx', sheet_name='all data')"
   ]
  },
  {
   "cell_type": "code",
   "execution_count": null,
   "id": "3cd3e2dc-a0f3-4761-a7a1-3a3d7b0e45f3",
   "metadata": {
    "tags": []
   },
   "outputs": [],
   "source": [
    "df_main.columns"
   ]
  },
  {
   "cell_type": "markdown",
   "id": "92a6bb83-5e44-4edc-ae74-92bef0c6b8a9",
   "metadata": {},
   "source": [
    "# LOAD DATAFRAME"
   ]
  },
  {
   "cell_type": "code",
   "execution_count": 91,
   "id": "94e5242b-0677-48cf-a021-ec24449b0f97",
   "metadata": {
    "tags": []
   },
   "outputs": [],
   "source": [
    "df_main = pd.read_excel('data/df_main.xlsx', sheet_name='all data')"
   ]
  },
  {
   "cell_type": "markdown",
   "id": "3f92f93b-63e3-4363-9d1e-91cc49ae8407",
   "metadata": {},
   "source": [
    "# PLOTTING"
   ]
  },
  {
   "cell_type": "markdown",
   "id": "316a9179-045e-4f04-8a4e-547073f3b17c",
   "metadata": {},
   "source": [
    "## Bar Graphs of Peak, Weighted Mean Diameter, and Fitted Mean Diameter"
   ]
  },
  {
   "cell_type": "code",
   "execution_count": null,
   "id": "cff8c8a1-1de6-43cb-b030-ae584fe64dfb",
   "metadata": {
    "tags": []
   },
   "outputs": [],
   "source": [
    "fig, ax = plt.subplots(1,3, figsize=(12,4), sharey=True)\n",
    "\n",
    "var_id = 0\n",
    "\n",
    "for variable in ['Peak Diameter by Intensity %', 'x0 Intensity', 'Weighted Average Intensity']:\n",
    "\n",
    "    # plot peak diameter by intensity\n",
    "    sns.barplot(data=df_main.sort_values(by=\"lipidoid\"),\n",
    "                x=\"lipidoid\",\n",
    "                y=variable,\n",
    "                hue=\"pH\",\n",
    "                ax=ax[var_id])\n",
    "    \n",
    "    for c in ax[var_id].containers:\n",
    "        # set the bar label\n",
    "        ax[var_id].bar_label(c, fmt='%.0f', label_type='edge', padding=1)\n",
    "\n",
    "    #ax[0,0].set_ylabel('Mean Diameter (nm) \\n by Intensity %')\n",
    "    #ax[0,0].legend(loc='center left', bbox_to_anchor=(1, 0.5), title=\"pH\")\n",
    "    #plt.xticks(rotation = 45)\n",
    "    var_id += 1\n",
    "    \n",
    "    plt.tight_layout()"
   ]
  },
  {
   "cell_type": "code",
   "execution_count": null,
   "id": "eed1d9c0-8f6b-4f1d-8186-43d9aaf91141",
   "metadata": {
    "tags": []
   },
   "outputs": [],
   "source": [
    "fig, ax = plt.subplots(1,1, figsize=(4,4))\n",
    "\n",
    "# plot peak diameter by intensity\n",
    "sns.barplot(data=df_main.sort_values(by=\"lipidoid\"),\n",
    "            x=\"lipidoid\",\n",
    "            y='x0 Intensity',\n",
    "            hue=\"pH\",\n",
    "            ax=ax)\n",
    "\n",
    "for c in ax.containers:\n",
    "    # set the bar label\n",
    "    ax.bar_label(c, fmt='%.0f', label_type='edge', padding=1)\n",
    "    c.yerr=[100, 200, 300, 400]\n",
    "    \n",
    "\n",
    "#ax[0,0].set_ylabel('Mean Diameter (nm) \\n by Intensity %')\n",
    "#ax[0,0].legend(loc='center left', bbox_to_anchor=(1, 0.5), title=\"pH\")\n",
    "#plt.xticks(rotation = 45)\n",
    "\n",
    "plt.tight_layout()"
   ]
  },
  {
   "cell_type": "code",
   "execution_count": null,
   "id": "a5c52ee3-cc70-4283-ab52-530d0ad95933",
   "metadata": {
    "tags": []
   },
   "outputs": [],
   "source": [
    "df_main.columns"
   ]
  },
  {
   "cell_type": "code",
   "execution_count": null,
   "id": "00a4eec1-d122-4fd1-9635-41526666e289",
   "metadata": {
    "tags": []
   },
   "outputs": [],
   "source": [
    "fig, ax = plt.subplots(1,4, figsize=(12,4), sharey=True)\n",
    "\n",
    "var_id = 0\n",
    "\n",
    "for variable in ['Peak Diameter by Intensity %', 'x0 Intensity', 'Weighted Average Intensity', 'Z-Average (d.nm)']:\n",
    "\n",
    "    # plot peak diameter by intensity\n",
    "    sns.barplot(data=df_main.sort_values(by=\"lipidoid\"),\n",
    "                x=\"lipid\",\n",
    "                y=variable,\n",
    "                hue=\"fluorophore and pH\",\n",
    "                ax=ax[var_id])\n",
    "    \n",
    "    for c in ax[var_id].containers:\n",
    "        # set the bar label\n",
    "        ax[var_id].bar_label(c, fmt='%.0f', label_type='edge', padding=1)\n",
    "\n",
    "    #ax[0,0].set_ylabel('Mean Diameter (nm) \\n by Intensity %')\n",
    "    #ax[0,0].legend(loc='center left', bbox_to_anchor=(1, 0.5), title=\"pH\")\n",
    "    #plt.xticks(rotation = 45)\n",
    "    var_id += 1\n",
    "    \n",
    "    plt.tight_layout()"
   ]
  },
  {
   "cell_type": "code",
   "execution_count": null,
   "id": "8166e310-b84f-484b-9a00-c71fccefa4c6",
   "metadata": {
    "tags": []
   },
   "outputs": [],
   "source": [
    "ax.get_xticks()"
   ]
  },
  {
   "cell_type": "markdown",
   "id": "7a15e84a-ebfb-4e67-9470-27c1a162ed0b",
   "metadata": {},
   "source": [
    "# SCRAP WORK"
   ]
  },
  {
   "cell_type": "markdown",
   "id": "39aba158-236b-4699-874c-2e696349ffea",
   "metadata": {},
   "source": [
    "## Plot LUV by type of lipid for samples with no Triton"
   ]
  },
  {
   "cell_type": "code",
   "execution_count": null,
   "id": "eb4ed9e7",
   "metadata": {
    "id": "eb4ed9e7"
   },
   "outputs": [],
   "source": [
    "LUV = 1\n",
    "lipid = \"POPC\"\n",
    "fluorophore = \"R18\"\n",
    "pH = \"5.5\"\n",
    "Triton = 0\n",
    "\n",
    "temp_data = df_main[(df_main[\"LUV\"] == LUV) &\n",
    "                    (df_main[\"fluorophore\"] == fluorophore) &\n",
    "                    #(df_main[\"pH\"] == pH) &\n",
    "                    (df_main[\"Triton\"] == Triton)]\n",
    "\n",
    "for lipid in temp_data[\"lipid\"].dropna().unique():\n",
    "    print(lipid)\n",
    "    \n",
    "    fig, ax = plt.subplots(2,1, sharex=True)\n",
    "\n",
    "    sns.lineplot(data=temp_data[temp_data[\"lipid\"] == lipid],\n",
    "                 x=\"Diameter (nm)\",\n",
    "                 y=\"Intensity %\",\n",
    "                 hue=\"title\",\n",
    "                 ax=ax[0])\n",
    "\n",
    "    sns.lineplot(data=temp_data[temp_data[\"lipid\"] == lipid],\n",
    "                 x=\"Diameter (nm)\",\n",
    "                 y=\"Number %\",\n",
    "                 hue=\"title\",\n",
    "                 ax=ax[1])\n",
    "\n",
    "    ax[0].legend(loc='center left', bbox_to_anchor=(1, 0.5), title=\"lipid\")\n",
    "    ax[1].legend(loc='center left', bbox_to_anchor=(1, 0.5), title=\"lipid\")\n",
    "\n",
    "    ax[0].set_xscale('log')"
   ]
  },
  {
   "cell_type": "code",
   "execution_count": null,
   "id": "c5bef818-892b-4019-b916-44d3516c7eba",
   "metadata": {
    "id": "eb4ed9e7"
   },
   "outputs": [],
   "source": [
    "fig, ax = plt.subplots(2,1, sharex=True)\n",
    "\n",
    "temp_data = df_main[df_main['lipidoid'].notna()]\n",
    "\n",
    "sns.lineplot(data=temp_data,\n",
    "             x=\"Diameter (nm)\",\n",
    "             y=\"Intensity %\",\n",
    "             hue=\"lipidoid\",\n",
    "             style=\"pH\",\n",
    "             ax=ax[0])\n",
    "\n",
    "sns.lineplot(data=temp_data,\n",
    "             x=\"Diameter (nm)\",\n",
    "             y=\"Number %\",\n",
    "             hue=\"lipidoid\",\n",
    "             style=\"pH\",\n",
    "             ax=ax[1])\n",
    "\n",
    "ax[0].legend(loc='center left', bbox_to_anchor=(1, 0.5), title=\"lipidoid\")\n",
    "ax[1].legend(loc='center left', bbox_to_anchor=(1, 0.5), title=\"lipidoid\")\n",
    "\n",
    "ax[0].set_xscale('log')"
   ]
  },
  {
   "cell_type": "markdown",
   "id": "e2fde9ae-a5c2-47dd-bb36-ac51db6d92e3",
   "metadata": {},
   "source": [
    "## Bargraph of x0 using fitted error bars"
   ]
  },
  {
   "cell_type": "markdown",
   "id": "2dfffe48-4df1-4b89-bc8a-2f64be155d58",
   "metadata": {},
   "source": [
    "### Find one record number which is lipidoid 200oi10 and make a bar graph"
   ]
  },
  {
   "cell_type": "code",
   "execution_count": 130,
   "id": "20380ffd-9d14-4c2a-b74a-5568dc0352b7",
   "metadata": {
    "tags": []
   },
   "outputs": [
    {
     "data": {
      "text/plain": [
       "array([['304oi10', 204.488506935153, 72.14336618778515,\n",
       "        111.4698216625652]], dtype=object)"
      ]
     },
     "execution_count": 130,
     "metadata": {},
     "output_type": "execute_result"
    }
   ],
   "source": [
    "df_main.loc[df_main[\"Record Number\"]==123].loc[:,[\"lipidoid\",\"x0 Intensity\",\"lower err Intensity\",\"upper err Intensity\"]].drop_duplicates().values"
   ]
  },
  {
   "cell_type": "code",
   "execution_count": 135,
   "id": "716983a2-fdc2-4c76-9898-969b82944a14",
   "metadata": {
    "tags": []
   },
   "outputs": [],
   "source": []
  },
  {
   "cell_type": "code",
   "execution_count": 136,
   "id": "a88de1c2-b4c4-45e6-adee-94acf3270295",
   "metadata": {
    "tags": []
   },
   "outputs": [
    {
     "name": "stdout",
     "output_type": "stream",
     "text": [
      "[nan]\n",
      "90.79900105365932\n",
      "[[ 72.14336619]\n",
      " [111.46982166]]\n"
     ]
    }
   ],
   "source": [
    "print(x)\n",
    "print(y)\n",
    "print(yerr)"
   ]
  },
  {
   "cell_type": "code",
   "execution_count": 137,
   "id": "d5abab8d-8ab0-4666-8f8c-c1a45624a434",
   "metadata": {
    "tags": []
   },
   "outputs": [
    {
     "data": {
      "text/plain": [
       "(2, 1)"
      ]
     },
     "execution_count": 137,
     "metadata": {},
     "output_type": "execute_result"
    }
   ],
   "source": [
    "np.shape(yerr)"
   ]
  },
  {
   "cell_type": "code",
   "execution_count": 150,
   "id": "812d8d12-6c4f-46f1-a5c7-c7cb1626f50b",
   "metadata": {
    "tags": []
   },
   "outputs": [
    {
     "data": {
      "image/png": "[encoded data removed]",
      "text/plain": [
       "<Figure size 400x400 with 2 Axes>"
      ]
     },
     "metadata": {},
     "output_type": "display_data"
    }
   ],
   "source": [
    "fig, ax = plt.subplots(1,2, sharey=True, figsize=(4,4))\n",
    "\n",
    "axid = 0\n",
    "\n",
    "for rn in [7,30]:\n",
    "    \n",
    "    x = df_main.loc[df_main[\"Record Number\"]==rn].loc[:,\"lipidoid\"].drop_duplicates().values\n",
    "    y = df_main.loc[df_main[\"Record Number\"]==rn].loc[:,\"x0 Intensity\"].drop_duplicates().values\n",
    "    y = y[0]\n",
    "\n",
    "    yerr = df_main.loc[df_main[\"Record Number\"]==rn].loc[:,[\"lower err Intensity\",\"upper err Intensity\"]].drop_duplicates().values\n",
    "    yerr = yerr[0]\n",
    "    yerr = yerr.reshape(2,1)\n",
    "    \n",
    "    xlab = df_main.loc[df_main[\"Record Number\"]==rn][\"title\"].unique()[0]\n",
    "\n",
    "    ax[axid].bar(0, y, yerr=yerr, tick_label=xlab, capsize=10)\n",
    "    ax[axid].set_yscale('linear')\n",
    "    \n",
    "    axid += 1\n",
    "ax[0].set_ylabel('x0 Intensity (nm)')\n",
    "\n",
    "plt.tight_layout()\n",
    "    \n",
    "plt.savefig('data/plots/DLS barplot/' + 'Fitted x0 comparison.png')\n",
    "plt.savefig('data/plots/DLS barplot/' + 'Fitted x0 comparison.svg')"
   ]
  },
  {
   "cell_type": "markdown",
   "id": "af5c83fb-1f44-4519-9556-a6da86d5206e",
   "metadata": {},
   "source": [
    "## one bar for each record number, different colors for pH"
   ]
  },
  {
   "cell_type": "code",
   "execution_count": 119,
   "id": "f9969f43-6c39-40c0-9957-a77542d39797",
   "metadata": {
    "tags": []
   },
   "outputs": [
    {
     "ename": "ValueError",
     "evalue": "zero-size array to reduction operation maximum which has no identity",
     "output_type": "error",
     "traceback": [
      "\u001b[0;31m---------------------------------------------------------------------------\u001b[0m",
      "\u001b[0;31mValueError\u001b[0m                                Traceback (most recent call last)",
      "Cell \u001b[0;32mIn[119], line 25\u001b[0m\n\u001b[1;32m     19\u001b[0m ax\u001b[38;5;241m.\u001b[39mbar(x, y, yerr\u001b[38;5;241m=\u001b[39myerr, \n\u001b[1;32m     20\u001b[0m        tick_label\u001b[38;5;241m=\u001b[39mrn_list, \n\u001b[1;32m     21\u001b[0m        capsize\u001b[38;5;241m=\u001b[39m\u001b[38;5;241m5\u001b[39m,\n\u001b[1;32m     22\u001b[0m        color\u001b[38;5;241m=\u001b[39mcolor_dict[pH])\n\u001b[1;32m     24\u001b[0m \u001b[38;5;66;03m# reset\u001b[39;00m\n\u001b[0;32m---> 25\u001b[0m x_start \u001b[38;5;241m=\u001b[39m \u001b[43mnp\u001b[49m\u001b[38;5;241;43m.\u001b[39;49m\u001b[43mmax\u001b[49m\u001b[43m(\u001b[49m\u001b[43mx\u001b[49m\u001b[43m)\u001b[49m\u001b[38;5;241m+\u001b[39m\u001b[38;5;241m1\u001b[39m\n\u001b[1;32m     26\u001b[0m xticks \u001b[38;5;241m=\u001b[39m np\u001b[38;5;241m.\u001b[39mappend(xticks, ax\u001b[38;5;241m.\u001b[39mget_xticks())\n\u001b[1;32m     27\u001b[0m xticklabels \u001b[38;5;241m=\u001b[39m np\u001b[38;5;241m.\u001b[39mappend(xticklabels, rn_list)\n",
      "File \u001b[0;32m<__array_function__ internals>:200\u001b[0m, in \u001b[0;36mamax\u001b[0;34m(*args, **kwargs)\u001b[0m\n",
      "File \u001b[0;32m~/venv/lib/python3.11/site-packages/numpy/core/fromnumeric.py:2820\u001b[0m, in \u001b[0;36mamax\u001b[0;34m(a, axis, out, keepdims, initial, where)\u001b[0m\n\u001b[1;32m   2703\u001b[0m \u001b[38;5;129m@array_function_dispatch\u001b[39m(_amax_dispatcher)\n\u001b[1;32m   2704\u001b[0m \u001b[38;5;28;01mdef\u001b[39;00m \u001b[38;5;21mamax\u001b[39m(a, axis\u001b[38;5;241m=\u001b[39m\u001b[38;5;28;01mNone\u001b[39;00m, out\u001b[38;5;241m=\u001b[39m\u001b[38;5;28;01mNone\u001b[39;00m, keepdims\u001b[38;5;241m=\u001b[39mnp\u001b[38;5;241m.\u001b[39m_NoValue, initial\u001b[38;5;241m=\u001b[39mnp\u001b[38;5;241m.\u001b[39m_NoValue,\n\u001b[1;32m   2705\u001b[0m          where\u001b[38;5;241m=\u001b[39mnp\u001b[38;5;241m.\u001b[39m_NoValue):\n\u001b[1;32m   2706\u001b[0m \u001b[38;5;250m    \u001b[39m\u001b[38;5;124;03m\"\"\"\u001b[39;00m\n\u001b[1;32m   2707\u001b[0m \u001b[38;5;124;03m    Return the maximum of an array or maximum along an axis.\u001b[39;00m\n\u001b[1;32m   2708\u001b[0m \n\u001b[0;32m   (...)\u001b[0m\n\u001b[1;32m   2818\u001b[0m \u001b[38;5;124;03m    5\u001b[39;00m\n\u001b[1;32m   2819\u001b[0m \u001b[38;5;124;03m    \"\"\"\u001b[39;00m\n\u001b[0;32m-> 2820\u001b[0m     \u001b[38;5;28;01mreturn\u001b[39;00m \u001b[43m_wrapreduction\u001b[49m\u001b[43m(\u001b[49m\u001b[43ma\u001b[49m\u001b[43m,\u001b[49m\u001b[43m \u001b[49m\u001b[43mnp\u001b[49m\u001b[38;5;241;43m.\u001b[39;49m\u001b[43mmaximum\u001b[49m\u001b[43m,\u001b[49m\u001b[43m \u001b[49m\u001b[38;5;124;43m'\u001b[39;49m\u001b[38;5;124;43mmax\u001b[39;49m\u001b[38;5;124;43m'\u001b[39;49m\u001b[43m,\u001b[49m\u001b[43m \u001b[49m\u001b[43maxis\u001b[49m\u001b[43m,\u001b[49m\u001b[43m \u001b[49m\u001b[38;5;28;43;01mNone\u001b[39;49;00m\u001b[43m,\u001b[49m\u001b[43m \u001b[49m\u001b[43mout\u001b[49m\u001b[43m,\u001b[49m\n\u001b[1;32m   2821\u001b[0m \u001b[43m                          \u001b[49m\u001b[43mkeepdims\u001b[49m\u001b[38;5;241;43m=\u001b[39;49m\u001b[43mkeepdims\u001b[49m\u001b[43m,\u001b[49m\u001b[43m \u001b[49m\u001b[43minitial\u001b[49m\u001b[38;5;241;43m=\u001b[39;49m\u001b[43minitial\u001b[49m\u001b[43m,\u001b[49m\u001b[43m \u001b[49m\u001b[43mwhere\u001b[49m\u001b[38;5;241;43m=\u001b[39;49m\u001b[43mwhere\u001b[49m\u001b[43m)\u001b[49m\n",
      "File \u001b[0;32m~/venv/lib/python3.11/site-packages/numpy/core/fromnumeric.py:86\u001b[0m, in \u001b[0;36m_wrapreduction\u001b[0;34m(obj, ufunc, method, axis, dtype, out, **kwargs)\u001b[0m\n\u001b[1;32m     83\u001b[0m         \u001b[38;5;28;01melse\u001b[39;00m:\n\u001b[1;32m     84\u001b[0m             \u001b[38;5;28;01mreturn\u001b[39;00m reduction(axis\u001b[38;5;241m=\u001b[39maxis, out\u001b[38;5;241m=\u001b[39mout, \u001b[38;5;241m*\u001b[39m\u001b[38;5;241m*\u001b[39mpasskwargs)\n\u001b[0;32m---> 86\u001b[0m \u001b[38;5;28;01mreturn\u001b[39;00m \u001b[43mufunc\u001b[49m\u001b[38;5;241;43m.\u001b[39;49m\u001b[43mreduce\u001b[49m\u001b[43m(\u001b[49m\u001b[43mobj\u001b[49m\u001b[43m,\u001b[49m\u001b[43m \u001b[49m\u001b[43maxis\u001b[49m\u001b[43m,\u001b[49m\u001b[43m \u001b[49m\u001b[43mdtype\u001b[49m\u001b[43m,\u001b[49m\u001b[43m \u001b[49m\u001b[43mout\u001b[49m\u001b[43m,\u001b[49m\u001b[43m \u001b[49m\u001b[38;5;241;43m*\u001b[39;49m\u001b[38;5;241;43m*\u001b[39;49m\u001b[43mpasskwargs\u001b[49m\u001b[43m)\u001b[49m\n",
      "\u001b[0;31mValueError\u001b[0m: zero-size array to reduction operation maximum which has no identity"
     ]
    },
    {
     "data": {
      "image/png": "[encoded data removed]",
      "text/plain": [
       "<Figure size 800x400 with 1 Axes>"
      ]
     },
     "metadata": {},
     "output_type": "display_data"
    }
   ],
   "source": [
    "fig, ax = plt.subplots(figsize=(8,4))\n",
    "\n",
    "x_start = 0\n",
    "\n",
    "color_dict = {\"5.5\" : \"blue\",\n",
    "              \"7.4\" : \"orange\"}\n",
    "\n",
    "xticks = []\n",
    "xticklabels = []\n",
    "\n",
    "for pH in [\"7.4\",\"5.5\"]:\n",
    "\n",
    "    rn_list = df_main.loc[(df_main[\"lipidoid\"]==\"200oi10\") &\n",
    "                          (df_main[\"pH\"] == pH)][\"Record Number\"].unique()\n",
    "    x = x_start + np.arange(0,len(rn_list))\n",
    "    y = df_main.loc[df_main[\"Record Number\"].isin(rn_list)].loc[:,\"x0 Intensity\"].drop_duplicates().values\n",
    "    yerr = df_main.loc[df_main[\"Record Number\"].isin(rn_list)].loc[:,[\"lower err Intensity\",\"upper err Intensity\"]].drop_duplicates().values.T\n",
    "\n",
    "    ax.bar(x, y, yerr=yerr, \n",
    "           tick_label=rn_list, \n",
    "           capsize=5,\n",
    "           color=color_dict[pH])\n",
    "    \n",
    "    # reset\n",
    "    x_start = np.max(x)+1\n",
    "    xticks = np.append(xticks, ax.get_xticks())\n",
    "    xticklabels = np.append(xticklabels, rn_list)\n",
    "\n",
    "ax.set_xticks(xticks)\n",
    "ax.set_xticklabels(xticklabels)\n",
    "...\n",
    "\n",
    "# print all titles with rn\n",
    "df_main.loc[df_main[\"lipidoid\"]==\"200oi10\"].loc[:,[\"Record Number\",\"pH\",\"title\",\"Measurement Date and Time\"]].drop_duplicates()"
   ]
  },
  {
   "cell_type": "code",
   "execution_count": 120,
   "id": "d82c359e-ed05-4b29-85ae-96f77b8bfd34",
   "metadata": {
    "tags": []
   },
   "outputs": [
    {
     "data": {
      "text/html": [
       "<div>\n",
       "<style scoped>\n",
       "    .dataframe tbody tr th:only-of-type {\n",
       "        vertical-align: middle;\n",
       "    }\n",
       "\n",
       "    .dataframe tbody tr th {\n",
       "        vertical-align: top;\n",
       "    }\n",
       "\n",
       "    .dataframe thead th {\n",
       "        text-align: right;\n",
       "    }\n",
       "</style>\n",
       "<table border=\"1\" class=\"dataframe\">\n",
       "  <thead>\n",
       "    <tr style=\"text-align: right;\">\n",
       "      <th></th>\n",
       "      <th></th>\n",
       "      <th>lower err Intensity</th>\n",
       "      <th>upper err Intensity</th>\n",
       "      <th>x0 Intensity</th>\n",
       "    </tr>\n",
       "    <tr>\n",
       "      <th>lipidoid</th>\n",
       "      <th>pH</th>\n",
       "      <th></th>\n",
       "      <th></th>\n",
       "      <th></th>\n",
       "    </tr>\n",
       "  </thead>\n",
       "  <tbody>\n",
       "    <tr>\n",
       "      <th rowspan=\"2\" valign=\"top\">200oi10</th>\n",
       "      <th>5.5</th>\n",
       "      <td>68.568187</td>\n",
       "      <td>103.994822</td>\n",
       "      <td>201.833118</td>\n",
       "    </tr>\n",
       "    <tr>\n",
       "      <th>7.4</th>\n",
       "      <td>72.769270</td>\n",
       "      <td>107.147524</td>\n",
       "      <td>228.758511</td>\n",
       "    </tr>\n",
       "    <tr>\n",
       "      <th rowspan=\"2\" valign=\"top\">304oi10</th>\n",
       "      <th>5.5</th>\n",
       "      <td>50.686530</td>\n",
       "      <td>71.688085</td>\n",
       "      <td>195.940431</td>\n",
       "    </tr>\n",
       "    <tr>\n",
       "      <th>7.4</th>\n",
       "      <td>64.602343</td>\n",
       "      <td>93.487798</td>\n",
       "      <td>214.009121</td>\n",
       "    </tr>\n",
       "    <tr>\n",
       "      <th rowspan=\"2\" valign=\"top\">306o10</th>\n",
       "      <th>5.5</th>\n",
       "      <td>59.056946</td>\n",
       "      <td>88.090611</td>\n",
       "      <td>180.820231</td>\n",
       "    </tr>\n",
       "    <tr>\n",
       "      <th>7.4</th>\n",
       "      <td>55.887953</td>\n",
       "      <td>82.654431</td>\n",
       "      <td>173.638166</td>\n",
       "    </tr>\n",
       "    <tr>\n",
       "      <th rowspan=\"2\" valign=\"top\">306oi10</th>\n",
       "      <th>5.5</th>\n",
       "      <td>71.369353</td>\n",
       "      <td>109.324475</td>\n",
       "      <td>206.804796</td>\n",
       "    </tr>\n",
       "    <tr>\n",
       "      <th>7.4</th>\n",
       "      <td>75.472960</td>\n",
       "      <td>115.171229</td>\n",
       "      <td>225.796582</td>\n",
       "    </tr>\n",
       "  </tbody>\n",
       "</table>\n",
       "</div>"
      ],
      "text/plain": [
       "              lower err Intensity  upper err Intensity  x0 Intensity\n",
       "lipidoid pH                                                         \n",
       "200oi10  5.5            68.568187           103.994822    201.833118\n",
       "         7.4            72.769270           107.147524    228.758511\n",
       "304oi10  5.5            50.686530            71.688085    195.940431\n",
       "         7.4            64.602343            93.487798    214.009121\n",
       "306o10   5.5            59.056946            88.090611    180.820231\n",
       "         7.4            55.887953            82.654431    173.638166\n",
       "306oi10  5.5            71.369353           109.324475    206.804796\n",
       "         7.4            75.472960           115.171229    225.796582"
      ]
     },
     "execution_count": 120,
     "metadata": {},
     "output_type": "execute_result"
    }
   ],
   "source": [
    "# for each lipidoid, extract x0, and lower/upper sigma, and AVERAGE\n",
    "pd.pivot_table(data=df_main,\n",
    "               index=[\"lipidoid\",\"pH\"],\n",
    "               values=[\"x0 Intensity\",\"lower err Intensity\",\"upper err Intensity\"],\n",
    "               aggfunc=\"mean\")"
   ]
  },
  {
   "cell_type": "code",
   "execution_count": 121,
   "id": "1854bd54-3563-44d1-942c-871dbda28b10",
   "metadata": {
    "tags": []
   },
   "outputs": [
    {
     "ename": "ValueError",
     "evalue": "Could not interpret input 'Weighted Average Intensity_x'",
     "output_type": "error",
     "traceback": [
      "\u001b[0;31m---------------------------------------------------------------------------\u001b[0m",
      "\u001b[0;31mValueError\u001b[0m                                Traceback (most recent call last)",
      "Cell \u001b[0;32mIn[121], line 5\u001b[0m\n\u001b[1;32m      1\u001b[0m fig, ax \u001b[38;5;241m=\u001b[39m plt\u001b[38;5;241m.\u001b[39msubplots(\u001b[38;5;241m1\u001b[39m, figsize\u001b[38;5;241m=\u001b[39m(\u001b[38;5;241m8\u001b[39m,\u001b[38;5;241m8\u001b[39m))\n\u001b[1;32m      3\u001b[0m \u001b[38;5;66;03m# plot peak diameter by intensity\u001b[39;00m\n\u001b[0;32m----> 5\u001b[0m \u001b[43msns\u001b[49m\u001b[38;5;241;43m.\u001b[39;49m\u001b[43mbarplot\u001b[49m\u001b[43m(\u001b[49m\u001b[43mdata\u001b[49m\u001b[38;5;241;43m=\u001b[39;49m\u001b[43mdf_main\u001b[49m\u001b[38;5;241;43m.\u001b[39;49m\u001b[43msort_values\u001b[49m\u001b[43m(\u001b[49m\u001b[43mby\u001b[49m\u001b[38;5;241;43m=\u001b[39;49m\u001b[38;5;124;43m\"\u001b[39;49m\u001b[38;5;124;43mlipidoid\u001b[39;49m\u001b[38;5;124;43m\"\u001b[39;49m\u001b[43m)\u001b[49m\u001b[43m,\u001b[49m\n\u001b[1;32m      6\u001b[0m \u001b[43m            \u001b[49m\u001b[43mx\u001b[49m\u001b[38;5;241;43m=\u001b[39;49m\u001b[38;5;124;43m\"\u001b[39;49m\u001b[38;5;124;43mlipidoid\u001b[39;49m\u001b[38;5;124;43m\"\u001b[39;49m\u001b[43m,\u001b[49m\n\u001b[1;32m      7\u001b[0m \u001b[43m            \u001b[49m\u001b[43my\u001b[49m\u001b[38;5;241;43m=\u001b[39;49m\u001b[38;5;124;43m\"\u001b[39;49m\u001b[38;5;124;43mWeighted Average Intensity_x\u001b[39;49m\u001b[38;5;124;43m\"\u001b[39;49m\u001b[43m,\u001b[49m\n\u001b[1;32m      8\u001b[0m \u001b[43m            \u001b[49m\u001b[43mhue\u001b[49m\u001b[38;5;241;43m=\u001b[39;49m\u001b[38;5;124;43m\"\u001b[39;49m\u001b[38;5;124;43mpH\u001b[39;49m\u001b[38;5;124;43m\"\u001b[39;49m\u001b[43m,\u001b[49m\n\u001b[1;32m      9\u001b[0m \u001b[43m            \u001b[49m\u001b[43max\u001b[49m\u001b[38;5;241;43m=\u001b[39;49m\u001b[43max\u001b[49m\u001b[43m)\u001b[49m\n\u001b[1;32m     11\u001b[0m \u001b[38;5;28;01mfor\u001b[39;00m c \u001b[38;5;129;01min\u001b[39;00m ax\u001b[38;5;241m.\u001b[39mcontainers:\n\u001b[1;32m     12\u001b[0m     \u001b[38;5;66;03m# set the bar label\u001b[39;00m\n\u001b[1;32m     13\u001b[0m     ax\u001b[38;5;241m.\u001b[39mbar_label(c, fmt\u001b[38;5;241m=\u001b[39m\u001b[38;5;124m'\u001b[39m\u001b[38;5;132;01m%.0f\u001b[39;00m\u001b[38;5;124m'\u001b[39m, label_type\u001b[38;5;241m=\u001b[39m\u001b[38;5;124m'\u001b[39m\u001b[38;5;124medge\u001b[39m\u001b[38;5;124m'\u001b[39m, padding\u001b[38;5;241m=\u001b[39m\u001b[38;5;241m1\u001b[39m)\n",
      "File \u001b[0;32m~/venv/lib/python3.11/site-packages/seaborn/categorical.py:2755\u001b[0m, in \u001b[0;36mbarplot\u001b[0;34m(data, x, y, hue, order, hue_order, estimator, errorbar, n_boot, units, seed, orient, color, palette, saturation, width, errcolor, errwidth, capsize, dodge, ci, ax, **kwargs)\u001b[0m\n\u001b[1;32m   2752\u001b[0m \u001b[38;5;28;01mif\u001b[39;00m estimator \u001b[38;5;129;01mis\u001b[39;00m \u001b[38;5;28mlen\u001b[39m:\n\u001b[1;32m   2753\u001b[0m     estimator \u001b[38;5;241m=\u001b[39m \u001b[38;5;124m\"\u001b[39m\u001b[38;5;124msize\u001b[39m\u001b[38;5;124m\"\u001b[39m\n\u001b[0;32m-> 2755\u001b[0m plotter \u001b[38;5;241m=\u001b[39m \u001b[43m_BarPlotter\u001b[49m\u001b[43m(\u001b[49m\u001b[43mx\u001b[49m\u001b[43m,\u001b[49m\u001b[43m \u001b[49m\u001b[43my\u001b[49m\u001b[43m,\u001b[49m\u001b[43m \u001b[49m\u001b[43mhue\u001b[49m\u001b[43m,\u001b[49m\u001b[43m \u001b[49m\u001b[43mdata\u001b[49m\u001b[43m,\u001b[49m\u001b[43m \u001b[49m\u001b[43morder\u001b[49m\u001b[43m,\u001b[49m\u001b[43m \u001b[49m\u001b[43mhue_order\u001b[49m\u001b[43m,\u001b[49m\n\u001b[1;32m   2756\u001b[0m \u001b[43m                      \u001b[49m\u001b[43mestimator\u001b[49m\u001b[43m,\u001b[49m\u001b[43m \u001b[49m\u001b[43merrorbar\u001b[49m\u001b[43m,\u001b[49m\u001b[43m \u001b[49m\u001b[43mn_boot\u001b[49m\u001b[43m,\u001b[49m\u001b[43m \u001b[49m\u001b[43munits\u001b[49m\u001b[43m,\u001b[49m\u001b[43m \u001b[49m\u001b[43mseed\u001b[49m\u001b[43m,\u001b[49m\n\u001b[1;32m   2757\u001b[0m \u001b[43m                      \u001b[49m\u001b[43morient\u001b[49m\u001b[43m,\u001b[49m\u001b[43m \u001b[49m\u001b[43mcolor\u001b[49m\u001b[43m,\u001b[49m\u001b[43m \u001b[49m\u001b[43mpalette\u001b[49m\u001b[43m,\u001b[49m\u001b[43m \u001b[49m\u001b[43msaturation\u001b[49m\u001b[43m,\u001b[49m\n\u001b[1;32m   2758\u001b[0m \u001b[43m                      \u001b[49m\u001b[43mwidth\u001b[49m\u001b[43m,\u001b[49m\u001b[43m \u001b[49m\u001b[43merrcolor\u001b[49m\u001b[43m,\u001b[49m\u001b[43m \u001b[49m\u001b[43merrwidth\u001b[49m\u001b[43m,\u001b[49m\u001b[43m \u001b[49m\u001b[43mcapsize\u001b[49m\u001b[43m,\u001b[49m\u001b[43m \u001b[49m\u001b[43mdodge\u001b[49m\u001b[43m)\u001b[49m\n\u001b[1;32m   2760\u001b[0m \u001b[38;5;28;01mif\u001b[39;00m ax \u001b[38;5;129;01mis\u001b[39;00m \u001b[38;5;28;01mNone\u001b[39;00m:\n\u001b[1;32m   2761\u001b[0m     ax \u001b[38;5;241m=\u001b[39m plt\u001b[38;5;241m.\u001b[39mgca()\n",
      "File \u001b[0;32m~/venv/lib/python3.11/site-packages/seaborn/categorical.py:1530\u001b[0m, in \u001b[0;36m_BarPlotter.__init__\u001b[0;34m(self, x, y, hue, data, order, hue_order, estimator, errorbar, n_boot, units, seed, orient, color, palette, saturation, width, errcolor, errwidth, capsize, dodge)\u001b[0m\n\u001b[1;32m   1525\u001b[0m \u001b[38;5;28;01mdef\u001b[39;00m \u001b[38;5;21m__init__\u001b[39m(\u001b[38;5;28mself\u001b[39m, x, y, hue, data, order, hue_order,\n\u001b[1;32m   1526\u001b[0m              estimator, errorbar, n_boot, units, seed,\n\u001b[1;32m   1527\u001b[0m              orient, color, palette, saturation, width,\n\u001b[1;32m   1528\u001b[0m              errcolor, errwidth, capsize, dodge):\n\u001b[1;32m   1529\u001b[0m \u001b[38;5;250m    \u001b[39m\u001b[38;5;124;03m\"\"\"Initialize the plotter.\"\"\"\u001b[39;00m\n\u001b[0;32m-> 1530\u001b[0m     \u001b[38;5;28;43mself\u001b[39;49m\u001b[38;5;241;43m.\u001b[39;49m\u001b[43mestablish_variables\u001b[49m\u001b[43m(\u001b[49m\u001b[43mx\u001b[49m\u001b[43m,\u001b[49m\u001b[43m \u001b[49m\u001b[43my\u001b[49m\u001b[43m,\u001b[49m\u001b[43m \u001b[49m\u001b[43mhue\u001b[49m\u001b[43m,\u001b[49m\u001b[43m \u001b[49m\u001b[43mdata\u001b[49m\u001b[43m,\u001b[49m\u001b[43m \u001b[49m\u001b[43morient\u001b[49m\u001b[43m,\u001b[49m\n\u001b[1;32m   1531\u001b[0m \u001b[43m                             \u001b[49m\u001b[43morder\u001b[49m\u001b[43m,\u001b[49m\u001b[43m \u001b[49m\u001b[43mhue_order\u001b[49m\u001b[43m,\u001b[49m\u001b[43m \u001b[49m\u001b[43munits\u001b[49m\u001b[43m)\u001b[49m\n\u001b[1;32m   1532\u001b[0m     \u001b[38;5;28mself\u001b[39m\u001b[38;5;241m.\u001b[39mestablish_colors(color, palette, saturation)\n\u001b[1;32m   1533\u001b[0m     \u001b[38;5;28mself\u001b[39m\u001b[38;5;241m.\u001b[39mestimate_statistic(estimator, errorbar, n_boot, seed)\n",
      "File \u001b[0;32m~/venv/lib/python3.11/site-packages/seaborn/categorical.py:541\u001b[0m, in \u001b[0;36m_CategoricalPlotter.establish_variables\u001b[0;34m(self, x, y, hue, data, orient, order, hue_order, units)\u001b[0m\n\u001b[1;32m    539\u001b[0m     \u001b[38;5;28;01mif\u001b[39;00m \u001b[38;5;28misinstance\u001b[39m(var, \u001b[38;5;28mstr\u001b[39m):\n\u001b[1;32m    540\u001b[0m         err \u001b[38;5;241m=\u001b[39m \u001b[38;5;124mf\u001b[39m\u001b[38;5;124m\"\u001b[39m\u001b[38;5;124mCould not interpret input \u001b[39m\u001b[38;5;124m'\u001b[39m\u001b[38;5;132;01m{\u001b[39;00mvar\u001b[38;5;132;01m}\u001b[39;00m\u001b[38;5;124m'\u001b[39m\u001b[38;5;124m\"\u001b[39m\n\u001b[0;32m--> 541\u001b[0m         \u001b[38;5;28;01mraise\u001b[39;00m \u001b[38;5;167;01mValueError\u001b[39;00m(err)\n\u001b[1;32m    543\u001b[0m \u001b[38;5;66;03m# Figure out the plotting orientation\u001b[39;00m\n\u001b[1;32m    544\u001b[0m orient \u001b[38;5;241m=\u001b[39m infer_orient(\n\u001b[1;32m    545\u001b[0m     x, y, orient, require_numeric\u001b[38;5;241m=\u001b[39m\u001b[38;5;28mself\u001b[39m\u001b[38;5;241m.\u001b[39mrequire_numeric\n\u001b[1;32m    546\u001b[0m )\n",
      "\u001b[0;31mValueError\u001b[0m: Could not interpret input 'Weighted Average Intensity_x'"
     ]
    },
    {
     "data": {
      "image/png": "[encoded data removed]",
      "text/plain": [
       "<Figure size 800x800 with 1 Axes>"
      ]
     },
     "metadata": {},
     "output_type": "display_data"
    }
   ],
   "source": [
    "fig, ax = plt.subplots(1, figsize=(8,8))\n",
    "\n",
    "# plot peak diameter by intensity\n",
    "\n",
    "sns.barplot(data=df_main.sort_values(by=\"lipidoid\"),\n",
    "            x=\"lipidoid\",\n",
    "            y=\"Weighted Average Intensity_x\",\n",
    "            hue=\"pH\",\n",
    "            ax=ax)\n",
    "\n",
    "for c in ax.containers:\n",
    "    # set the bar label\n",
    "    ax.bar_label(c, fmt='%.0f', label_type='edge', padding=1)\n",
    "\n",
    "#ax[0,0].set_ylabel('Mean Diameter (nm) \\n by Intensity %')\n",
    "#ax[0,0].legend(loc='center left', bbox_to_anchor=(1, 0.5), title=\"pH\")\n",
    "#plt.xticks(rotation = 45)\n",
    "var_id += 1\n",
    "\n",
    "plt.tight_layout()"
   ]
  },
  {
   "cell_type": "markdown",
   "id": "2bfd1426-12d9-422f-bfc9-976dd1f5bf35",
   "metadata": {},
   "source": [
    "# Plot spectra by lipidoid using seaborn"
   ]
  },
  {
   "cell_type": "code",
   "execution_count": null,
   "id": "52919549-fe12-43e1-8191-e432598bd55e",
   "metadata": {
    "tags": []
   },
   "outputs": [],
   "source": [
    "fig, ax = plt.subplots(2, sharex=True)\n",
    "\n",
    "# plot intensity data\n",
    "\n",
    "sns.lineplot(df_main,\n",
    "             x=\"Diameter (nm)\",\n",
    "             y=\"Intensity %\",\n",
    "             hue=\"lipidoid\",\n",
    "             style=\"pH\",\n",
    "             ax=ax[0])\n",
    "\n",
    "# plot number data\n",
    "\n",
    "sns.lineplot(df_main,\n",
    "             x=\"Diameter (nm)\",\n",
    "             y=\"Number %\",\n",
    "             hue=\"lipidoid\",\n",
    "             style=\"pH\",\n",
    "             ax=ax[1])\n",
    "\n",
    "# format axes\n",
    "\n",
    "ax[0].set_xscale('log')\n",
    "ax[1].set_xscale('log')\n",
    "\n",
    "ax[0].set_ylabel('Intensity %')\n",
    "ax[1].set_ylabel('Number %')\n",
    "\n",
    "ax[0].set_xlabel('Diameter (nm)')\n",
    "\n",
    "# format legend\n",
    "\n",
    "ax[1].legend()\n",
    "\n",
    "    \n",
    "plt.tight_layout()"
   ]
  },
  {
   "cell_type": "code",
   "execution_count": null,
   "id": "363b4bb7-cc33-4ac1-9c23-68b2d5e44b44",
   "metadata": {
    "tags": []
   },
   "outputs": [],
   "source": [
    "N = len(df_main[\"lipidoid\"].unique())\n",
    "\n",
    "fig, ax = plt.subplots(N,2, figsize=(20,N*3))\n",
    "\n",
    "ax_id = 0\n",
    "\n",
    "for lipidoid in df_main[\"lipidoid\"].unique():\n",
    "    \n",
    "    # plot intensity data\n",
    "    \n",
    "    sns.lineplot(df_main.loc[df_main[\"lipidoid\"]==lipidoid],\n",
    "                 x=\"Diameter (nm)\",\n",
    "                 y=\"Intensity %\",\n",
    "                 label=\"Raw Data\",\n",
    "                 hue=\"pH\",\n",
    "                 ax=ax[ax_id,0])\n",
    "    sns.lineplot(df_main.loc[df_main[\"lipidoid\"]==lipidoid],\n",
    "                 x=\"Diameter (nm)\",\n",
    "                 y=\"Fitted Intensity %\",\n",
    "                 label=\"Fitted Data\",\n",
    "                 hue=\"pH\",\n",
    "                 linestyle=\"dashed\",\n",
    "                 ax=ax[ax_id,0])\n",
    "\n",
    "    # plot number data\n",
    "    \n",
    "    sns.lineplot(df_main.loc[df_main[\"lipidoid\"]==lipidoid],\n",
    "                 x=\"Diameter (nm)\",\n",
    "                 y=\"Number %\",\n",
    "                 label=\"Raw Data\",\n",
    "                 hue=\"pH\",\n",
    "                 ax=ax[ax_id,1])\n",
    "    sns.lineplot(df_main.loc[df_main[\"lipidoid\"]==lipidoid],\n",
    "                 x=\"Diameter (nm)\",\n",
    "                 y=\"Fitted Number %\",\n",
    "                 label=\"Fitted Data\",\n",
    "                 hue=\"pH\",\n",
    "                 linestyle=\"dashed\",\n",
    "                 ax=ax[ax_id,1])\n",
    "\n",
    "    # format axes\n",
    "    \n",
    "    ax[ax_id,0].set_xscale('log')\n",
    "    ax[ax_id,1].set_xscale('log')\n",
    "    \n",
    "    ax[ax_id,0].set_title(lipidoid)\n",
    "    \n",
    "    ax[ax_id,0].set_ylabel('Intensity %')\n",
    "    ax[ax_id,1].set_ylabel('Number %')\n",
    "    \n",
    "    ax[ax_id,0].set_xlabel('Diameter (nm)')\n",
    "    ax[ax_id,1].set_xlabel('Diameter (nm)')\n",
    "    \n",
    "    # format legend\n",
    "    \n",
    "    ax[ax_id,1].legend()\n",
    "    \n",
    "    # format text\n",
    "    '''\n",
    "    ax[rn-1,0].text(df_main[\"Diameter (nm)\"].min(),\n",
    "                  0.5*df_main.loc[df_main[\"Record Number\"] == rn].loc[:,\"Intensity %\"].max(),\n",
    "                  \"mean = \" + \"{:.2f}\".format(df_main.loc[rn,\"x0 Intensity\"]) + \"\\n\" + \"$\\sigma$ = \" + \"10^{:.2f}\".format(df_rn.loc[rn,\"sigma Intensity\"]))\n",
    "\n",
    "    ax[rn-1,1].text(df_main[\"Diameter (nm)\"].min(),\n",
    "                  0.5*df_main.loc[df_main[\"Record Number\"] == rn].loc[:,\"Number %\"].max(),\n",
    "                  \"mean = \" + \"{:.2f}\".format(df_rn.loc[rn,\"x0 Number\"]) + \"\\n\" + \"$\\sigma$ = \" + \"10^{:.2f}\".format(df_rn.loc[rn,\"sigma Number\"]))\n",
    "    '''\n",
    "    \n",
    "    ax_id += 1\n",
    "    \n",
    "plt.tight_layout()"
   ]
  },
  {
   "cell_type": "markdown",
   "id": "f507f7a1-6ca3-4b6e-8b4a-9339fd445b04",
   "metadata": {},
   "source": [
    "# Plot spectra by lipidoid using matplotlib"
   ]
  },
  {
   "cell_type": "code",
   "execution_count": null,
   "id": "b9c77dba-9177-44bb-9b3f-251667553f4f",
   "metadata": {
    "tags": []
   },
   "outputs": [],
   "source": [
    "N = len(df_main[\"lipidoid\"].unique())\n",
    "\n",
    "fig, ax = plt.subplots(N,2, figsize=(20,N*3))\n",
    "\n",
    "ax_id = 0\n",
    "\n",
    "for lipidoid in df_main[\"lipidoid\"].unique():\n",
    "    \n",
    "    # plot intensity data\n",
    "    \n",
    "    ax[ax_id,0].plot(df_main.loc[df_main[\"lipidoid\"]==lipidoid].loc[:,\"Diameter (nm)\"],\n",
    "                   df_main.loc[df_main[\"lipidoid\"]==lipidoid].loc[:,\"Intensity %\"],\n",
    "                   label=\"Raw Data\")\n",
    "    ax[ax_id,0].plot(df_main.loc[df_main[\"lipidoid\"]==lipidoid].loc[:,\"Diameter (nm)\"],\n",
    "                  df_main.loc[df_main[\"lipidoid\"]==lipidoid].loc[:,\"Fitted Intensity %\"],\n",
    "                  label=\"Fitted Data\")\n",
    "    \n",
    "    # plot number data\n",
    "    \n",
    "    ax[ax_id,1].plot(df_main.loc[df_main[\"lipidoid\"]==lipidoid].loc[:,\"Diameter (nm)\"],\n",
    "                  df_main.loc[df_main[\"lipidoid\"]==lipidoid].loc[:,\"Number %\"],\n",
    "                  label=\"Raw Data\")\n",
    "    ax[ax_id,1].plot(df_main.loc[df_main[\"lipidoid\"]==lipidoid].loc[:,\"Diameter (nm)\"],\n",
    "                  df_main.loc[df_main[\"lipidoid\"]==lipidoid].loc[:,\"Fitted Number %\"],\n",
    "                  label=\"Fitted Data\")\n",
    "\n",
    "    # format axes\n",
    "    \n",
    "    ax[ax_id,0].set_xscale('log')\n",
    "    ax[ax_id,1].set_xscale('log')\n",
    "    \n",
    "    ax[ax_id,0].set_title(lipidoid)\n",
    "    \n",
    "    ax[ax_id,0].set_ylabel('Intensity %')\n",
    "    ax[ax_id,1].set_ylabel('Number %')\n",
    "    \n",
    "    ax[ax_id,0].set_xlabel('Diameter (nm)')\n",
    "    ax[ax_id,1].set_xlabel('Diameter (nm)')\n",
    "    \n",
    "    # format legend\n",
    "    \n",
    "    ax[ax_id,1].legend()\n",
    "    \n",
    "    # format text\n",
    "    '''\n",
    "    ax[rn-1,0].text(df_main[\"Diameter (nm)\"].min(),\n",
    "                  0.5*df_main.loc[df_main[\"Record Number\"] == rn].loc[:,\"Intensity %\"].max(),\n",
    "                  \"mean = \" + \"{:.2f}\".format(df_main.loc[rn,\"x0 Intensity\"]) + \"\\n\" + \"$\\sigma$ = \" + \"10^{:.2f}\".format(df_rn.loc[rn,\"sigma Intensity\"]))\n",
    "\n",
    "    ax[rn-1,1].text(df_main[\"Diameter (nm)\"].min(),\n",
    "                  0.5*df_main.loc[df_main[\"Record Number\"] == rn].loc[:,\"Number %\"].max(),\n",
    "                  \"mean = \" + \"{:.2f}\".format(df_rn.loc[rn,\"x0 Number\"]) + \"\\n\" + \"$\\sigma$ = \" + \"10^{:.2f}\".format(df_rn.loc[rn,\"sigma Number\"]))\n",
    "    '''\n",
    "    \n",
    "    ax_id += 1\n",
    "    \n",
    "plt.tight_layout()"
   ]
  },
  {
   "cell_type": "markdown",
   "id": "53068047-4685-40d7-b06c-2cf2378596ec",
   "metadata": {
    "tags": []
   },
   "source": [
    "## Plot fitted and raw data by record number"
   ]
  },
  {
   "cell_type": "code",
   "execution_count": null,
   "id": "13b3960b-c220-487f-ba58-556a855658aa",
   "metadata": {},
   "outputs": [],
   "source": [
    "# plot for just intensity"
   ]
  },
  {
   "cell_type": "code",
   "execution_count": 110,
   "id": "295b9efa-0f54-4f90-a101-afb7f735affa",
   "metadata": {
    "tags": []
   },
   "outputs": [
    {
     "data": {
      "text/plain": [
       "array([  7,   8,   9,  31,  32,  33,  34,  35,  36,  46,  47,  48,  67,\n",
       "        68,  69,  91,  92,  93, 130, 131, 132, 142, 143, 144, 157, 158,\n",
       "       159])"
      ]
     },
     "execution_count": 110,
     "metadata": {},
     "output_type": "execute_result"
    }
   ],
   "source": [
    "df_main[df_main[\"title\"]=='CF POPG LUV 1X']['Record Number'].unique()"
   ]
  },
  {
   "cell_type": "code",
   "execution_count": 112,
   "id": "d053f93b-033c-42a9-b56e-da7b8f475e32",
   "metadata": {
    "tags": []
   },
   "outputs": [
    {
     "data": {
      "image/png": "[encoded data removed]",
      "text/plain": [
       "<Figure size 400x400 with 1 Axes>"
      ]
     },
     "metadata": {},
     "output_type": "display_data"
    },
    {
     "data": {
      "image/png": "[encoded data removed]",
      "text/plain": [
       "<Figure size 400x400 with 1 Axes>"
      ]
     },
     "metadata": {},
     "output_type": "display_data"
    }
   ],
   "source": [
    "N = len(df_main[\"Record Number\"].unique())\n",
    "\n",
    "# just plot one\n",
    "N = 1\n",
    "\n",
    "\n",
    "for rn in [7,30]: #df_main[\"Record Number\"].unique():\n",
    "\n",
    "    fig, ax = plt.subplots(1,1, figsize=(4,4), squeeze=False)\n",
    "\n",
    "    # plot intensity data\n",
    "\n",
    "    ax[0,0].plot(df_main.loc[df_main[\"Record Number\"]==rn].loc[:,\"Diameter (nm)\"],\n",
    "                  df_main.loc[df_main[\"Record Number\"]==rn].loc[:,\"Intensity %\"],\n",
    "                  label=\"Raw Data\")\n",
    "    ax[0,0].plot(df_main.loc[df_main[\"Record Number\"]==rn].loc[:,\"Diameter (nm)\"],\n",
    "                  df_main.loc[df_main[\"Record Number\"]==rn].loc[:,\"Fitted Intensity %\"],\n",
    "                  label=\"Gaussian Fit\")\n",
    "\n",
    "    # format axes\n",
    "\n",
    "    ax[0,0].set_xscale('log')\n",
    "    title = df_main.loc[df_main[\"Record Number\"]==rn].loc[:,\"title\"].unique()[0]\n",
    "    ax[0,0].set_title(title)\n",
    "\n",
    "    ax[0,0].set_ylabel('Intensity %')\n",
    "\n",
    "    ax[0,0].set_xlabel('Diameter (nm)')\n",
    "\n",
    "    ax[0,0].legend()\n",
    "\n",
    "    # format text\n",
    "    '''\n",
    "    ax[rn-1,0].text(df_main[\"Diameter (nm)\"].min(),\n",
    "                  0.5*df_main.loc[df_main[\"Record Number\"] == rn].loc[:,\"Intensity %\"].max(),\n",
    "                  \"mean = \" + \"{:.2f}\".format(df_main.loc[rn,\"x0 Intensity\"]) + \"\\n\" + \"$\\sigma$ = \" + \"10^{:.2f}\".format(df_rn.loc[rn,\"sigma Intensity\"]))\n",
    "\n",
    "    ax[rn-1,1].text(df_main[\"Diameter (nm)\"].min(),\n",
    "                  0.5*df_main.loc[df_main[\"Record Number\"] == rn].loc[:,\"Number %\"].max(),\n",
    "                  \"mean = \" + \"{:.2f}\".format(df_rn.loc[rn,\"x0 Number\"]) + \"\\n\" + \"$\\sigma$ = \" + \"10^{:.2f}\".format(df_rn.loc[rn,\"sigma Number\"]))\n",
    "    '''\n",
    "    plt.tight_layout()\n",
    "    plt.savefig('data/plots/DLS spectra/' + title + '.png')\n",
    "    plt.savefig('data/plots/DLS spectra/' + title + '.svg')"
   ]
  },
  {
   "cell_type": "code",
   "execution_count": 95,
   "id": "3471f07f-f9b1-42eb-9f03-7c919dc56a4a",
   "metadata": {
    "tags": []
   },
   "outputs": [
    {
     "data": {
      "image/png": "[encoded data removed]",
      "text/plain": [
       "<Figure size 800x400 with 2 Axes>"
      ]
     },
     "metadata": {},
     "output_type": "display_data"
    }
   ],
   "source": [
    "N = len(df_main[\"Record Number\"].unique())\n",
    "\n",
    "# just plot one\n",
    "N = 1\n",
    "\n",
    "fig, ax = plt.subplots(N,2, figsize=(8,N*4), squeeze=False)\n",
    "\n",
    "for rn in [0]: #df_main[\"Record Number\"].unique():\n",
    "    \n",
    "    # plot intensity data\n",
    "    \n",
    "    ax[rn-1,0].plot(df_main.loc[df_main[\"Record Number\"]==rn].loc[:,\"Diameter (nm)\"],\n",
    "                  df_main.loc[df_main[\"Record Number\"]==rn].loc[:,\"Intensity %\"],\n",
    "                  label=\"Raw Data\")\n",
    "    ax[rn-1,0].plot(df_main.loc[df_main[\"Record Number\"]==rn].loc[:,\"Diameter (nm)\"],\n",
    "                  df_main.loc[df_main[\"Record Number\"]==rn].loc[:,\"Fitted Intensity %\"],\n",
    "                  label=\"Fitted Data\")\n",
    "\n",
    "    # plot number data\n",
    "    \n",
    "    ax[rn-1,1].plot(df_main.loc[df_main[\"Record Number\"]==rn].loc[:,\"Diameter (nm)\"],\n",
    "                  df_main.loc[df_main[\"Record Number\"]==rn].loc[:,\"Number %\"],\n",
    "                  label=\"Raw Data\")\n",
    "    ax[rn-1,1].plot(df_main.loc[df_main[\"Record Number\"]==rn].loc[:,\"Diameter (nm)\"],\n",
    "                  df_main.loc[df_main[\"Record Number\"]==rn].loc[:,\"Fitted Number %\"],\n",
    "                  label=\"Fitted Data\")\n",
    "\n",
    "    # format axes\n",
    "    \n",
    "    ax[rn-1,0].set_xscale('log')\n",
    "    ax[rn-1,1].set_xscale('log')\n",
    "    \n",
    "    ax[rn-1,0].set_title('Record Number '+str(rn))\n",
    "    \n",
    "    ax[rn-1,0].set_ylabel('Intensity %')\n",
    "    ax[rn-1,1].set_ylabel('Number %')\n",
    "    \n",
    "    ax[rn-1,0].set_xlabel('Diameter (nm)')\n",
    "    ax[rn-1,1].set_xlabel('Diameter (nm)')\n",
    "    \n",
    "    ax[rn-1,0].legend()\n",
    "    \n",
    "    # format text\n",
    "    '''\n",
    "    ax[rn-1,0].text(df_main[\"Diameter (nm)\"].min(),\n",
    "                  0.5*df_main.loc[df_main[\"Record Number\"] == rn].loc[:,\"Intensity %\"].max(),\n",
    "                  \"mean = \" + \"{:.2f}\".format(df_main.loc[rn,\"x0 Intensity\"]) + \"\\n\" + \"$\\sigma$ = \" + \"10^{:.2f}\".format(df_rn.loc[rn,\"sigma Intensity\"]))\n",
    "\n",
    "    ax[rn-1,1].text(df_main[\"Diameter (nm)\"].min(),\n",
    "                  0.5*df_main.loc[df_main[\"Record Number\"] == rn].loc[:,\"Number %\"].max(),\n",
    "                  \"mean = \" + \"{:.2f}\".format(df_rn.loc[rn,\"x0 Number\"]) + \"\\n\" + \"$\\sigma$ = \" + \"10^{:.2f}\".format(df_rn.loc[rn,\"sigma Number\"]))\n",
    "    '''\n",
    "    plt.tight_layout()"
   ]
  },
  {
   "cell_type": "markdown",
   "id": "459af9ac-2dc4-4ef7-8944-78766c47100e",
   "metadata": {},
   "source": [
    "#  Plot specific items"
   ]
  },
  {
   "cell_type": "markdown",
   "id": "26dd33e5-022a-4613-bd56-ba410841ddce",
   "metadata": {},
   "source": [
    "# R18 POPC LUV by pH"
   ]
  },
  {
   "cell_type": "code",
   "execution_count": 123,
   "id": "e15b2a8e-b613-4be0-ad2f-c62e56b61a52",
   "metadata": {
    "tags": []
   },
   "outputs": [],
   "source": [
    "keeptitles = [\"R18 POPC LUV pH 5.5 0.05X\",\n",
    "              \"R18 POPC LUV pH 7.4 0.025X\"]\n",
    "             #\"R18 POPC LUV 0.01X\",]"
   ]
  },
  {
   "cell_type": "code",
   "execution_count": 124,
   "id": "4c94ca6a-9a7a-43ad-b7f9-bd3e83d79af9",
   "metadata": {
    "tags": []
   },
   "outputs": [],
   "source": [
    "df_keep = df_main.loc[df_main[\"title\"].isin(keeptitles)]"
   ]
  },
  {
   "cell_type": "code",
   "execution_count": 125,
   "id": "0976db65-bc71-40db-ab51-88a35216b178",
   "metadata": {
    "tags": []
   },
   "outputs": [
    {
     "data": {
      "image/png": "[encoded data removed]",
      "text/plain": [
       "<Figure size 400x400 with 2 Axes>"
      ]
     },
     "metadata": {},
     "output_type": "display_data"
    }
   ],
   "source": [
    "fig, ax = plt.subplots(2,1, figsize=(4,4), sharex=True)\n",
    "\n",
    "sns.lineplot(data=df_keep,\n",
    "             x=\"Diameter (nm)\",\n",
    "             y=\"Intensity %\",\n",
    "             hue=\"pH\",\n",
    "             ax=ax[0])\n",
    "\n",
    "sns.lineplot(data=df_keep,\n",
    "             x=\"Diameter (nm)\",\n",
    "             y=\"Number %\",\n",
    "             hue=\"pH\",\n",
    "             ax=ax[1])\n",
    "\n",
    "ax[0].set_xscale('log')"
   ]
  },
  {
   "cell_type": "code",
   "execution_count": 126,
   "id": "139c126a-c8ac-4d9a-8f56-0c80636eb2b8",
   "metadata": {
    "tags": []
   },
   "outputs": [
    {
     "data": {
      "image/png": "[encoded data removed]",
      "text/plain": [
       "<Figure size 400x400 with 2 Axes>"
      ]
     },
     "metadata": {},
     "output_type": "display_data"
    }
   ],
   "source": [
    "fig, ax = plt.subplots(2,1, figsize=(4,4), sharex=True)\n",
    "\n",
    "sns.barplot(data=df_keep,\n",
    "             x=\"pH\",\n",
    "             y=\"x0 Intensity\",\n",
    "             ax=ax[0])\n",
    "\n",
    "sns.barplot(data=df_keep,\n",
    "             x=\"pH\",\n",
    "             y=\"x0 Number\",\n",
    "             ax=ax[1])\n",
    "\n",
    "for c in ax[0].containers:\n",
    "    # set the bar label\n",
    "    ax[0].bar_label(c, fmt='%.0f', label_type='edge', padding=1)\n"
   ]
  },
  {
   "cell_type": "code",
   "execution_count": 128,
   "id": "8c3ba628-2120-431a-bc33-f823592f575b",
   "metadata": {
    "tags": []
   },
   "outputs": [
    {
     "data": {
      "image/png": "[encoded data removed]",
      "text/plain": [
       "<Figure size 1200x400 with 3 Axes>"
      ]
     },
     "metadata": {},
     "output_type": "display_data"
    }
   ],
   "source": [
    "fig, ax = plt.subplots(1,3, figsize=(12,4), sharey=True)\n",
    "\n",
    "var_id = 0\n",
    "\n",
    "for variable in ['Peak Diameter by Intensity %', 'x0 Intensity', 'Weighted Average Intensity']:\n",
    "\n",
    "    # plot peak diameter by intensity\n",
    "    sns.barplot(data=df_keep,\n",
    "                x=\"pH\",\n",
    "                y=variable,\n",
    "               ax=ax[var_id])\n",
    "\n",
    "    #ax[0,0].set_ylabel('Mean Diameter (nm) \\n by Intensity %')\n",
    "    #ax[0,0].legend(loc='center left', bbox_to_anchor=(1, 0.5), title=\"pH\")\n",
    "    #plt.xticks(rotation = 45)\n",
    "    var_id += 1\n",
    "    \n",
    "    plt.tight_layout()"
   ]
  },
  {
   "cell_type": "code",
   "execution_count": null,
   "id": "27430082-738e-45f6-983d-2de333624bb5",
   "metadata": {},
   "outputs": [],
   "source": []
  }
 ],
 "metadata": {
  "colab": {
   "provenance": []
  },
  "kernelspec": {
   "display_name": "Python 3 (ipykernel)",
   "language": "python",
   "name": "python3"
  },
  "language_info": {
   "codemirror_mode": {
    "name": "ipython",
    "version": 3
   },
   "file_extension": ".py",
   "mimetype": "text/x-python",
   "name": "python",
   "nbconvert_exporter": "python",
   "pygments_lexer": "ipython3",
   "version": "3.11.2"
  }
 },
 "nbformat": 4,
 "nbformat_minor": 5
}
