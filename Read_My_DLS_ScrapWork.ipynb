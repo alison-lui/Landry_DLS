{
 "cells": [
  {
   "cell_type": "markdown",
   "id": "6de1a241",
   "metadata": {},
   "source": [
    "# DLS Reading Python Code"
   ]
  },
  {
   "cell_type": "markdown",
   "id": "8145bb4f-7b4c-4cc2-9318-e5b588e658b1",
   "metadata": {
    "tags": [],
    "toc-hr-collapsed": true
   },
   "source": [
    "# Import packages"
   ]
  },
  {
   "cell_type": "code",
   "execution_count": 1,
   "id": "e335a5ef",
   "metadata": {
    "colab": {
     "background_save": true
    },
    "id": "e335a5ef",
    "tags": []
   },
   "outputs": [],
   "source": [
    "import os\n",
    "import numpy as np\n",
    "import pandas as pd\n",
    "import seaborn as sns\n",
    "import matplotlib.pyplot as plt\n",
    "import re\n",
    "import calendar\n",
    "from scipy.optimize import curve_fit\n",
    "#from google.colab import drive\n",
    "#drive.mount('/content/drive')"
   ]
  },
  {
   "cell_type": "markdown",
   "id": "b5f59905",
   "metadata": {
    "id": "b5f59905",
    "tags": []
   },
   "source": [
    "# LOAD & FORMAT DATA"
   ]
  },
  {
   "cell_type": "code",
   "execution_count": 13,
   "id": "1244a459-7b78-40dc-9515-dfd49f318726",
   "metadata": {
    "tags": []
   },
   "outputs": [],
   "source": [
    "# choose folder which includes hella DLS files\n",
    "path = r'/Users/alison/Library/CloudStorage/GoogleDrive-alui@berkeley.edu/My Drive/Research/Alison DLS'\n",
    "files = os.listdir(path)\n",
    "\n",
    "def check_composite(filename):\n",
    "    if 'COMPOSITE' in filename:\n",
    "            return filename\n",
    "\n",
    "files = list(filter(check_composite, files))\n",
    "\n",
    "# choose only the excel files\n",
    "files_xls = [f for f in files if f[-4:] == 'xlsx']\n",
    "\n",
    "# initiate new dataframe\n",
    "df = pd.DataFrame()\n",
    "\n",
    "# open each file and concatenate into df if sheetname is given below:\n",
    "insheet = [\"2023-01-27 304oi10 and 306o10 f\",\n",
    "            \"2023-02-23 LUV\",\n",
    "            \"2023-03-21 LUV\",\n",
    "            \"2023-03-31\",\n",
    "            \"2023-05-10\",\n",
    "            \"2023-06-15 LNP pH 7.4\",\n",
    "            \"2023-07-21 LUV + LNP\",\n",
    "            \"2023-07-27 lnp\"]\n",
    "\n",
    "for f in files_xls:\n",
    "    \n",
    "    \n",
    "    # open excel file\n",
    "    xl = pd.ExcelFile(os.path.join(path,f))\n",
    "\n",
    "    # read sheet names and find intersection with insheet list\n",
    "    sheetlist = list(set(xl.sheet_names) & set(insheet))   \n",
    "\n",
    "    for sheet_name in sheetlist:\n",
    "        # open sheet and concatenate with file\n",
    "        data = pd.read_excel(os.path.join(path,f), sheet_name, header=0)\n",
    "        data[\"filename\"] = f\n",
    "        data[\"sheetname\"] = sheet_name\n",
    "        df = pd.concat([df,data])"
   ]
  },
  {
   "cell_type": "markdown",
   "id": "b2873ada-b7fb-45c8-b367-32ee19ed4bac",
   "metadata": {
    "tags": []
   },
   "source": [
    "## Format df"
   ]
  },
  {
   "cell_type": "code",
   "execution_count": 14,
   "id": "0c178766-5612-4180-add1-314dc06c932a",
   "metadata": {
    "tags": []
   },
   "outputs": [],
   "source": [
    "# remove any columns that include the word Zeta\n",
    "df = df.drop(columns=df.filter(regex=(r\"Zeta\")).columns)"
   ]
  },
  {
   "cell_type": "code",
   "execution_count": null,
   "id": "4a847e54-3b51-4552-afbf-0bcba5e9eb41",
   "metadata": {
    "tags": []
   },
   "outputs": [],
   "source": [
    "# if no measurement date & time, fill with Jan 0, 2000\n",
    "df[\"Measurement Date and Time\"] = df[\"Measurement Date and Time\"].fillna('Monday, January 1, 2000 12:00:00 AM')"
   ]
  },
  {
   "cell_type": "code",
   "execution_count": 16,
   "id": "1e31a6ae-de01-42de-bc62-eb2dd084beb3",
   "metadata": {
    "tags": []
   },
   "outputs": [],
   "source": [
    "# drop Record Number column\n",
    "df.drop(columns=\"Record Number\")\n",
    "\n",
    "# reset index to be unique values\n",
    "df.reset_index(drop=True, inplace=True)\n",
    "\n",
    "# make new column called Record Number which includes just unique indices\n",
    "df[\"Record Number\"] = df.index.values"
   ]
  },
  {
   "cell_type": "markdown",
   "id": "04e4ac3c",
   "metadata": {
    "id": "04e4ac3c",
    "tags": []
   },
   "source": [
    "## Create size dataframe"
   ]
  },
  {
   "cell_type": "code",
   "execution_count": 17,
   "id": "d5a4faf1",
   "metadata": {
    "id": "d5a4faf1",
    "tags": []
   },
   "outputs": [
    {
     "data": {
      "text/html": [
       "<div>\n",
       "<style scoped>\n",
       "    .dataframe tbody tr th:only-of-type {\n",
       "        vertical-align: middle;\n",
       "    }\n",
       "\n",
       "    .dataframe tbody tr th {\n",
       "        vertical-align: top;\n",
       "    }\n",
       "\n",
       "    .dataframe thead th {\n",
       "        text-align: right;\n",
       "    }\n",
       "</style>\n",
       "<table border=\"1\" class=\"dataframe\">\n",
       "  <thead>\n",
       "    <tr style=\"text-align: right;\">\n",
       "      <th></th>\n",
       "      <th>Diameter (nm)</th>\n",
       "      <th>DLS index</th>\n",
       "      <th>Log Diameter</th>\n",
       "    </tr>\n",
       "  </thead>\n",
       "  <tbody>\n",
       "    <tr>\n",
       "      <th>0</th>\n",
       "      <td>0.4000</td>\n",
       "      <td>1</td>\n",
       "      <td>-0.397940</td>\n",
       "    </tr>\n",
       "    <tr>\n",
       "      <th>1</th>\n",
       "      <td>0.4632</td>\n",
       "      <td>2</td>\n",
       "      <td>-0.334231</td>\n",
       "    </tr>\n",
       "    <tr>\n",
       "      <th>2</th>\n",
       "      <td>0.5365</td>\n",
       "      <td>3</td>\n",
       "      <td>-0.270430</td>\n",
       "    </tr>\n",
       "    <tr>\n",
       "      <th>3</th>\n",
       "      <td>0.6213</td>\n",
       "      <td>4</td>\n",
       "      <td>-0.206699</td>\n",
       "    </tr>\n",
       "    <tr>\n",
       "      <th>4</th>\n",
       "      <td>0.7195</td>\n",
       "      <td>5</td>\n",
       "      <td>-0.142969</td>\n",
       "    </tr>\n",
       "    <tr>\n",
       "      <th>...</th>\n",
       "      <td>...</td>\n",
       "      <td>...</td>\n",
       "      <td>...</td>\n",
       "    </tr>\n",
       "    <tr>\n",
       "      <th>65</th>\n",
       "      <td>5560.0000</td>\n",
       "      <td>66</td>\n",
       "      <td>3.745075</td>\n",
       "    </tr>\n",
       "    <tr>\n",
       "      <th>66</th>\n",
       "      <td>6439.0000</td>\n",
       "      <td>67</td>\n",
       "      <td>3.808818</td>\n",
       "    </tr>\n",
       "    <tr>\n",
       "      <th>67</th>\n",
       "      <td>7456.0000</td>\n",
       "      <td>68</td>\n",
       "      <td>3.872506</td>\n",
       "    </tr>\n",
       "    <tr>\n",
       "      <th>68</th>\n",
       "      <td>8635.0000</td>\n",
       "      <td>69</td>\n",
       "      <td>3.936262</td>\n",
       "    </tr>\n",
       "    <tr>\n",
       "      <th>69</th>\n",
       "      <td>10000.0000</td>\n",
       "      <td>70</td>\n",
       "      <td>4.000000</td>\n",
       "    </tr>\n",
       "  </tbody>\n",
       "</table>\n",
       "<p>70 rows × 3 columns</p>\n",
       "</div>"
      ],
      "text/plain": [
       "    Diameter (nm)  DLS index  Log Diameter\n",
       "0          0.4000          1     -0.397940\n",
       "1          0.4632          2     -0.334231\n",
       "2          0.5365          3     -0.270430\n",
       "3          0.6213          4     -0.206699\n",
       "4          0.7195          5     -0.142969\n",
       "..            ...        ...           ...\n",
       "65      5560.0000         66      3.745075\n",
       "66      6439.0000         67      3.808818\n",
       "67      7456.0000         68      3.872506\n",
       "68      8635.0000         69      3.936262\n",
       "69     10000.0000         70      4.000000\n",
       "\n",
       "[70 rows x 3 columns]"
      ]
     },
     "execution_count": 17,
     "metadata": {},
     "output_type": "execute_result"
    }
   ],
   "source": [
    "size = df.filter(regex=r'Size').drop_duplicates().dropna().T.reset_index().rename(columns={0:\"Diameter (nm)\"})\n",
    "size['DLS index'] = size['index'].str.findall(r'\\d+').explode().astype(int)\n",
    "size['Log Diameter'] = size[\"Diameter (nm)\"].apply(\"log10\")\n",
    "size = size.drop(columns='index')\n",
    "size"
   ]
  },
  {
   "cell_type": "markdown",
   "id": "cf1fac4d",
   "metadata": {
    "id": "cf1fac4d"
   },
   "source": [
    "## Create intensity dataframe"
   ]
  },
  {
   "cell_type": "code",
   "execution_count": 24,
   "id": "c01770f9",
   "metadata": {
    "id": "c01770f9",
    "tags": []
   },
   "outputs": [
    {
     "data": {
      "text/html": [
       "<div>\n",
       "<style scoped>\n",
       "    .dataframe tbody tr th:only-of-type {\n",
       "        vertical-align: middle;\n",
       "    }\n",
       "\n",
       "    .dataframe tbody tr th {\n",
       "        vertical-align: top;\n",
       "    }\n",
       "\n",
       "    .dataframe thead th {\n",
       "        text-align: right;\n",
       "    }\n",
       "</style>\n",
       "<table border=\"1\" class=\"dataframe\">\n",
       "  <thead>\n",
       "    <tr style=\"text-align: right;\">\n",
       "      <th>Record Number</th>\n",
       "      <th>0</th>\n",
       "      <th>1</th>\n",
       "      <th>2</th>\n",
       "      <th>3</th>\n",
       "      <th>4</th>\n",
       "      <th>5</th>\n",
       "      <th>6</th>\n",
       "      <th>7</th>\n",
       "      <th>8</th>\n",
       "      <th>9</th>\n",
       "      <th>...</th>\n",
       "      <th>190</th>\n",
       "      <th>191</th>\n",
       "      <th>192</th>\n",
       "      <th>193</th>\n",
       "      <th>194</th>\n",
       "      <th>195</th>\n",
       "      <th>196</th>\n",
       "      <th>197</th>\n",
       "      <th>198</th>\n",
       "      <th>DLS index</th>\n",
       "    </tr>\n",
       "  </thead>\n",
       "  <tbody>\n",
       "    <tr>\n",
       "      <th>Intensities[1] (Percent)</th>\n",
       "      <td>0.0</td>\n",
       "      <td>0.0</td>\n",
       "      <td>0.0</td>\n",
       "      <td>0.0</td>\n",
       "      <td>0.0</td>\n",
       "      <td>0.0</td>\n",
       "      <td>0.0</td>\n",
       "      <td>0.0</td>\n",
       "      <td>0.0</td>\n",
       "      <td>0.0</td>\n",
       "      <td>...</td>\n",
       "      <td>0.0</td>\n",
       "      <td>0.0</td>\n",
       "      <td>0.0</td>\n",
       "      <td>0.0</td>\n",
       "      <td>0.0</td>\n",
       "      <td>0.0</td>\n",
       "      <td>0.0</td>\n",
       "      <td>0.0</td>\n",
       "      <td>0.0</td>\n",
       "      <td>1</td>\n",
       "    </tr>\n",
       "    <tr>\n",
       "      <th>Intensities[2] (Percent)</th>\n",
       "      <td>0.0</td>\n",
       "      <td>0.0</td>\n",
       "      <td>0.0</td>\n",
       "      <td>0.0</td>\n",
       "      <td>0.0</td>\n",
       "      <td>0.0</td>\n",
       "      <td>0.0</td>\n",
       "      <td>0.0</td>\n",
       "      <td>0.0</td>\n",
       "      <td>0.0</td>\n",
       "      <td>...</td>\n",
       "      <td>0.0</td>\n",
       "      <td>0.0</td>\n",
       "      <td>0.0</td>\n",
       "      <td>0.0</td>\n",
       "      <td>0.0</td>\n",
       "      <td>0.0</td>\n",
       "      <td>0.0</td>\n",
       "      <td>0.0</td>\n",
       "      <td>0.0</td>\n",
       "      <td>2</td>\n",
       "    </tr>\n",
       "    <tr>\n",
       "      <th>Intensities[3] (Percent)</th>\n",
       "      <td>0.0</td>\n",
       "      <td>0.0</td>\n",
       "      <td>0.0</td>\n",
       "      <td>0.0</td>\n",
       "      <td>0.0</td>\n",
       "      <td>0.0</td>\n",
       "      <td>0.0</td>\n",
       "      <td>0.0</td>\n",
       "      <td>0.0</td>\n",
       "      <td>0.0</td>\n",
       "      <td>...</td>\n",
       "      <td>0.0</td>\n",
       "      <td>0.0</td>\n",
       "      <td>0.0</td>\n",
       "      <td>0.0</td>\n",
       "      <td>0.0</td>\n",
       "      <td>0.0</td>\n",
       "      <td>0.0</td>\n",
       "      <td>0.0</td>\n",
       "      <td>0.0</td>\n",
       "      <td>3</td>\n",
       "    </tr>\n",
       "  </tbody>\n",
       "</table>\n",
       "<p>3 rows × 200 columns</p>\n",
       "</div>"
      ],
      "text/plain": [
       "Record Number               0    1    2    3    4    5    6    7    8    9  \\\n",
       "Intensities[1] (Percent)  0.0  0.0  0.0  0.0  0.0  0.0  0.0  0.0  0.0  0.0   \n",
       "Intensities[2] (Percent)  0.0  0.0  0.0  0.0  0.0  0.0  0.0  0.0  0.0  0.0   \n",
       "Intensities[3] (Percent)  0.0  0.0  0.0  0.0  0.0  0.0  0.0  0.0  0.0  0.0   \n",
       "\n",
       "Record Number             ...  190  191  192  193  194  195  196  197  198  \\\n",
       "Intensities[1] (Percent)  ...  0.0  0.0  0.0  0.0  0.0  0.0  0.0  0.0  0.0   \n",
       "Intensities[2] (Percent)  ...  0.0  0.0  0.0  0.0  0.0  0.0  0.0  0.0  0.0   \n",
       "Intensities[3] (Percent)  ...  0.0  0.0  0.0  0.0  0.0  0.0  0.0  0.0  0.0   \n",
       "\n",
       "Record Number             DLS index  \n",
       "Intensities[1] (Percent)          1  \n",
       "Intensities[2] (Percent)          2  \n",
       "Intensities[3] (Percent)          3  \n",
       "\n",
       "[3 rows x 200 columns]"
      ]
     },
     "execution_count": 24,
     "metadata": {},
     "output_type": "execute_result"
    }
   ],
   "source": [
    "intensity = df.filter(regex=r'Record Number|Intensities').set_index('Record Number').T\n",
    "intensity['DLS index'] = pd.Series(intensity.index).str.findall(r'\\d+').explode().values.astype(int)\n",
    "\n",
    "# drop any rows for which there are nan values\n",
    "intensity = intensity.dropna(axis=1)\n",
    "intensity.head(3)"
   ]
  },
  {
   "cell_type": "markdown",
   "id": "f80dc515",
   "metadata": {
    "id": "f80dc515"
   },
   "source": [
    "## Create number dataframe"
   ]
  },
  {
   "cell_type": "code",
   "execution_count": 25,
   "id": "99781cb2",
   "metadata": {
    "id": "99781cb2",
    "tags": []
   },
   "outputs": [
    {
     "data": {
      "text/html": [
       "<div>\n",
       "<style scoped>\n",
       "    .dataframe tbody tr th:only-of-type {\n",
       "        vertical-align: middle;\n",
       "    }\n",
       "\n",
       "    .dataframe tbody tr th {\n",
       "        vertical-align: top;\n",
       "    }\n",
       "\n",
       "    .dataframe thead th {\n",
       "        text-align: right;\n",
       "    }\n",
       "</style>\n",
       "<table border=\"1\" class=\"dataframe\">\n",
       "  <thead>\n",
       "    <tr style=\"text-align: right;\">\n",
       "      <th>Record Number</th>\n",
       "      <th>0</th>\n",
       "      <th>1</th>\n",
       "      <th>2</th>\n",
       "      <th>3</th>\n",
       "      <th>4</th>\n",
       "      <th>5</th>\n",
       "      <th>6</th>\n",
       "      <th>7</th>\n",
       "      <th>8</th>\n",
       "      <th>9</th>\n",
       "      <th>...</th>\n",
       "      <th>190</th>\n",
       "      <th>191</th>\n",
       "      <th>192</th>\n",
       "      <th>193</th>\n",
       "      <th>194</th>\n",
       "      <th>195</th>\n",
       "      <th>196</th>\n",
       "      <th>197</th>\n",
       "      <th>198</th>\n",
       "      <th>DLS index</th>\n",
       "    </tr>\n",
       "  </thead>\n",
       "  <tbody>\n",
       "    <tr>\n",
       "      <th>Numbers[1] (Percent)</th>\n",
       "      <td>0.0</td>\n",
       "      <td>0.0</td>\n",
       "      <td>0.0</td>\n",
       "      <td>0.0</td>\n",
       "      <td>0.0</td>\n",
       "      <td>0.0</td>\n",
       "      <td>0.0</td>\n",
       "      <td>0.0</td>\n",
       "      <td>0.0</td>\n",
       "      <td>0.0</td>\n",
       "      <td>...</td>\n",
       "      <td>0.0</td>\n",
       "      <td>0.0</td>\n",
       "      <td>0.0</td>\n",
       "      <td>0.0</td>\n",
       "      <td>0.0</td>\n",
       "      <td>0.0</td>\n",
       "      <td>0.0</td>\n",
       "      <td>0.0</td>\n",
       "      <td>0.0</td>\n",
       "      <td>1</td>\n",
       "    </tr>\n",
       "    <tr>\n",
       "      <th>Numbers[2] (Percent)</th>\n",
       "      <td>0.0</td>\n",
       "      <td>0.0</td>\n",
       "      <td>0.0</td>\n",
       "      <td>0.0</td>\n",
       "      <td>0.0</td>\n",
       "      <td>0.0</td>\n",
       "      <td>0.0</td>\n",
       "      <td>0.0</td>\n",
       "      <td>0.0</td>\n",
       "      <td>0.0</td>\n",
       "      <td>...</td>\n",
       "      <td>0.0</td>\n",
       "      <td>0.0</td>\n",
       "      <td>0.0</td>\n",
       "      <td>0.0</td>\n",
       "      <td>0.0</td>\n",
       "      <td>0.0</td>\n",
       "      <td>0.0</td>\n",
       "      <td>0.0</td>\n",
       "      <td>0.0</td>\n",
       "      <td>2</td>\n",
       "    </tr>\n",
       "    <tr>\n",
       "      <th>Numbers[3] (Percent)</th>\n",
       "      <td>0.0</td>\n",
       "      <td>0.0</td>\n",
       "      <td>0.0</td>\n",
       "      <td>0.0</td>\n",
       "      <td>0.0</td>\n",
       "      <td>0.0</td>\n",
       "      <td>0.0</td>\n",
       "      <td>0.0</td>\n",
       "      <td>0.0</td>\n",
       "      <td>0.0</td>\n",
       "      <td>...</td>\n",
       "      <td>0.0</td>\n",
       "      <td>0.0</td>\n",
       "      <td>0.0</td>\n",
       "      <td>0.0</td>\n",
       "      <td>0.0</td>\n",
       "      <td>0.0</td>\n",
       "      <td>0.0</td>\n",
       "      <td>0.0</td>\n",
       "      <td>0.0</td>\n",
       "      <td>3</td>\n",
       "    </tr>\n",
       "  </tbody>\n",
       "</table>\n",
       "<p>3 rows × 200 columns</p>\n",
       "</div>"
      ],
      "text/plain": [
       "Record Number           0    1    2    3    4    5    6    7    8    9  ...  \\\n",
       "Numbers[1] (Percent)  0.0  0.0  0.0  0.0  0.0  0.0  0.0  0.0  0.0  0.0  ...   \n",
       "Numbers[2] (Percent)  0.0  0.0  0.0  0.0  0.0  0.0  0.0  0.0  0.0  0.0  ...   \n",
       "Numbers[3] (Percent)  0.0  0.0  0.0  0.0  0.0  0.0  0.0  0.0  0.0  0.0  ...   \n",
       "\n",
       "Record Number         190  191  192  193  194  195  196  197  198  DLS index  \n",
       "Numbers[1] (Percent)  0.0  0.0  0.0  0.0  0.0  0.0  0.0  0.0  0.0          1  \n",
       "Numbers[2] (Percent)  0.0  0.0  0.0  0.0  0.0  0.0  0.0  0.0  0.0          2  \n",
       "Numbers[3] (Percent)  0.0  0.0  0.0  0.0  0.0  0.0  0.0  0.0  0.0          3  \n",
       "\n",
       "[3 rows x 200 columns]"
      ]
     },
     "execution_count": 25,
     "metadata": {},
     "output_type": "execute_result"
    }
   ],
   "source": [
    "number = df.filter(regex=r'Record Number|Numbers').set_index('Record Number').T\n",
    "number['DLS index'] = pd.Series(number.index).str.findall(r'\\d+').explode().values\n",
    "\n",
    "# drop any rows for which there are nan values\n",
    "number = number.dropna(axis=1)\n",
    "number.head(3)"
   ]
  },
  {
   "cell_type": "markdown",
   "id": "29d8a1de-11a9-41e1-8740-475ddff2fca2",
   "metadata": {
    "id": "f80dc515"
   },
   "source": [
    "## Create volume dataframe"
   ]
  },
  {
   "cell_type": "code",
   "execution_count": 28,
   "id": "a90e9999-85a6-4d2b-9a19-40052660c61d",
   "metadata": {
    "id": "99781cb2",
    "tags": []
   },
   "outputs": [
    {
     "data": {
      "text/html": [
       "<div>\n",
       "<style scoped>\n",
       "    .dataframe tbody tr th:only-of-type {\n",
       "        vertical-align: middle;\n",
       "    }\n",
       "\n",
       "    .dataframe tbody tr th {\n",
       "        vertical-align: top;\n",
       "    }\n",
       "\n",
       "    .dataframe thead th {\n",
       "        text-align: right;\n",
       "    }\n",
       "</style>\n",
       "<table border=\"1\" class=\"dataframe\">\n",
       "  <thead>\n",
       "    <tr style=\"text-align: right;\">\n",
       "      <th>Record Number</th>\n",
       "      <th>0</th>\n",
       "      <th>1</th>\n",
       "      <th>2</th>\n",
       "      <th>3</th>\n",
       "      <th>4</th>\n",
       "      <th>5</th>\n",
       "      <th>6</th>\n",
       "      <th>7</th>\n",
       "      <th>8</th>\n",
       "      <th>9</th>\n",
       "      <th>...</th>\n",
       "      <th>190</th>\n",
       "      <th>191</th>\n",
       "      <th>192</th>\n",
       "      <th>193</th>\n",
       "      <th>194</th>\n",
       "      <th>195</th>\n",
       "      <th>196</th>\n",
       "      <th>197</th>\n",
       "      <th>198</th>\n",
       "      <th>DLS index</th>\n",
       "    </tr>\n",
       "  </thead>\n",
       "  <tbody>\n",
       "    <tr>\n",
       "      <th>Volumes[1] (Percent)</th>\n",
       "      <td>0.0</td>\n",
       "      <td>0.0</td>\n",
       "      <td>0.0</td>\n",
       "      <td>0.0</td>\n",
       "      <td>0.0</td>\n",
       "      <td>0.0</td>\n",
       "      <td>0.0</td>\n",
       "      <td>0.0</td>\n",
       "      <td>0.0</td>\n",
       "      <td>0.0</td>\n",
       "      <td>...</td>\n",
       "      <td>0.0</td>\n",
       "      <td>0.0</td>\n",
       "      <td>0.0</td>\n",
       "      <td>0.0</td>\n",
       "      <td>0.0</td>\n",
       "      <td>0.0</td>\n",
       "      <td>0.0</td>\n",
       "      <td>0.0</td>\n",
       "      <td>0.0</td>\n",
       "      <td>1</td>\n",
       "    </tr>\n",
       "    <tr>\n",
       "      <th>Volumes[2] (Percent)</th>\n",
       "      <td>0.0</td>\n",
       "      <td>0.0</td>\n",
       "      <td>0.0</td>\n",
       "      <td>0.0</td>\n",
       "      <td>0.0</td>\n",
       "      <td>0.0</td>\n",
       "      <td>0.0</td>\n",
       "      <td>0.0</td>\n",
       "      <td>0.0</td>\n",
       "      <td>0.0</td>\n",
       "      <td>...</td>\n",
       "      <td>0.0</td>\n",
       "      <td>0.0</td>\n",
       "      <td>0.0</td>\n",
       "      <td>0.0</td>\n",
       "      <td>0.0</td>\n",
       "      <td>0.0</td>\n",
       "      <td>0.0</td>\n",
       "      <td>0.0</td>\n",
       "      <td>0.0</td>\n",
       "      <td>2</td>\n",
       "    </tr>\n",
       "    <tr>\n",
       "      <th>Volumes[3] (Percent)</th>\n",
       "      <td>0.0</td>\n",
       "      <td>0.0</td>\n",
       "      <td>0.0</td>\n",
       "      <td>0.0</td>\n",
       "      <td>0.0</td>\n",
       "      <td>0.0</td>\n",
       "      <td>0.0</td>\n",
       "      <td>0.0</td>\n",
       "      <td>0.0</td>\n",
       "      <td>0.0</td>\n",
       "      <td>...</td>\n",
       "      <td>0.0</td>\n",
       "      <td>0.0</td>\n",
       "      <td>0.0</td>\n",
       "      <td>0.0</td>\n",
       "      <td>0.0</td>\n",
       "      <td>0.0</td>\n",
       "      <td>0.0</td>\n",
       "      <td>0.0</td>\n",
       "      <td>0.0</td>\n",
       "      <td>3</td>\n",
       "    </tr>\n",
       "  </tbody>\n",
       "</table>\n",
       "<p>3 rows × 200 columns</p>\n",
       "</div>"
      ],
      "text/plain": [
       "Record Number           0    1    2    3    4    5    6    7    8    9  ...  \\\n",
       "Volumes[1] (Percent)  0.0  0.0  0.0  0.0  0.0  0.0  0.0  0.0  0.0  0.0  ...   \n",
       "Volumes[2] (Percent)  0.0  0.0  0.0  0.0  0.0  0.0  0.0  0.0  0.0  0.0  ...   \n",
       "Volumes[3] (Percent)  0.0  0.0  0.0  0.0  0.0  0.0  0.0  0.0  0.0  0.0  ...   \n",
       "\n",
       "Record Number         190  191  192  193  194  195  196  197  198  DLS index  \n",
       "Volumes[1] (Percent)  0.0  0.0  0.0  0.0  0.0  0.0  0.0  0.0  0.0          1  \n",
       "Volumes[2] (Percent)  0.0  0.0  0.0  0.0  0.0  0.0  0.0  0.0  0.0          2  \n",
       "Volumes[3] (Percent)  0.0  0.0  0.0  0.0  0.0  0.0  0.0  0.0  0.0          3  \n",
       "\n",
       "[3 rows x 200 columns]"
      ]
     },
     "execution_count": 28,
     "metadata": {},
     "output_type": "execute_result"
    }
   ],
   "source": [
    "volume = df.filter(regex=r'Record Number|Volumes').set_index('Record Number').T\n",
    "volume['DLS index'] = pd.Series(volume.index).str.findall(r'\\d+').explode().values\n",
    "\n",
    "# drop any rows for which there are nan values\n",
    "volume = volume.dropna(axis=1)\n",
    "volume.head(3)"
   ]
  },
  {
   "cell_type": "markdown",
   "id": "4a91638b-5c12-4195-9a2a-a470f865cf18",
   "metadata": {
    "id": "2d57713a"
   },
   "source": [
    "## Create info dataframe"
   ]
  },
  {
   "cell_type": "code",
   "execution_count": 76,
   "id": "33a1be22-7dba-49e5-bd3f-33869b06f9ad",
   "metadata": {
    "tags": []
   },
   "outputs": [
    {
     "data": {
      "text/plain": [
       "array(['Measurement Date and Time', 'Record Number', 'Sample Name',\n",
       "       'Sizes[1] (d.nm)', 'Sizes[2] (d.nm)', 'Sizes[3] (d.nm)',\n",
       "       'Sizes[4] (d.nm)', 'Sizes[5] (d.nm)', 'Sizes[6] (d.nm)',\n",
       "       'Sizes[7] (d.nm)', 'Sizes[8] (d.nm)', 'Sizes[9] (d.nm)',\n",
       "       'Sizes[10] (d.nm)', 'Sizes[11] (d.nm)', 'Sizes[12] (d.nm)',\n",
       "       'Sizes[13] (d.nm)', 'Sizes[14] (d.nm)', 'Sizes[15] (d.nm)',\n",
       "       'Sizes[16] (d.nm)', 'Sizes[17] (d.nm)', 'Sizes[18] (d.nm)',\n",
       "       'Sizes[19] (d.nm)', 'Sizes[20] (d.nm)', 'Sizes[21] (d.nm)',\n",
       "       'Sizes[22] (d.nm)', 'Sizes[23] (d.nm)', 'Sizes[24] (d.nm)',\n",
       "       'Sizes[25] (d.nm)', 'Sizes[26] (d.nm)', 'Sizes[27] (d.nm)',\n",
       "       'Sizes[28] (d.nm)', 'Sizes[29] (d.nm)', 'Sizes[30] (d.nm)',\n",
       "       'Sizes[31] (d.nm)', 'Sizes[32] (d.nm)', 'Sizes[33] (d.nm)',\n",
       "       'Sizes[34] (d.nm)', 'Sizes[35] (d.nm)', 'Sizes[36] (d.nm)',\n",
       "       'Sizes[37] (d.nm)', 'Sizes[38] (d.nm)', 'Sizes[39] (d.nm)',\n",
       "       'Sizes[40] (d.nm)', 'Sizes[41] (d.nm)', 'Sizes[42] (d.nm)',\n",
       "       'Sizes[43] (d.nm)', 'Sizes[44] (d.nm)', 'Sizes[45] (d.nm)',\n",
       "       'Sizes[46] (d.nm)', 'Sizes[47] (d.nm)', 'Sizes[48] (d.nm)',\n",
       "       'Sizes[49] (d.nm)', 'Sizes[50] (d.nm)', 'Sizes[51] (d.nm)',\n",
       "       'Sizes[52] (d.nm)', 'Sizes[53] (d.nm)', 'Sizes[54] (d.nm)',\n",
       "       'Sizes[55] (d.nm)', 'Sizes[56] (d.nm)', 'Sizes[57] (d.nm)',\n",
       "       'Sizes[58] (d.nm)', 'Sizes[59] (d.nm)', 'Sizes[60] (d.nm)',\n",
       "       'Sizes[61] (d.nm)', 'Sizes[62] (d.nm)', 'Sizes[63] (d.nm)',\n",
       "       'Sizes[64] (d.nm)', 'Sizes[65] (d.nm)', 'Sizes[66] (d.nm)',\n",
       "       'Sizes[67] (d.nm)', 'Sizes[68] (d.nm)', 'Sizes[69] (d.nm)',\n",
       "       'Sizes[70] (d.nm)', 'Intensities[1] (Percent)',\n",
       "       'Intensities[2] (Percent)', 'Intensities[3] (Percent)',\n",
       "       'Intensities[4] (Percent)', 'Intensities[5] (Percent)',\n",
       "       'Intensities[6] (Percent)', 'Intensities[7] (Percent)',\n",
       "       'Intensities[8] (Percent)', 'Intensities[9] (Percent)',\n",
       "       'Intensities[10] (Percent)', 'Intensities[11] (Percent)',\n",
       "       'Intensities[12] (Percent)', 'Intensities[13] (Percent)',\n",
       "       'Intensities[14] (Percent)', 'Intensities[15] (Percent)',\n",
       "       'Intensities[16] (Percent)', 'Intensities[17] (Percent)',\n",
       "       'Intensities[18] (Percent)', 'Intensities[19] (Percent)',\n",
       "       'Intensities[20] (Percent)', 'Intensities[21] (Percent)',\n",
       "       'Intensities[22] (Percent)', 'Intensities[23] (Percent)',\n",
       "       'Intensities[24] (Percent)', 'Intensities[25] (Percent)',\n",
       "       'Intensities[26] (Percent)', 'Intensities[27] (Percent)',\n",
       "       'Intensities[28] (Percent)', 'Intensities[29] (Percent)',\n",
       "       'Intensities[30] (Percent)', 'Intensities[31] (Percent)',\n",
       "       'Intensities[32] (Percent)', 'Intensities[33] (Percent)',\n",
       "       'Intensities[34] (Percent)', 'Intensities[35] (Percent)',\n",
       "       'Intensities[36] (Percent)', 'Intensities[37] (Percent)',\n",
       "       'Intensities[38] (Percent)', 'Intensities[39] (Percent)',\n",
       "       'Intensities[40] (Percent)', 'Intensities[41] (Percent)',\n",
       "       'Intensities[42] (Percent)', 'Intensities[43] (Percent)',\n",
       "       'Intensities[44] (Percent)', 'Intensities[45] (Percent)',\n",
       "       'Intensities[46] (Percent)', 'Intensities[47] (Percent)',\n",
       "       'Intensities[48] (Percent)', 'Intensities[49] (Percent)',\n",
       "       'Intensities[50] (Percent)', 'Intensities[51] (Percent)',\n",
       "       'Intensities[52] (Percent)', 'Intensities[53] (Percent)',\n",
       "       'Intensities[54] (Percent)', 'Intensities[55] (Percent)',\n",
       "       'Intensities[56] (Percent)', 'Intensities[57] (Percent)',\n",
       "       'Intensities[58] (Percent)', 'Intensities[59] (Percent)',\n",
       "       'Intensities[60] (Percent)', 'Intensities[61] (Percent)',\n",
       "       'Intensities[62] (Percent)', 'Intensities[63] (Percent)',\n",
       "       'Intensities[64] (Percent)', 'Intensities[65] (Percent)',\n",
       "       'Intensities[66] (Percent)', 'Intensities[67] (Percent)',\n",
       "       'Intensities[68] (Percent)', 'Intensities[69] (Percent)',\n",
       "       'Intensities[70] (Percent)', 'Numbers[1] (Percent)',\n",
       "       'Numbers[2] (Percent)', 'Numbers[3] (Percent)',\n",
       "       'Numbers[4] (Percent)', 'Numbers[5] (Percent)',\n",
       "       'Numbers[6] (Percent)', 'Numbers[7] (Percent)',\n",
       "       'Numbers[8] (Percent)', 'Numbers[9] (Percent)',\n",
       "       'Numbers[10] (Percent)', 'Numbers[11] (Percent)',\n",
       "       'Numbers[12] (Percent)', 'Numbers[13] (Percent)',\n",
       "       'Numbers[14] (Percent)', 'Numbers[15] (Percent)',\n",
       "       'Numbers[16] (Percent)', 'Numbers[17] (Percent)',\n",
       "       'Numbers[18] (Percent)', 'Numbers[19] (Percent)',\n",
       "       'Numbers[20] (Percent)', 'Numbers[21] (Percent)',\n",
       "       'Numbers[22] (Percent)', 'Numbers[23] (Percent)',\n",
       "       'Numbers[24] (Percent)', 'Numbers[25] (Percent)',\n",
       "       'Numbers[26] (Percent)', 'Numbers[27] (Percent)',\n",
       "       'Numbers[28] (Percent)', 'Numbers[29] (Percent)',\n",
       "       'Numbers[30] (Percent)', 'Numbers[31] (Percent)',\n",
       "       'Numbers[32] (Percent)', 'Numbers[33] (Percent)',\n",
       "       'Numbers[34] (Percent)', 'Numbers[35] (Percent)',\n",
       "       'Numbers[36] (Percent)', 'Numbers[37] (Percent)',\n",
       "       'Numbers[38] (Percent)', 'Numbers[39] (Percent)',\n",
       "       'Numbers[40] (Percent)', 'Numbers[41] (Percent)',\n",
       "       'Numbers[42] (Percent)', 'Numbers[43] (Percent)',\n",
       "       'Numbers[44] (Percent)', 'Numbers[45] (Percent)',\n",
       "       'Numbers[46] (Percent)', 'Numbers[47] (Percent)',\n",
       "       'Numbers[48] (Percent)', 'Numbers[49] (Percent)',\n",
       "       'Numbers[50] (Percent)', 'Numbers[51] (Percent)',\n",
       "       'Numbers[52] (Percent)', 'Numbers[53] (Percent)',\n",
       "       'Numbers[54] (Percent)', 'Numbers[55] (Percent)',\n",
       "       'Numbers[56] (Percent)', 'Numbers[57] (Percent)',\n",
       "       'Numbers[58] (Percent)', 'Numbers[59] (Percent)',\n",
       "       'Numbers[60] (Percent)', 'Numbers[61] (Percent)',\n",
       "       'Numbers[62] (Percent)', 'Numbers[63] (Percent)',\n",
       "       'Numbers[64] (Percent)', 'Numbers[65] (Percent)',\n",
       "       'Numbers[66] (Percent)', 'Numbers[67] (Percent)',\n",
       "       'Numbers[68] (Percent)', 'Numbers[69] (Percent)',\n",
       "       'Numbers[70] (Percent)', 'Volumes[1] (Percent)',\n",
       "       'Volumes[2] (Percent)', 'Volumes[3] (Percent)',\n",
       "       'Volumes[4] (Percent)', 'Volumes[5] (Percent)',\n",
       "       'Volumes[6] (Percent)', 'Volumes[7] (Percent)',\n",
       "       'Volumes[8] (Percent)', 'Volumes[9] (Percent)',\n",
       "       'Volumes[10] (Percent)', 'Volumes[11] (Percent)',\n",
       "       'Volumes[12] (Percent)', 'Volumes[13] (Percent)',\n",
       "       'Volumes[14] (Percent)', 'Volumes[15] (Percent)',\n",
       "       'Volumes[16] (Percent)', 'Volumes[17] (Percent)',\n",
       "       'Volumes[18] (Percent)', 'Volumes[19] (Percent)',\n",
       "       'Volumes[20] (Percent)', 'Volumes[21] (Percent)',\n",
       "       'Volumes[22] (Percent)', 'Volumes[23] (Percent)',\n",
       "       'Volumes[24] (Percent)', 'Volumes[25] (Percent)',\n",
       "       'Volumes[26] (Percent)', 'Volumes[27] (Percent)',\n",
       "       'Volumes[28] (Percent)', 'Volumes[29] (Percent)',\n",
       "       'Volumes[30] (Percent)', 'Volumes[31] (Percent)',\n",
       "       'Volumes[32] (Percent)', 'Volumes[33] (Percent)',\n",
       "       'Volumes[34] (Percent)', 'Volumes[35] (Percent)',\n",
       "       'Volumes[36] (Percent)', 'Volumes[37] (Percent)',\n",
       "       'Volumes[38] (Percent)', 'Volumes[39] (Percent)',\n",
       "       'Volumes[40] (Percent)', 'Volumes[41] (Percent)',\n",
       "       'Volumes[42] (Percent)', 'Volumes[43] (Percent)',\n",
       "       'Volumes[44] (Percent)', 'Volumes[45] (Percent)',\n",
       "       'Volumes[46] (Percent)', 'Volumes[47] (Percent)',\n",
       "       'Volumes[48] (Percent)', 'Volumes[49] (Percent)',\n",
       "       'Volumes[50] (Percent)', 'Volumes[51] (Percent)',\n",
       "       'Volumes[52] (Percent)', 'Volumes[53] (Percent)',\n",
       "       'Volumes[54] (Percent)', 'Volumes[55] (Percent)',\n",
       "       'Volumes[56] (Percent)', 'Volumes[57] (Percent)',\n",
       "       'Volumes[58] (Percent)', 'Volumes[59] (Percent)',\n",
       "       'Volumes[60] (Percent)', 'Volumes[61] (Percent)',\n",
       "       'Volumes[62] (Percent)', 'Volumes[63] (Percent)',\n",
       "       'Volumes[64] (Percent)', 'Volumes[65] (Percent)',\n",
       "       'Volumes[66] (Percent)', 'Volumes[67] (Percent)',\n",
       "       'Volumes[68] (Percent)', 'Volumes[69] (Percent)',\n",
       "       'Volumes[70] (Percent)', 'Diffusion Coefficient (µ²/s)',\n",
       "       'Z-Average (d.nm)', 'PdI', 'PdI Width (d.nm)', 'Concentration (%)',\n",
       "       'Intensity Mean (d.nm)', 'Number Mean (d.nm)',\n",
       "       'Volume Mean (d.nm)', 'filename', 'sheetname'], dtype=object)"
      ]
     },
     "execution_count": 76,
     "metadata": {},
     "output_type": "execute_result"
    }
   ],
   "source": [
    "df.columns.to_numpy()"
   ]
  },
  {
   "cell_type": "code",
   "execution_count": null,
   "id": "06798587-9759-4c60-863b-dc257a8409fd",
   "metadata": {},
   "outputs": [],
   "source": [
    "df.filter(regex=r'Record Number|Volumes')"
   ]
  },
  {
   "cell_type": "code",
   "execution_count": null,
   "id": "7a1f9fb2-6463-4d5c-a3ee-7bdab2e6b19c",
   "metadata": {},
   "outputs": [],
   "source": [
    "df.filter(regex=r'Record Number|Volumes')"
   ]
  },
  {
   "cell_type": "code",
   "execution_count": 18,
   "id": "a62b7f99",
   "metadata": {
    "id": "a62b7f99",
    "tags": []
   },
   "outputs": [
    {
     "data": {
      "text/html": [
       "<div>\n",
       "<style scoped>\n",
       "    .dataframe tbody tr th:only-of-type {\n",
       "        vertical-align: middle;\n",
       "    }\n",
       "\n",
       "    .dataframe tbody tr th {\n",
       "        vertical-align: top;\n",
       "    }\n",
       "\n",
       "    .dataframe thead th {\n",
       "        text-align: right;\n",
       "    }\n",
       "</style>\n",
       "<table border=\"1\" class=\"dataframe\">\n",
       "  <thead>\n",
       "    <tr style=\"text-align: right;\">\n",
       "      <th></th>\n",
       "      <th>Measurement Date and Time</th>\n",
       "      <th>Sample Name</th>\n",
       "      <th>Record Number</th>\n",
       "      <th>Triplicate</th>\n",
       "      <th>title</th>\n",
       "      <th>time</th>\n",
       "      <th>date</th>\n",
       "    </tr>\n",
       "  </thead>\n",
       "  <tbody>\n",
       "    <tr>\n",
       "      <th>0</th>\n",
       "      <td>Friday, July 21, 2023 5:20:15 PM</td>\n",
       "      <td>CF POPG LUV 1X 1</td>\n",
       "      <td>0</td>\n",
       "      <td>1</td>\n",
       "      <td>CF POPG LUV 1X</td>\n",
       "      <td>5:20:15 PM</td>\n",
       "      <td>2023-07-21</td>\n",
       "    </tr>\n",
       "    <tr>\n",
       "      <th>1</th>\n",
       "      <td>Friday, July 21, 2023 5:22:48 PM</td>\n",
       "      <td>CF POPG LUV 1X 2</td>\n",
       "      <td>1</td>\n",
       "      <td>2</td>\n",
       "      <td>CF POPG LUV 1X</td>\n",
       "      <td>5:22:48 PM</td>\n",
       "      <td>2023-07-21</td>\n",
       "    </tr>\n",
       "    <tr>\n",
       "      <th>2</th>\n",
       "      <td>Friday, July 21, 2023 5:25:21 PM</td>\n",
       "      <td>CF POPG LUV 1X 3</td>\n",
       "      <td>2</td>\n",
       "      <td>3</td>\n",
       "      <td>CF POPG LUV 1X</td>\n",
       "      <td>5:25:21 PM</td>\n",
       "      <td>2023-07-21</td>\n",
       "    </tr>\n",
       "    <tr>\n",
       "      <th>3</th>\n",
       "      <td>Friday, July 21, 2023 5:59:43 PM</td>\n",
       "      <td>R18 POPC LUV pH 5.5 0.05X 1</td>\n",
       "      <td>3</td>\n",
       "      <td>1</td>\n",
       "      <td>R18 POPC LUV pH 5.5 0.05X</td>\n",
       "      <td>5:59:43 PM</td>\n",
       "      <td>2023-07-21</td>\n",
       "    </tr>\n",
       "    <tr>\n",
       "      <th>4</th>\n",
       "      <td>Friday, July 21, 2023 6:01:46 PM</td>\n",
       "      <td>R18 POPC LUV pH 5.5 0.05X 2</td>\n",
       "      <td>4</td>\n",
       "      <td>2</td>\n",
       "      <td>R18 POPC LUV pH 5.5 0.05X</td>\n",
       "      <td>6:01:46 PM</td>\n",
       "      <td>2023-07-21</td>\n",
       "    </tr>\n",
       "  </tbody>\n",
       "</table>\n",
       "</div>"
      ],
      "text/plain": [
       "          Measurement Date and Time                  Sample Name  \\\n",
       "0  Friday, July 21, 2023 5:20:15 PM             CF POPG LUV 1X 1   \n",
       "1  Friday, July 21, 2023 5:22:48 PM             CF POPG LUV 1X 2   \n",
       "2  Friday, July 21, 2023 5:25:21 PM             CF POPG LUV 1X 3   \n",
       "3  Friday, July 21, 2023 5:59:43 PM  R18 POPC LUV pH 5.5 0.05X 1   \n",
       "4  Friday, July 21, 2023 6:01:46 PM  R18 POPC LUV pH 5.5 0.05X 2   \n",
       "\n",
       "   Record Number Triplicate                      title        time       date  \n",
       "0              0          1             CF POPG LUV 1X  5:20:15 PM 2023-07-21  \n",
       "1              1          2             CF POPG LUV 1X  5:22:48 PM 2023-07-21  \n",
       "2              2          3             CF POPG LUV 1X  5:25:21 PM 2023-07-21  \n",
       "3              3          1  R18 POPC LUV pH 5.5 0.05X  5:59:43 PM 2023-07-21  \n",
       "4              4          2  R18 POPC LUV pH 5.5 0.05X  6:01:46 PM 2023-07-21  "
      ]
     },
     "execution_count": 18,
     "metadata": {},
     "output_type": "execute_result"
    }
   ],
   "source": [
    "info = pd.DataFrame(df.loc[:,['Measurement Date and Time','Sample Name','Record Number']].copy(deep=True))\n",
    "info['Triplicate'] = info['Sample Name'].str.strip().str[-1]\n",
    "info['title'] = info['Sample Name'].str.rstrip(r'123 ')\n",
    "\n",
    "# extract date and time information\n",
    "info = info.join(pd.DataFrame(info[\"Measurement Date and Time\"].str.findall(r'([A-Z][a-z]*), ([A-Z][a-z]*) (\\d\\d?), (\\d{4}) (\\d\\d?:\\d\\d?:\\d\\d [AP]M)').explode().to_list(), columns=[\"day of week\",\"month\",\"day\",\"year\",\"time\"]))\n",
    "\n",
    "# replace string month to numerical month to be read by datetime function\n",
    "d = dict((v,k) for k,v in enumerate(calendar.month_name))\n",
    "info[\"month\"] = info.month.map(d)\n",
    "\n",
    "# convert columns to integer datatype\n",
    "info[\"day\"] = info[\"day\"].astype(int)\n",
    "info[\"month\"] = info[\"month\"].astype(int)\n",
    "info[\"year\"] = info[\"year\"].astype(int)\n",
    "\n",
    "# convert month/day/year into datetime format\n",
    "info[\"date\"] = pd.to_datetime(info.loc[:,[\"year\",\"month\",\"day\"]])\n",
    "\n",
    "# remove month/date/year columns\n",
    "info.drop(columns=['year','month','day','day of week'], inplace=True)\n",
    "\n",
    "info.head()"
   ]
  },
  {
   "cell_type": "markdown",
   "id": "bfab5ca5-d561-49d8-9123-97a46dcc4226",
   "metadata": {},
   "source": [
    "### Create samples dataframe"
   ]
  },
  {
   "cell_type": "code",
   "execution_count": 19,
   "id": "4e107a7e-802c-4a3c-ad27-360384ecf839",
   "metadata": {
    "tags": []
   },
   "outputs": [],
   "source": [
    "samples = info.loc[:,[\"title\",\"date\"]].drop_duplicates()"
   ]
  },
  {
   "cell_type": "code",
   "execution_count": 20,
   "id": "cd53cf41-a518-46ea-9a70-b59b352c0624",
   "metadata": {
    "tags": []
   },
   "outputs": [
    {
     "data": {
      "text/html": [
       "<div>\n",
       "<style scoped>\n",
       "    .dataframe tbody tr th:only-of-type {\n",
       "        vertical-align: middle;\n",
       "    }\n",
       "\n",
       "    .dataframe tbody tr th {\n",
       "        vertical-align: top;\n",
       "    }\n",
       "\n",
       "    .dataframe thead th {\n",
       "        text-align: right;\n",
       "    }\n",
       "</style>\n",
       "<table border=\"1\" class=\"dataframe\">\n",
       "  <thead>\n",
       "    <tr style=\"text-align: right;\">\n",
       "      <th></th>\n",
       "      <th>title</th>\n",
       "      <th>date</th>\n",
       "      <th>id</th>\n",
       "    </tr>\n",
       "  </thead>\n",
       "  <tbody>\n",
       "    <tr>\n",
       "      <th>0</th>\n",
       "      <td>CF POPG LUV 1X</td>\n",
       "      <td>2023-07-21</td>\n",
       "      <td>0</td>\n",
       "    </tr>\n",
       "    <tr>\n",
       "      <th>3</th>\n",
       "      <td>R18 POPC LUV pH 5.5 0.05X</td>\n",
       "      <td>2023-07-21</td>\n",
       "      <td>1</td>\n",
       "    </tr>\n",
       "    <tr>\n",
       "      <th>6</th>\n",
       "      <td>306oi10 LNP pH 5.5 0.1X</td>\n",
       "      <td>2023-07-21</td>\n",
       "      <td>2</td>\n",
       "    </tr>\n",
       "    <tr>\n",
       "      <th>9</th>\n",
       "      <td>306o10 LNP pH 7.4 0.1X</td>\n",
       "      <td>2023-07-21</td>\n",
       "      <td>3</td>\n",
       "    </tr>\n",
       "    <tr>\n",
       "      <th>12</th>\n",
       "      <td>306o10 LNP pH 5.5 0.1X with Liposomes_1x_PBS_p...</td>\n",
       "      <td>2023-07-21</td>\n",
       "      <td>4</td>\n",
       "    </tr>\n",
       "  </tbody>\n",
       "</table>\n",
       "</div>"
      ],
      "text/plain": [
       "                                                title       date  id\n",
       "0                                      CF POPG LUV 1X 2023-07-21   0\n",
       "3                           R18 POPC LUV pH 5.5 0.05X 2023-07-21   1\n",
       "6                             306oi10 LNP pH 5.5 0.1X 2023-07-21   2\n",
       "9                              306o10 LNP pH 7.4 0.1X 2023-07-21   3\n",
       "12  306o10 LNP pH 5.5 0.1X with Liposomes_1x_PBS_p... 2023-07-21   4"
      ]
     },
     "execution_count": 20,
     "metadata": {},
     "output_type": "execute_result"
    }
   ],
   "source": [
    "samples[\"id\"] = np.arange(0,samples.shape[0])\n",
    "samples.head()"
   ]
  },
  {
   "cell_type": "markdown",
   "id": "c353f9f3-7757-4422-a23a-9e25e6ec1d72",
   "metadata": {},
   "source": [
    "### Compute days since first sample for each unique title"
   ]
  },
  {
   "cell_type": "code",
   "execution_count": 21,
   "id": "ddf2a24a-d48a-42ff-999c-fff1f2f51cb0",
   "metadata": {
    "tags": []
   },
   "outputs": [],
   "source": [
    "# new startdate pivot table with earliest date for each unique title\n",
    "startdate = pd.pivot_table(data=samples,\n",
    "               index=\"title\",\n",
    "               values=\"date\",\n",
    "               aggfunc=\"min\").rename(columns={\"date\" : \"start date\"})"
   ]
  },
  {
   "cell_type": "code",
   "execution_count": 22,
   "id": "834d9c4d-49e1-4aeb-9e32-9fce17b9bbf4",
   "metadata": {
    "tags": []
   },
   "outputs": [],
   "source": [
    "# add back in to samples and compute days since 'start date'\n",
    "samples = samples.merge(startdate, left_on=\"title\",right_on=\"title\")\n",
    "samples[\"days since\"] = samples[\"date\"] - samples[\"start date\"]\n",
    "samples[\"days since\"] = samples[\"days since\"].apply(lambda x: x.days)"
   ]
  },
  {
   "cell_type": "code",
   "execution_count": 23,
   "id": "935e224c-5990-40b5-b7f2-4323773168af",
   "metadata": {
    "tags": []
   },
   "outputs": [
    {
     "data": {
      "text/html": [
       "<div>\n",
       "<style scoped>\n",
       "    .dataframe tbody tr th:only-of-type {\n",
       "        vertical-align: middle;\n",
       "    }\n",
       "\n",
       "    .dataframe tbody tr th {\n",
       "        vertical-align: top;\n",
       "    }\n",
       "\n",
       "    .dataframe thead th {\n",
       "        text-align: right;\n",
       "    }\n",
       "</style>\n",
       "<table border=\"1\" class=\"dataframe\">\n",
       "  <thead>\n",
       "    <tr style=\"text-align: right;\">\n",
       "      <th></th>\n",
       "      <th>Measurement Date and Time</th>\n",
       "      <th>Sample Name</th>\n",
       "      <th>Record Number</th>\n",
       "      <th>Triplicate</th>\n",
       "      <th>title</th>\n",
       "      <th>time</th>\n",
       "      <th>date</th>\n",
       "      <th>id</th>\n",
       "      <th>start date</th>\n",
       "      <th>days since</th>\n",
       "    </tr>\n",
       "  </thead>\n",
       "  <tbody>\n",
       "    <tr>\n",
       "      <th>0</th>\n",
       "      <td>Friday, July 21, 2023 5:20:15 PM</td>\n",
       "      <td>CF POPG LUV 1X 1</td>\n",
       "      <td>0</td>\n",
       "      <td>1</td>\n",
       "      <td>CF POPG LUV 1X</td>\n",
       "      <td>5:20:15 PM</td>\n",
       "      <td>2023-07-21</td>\n",
       "      <td>0</td>\n",
       "      <td>2023-02-22</td>\n",
       "      <td>149</td>\n",
       "    </tr>\n",
       "    <tr>\n",
       "      <th>1</th>\n",
       "      <td>Friday, July 21, 2023 5:22:48 PM</td>\n",
       "      <td>CF POPG LUV 1X 2</td>\n",
       "      <td>1</td>\n",
       "      <td>2</td>\n",
       "      <td>CF POPG LUV 1X</td>\n",
       "      <td>5:22:48 PM</td>\n",
       "      <td>2023-07-21</td>\n",
       "      <td>0</td>\n",
       "      <td>2023-02-22</td>\n",
       "      <td>149</td>\n",
       "    </tr>\n",
       "    <tr>\n",
       "      <th>2</th>\n",
       "      <td>Friday, July 21, 2023 5:25:21 PM</td>\n",
       "      <td>CF POPG LUV 1X 3</td>\n",
       "      <td>2</td>\n",
       "      <td>3</td>\n",
       "      <td>CF POPG LUV 1X</td>\n",
       "      <td>5:25:21 PM</td>\n",
       "      <td>2023-07-21</td>\n",
       "      <td>0</td>\n",
       "      <td>2023-02-22</td>\n",
       "      <td>149</td>\n",
       "    </tr>\n",
       "    <tr>\n",
       "      <th>3</th>\n",
       "      <td>Friday, July 21, 2023 5:59:43 PM</td>\n",
       "      <td>R18 POPC LUV pH 5.5 0.05X 1</td>\n",
       "      <td>3</td>\n",
       "      <td>1</td>\n",
       "      <td>R18 POPC LUV pH 5.5 0.05X</td>\n",
       "      <td>5:59:43 PM</td>\n",
       "      <td>2023-07-21</td>\n",
       "      <td>1</td>\n",
       "      <td>2023-07-21</td>\n",
       "      <td>0</td>\n",
       "    </tr>\n",
       "    <tr>\n",
       "      <th>4</th>\n",
       "      <td>Friday, July 21, 2023 6:01:46 PM</td>\n",
       "      <td>R18 POPC LUV pH 5.5 0.05X 2</td>\n",
       "      <td>4</td>\n",
       "      <td>2</td>\n",
       "      <td>R18 POPC LUV pH 5.5 0.05X</td>\n",
       "      <td>6:01:46 PM</td>\n",
       "      <td>2023-07-21</td>\n",
       "      <td>1</td>\n",
       "      <td>2023-07-21</td>\n",
       "      <td>0</td>\n",
       "    </tr>\n",
       "  </tbody>\n",
       "</table>\n",
       "</div>"
      ],
      "text/plain": [
       "          Measurement Date and Time                  Sample Name  \\\n",
       "0  Friday, July 21, 2023 5:20:15 PM             CF POPG LUV 1X 1   \n",
       "1  Friday, July 21, 2023 5:22:48 PM             CF POPG LUV 1X 2   \n",
       "2  Friday, July 21, 2023 5:25:21 PM             CF POPG LUV 1X 3   \n",
       "3  Friday, July 21, 2023 5:59:43 PM  R18 POPC LUV pH 5.5 0.05X 1   \n",
       "4  Friday, July 21, 2023 6:01:46 PM  R18 POPC LUV pH 5.5 0.05X 2   \n",
       "\n",
       "   Record Number Triplicate                      title        time       date  \\\n",
       "0              0          1             CF POPG LUV 1X  5:20:15 PM 2023-07-21   \n",
       "1              1          2             CF POPG LUV 1X  5:22:48 PM 2023-07-21   \n",
       "2              2          3             CF POPG LUV 1X  5:25:21 PM 2023-07-21   \n",
       "3              3          1  R18 POPC LUV pH 5.5 0.05X  5:59:43 PM 2023-07-21   \n",
       "4              4          2  R18 POPC LUV pH 5.5 0.05X  6:01:46 PM 2023-07-21   \n",
       "\n",
       "   id start date  days since  \n",
       "0   0 2023-02-22         149  \n",
       "1   0 2023-02-22         149  \n",
       "2   0 2023-02-22         149  \n",
       "3   1 2023-07-21           0  \n",
       "4   1 2023-07-21           0  "
      ]
     },
     "execution_count": 23,
     "metadata": {},
     "output_type": "execute_result"
    }
   ],
   "source": [
    "# return info back to `info` dataframe\n",
    "info = info.merge(samples, \n",
    "           left_on=[\"title\",\"date\"],\n",
    "           right_on=[\"title\",\"date\"]\n",
    "          )\n",
    "info.head()"
   ]
  },
  {
   "cell_type": "markdown",
   "id": "c9419735",
   "metadata": {
    "id": "c9419735",
    "tags": []
   },
   "source": [
    "## Join `intensity`, `number`, `volume`, `size`, and `info` to `df_main`"
   ]
  },
  {
   "cell_type": "code",
   "execution_count": 32,
   "id": "6b41a2a0-aa49-4020-a1ba-03a3fed8e9ed",
   "metadata": {
    "tags": []
   },
   "outputs": [
    {
     "name": "stdout",
     "output_type": "stream",
     "text": [
      "(13930, 3)\n"
     ]
    }
   ],
   "source": [
    "df_main = intensity.melt(id_vars='DLS index', value_vars=intensity.columns, value_name='Intensity %')\n",
    "print(df_main.shape)"
   ]
  },
  {
   "cell_type": "code",
   "execution_count": 33,
   "id": "cd7bed2e-db97-4f88-98f6-18d359c8f70e",
   "metadata": {
    "tags": []
   },
   "outputs": [
    {
     "name": "stdout",
     "output_type": "stream",
     "text": [
      "(13930, 4)\n"
     ]
    }
   ],
   "source": [
    "df_main = df_main.join(number.melt(id_vars='DLS index', value_vars=number.columns, value_name='Number %').loc[:,\"Number %\"])\n",
    "print(df_main.shape)"
   ]
  },
  {
   "cell_type": "code",
   "execution_count": 34,
   "id": "e92bf5da-c0f6-4e4d-a885-852b089af666",
   "metadata": {
    "tags": []
   },
   "outputs": [
    {
     "name": "stdout",
     "output_type": "stream",
     "text": [
      "(13930, 5)\n"
     ]
    }
   ],
   "source": [
    "df_main = df_main.join(volume.melt(id_vars='DLS index', value_vars=volume.columns, value_name='Volume %').loc[:,\"Volume %\"])\n",
    "print(df_main.shape)"
   ]
  },
  {
   "cell_type": "code",
   "execution_count": 35,
   "id": "737275ba-89e8-490b-bafe-9f751ca16101",
   "metadata": {
    "tags": []
   },
   "outputs": [
    {
     "name": "stdout",
     "output_type": "stream",
     "text": [
      "(13930, 7)\n"
     ]
    }
   ],
   "source": [
    "df_main = df_main.merge(size, left_on=\"DLS index\", right_on=\"DLS index\")\n",
    "print(df_main.shape)"
   ]
  },
  {
   "cell_type": "code",
   "execution_count": 36,
   "id": "9d542437-e700-402a-a00b-72e55c446615",
   "metadata": {
    "tags": []
   },
   "outputs": [
    {
     "name": "stdout",
     "output_type": "stream",
     "text": [
      "(13930, 16)\n"
     ]
    }
   ],
   "source": [
    "df_main = df_main.merge(info, left_on=\"Record Number\", right_on=\"Record Number\")\n",
    "print(df_main.shape)"
   ]
  },
  {
   "cell_type": "markdown",
   "id": "a532d988-60a8-46ee-a86d-133d22d2f6b0",
   "metadata": {},
   "source": [
    "## Extract LUV/LNP Parameters from Title\n",
    "fluorophore, LUV, LNP, lipid, lipidoid, pH"
   ]
  },
  {
   "cell_type": "code",
   "execution_count": 37,
   "id": "bfbd172c-52bf-4b10-8419-f183bb217336",
   "metadata": {
    "tags": []
   },
   "outputs": [],
   "source": [
    "df_main[\"LUV\"] = df_main[\"title\"].str.count(r'LUV')"
   ]
  },
  {
   "cell_type": "code",
   "execution_count": 38,
   "id": "26715177-5930-428b-8246-e2e0424d426d",
   "metadata": {
    "tags": []
   },
   "outputs": [],
   "source": [
    "df_main[\"LNP\"] = df_main[\"title\"].str.count(r'LNP')"
   ]
  },
  {
   "cell_type": "code",
   "execution_count": 39,
   "id": "1c28d8e1-37f4-4611-aa6a-7ead54c7de29",
   "metadata": {
    "tags": []
   },
   "outputs": [],
   "source": [
    "df_test = df_main[\"title\"].str.findall(r'R18 \\+ CF|R18|CF').explode()\n",
    "df_test = df_test[~df_test.index.duplicated(keep='first')]\n",
    "df_main[\"fluorophore\"] = df_test"
   ]
  },
  {
   "cell_type": "code",
   "execution_count": 40,
   "id": "8f832ddd-fda0-4c6a-b4cf-3d178a0c7b1a",
   "metadata": {
    "tags": []
   },
   "outputs": [],
   "source": [
    "df_main[\"lipid\"] = df_main[\"title\"].str.findall(r'(POPC|POPG)').explode()\n",
    "df_main[\"lipid\"] = df_main[\"lipid\"].fillna('POPC')"
   ]
  },
  {
   "cell_type": "code",
   "execution_count": 41,
   "id": "e1c64005-5591-4f1e-8b43-03cb749db4a3",
   "metadata": {
    "tags": []
   },
   "outputs": [],
   "source": [
    "df_main[\"lipidoid\"] = df_main[\"title\"].str.findall(r'\\d{3}\\w{1,2}10').explode()"
   ]
  },
  {
   "cell_type": "code",
   "execution_count": 42,
   "id": "ab6cae44-a0fa-4866-9eb0-47cd5bd5e857",
   "metadata": {
    "tags": []
   },
   "outputs": [],
   "source": [
    "df_main[\"pH\"] = df_main[\"title\"].str.findall(r'pH (5.5|7.4)').explode()\n",
    "df_main[\"pH\"] = df_main[\"pH\"].fillna('7.4')"
   ]
  },
  {
   "cell_type": "code",
   "execution_count": 43,
   "id": "8324828f-aabd-4b6b-bb2c-34cd98568fa0",
   "metadata": {
    "tags": []
   },
   "outputs": [],
   "source": [
    "df_main[\"Triton\"] = df_main[\"title\"].str.count(r'Triton')"
   ]
  },
  {
   "cell_type": "markdown",
   "id": "f846d77b-fa34-499f-90b3-9f926196b308",
   "metadata": {
    "tags": [],
    "toc-hr-collapsed": true
   },
   "source": [
    "# CALCULATIONS"
   ]
  },
  {
   "cell_type": "markdown",
   "id": "c0d4c1d5",
   "metadata": {
    "id": "c0d4c1d5"
   },
   "source": [
    "## Compute Peak Diameter (mode) for each `id` "
   ]
  },
  {
   "cell_type": "code",
   "execution_count": 54,
   "id": "09de615f-b2c0-4dc8-8a6f-2961456b1d2f",
   "metadata": {
    "tags": []
   },
   "outputs": [
    {
     "data": {
      "text/html": [
       "<div>\n",
       "<style scoped>\n",
       "    .dataframe tbody tr th:only-of-type {\n",
       "        vertical-align: middle;\n",
       "    }\n",
       "\n",
       "    .dataframe tbody tr th {\n",
       "        vertical-align: top;\n",
       "    }\n",
       "\n",
       "    .dataframe thead tr th {\n",
       "        text-align: left;\n",
       "    }\n",
       "\n",
       "    .dataframe thead tr:last-of-type th {\n",
       "        text-align: right;\n",
       "    }\n",
       "</style>\n",
       "<table border=\"1\" class=\"dataframe\">\n",
       "  <thead>\n",
       "    <tr>\n",
       "      <th></th>\n",
       "      <th colspan=\"3\" halign=\"left\">&lt;lambda&gt;</th>\n",
       "    </tr>\n",
       "    <tr>\n",
       "      <th></th>\n",
       "      <th>Intensity %</th>\n",
       "      <th>Number %</th>\n",
       "      <th>Volume %</th>\n",
       "    </tr>\n",
       "    <tr>\n",
       "      <th>id</th>\n",
       "      <th></th>\n",
       "      <th></th>\n",
       "      <th></th>\n",
       "    </tr>\n",
       "  </thead>\n",
       "  <tbody>\n",
       "    <tr>\n",
       "      <th>0</th>\n",
       "      <td>91.28</td>\n",
       "      <td>58.77</td>\n",
       "      <td>68.06</td>\n",
       "    </tr>\n",
       "    <tr>\n",
       "      <th>1</th>\n",
       "      <td>122.40</td>\n",
       "      <td>78.82</td>\n",
       "      <td>105.70</td>\n",
       "    </tr>\n",
       "  </tbody>\n",
       "</table>\n",
       "</div>"
      ],
      "text/plain": [
       "      <lambda>                  \n",
       "   Intensity % Number % Volume %\n",
       "id                              \n",
       "0        91.28    58.77    68.06\n",
       "1       122.40    78.82   105.70"
      ]
     },
     "execution_count": 54,
     "metadata": {},
     "output_type": "execute_result"
    }
   ],
   "source": [
    "# aggfunc finds the index of the maximum value for intensity and number columns, then uses index to find the diameter at which the max is found\n",
    "df_pivot = pd.pivot_table(data=df_main,\n",
    "               index='id',\n",
    "               values = [\"Intensity %\",\"Number %\",\"Volume %\"],\n",
    "               aggfunc = [lambda x: df_main.loc[x.idxmax(0),\"Diameter (nm)\"]]\n",
    "              )\n",
    "\n",
    "df_pivot.head(2)"
   ]
  },
  {
   "cell_type": "code",
   "execution_count": 55,
   "id": "26d16232-c171-46ff-9752-60dfdade3aa6",
   "metadata": {
    "tags": []
   },
   "outputs": [
    {
     "data": {
      "text/html": [
       "<div>\n",
       "<style scoped>\n",
       "    .dataframe tbody tr th:only-of-type {\n",
       "        vertical-align: middle;\n",
       "    }\n",
       "\n",
       "    .dataframe tbody tr th {\n",
       "        vertical-align: top;\n",
       "    }\n",
       "\n",
       "    .dataframe thead th {\n",
       "        text-align: right;\n",
       "    }\n",
       "</style>\n",
       "<table border=\"1\" class=\"dataframe\">\n",
       "  <thead>\n",
       "    <tr style=\"text-align: right;\">\n",
       "      <th></th>\n",
       "      <th>Peak Diameter by Intensity %</th>\n",
       "      <th>Peak Diameter by Number %</th>\n",
       "      <th>Peak Diameter by Volume %</th>\n",
       "    </tr>\n",
       "    <tr>\n",
       "      <th>id</th>\n",
       "      <th></th>\n",
       "      <th></th>\n",
       "      <th></th>\n",
       "    </tr>\n",
       "  </thead>\n",
       "  <tbody>\n",
       "    <tr>\n",
       "      <th>0</th>\n",
       "      <td>91.28</td>\n",
       "      <td>58.77</td>\n",
       "      <td>68.06</td>\n",
       "    </tr>\n",
       "    <tr>\n",
       "      <th>1</th>\n",
       "      <td>122.40</td>\n",
       "      <td>78.82</td>\n",
       "      <td>105.70</td>\n",
       "    </tr>\n",
       "  </tbody>\n",
       "</table>\n",
       "</div>"
      ],
      "text/plain": [
       "    Peak Diameter by Intensity %  Peak Diameter by Number %  \\\n",
       "id                                                            \n",
       "0                          91.28                      58.77   \n",
       "1                         122.40                      78.82   \n",
       "\n",
       "    Peak Diameter by Volume %  \n",
       "id                             \n",
       "0                       68.06  \n",
       "1                      105.70  "
      ]
     },
     "execution_count": 55,
     "metadata": {},
     "output_type": "execute_result"
    }
   ],
   "source": [
    "# format column names\n",
    "df_pivot.columns = [\"Peak Diameter by \" + a[1] for a in df_pivot.columns.to_flat_index()]\n",
    "df_pivot.head(2)"
   ]
  },
  {
   "cell_type": "code",
   "execution_count": 56,
   "id": "be56f101-8004-40fe-b7f0-fa0adcfed72a",
   "metadata": {
    "tags": []
   },
   "outputs": [
    {
     "data": {
      "text/html": [
       "<div>\n",
       "<style scoped>\n",
       "    .dataframe tbody tr th:only-of-type {\n",
       "        vertical-align: middle;\n",
       "    }\n",
       "\n",
       "    .dataframe tbody tr th {\n",
       "        vertical-align: top;\n",
       "    }\n",
       "\n",
       "    .dataframe thead th {\n",
       "        text-align: right;\n",
       "    }\n",
       "</style>\n",
       "<table border=\"1\" class=\"dataframe\">\n",
       "  <thead>\n",
       "    <tr style=\"text-align: right;\">\n",
       "      <th></th>\n",
       "      <th>DLS index</th>\n",
       "      <th>Record Number</th>\n",
       "      <th>Intensity %</th>\n",
       "      <th>Number %</th>\n",
       "      <th>Volume %</th>\n",
       "      <th>Diameter (nm)</th>\n",
       "      <th>Log Diameter</th>\n",
       "      <th>Measurement Date and Time</th>\n",
       "      <th>Sample Name</th>\n",
       "      <th>Triplicate</th>\n",
       "      <th>...</th>\n",
       "      <th>pH</th>\n",
       "      <th>Triton</th>\n",
       "      <th>Peak Diameter by Intensity %_x</th>\n",
       "      <th>Peak Diameter by Number %_x</th>\n",
       "      <th>Peak Diameter by Intensity %_y</th>\n",
       "      <th>Peak Diameter by Number %_y</th>\n",
       "      <th>Peak Diameter by Volume %_x</th>\n",
       "      <th>Peak Diameter by Intensity %</th>\n",
       "      <th>Peak Diameter by Number %</th>\n",
       "      <th>Peak Diameter by Volume %_y</th>\n",
       "    </tr>\n",
       "  </thead>\n",
       "  <tbody>\n",
       "    <tr>\n",
       "      <th>0</th>\n",
       "      <td>1</td>\n",
       "      <td>0</td>\n",
       "      <td>0.0</td>\n",
       "      <td>0.0</td>\n",
       "      <td>0.0</td>\n",
       "      <td>0.4000</td>\n",
       "      <td>-0.397940</td>\n",
       "      <td>Friday, July 21, 2023 5:20:15 PM</td>\n",
       "      <td>CF POPG LUV 1X 1</td>\n",
       "      <td>1</td>\n",
       "      <td>...</td>\n",
       "      <td>7.4</td>\n",
       "      <td>0</td>\n",
       "      <td>91.28</td>\n",
       "      <td>58.77</td>\n",
       "      <td>91.28</td>\n",
       "      <td>58.77</td>\n",
       "      <td>68.06</td>\n",
       "      <td>91.28</td>\n",
       "      <td>58.77</td>\n",
       "      <td>68.06</td>\n",
       "    </tr>\n",
       "    <tr>\n",
       "      <th>1</th>\n",
       "      <td>2</td>\n",
       "      <td>0</td>\n",
       "      <td>0.0</td>\n",
       "      <td>0.0</td>\n",
       "      <td>0.0</td>\n",
       "      <td>0.4632</td>\n",
       "      <td>-0.334231</td>\n",
       "      <td>Friday, July 21, 2023 5:20:15 PM</td>\n",
       "      <td>CF POPG LUV 1X 1</td>\n",
       "      <td>1</td>\n",
       "      <td>...</td>\n",
       "      <td>7.4</td>\n",
       "      <td>0</td>\n",
       "      <td>91.28</td>\n",
       "      <td>58.77</td>\n",
       "      <td>91.28</td>\n",
       "      <td>58.77</td>\n",
       "      <td>68.06</td>\n",
       "      <td>91.28</td>\n",
       "      <td>58.77</td>\n",
       "      <td>68.06</td>\n",
       "    </tr>\n",
       "    <tr>\n",
       "      <th>2</th>\n",
       "      <td>3</td>\n",
       "      <td>0</td>\n",
       "      <td>0.0</td>\n",
       "      <td>0.0</td>\n",
       "      <td>0.0</td>\n",
       "      <td>0.5365</td>\n",
       "      <td>-0.270430</td>\n",
       "      <td>Friday, July 21, 2023 5:20:15 PM</td>\n",
       "      <td>CF POPG LUV 1X 1</td>\n",
       "      <td>1</td>\n",
       "      <td>...</td>\n",
       "      <td>7.4</td>\n",
       "      <td>0</td>\n",
       "      <td>91.28</td>\n",
       "      <td>58.77</td>\n",
       "      <td>91.28</td>\n",
       "      <td>58.77</td>\n",
       "      <td>68.06</td>\n",
       "      <td>91.28</td>\n",
       "      <td>58.77</td>\n",
       "      <td>68.06</td>\n",
       "    </tr>\n",
       "    <tr>\n",
       "      <th>3</th>\n",
       "      <td>4</td>\n",
       "      <td>0</td>\n",
       "      <td>0.0</td>\n",
       "      <td>0.0</td>\n",
       "      <td>0.0</td>\n",
       "      <td>0.6213</td>\n",
       "      <td>-0.206699</td>\n",
       "      <td>Friday, July 21, 2023 5:20:15 PM</td>\n",
       "      <td>CF POPG LUV 1X 1</td>\n",
       "      <td>1</td>\n",
       "      <td>...</td>\n",
       "      <td>7.4</td>\n",
       "      <td>0</td>\n",
       "      <td>91.28</td>\n",
       "      <td>58.77</td>\n",
       "      <td>91.28</td>\n",
       "      <td>58.77</td>\n",
       "      <td>68.06</td>\n",
       "      <td>91.28</td>\n",
       "      <td>58.77</td>\n",
       "      <td>68.06</td>\n",
       "    </tr>\n",
       "    <tr>\n",
       "      <th>4</th>\n",
       "      <td>5</td>\n",
       "      <td>0</td>\n",
       "      <td>0.0</td>\n",
       "      <td>0.0</td>\n",
       "      <td>0.0</td>\n",
       "      <td>0.7195</td>\n",
       "      <td>-0.142969</td>\n",
       "      <td>Friday, July 21, 2023 5:20:15 PM</td>\n",
       "      <td>CF POPG LUV 1X 1</td>\n",
       "      <td>1</td>\n",
       "      <td>...</td>\n",
       "      <td>7.4</td>\n",
       "      <td>0</td>\n",
       "      <td>91.28</td>\n",
       "      <td>58.77</td>\n",
       "      <td>91.28</td>\n",
       "      <td>58.77</td>\n",
       "      <td>68.06</td>\n",
       "      <td>91.28</td>\n",
       "      <td>58.77</td>\n",
       "      <td>68.06</td>\n",
       "    </tr>\n",
       "  </tbody>\n",
       "</table>\n",
       "<p>5 rows × 31 columns</p>\n",
       "</div>"
      ],
      "text/plain": [
       "   DLS index Record Number  Intensity %  Number %  Volume %  Diameter (nm)  \\\n",
       "0          1             0          0.0       0.0       0.0         0.4000   \n",
       "1          2             0          0.0       0.0       0.0         0.4632   \n",
       "2          3             0          0.0       0.0       0.0         0.5365   \n",
       "3          4             0          0.0       0.0       0.0         0.6213   \n",
       "4          5             0          0.0       0.0       0.0         0.7195   \n",
       "\n",
       "   Log Diameter         Measurement Date and Time       Sample Name  \\\n",
       "0     -0.397940  Friday, July 21, 2023 5:20:15 PM  CF POPG LUV 1X 1   \n",
       "1     -0.334231  Friday, July 21, 2023 5:20:15 PM  CF POPG LUV 1X 1   \n",
       "2     -0.270430  Friday, July 21, 2023 5:20:15 PM  CF POPG LUV 1X 1   \n",
       "3     -0.206699  Friday, July 21, 2023 5:20:15 PM  CF POPG LUV 1X 1   \n",
       "4     -0.142969  Friday, July 21, 2023 5:20:15 PM  CF POPG LUV 1X 1   \n",
       "\n",
       "  Triplicate  ...   pH Triton Peak Diameter by Intensity %_x  \\\n",
       "0          1  ...  7.4      0                          91.28   \n",
       "1          1  ...  7.4      0                          91.28   \n",
       "2          1  ...  7.4      0                          91.28   \n",
       "3          1  ...  7.4      0                          91.28   \n",
       "4          1  ...  7.4      0                          91.28   \n",
       "\n",
       "   Peak Diameter by Number %_x Peak Diameter by Intensity %_y  \\\n",
       "0                        58.77                          91.28   \n",
       "1                        58.77                          91.28   \n",
       "2                        58.77                          91.28   \n",
       "3                        58.77                          91.28   \n",
       "4                        58.77                          91.28   \n",
       "\n",
       "   Peak Diameter by Number %_y  Peak Diameter by Volume %_x  \\\n",
       "0                        58.77                        68.06   \n",
       "1                        58.77                        68.06   \n",
       "2                        58.77                        68.06   \n",
       "3                        58.77                        68.06   \n",
       "4                        58.77                        68.06   \n",
       "\n",
       "   Peak Diameter by Intensity % Peak Diameter by Number %  \\\n",
       "0                         91.28                     58.77   \n",
       "1                         91.28                     58.77   \n",
       "2                         91.28                     58.77   \n",
       "3                         91.28                     58.77   \n",
       "4                         91.28                     58.77   \n",
       "\n",
       "  Peak Diameter by Volume %_y  \n",
       "0                       68.06  \n",
       "1                       68.06  \n",
       "2                       68.06  \n",
       "3                       68.06  \n",
       "4                       68.06  \n",
       "\n",
       "[5 rows x 31 columns]"
      ]
     },
     "execution_count": 56,
     "metadata": {},
     "output_type": "execute_result"
    }
   ],
   "source": [
    "# merge back in to df_main\n",
    "df_main = df_main.merge(df_pivot, left_on=\"id\", right_on=\"id\")\n",
    "df_main.head()"
   ]
  },
  {
   "cell_type": "markdown",
   "id": "58613a4f-9c7f-4a73-be4e-25c79f21573c",
   "metadata": {},
   "source": [
    "## Compute weighted average intensity and number"
   ]
  },
  {
   "cell_type": "code",
   "execution_count": 57,
   "id": "40b6a869-42a0-40e2-aeff-a70426f39c1c",
   "metadata": {
    "tags": []
   },
   "outputs": [
    {
     "data": {
      "text/plain": [
       "Index(['DLS index', 'Record Number', 'Intensity %', 'Number %', 'Volume %',\n",
       "       'Diameter (nm)', 'Log Diameter', 'Measurement Date and Time',\n",
       "       'Sample Name', 'Triplicate', 'title', 'time', 'date', 'id',\n",
       "       'start date', 'days since', 'LUV', 'LNP', 'fluorophore', 'lipid',\n",
       "       'lipidoid', 'pH', 'Triton', 'Peak Diameter by Intensity %_x',\n",
       "       'Peak Diameter by Number %_x', 'Peak Diameter by Intensity %_y',\n",
       "       'Peak Diameter by Number %_y', 'Peak Diameter by Volume %_x',\n",
       "       'Peak Diameter by Intensity %', 'Peak Diameter by Number %',\n",
       "       'Peak Diameter by Volume %_y'],\n",
       "      dtype='object')"
      ]
     },
     "execution_count": 57,
     "metadata": {},
     "output_type": "execute_result"
    }
   ],
   "source": [
    "df_main.columns"
   ]
  },
  {
   "cell_type": "code",
   "execution_count": 58,
   "id": "2ed1df24-7af2-4b3c-a1ff-cabfbefbd31a",
   "metadata": {
    "tags": []
   },
   "outputs": [],
   "source": [
    "# prepare temporary dataframe for calculation\n",
    "df_rn = pd.DataFrame(df_main[\"Record Number\"].drop_duplicates()).set_index(\"Record Number\")\n",
    "\n",
    "# for each unique record number, compute the weighted average intensity and number\n",
    "for rn in df_rn.index:\n",
    "    rn_sum_prod_int = df_main.loc[df_main[\"Record Number\"] == rn].loc[:,[\"Intensity %\",\"Diameter (nm)\"]].product(axis=1).sum()\n",
    "    rn_sum_prod_num = df_main.loc[df_main[\"Record Number\"] == rn].loc[:,[\"Number %\",\"Diameter (nm)\"]].product(axis=1).sum()\n",
    "    rn_sum_weights_int = df_main.loc[df_main[\"Record Number\"] == rn].loc[:,[\"Intensity %\"]].sum().values\n",
    "    rn_sum_weights_num = df_main.loc[df_main[\"Record Number\"] == rn].loc[:,[\"Number %\"]].sum().values\n",
    "\n",
    "    # assign value in df_rn\n",
    "    df_rn.loc[rn,\"Weighted Average Intensity\"] = rn_sum_prod_int / rn_sum_weights_int\n",
    "    df_rn.loc[rn,\"Weighted Average Number\"] = rn_sum_prod_num / rn_sum_weights_num"
   ]
  },
  {
   "cell_type": "code",
   "execution_count": 59,
   "id": "3e67c216-5e05-4f3b-810a-2fce70cc9a70",
   "metadata": {
    "tags": []
   },
   "outputs": [
    {
     "data": {
      "text/plain": [
       "Index(['DLS index', 'Record Number', 'Intensity %', 'Number %', 'Volume %',\n",
       "       'Diameter (nm)', 'Log Diameter', 'Measurement Date and Time',\n",
       "       'Sample Name', 'Triplicate', 'title', 'time', 'date', 'id',\n",
       "       'start date', 'days since', 'LUV', 'LNP', 'fluorophore', 'lipid',\n",
       "       'lipidoid', 'pH', 'Triton', 'Peak Diameter by Intensity %_x',\n",
       "       'Peak Diameter by Number %_x', 'Peak Diameter by Intensity %_y',\n",
       "       'Peak Diameter by Number %_y', 'Peak Diameter by Volume %_x',\n",
       "       'Peak Diameter by Intensity %', 'Peak Diameter by Number %',\n",
       "       'Peak Diameter by Volume %_y'],\n",
       "      dtype='object')"
      ]
     },
     "execution_count": 59,
     "metadata": {},
     "output_type": "execute_result"
    }
   ],
   "source": [
    "df_main.columns"
   ]
  },
  {
   "cell_type": "markdown",
   "id": "b050ba88-fd56-4aaa-ac2d-be3a1193ff86",
   "metadata": {},
   "source": [
    "## Fit Curves to Gaussian and Extract parameters"
   ]
  },
  {
   "cell_type": "markdown",
   "id": "07557152-ceba-4bd0-8f88-46e330cee51f",
   "metadata": {},
   "source": [
    "### Generate fitted parameters (a, x0, sigma)"
   ]
  },
  {
   "cell_type": "code",
   "execution_count": 60,
   "id": "529bb9e3-a681-442b-bfb3-c199413e73bf",
   "metadata": {
    "tags": []
   },
   "outputs": [],
   "source": [
    "# Define Gaussian function that we will fit to\n",
    "def Gauss(x, a, x0, sigma):\n",
    "    # a = maximum \n",
    "    # x0 = mean\n",
    "    # sigma = standard of deviation\n",
    "    return a*np.exp(-(x-x0)**2/(2*sigma**2))\n",
    "\n",
    "# initial guess for data\n",
    "p0_guess = p0=[10,2,1]"
   ]
  },
  {
   "cell_type": "code",
   "execution_count": 61,
   "id": "47b0e4af-d503-4266-a07f-d54ca6189fa8",
   "metadata": {
    "tags": []
   },
   "outputs": [],
   "source": [
    "for rn in df_rn.index:\n",
    "    \n",
    "    for datatype in [\"Intensity\",\"Number\"]:\n",
    "\n",
    "        # extract dataframe for this record number\n",
    "        df_temp = df_main.loc[df_main[\"Record Number\"]==rn].loc[:,[\"Log Diameter\",datatype + \" %\"]].copy(deep=True)\n",
    "\n",
    "        # Execute Curve Fit\n",
    "        popt, pcov = curve_fit(Gauss, \n",
    "                               df_temp[\"Log Diameter\"].values, \n",
    "                               df_temp[datatype + \" %\"].values,\n",
    "                               p0=p0_guess)\n",
    "\n",
    "        # load Optimized values into df_rn\n",
    "        df_rn.loc[rn,[\"a \"+datatype,\"log10 x0 \"+datatype,\"log10 sigma \"+datatype]] = popt\n",
    "        \n",
    "        # generate new fitted data\n",
    "        yfit = Gauss(df_temp[\"Log Diameter\"].values, \n",
    "                     popt[0], popt[1], popt[2])\n",
    "        \n",
    "        # load into df_temp, then join with df_main\n",
    "        df_main.loc[df_temp.index,\"Fitted \"+datatype+\" %\"] = yfit"
   ]
  },
  {
   "cell_type": "code",
   "execution_count": 62,
   "id": "6c6e9e09-c920-4a90-af35-bdaf97c1fad7",
   "metadata": {},
   "outputs": [],
   "source": [
    "# calculate and load confidence interval data into df_rn\n",
    "for datatype in [\"Intensity\",\"Number\"]:\n",
    "    # convert x0 and sigma back to linear space\n",
    "    df_rn.loc[:,\"x0 \"+datatype]    = np.power(10,df_rn.loc[:,\"log10 x0 \" + datatype])\n",
    "    df_rn.loc[:,\"sigma \"+datatype] = np.power(10,df_rn.loc[:,\"log10 sigma \" + datatype])\n",
    "\n",
    "    # calculate lower and upper bounds of confidence interval\n",
    "    df_rn.loc[:,\"lower \"+datatype] = np.power(10, df_rn.loc[:,\"log10 x0 \" + datatype] - df_rn.loc[:,\"log10 sigma \" + datatype])\n",
    "    df_rn.loc[:,\"upper \"+datatype] = np.power(10, df_rn.loc[:,\"log10 x0 \" + datatype] + df_rn.loc[:,\"log10 sigma \" + datatype])\n",
    "\n",
    "    # calculate lower and upper error bars of confidence interval\n",
    "    df_rn.loc[:,\"lower err \"+datatype] = df_rn.loc[:,\"x0 \"+datatype]      - df_rn.loc[:,\"lower \"+datatype]\n",
    "    df_rn.loc[:,\"upper err \"+datatype] = df_rn.loc[:,\"upper \"+datatype] - df_rn.loc[:,\"x0 \"+datatype]"
   ]
  },
  {
   "cell_type": "code",
   "execution_count": 63,
   "id": "a920e3d1-2cd3-4d93-a089-97b8fbbec0cb",
   "metadata": {
    "tags": []
   },
   "outputs": [
    {
     "data": {
      "text/plain": [
       "Index(['DLS index', 'Record Number', 'Intensity %', 'Number %', 'Volume %',\n",
       "       'Diameter (nm)', 'Log Diameter', 'Measurement Date and Time',\n",
       "       'Sample Name', 'Triplicate', 'title', 'time', 'date', 'id',\n",
       "       'start date', 'days since', 'LUV', 'LNP', 'fluorophore', 'lipid',\n",
       "       'lipidoid', 'pH', 'Triton', 'Peak Diameter by Intensity %_x',\n",
       "       'Peak Diameter by Number %_x', 'Peak Diameter by Intensity %_y',\n",
       "       'Peak Diameter by Number %_y', 'Peak Diameter by Volume %_x',\n",
       "       'Peak Diameter by Intensity %', 'Peak Diameter by Number %',\n",
       "       'Peak Diameter by Volume %_y', 'Fitted Intensity %', 'Fitted Number %'],\n",
       "      dtype='object')"
      ]
     },
     "execution_count": 63,
     "metadata": {},
     "output_type": "execute_result"
    }
   ],
   "source": [
    "df_main.columns"
   ]
  },
  {
   "cell_type": "code",
   "execution_count": 64,
   "id": "26b9f69a-5356-4d97-999d-0df19efe3569",
   "metadata": {
    "tags": []
   },
   "outputs": [],
   "source": [
    "# merge all that new confidence interval information into df_main\n",
    "df_main = df_main.merge(df_rn, left_on=\"Record Number\", right_on=df_rn.index)"
   ]
  },
  {
   "cell_type": "code",
   "execution_count": 65,
   "id": "b81d8e1e-8ed3-4c1c-83b7-e586882d7c2e",
   "metadata": {
    "tags": []
   },
   "outputs": [
    {
     "data": {
      "text/plain": [
       "Index(['DLS index', 'Record Number', 'Intensity %', 'Number %', 'Volume %',\n",
       "       'Diameter (nm)', 'Log Diameter', 'Measurement Date and Time',\n",
       "       'Sample Name', 'Triplicate', 'title', 'time', 'date', 'id',\n",
       "       'start date', 'days since', 'LUV', 'LNP', 'fluorophore', 'lipid',\n",
       "       'lipidoid', 'pH', 'Triton', 'Peak Diameter by Intensity %_x',\n",
       "       'Peak Diameter by Number %_x', 'Peak Diameter by Intensity %_y',\n",
       "       'Peak Diameter by Number %_y', 'Peak Diameter by Volume %_x',\n",
       "       'Peak Diameter by Intensity %', 'Peak Diameter by Number %',\n",
       "       'Peak Diameter by Volume %_y', 'Fitted Intensity %', 'Fitted Number %',\n",
       "       'Weighted Average Intensity', 'Weighted Average Number', 'a Intensity',\n",
       "       'log10 x0 Intensity', 'log10 sigma Intensity', 'a Number',\n",
       "       'log10 x0 Number', 'log10 sigma Number', 'x0 Intensity',\n",
       "       'sigma Intensity', 'lower Intensity', 'upper Intensity',\n",
       "       'lower err Intensity', 'upper err Intensity', 'x0 Number',\n",
       "       'sigma Number', 'lower Number', 'upper Number', 'lower err Number',\n",
       "       'upper err Number'],\n",
       "      dtype='object')"
      ]
     },
     "execution_count": 65,
     "metadata": {},
     "output_type": "execute_result"
    }
   ],
   "source": [
    "df_main.columns"
   ]
  },
  {
   "cell_type": "markdown",
   "id": "8bb9bf71-27a6-4a6c-83e4-c4f4f6a52ee4",
   "metadata": {
    "tags": []
   },
   "source": [
    "# SAVE dataframe!"
   ]
  },
  {
   "cell_type": "code",
   "execution_count": null,
   "id": "7db8e3ca-52da-431c-9f05-f304cb788c7b",
   "metadata": {
    "tags": []
   },
   "outputs": [],
   "source": [
    "df_main.to_excel('data/df_main.xlsx', sheet_name='all data')"
   ]
  },
  {
   "cell_type": "code",
   "execution_count": null,
   "id": "3cd3e2dc-a0f3-4761-a7a1-3a3d7b0e45f3",
   "metadata": {
    "tags": []
   },
   "outputs": [],
   "source": [
    "df_main.columns"
   ]
  },
  {
   "cell_type": "markdown",
   "id": "92a6bb83-5e44-4edc-ae74-92bef0c6b8a9",
   "metadata": {},
   "source": [
    "# LOAD DATAFRAME"
   ]
  },
  {
   "cell_type": "code",
   "execution_count": 2,
   "id": "94e5242b-0677-48cf-a021-ec24449b0f97",
   "metadata": {
    "tags": []
   },
   "outputs": [],
   "source": [
    "df_main = pd.read_excel('data/df_main.xlsx', sheet_name='all data')"
   ]
  },
  {
   "cell_type": "markdown",
   "id": "3f92f93b-63e3-4363-9d1e-91cc49ae8407",
   "metadata": {},
   "source": [
    "# PLOTTING"
   ]
  },
  {
   "cell_type": "markdown",
   "id": "316a9179-045e-4f04-8a4e-547073f3b17c",
   "metadata": {},
   "source": [
    "## Bar Graphs of Peak, Weighted Mean Diameter, and Fitted Mean Diameter"
   ]
  },
  {
   "cell_type": "code",
   "execution_count": 67,
   "id": "0902ab46-fd33-45a3-8cd8-0e8e29981136",
   "metadata": {
    "tags": []
   },
   "outputs": [
    {
     "data": {
      "text/plain": [
       "Index(['DLS index', 'Record Number', 'Intensity %', 'Number %', 'Volume %',\n",
       "       'Diameter (nm)', 'Log Diameter', 'Measurement Date and Time',\n",
       "       'Sample Name', 'Triplicate', 'title', 'time', 'date', 'id',\n",
       "       'start date', 'days since', 'LUV', 'LNP', 'fluorophore', 'lipid',\n",
       "       'lipidoid', 'pH', 'Triton', 'Peak Diameter by Intensity %_x',\n",
       "       'Peak Diameter by Number %_x', 'Peak Diameter by Intensity %_y',\n",
       "       'Peak Diameter by Number %_y', 'Peak Diameter by Volume %_x',\n",
       "       'Peak Diameter by Intensity %', 'Peak Diameter by Number %',\n",
       "       'Peak Diameter by Volume %_y', 'Fitted Intensity %', 'Fitted Number %',\n",
       "       'Weighted Average Intensity', 'Weighted Average Number', 'a Intensity',\n",
       "       'log10 x0 Intensity', 'log10 sigma Intensity', 'a Number',\n",
       "       'log10 x0 Number', 'log10 sigma Number', 'x0 Intensity',\n",
       "       'sigma Intensity', 'lower Intensity', 'upper Intensity',\n",
       "       'lower err Intensity', 'upper err Intensity', 'x0 Number',\n",
       "       'sigma Number', 'lower Number', 'upper Number', 'lower err Number',\n",
       "       'upper err Number'],\n",
       "      dtype='object')"
      ]
     },
     "execution_count": 67,
     "metadata": {},
     "output_type": "execute_result"
    }
   ],
   "source": [
    "df_main.columns"
   ]
  },
  {
   "cell_type": "code",
   "execution_count": 66,
   "id": "cff8c8a1-1de6-43cb-b030-ae584fe64dfb",
   "metadata": {
    "tags": []
   },
   "outputs": [
    {
     "data": {
      "image/png": "[encoded data removed]",
      "text/plain": [
       "<Figure size 1200x400 with 3 Axes>"
      ]
     },
     "metadata": {},
     "output_type": "display_data"
    }
   ],
   "source": [
    "fig, ax = plt.subplots(1,3, figsize=(12,4), sharey=True)\n",
    "\n",
    "var_id = 0\n",
    "\n",
    "for variable in ['Peak Diameter by Intensity %', 'x0 Intensity', 'Weighted Average Intensity']:\n",
    "\n",
    "    # plot peak diameter by intensity\n",
    "    sns.barplot(data=df_main.sort_values(by=\"lipidoid\"),\n",
    "                x=\"lipidoid\",\n",
    "                y=variable,\n",
    "                hue=\"pH\",\n",
    "                ax=ax[var_id])\n",
    "    \n",
    "    for c in ax[var_id].containers:\n",
    "        # set the bar label\n",
    "        ax[var_id].bar_label(c, fmt='%.0f', label_type='edge', padding=1)\n",
    "\n",
    "    #ax[0,0].set_ylabel('Mean Diameter (nm) \\n by Intensity %')\n",
    "    #ax[0,0].legend(loc='center left', bbox_to_anchor=(1, 0.5), title=\"pH\")\n",
    "    #plt.xticks(rotation = 45)\n",
    "    var_id += 1\n",
    "    \n",
    "    plt.tight_layout()"
   ]
  },
  {
   "cell_type": "code",
   "execution_count": 30,
   "id": "eed1d9c0-8f6b-4f1d-8186-43d9aaf91141",
   "metadata": {
    "tags": []
   },
   "outputs": [
    {
     "data": {
      "image/png": "[encoded data removed]",
      "text/plain": [
       "<Figure size 400x400 with 1 Axes>"
      ]
     },
     "metadata": {},
     "output_type": "display_data"
    }
   ],
   "source": [
    "fig, ax = plt.subplots(1,1, figsize=(4,4))\n",
    "\n",
    "# plot peak diameter by intensity\n",
    "sns.barplot(data=df_main.sort_values(by=\"lipidoid\"),\n",
    "            x=\"lipidoid\",\n",
    "            y='x0 Intensity',\n",
    "            hue=\"pH\",\n",
    "            ax=ax)\n",
    "\n",
    "for c in ax.containers:\n",
    "    # set the bar label\n",
    "    ax.bar_label(c, fmt='%.0f', label_type='edge', padding=1)\n",
    "    c.yerr=[100, 200, 300, 400]\n",
    "    \n",
    "\n",
    "#ax[0,0].set_ylabel('Mean Diameter (nm) \\n by Intensity %')\n",
    "#ax[0,0].legend(loc='center left', bbox_to_anchor=(1, 0.5), title=\"pH\")\n",
    "#plt.xticks(rotation = 45)\n",
    "\n",
    "plt.tight_layout()"
   ]
  },
  {
   "cell_type": "code",
   "execution_count": 11,
   "id": "8166e310-b84f-484b-9a00-c71fccefa4c6",
   "metadata": {
    "tags": []
   },
   "outputs": [
    {
     "data": {
      "text/plain": [
       "array([0, 1, 2, 3])"
      ]
     },
     "execution_count": 11,
     "metadata": {},
     "output_type": "execute_result"
    }
   ],
   "source": [
    "ax.get_xticks()"
   ]
  },
  {
   "cell_type": "markdown",
   "id": "7a15e84a-ebfb-4e67-9470-27c1a162ed0b",
   "metadata": {},
   "source": [
    "# SCRAP WORK"
   ]
  },
  {
   "cell_type": "markdown",
   "id": "39aba158-236b-4699-874c-2e696349ffea",
   "metadata": {},
   "source": [
    "## Plot LUV by type of lipid for samples with no Triton"
   ]
  },
  {
   "cell_type": "code",
   "execution_count": 3,
   "id": "eb4ed9e7",
   "metadata": {
    "id": "eb4ed9e7"
   },
   "outputs": [
    {
     "name": "stdout",
     "output_type": "stream",
     "text": [
      "POPC\n",
      "POPG\n"
     ]
    },
    {
     "data": {
      "image/png": "[encoded data removed]",
      "text/plain": [
       "<Figure size 640x480 with 2 Axes>"
      ]
     },
     "metadata": {},
     "output_type": "display_data"
    },
    {
     "data": {
      "image/png": "[encoded data removed]",
      "text/plain": [
       "<Figure size 640x480 with 2 Axes>"
      ]
     },
     "metadata": {},
     "output_type": "display_data"
    }
   ],
   "source": [
    "LUV = 1\n",
    "lipid = \"POPC\"\n",
    "fluorophore = \"R18\"\n",
    "pH = \"5.5\"\n",
    "Triton = 0\n",
    "\n",
    "temp_data = df_main[(df_main[\"LUV\"] == LUV) &\n",
    "                    (df_main[\"fluorophore\"] == fluorophore) &\n",
    "                    #(df_main[\"pH\"] == pH) &\n",
    "                    (df_main[\"Triton\"] == Triton)]\n",
    "\n",
    "for lipid in temp_data[\"lipid\"].dropna().unique():\n",
    "    print(lipid)\n",
    "    \n",
    "    fig, ax = plt.subplots(2,1, sharex=True)\n",
    "\n",
    "    sns.lineplot(data=temp_data[temp_data[\"lipid\"] == lipid],\n",
    "                 x=\"Diameter (nm)\",\n",
    "                 y=\"Intensity %\",\n",
    "                 hue=\"title\",\n",
    "                 ax=ax[0])\n",
    "\n",
    "    sns.lineplot(data=temp_data[temp_data[\"lipid\"] == lipid],\n",
    "                 x=\"Diameter (nm)\",\n",
    "                 y=\"Number %\",\n",
    "                 hue=\"title\",\n",
    "                 ax=ax[1])\n",
    "\n",
    "    ax[0].legend(loc='center left', bbox_to_anchor=(1, 0.5), title=\"lipid\")\n",
    "    ax[1].legend(loc='center left', bbox_to_anchor=(1, 0.5), title=\"lipid\")\n",
    "\n",
    "    ax[0].set_xscale('log')"
   ]
  },
  {
   "cell_type": "code",
   "execution_count": null,
   "id": "c5bef818-892b-4019-b916-44d3516c7eba",
   "metadata": {
    "id": "eb4ed9e7"
   },
   "outputs": [],
   "source": [
    "fig, ax = plt.subplots(2,1, sharex=True)\n",
    "\n",
    "temp_data = df_main[df_main['lipidoid'].notna()]\n",
    "\n",
    "sns.lineplot(data=temp_data,\n",
    "             x=\"Diameter (nm)\",\n",
    "             y=\"Intensity %\",\n",
    "             hue=\"lipidoid\",\n",
    "             style=\"pH\",\n",
    "             ax=ax[0])\n",
    "\n",
    "sns.lineplot(data=temp_data,\n",
    "             x=\"Diameter (nm)\",\n",
    "             y=\"Number %\",\n",
    "             hue=\"lipidoid\",\n",
    "             style=\"pH\",\n",
    "             ax=ax[1])\n",
    "\n",
    "ax[0].legend(loc='center left', bbox_to_anchor=(1, 0.5), title=\"lipidoid\")\n",
    "ax[1].legend(loc='center left', bbox_to_anchor=(1, 0.5), title=\"lipidoid\")\n",
    "\n",
    "ax[0].set_xscale('log')"
   ]
  },
  {
   "cell_type": "markdown",
   "id": "e2fde9ae-a5c2-47dd-bb36-ac51db6d92e3",
   "metadata": {},
   "source": [
    "## Bargraph of x0 using fitted error bars"
   ]
  },
  {
   "cell_type": "markdown",
   "id": "2dfffe48-4df1-4b89-bc8a-2f64be155d58",
   "metadata": {},
   "source": [
    "### Find one record number which is lipidoid 200oi10 and make a bar graph"
   ]
  },
  {
   "cell_type": "code",
   "execution_count": null,
   "id": "743a4ac7-1c64-442a-9c2d-84480c5a15d0",
   "metadata": {
    "tags": []
   },
   "outputs": [],
   "source": [
    "df_main.columns"
   ]
  },
  {
   "cell_type": "code",
   "execution_count": null,
   "id": "20380ffd-9d14-4c2a-b74a-5568dc0352b7",
   "metadata": {
    "tags": []
   },
   "outputs": [],
   "source": [
    "df_main.loc[df_main[\"Record Number\"]==123].loc[:,[\"lipidoid\",\"x0 Intensity\",\"lower err Intensity\",\"upper err Intensity\"]].drop_duplicates().values"
   ]
  },
  {
   "cell_type": "code",
   "execution_count": null,
   "id": "716983a2-fdc2-4c76-9898-969b82944a14",
   "metadata": {
    "tags": []
   },
   "outputs": [],
   "source": [
    "x = df_main.loc[df_main[\"Record Number\"]==123].loc[:,\"lipidoid\"].drop_duplicates().values\n",
    "y = df_main.loc[df_main[\"Record Number\"]==123].loc[:,\"x0 Intensity\"].drop_duplicates().values\n",
    "y = y[0]\n",
    "\n",
    "yerr = df_main.loc[df_main[\"Record Number\"]==123].loc[:,[\"lower err Intensity\",\"upper err Intensity\"]].drop_duplicates().values\n",
    "yerr = yerr[0]\n",
    "yerr = yerr.reshape(2,1)"
   ]
  },
  {
   "cell_type": "code",
   "execution_count": null,
   "id": "a88de1c2-b4c4-45e6-adee-94acf3270295",
   "metadata": {
    "tags": []
   },
   "outputs": [],
   "source": [
    "print(x)\n",
    "print(y)\n",
    "print(yerr)"
   ]
  },
  {
   "cell_type": "code",
   "execution_count": null,
   "id": "d5abab8d-8ab0-4666-8f8c-c1a45624a434",
   "metadata": {
    "tags": []
   },
   "outputs": [],
   "source": [
    "np.shape(yerr)"
   ]
  },
  {
   "cell_type": "code",
   "execution_count": null,
   "id": "812d8d12-6c4f-46f1-a5c7-c7cb1626f50b",
   "metadata": {
    "tags": []
   },
   "outputs": [],
   "source": [
    "fig, ax = plt.subplots()\n",
    "\n",
    "ax.bar(0, y, yerr=yerr, tick_label=123, capsize=10)\n",
    "ax.set_yscale('log')"
   ]
  },
  {
   "cell_type": "markdown",
   "id": "af5c83fb-1f44-4519-9556-a6da86d5206e",
   "metadata": {},
   "source": [
    "## one bar for each record number, different colors for pH"
   ]
  },
  {
   "cell_type": "code",
   "execution_count": null,
   "id": "f9969f43-6c39-40c0-9957-a77542d39797",
   "metadata": {
    "tags": []
   },
   "outputs": [],
   "source": [
    "fig, ax = plt.subplots(figsize=(8,4))\n",
    "\n",
    "x_start = 0\n",
    "\n",
    "color_dict = {\"5.5\" : \"blue\",\n",
    "              \"7.4\" : \"orange\"}\n",
    "\n",
    "xticks = []\n",
    "xticklabels = []\n",
    "\n",
    "for pH in [\"7.4\",\"5.5\"]:\n",
    "\n",
    "    rn_list = df_main.loc[(df_main[\"lipidoid\"]==\"200oi10\") &\n",
    "                          (df_main[\"pH\"] == pH)][\"Record Number\"].unique()\n",
    "    x = x_start + np.arange(0,len(rn_list))\n",
    "    y = df_main.loc[df_main[\"Record Number\"].isin(rn_list)].loc[:,\"x0 Intensity\"].drop_duplicates().values\n",
    "    yerr = df_main.loc[df_main[\"Record Number\"].isin(rn_list)].loc[:,[\"lower err Intensity\",\"upper err Intensity\"]].drop_duplicates().values.T\n",
    "\n",
    "    ax.bar(x, y, yerr=yerr, \n",
    "           tick_label=rn_list, \n",
    "           capsize=5,\n",
    "           color=color_dict[pH])\n",
    "    \n",
    "    # reset\n",
    "    x_start = np.max(x)+1\n",
    "    xticks = np.append(xticks, ax.get_xticks())\n",
    "    xticklabels = np.append(xticklabels, rn_list)\n",
    "\n",
    "ax.set_xticks(xticks)\n",
    "ax.set_xticklabels(xticklabels)\n",
    "...\n",
    "\n",
    "# print all titles with rn\n",
    "df_main.loc[df_main[\"lipidoid\"]==\"200oi10\"].loc[:,[\"Record Number\",\"pH\",\"title\",\"Measurement Date and Time\"]].drop_duplicates()"
   ]
  },
  {
   "cell_type": "code",
   "execution_count": null,
   "id": "d82c359e-ed05-4b29-85ae-96f77b8bfd34",
   "metadata": {
    "tags": []
   },
   "outputs": [],
   "source": [
    "# for each lipidoid, extract x0, and lower/upper sigma, and AVERAGE\n",
    "pd.pivot_table(data=df_main,\n",
    "               index=[\"lipidoid\",\"pH\"],\n",
    "               values=[\"x0 Intensity\",\"lower err Intensity\",\"upper err Intensity\"],\n",
    "               aggfunc=\"mean\")"
   ]
  },
  {
   "cell_type": "code",
   "execution_count": null,
   "id": "1854bd54-3563-44d1-942c-871dbda28b10",
   "metadata": {
    "tags": []
   },
   "outputs": [],
   "source": [
    "fig, ax = plt.subplots(1, figsize=(8,8))\n",
    "\n",
    "# plot peak diameter by intensity\n",
    "\n",
    "sns.barplot(data=df_main.sort_values(by=\"lipidoid\"),\n",
    "            x=\"lipidoid\",\n",
    "            y=\"Weighted Average Intensity_x\",\n",
    "            hue=\"pH\",\n",
    "            ax=ax)\n",
    "\n",
    "for c in ax.containers:\n",
    "    # set the bar label\n",
    "    ax.bar_label(c, fmt='%.0f', label_type='edge', padding=1)\n",
    "\n",
    "#ax[0,0].set_ylabel('Mean Diameter (nm) \\n by Intensity %')\n",
    "#ax[0,0].legend(loc='center left', bbox_to_anchor=(1, 0.5), title=\"pH\")\n",
    "#plt.xticks(rotation = 45)\n",
    "var_id += 1\n",
    "\n",
    "plt.tight_layout()"
   ]
  },
  {
   "cell_type": "markdown",
   "id": "2bfd1426-12d9-422f-bfc9-976dd1f5bf35",
   "metadata": {},
   "source": [
    "# Plot spectra by lipidoid using seaborn"
   ]
  },
  {
   "cell_type": "code",
   "execution_count": null,
   "id": "52919549-fe12-43e1-8191-e432598bd55e",
   "metadata": {
    "tags": []
   },
   "outputs": [],
   "source": [
    "fig, ax = plt.subplots(2, sharex=True)\n",
    "\n",
    "# plot intensity data\n",
    "\n",
    "sns.lineplot(df_main,\n",
    "             x=\"Diameter (nm)\",\n",
    "             y=\"Intensity %\",\n",
    "             hue=\"lipidoid\",\n",
    "             style=\"pH\",\n",
    "             ax=ax[0])\n",
    "\n",
    "# plot number data\n",
    "\n",
    "sns.lineplot(df_main,\n",
    "             x=\"Diameter (nm)\",\n",
    "             y=\"Number %\",\n",
    "             hue=\"lipidoid\",\n",
    "             style=\"pH\",\n",
    "             ax=ax[1])\n",
    "\n",
    "# format axes\n",
    "\n",
    "ax[0].set_xscale('log')\n",
    "ax[1].set_xscale('log')\n",
    "\n",
    "ax[0].set_ylabel('Intensity %')\n",
    "ax[1].set_ylabel('Number %')\n",
    "\n",
    "ax[0].set_xlabel('Diameter (nm)')\n",
    "\n",
    "# format legend\n",
    "\n",
    "ax[1].legend()\n",
    "\n",
    "    \n",
    "plt.tight_layout()"
   ]
  },
  {
   "cell_type": "code",
   "execution_count": null,
   "id": "363b4bb7-cc33-4ac1-9c23-68b2d5e44b44",
   "metadata": {
    "tags": []
   },
   "outputs": [],
   "source": [
    "N = len(df_main[\"lipidoid\"].unique())\n",
    "\n",
    "fig, ax = plt.subplots(N,2, figsize=(20,N*3))\n",
    "\n",
    "ax_id = 0\n",
    "\n",
    "for lipidoid in df_main[\"lipidoid\"].unique():\n",
    "    \n",
    "    # plot intensity data\n",
    "    \n",
    "    sns.lineplot(df_main.loc[df_main[\"lipidoid\"]==lipidoid],\n",
    "                 x=\"Diameter (nm)\",\n",
    "                 y=\"Intensity %\",\n",
    "                 label=\"Raw Data\",\n",
    "                 hue=\"pH\",\n",
    "                 ax=ax[ax_id,0])\n",
    "    sns.lineplot(df_main.loc[df_main[\"lipidoid\"]==lipidoid],\n",
    "                 x=\"Diameter (nm)\",\n",
    "                 y=\"Fitted Intensity %\",\n",
    "                 label=\"Fitted Data\",\n",
    "                 hue=\"pH\",\n",
    "                 linestyle=\"dashed\",\n",
    "                 ax=ax[ax_id,0])\n",
    "\n",
    "    # plot number data\n",
    "    \n",
    "    sns.lineplot(df_main.loc[df_main[\"lipidoid\"]==lipidoid],\n",
    "                 x=\"Diameter (nm)\",\n",
    "                 y=\"Number %\",\n",
    "                 label=\"Raw Data\",\n",
    "                 hue=\"pH\",\n",
    "                 ax=ax[ax_id,1])\n",
    "    sns.lineplot(df_main.loc[df_main[\"lipidoid\"]==lipidoid],\n",
    "                 x=\"Diameter (nm)\",\n",
    "                 y=\"Fitted Number %\",\n",
    "                 label=\"Fitted Data\",\n",
    "                 hue=\"pH\",\n",
    "                 linestyle=\"dashed\",\n",
    "                 ax=ax[ax_id,1])\n",
    "\n",
    "    # format axes\n",
    "    \n",
    "    ax[ax_id,0].set_xscale('log')\n",
    "    ax[ax_id,1].set_xscale('log')\n",
    "    \n",
    "    ax[ax_id,0].set_title(lipidoid)\n",
    "    \n",
    "    ax[ax_id,0].set_ylabel('Intensity %')\n",
    "    ax[ax_id,1].set_ylabel('Number %')\n",
    "    \n",
    "    ax[ax_id,0].set_xlabel('Diameter (nm)')\n",
    "    ax[ax_id,1].set_xlabel('Diameter (nm)')\n",
    "    \n",
    "    # format legend\n",
    "    \n",
    "    ax[ax_id,1].legend()\n",
    "    \n",
    "    # format text\n",
    "    '''\n",
    "    ax[rn-1,0].text(df_main[\"Diameter (nm)\"].min(),\n",
    "                  0.5*df_main.loc[df_main[\"Record Number\"] == rn].loc[:,\"Intensity %\"].max(),\n",
    "                  \"mean = \" + \"{:.2f}\".format(df_main.loc[rn,\"x0 Intensity\"]) + \"\\n\" + \"$\\sigma$ = \" + \"10^{:.2f}\".format(df_rn.loc[rn,\"sigma Intensity\"]))\n",
    "\n",
    "    ax[rn-1,1].text(df_main[\"Diameter (nm)\"].min(),\n",
    "                  0.5*df_main.loc[df_main[\"Record Number\"] == rn].loc[:,\"Number %\"].max(),\n",
    "                  \"mean = \" + \"{:.2f}\".format(df_rn.loc[rn,\"x0 Number\"]) + \"\\n\" + \"$\\sigma$ = \" + \"10^{:.2f}\".format(df_rn.loc[rn,\"sigma Number\"]))\n",
    "    '''\n",
    "    \n",
    "    ax_id += 1\n",
    "    \n",
    "plt.tight_layout()"
   ]
  },
  {
   "cell_type": "markdown",
   "id": "f507f7a1-6ca3-4b6e-8b4a-9339fd445b04",
   "metadata": {},
   "source": [
    "# Plot spectra by lipidoid using matplotlib"
   ]
  },
  {
   "cell_type": "code",
   "execution_count": null,
   "id": "b9c77dba-9177-44bb-9b3f-251667553f4f",
   "metadata": {
    "tags": []
   },
   "outputs": [],
   "source": [
    "N = len(df_main[\"lipidoid\"].unique())\n",
    "\n",
    "fig, ax = plt.subplots(N,2, figsize=(20,N*3))\n",
    "\n",
    "ax_id = 0\n",
    "\n",
    "for lipidoid in df_main[\"lipidoid\"].unique():\n",
    "    \n",
    "    # plot intensity data\n",
    "    \n",
    "    ax[ax_id,0].plot(df_main.loc[df_main[\"lipidoid\"]==lipidoid].loc[:,\"Diameter (nm)\"],\n",
    "                   df_main.loc[df_main[\"lipidoid\"]==lipidoid].loc[:,\"Intensity %\"],\n",
    "                   label=\"Raw Data\")\n",
    "    ax[ax_id,0].plot(df_main.loc[df_main[\"lipidoid\"]==lipidoid].loc[:,\"Diameter (nm)\"],\n",
    "                  df_main.loc[df_main[\"lipidoid\"]==lipidoid].loc[:,\"Fitted Intensity %\"],\n",
    "                  label=\"Fitted Data\")\n",
    "    \n",
    "    # plot number data\n",
    "    \n",
    "    ax[ax_id,1].plot(df_main.loc[df_main[\"lipidoid\"]==lipidoid].loc[:,\"Diameter (nm)\"],\n",
    "                  df_main.loc[df_main[\"lipidoid\"]==lipidoid].loc[:,\"Number %\"],\n",
    "                  label=\"Raw Data\")\n",
    "    ax[ax_id,1].plot(df_main.loc[df_main[\"lipidoid\"]==lipidoid].loc[:,\"Diameter (nm)\"],\n",
    "                  df_main.loc[df_main[\"lipidoid\"]==lipidoid].loc[:,\"Fitted Number %\"],\n",
    "                  label=\"Fitted Data\")\n",
    "\n",
    "    # format axes\n",
    "    \n",
    "    ax[ax_id,0].set_xscale('log')\n",
    "    ax[ax_id,1].set_xscale('log')\n",
    "    \n",
    "    ax[ax_id,0].set_title(lipidoid)\n",
    "    \n",
    "    ax[ax_id,0].set_ylabel('Intensity %')\n",
    "    ax[ax_id,1].set_ylabel('Number %')\n",
    "    \n",
    "    ax[ax_id,0].set_xlabel('Diameter (nm)')\n",
    "    ax[ax_id,1].set_xlabel('Diameter (nm)')\n",
    "    \n",
    "    # format legend\n",
    "    \n",
    "    ax[ax_id,1].legend()\n",
    "    \n",
    "    # format text\n",
    "    '''\n",
    "    ax[rn-1,0].text(df_main[\"Diameter (nm)\"].min(),\n",
    "                  0.5*df_main.loc[df_main[\"Record Number\"] == rn].loc[:,\"Intensity %\"].max(),\n",
    "                  \"mean = \" + \"{:.2f}\".format(df_main.loc[rn,\"x0 Intensity\"]) + \"\\n\" + \"$\\sigma$ = \" + \"10^{:.2f}\".format(df_rn.loc[rn,\"sigma Intensity\"]))\n",
    "\n",
    "    ax[rn-1,1].text(df_main[\"Diameter (nm)\"].min(),\n",
    "                  0.5*df_main.loc[df_main[\"Record Number\"] == rn].loc[:,\"Number %\"].max(),\n",
    "                  \"mean = \" + \"{:.2f}\".format(df_rn.loc[rn,\"x0 Number\"]) + \"\\n\" + \"$\\sigma$ = \" + \"10^{:.2f}\".format(df_rn.loc[rn,\"sigma Number\"]))\n",
    "    '''\n",
    "    \n",
    "    ax_id += 1\n",
    "    \n",
    "plt.tight_layout()"
   ]
  },
  {
   "cell_type": "markdown",
   "id": "53068047-4685-40d7-b06c-2cf2378596ec",
   "metadata": {
    "tags": []
   },
   "source": [
    "## Plot fitted and raw data for every record number"
   ]
  },
  {
   "cell_type": "code",
   "execution_count": null,
   "id": "d053f93b-033c-42a9-b56e-da7b8f475e32",
   "metadata": {
    "tags": []
   },
   "outputs": [],
   "source": [
    "'''\n",
    "N = len(df_main[\"Record Number\"].unique())\n",
    "\n",
    "fig, ax = plt.subplots(N,2, figsize=(8,N*4))\n",
    "\n",
    "for rn in df_main[\"Record Number\"].unique():\n",
    "    \n",
    "    # plot intensity data\n",
    "    \n",
    "    ax[rn-1,0].plot(df_main.loc[df_main[\"Record Number\"]==rn].loc[:,\"Diameter (nm)\"],\n",
    "                  df_main.loc[df_main[\"Rrn*4ecord Number\"]==rn].loc[:,\"Intensity %\"],\n",
    "                  label=\"Raw Data\")\n",
    "    ax[rn-1,0].plot(df_main.loc[df_main[\"Record Number\"]==rn].loc[:,\"Diameter (nm)\"],\n",
    "                  df_main.loc[df_main[\"Record Number\"]==rn].loc[:,\"Fitted Intensity %\"],\n",
    "                  label=\"Fitted Data\")\n",
    "\n",
    "    # plot number data\n",
    "    \n",
    "    ax[rn-1,1].plot(df_main.loc[df_main[\"Record Number\"]==rn].loc[:,\"Diameter (nm)\"],\n",
    "                  df_main.loc[df_main[\"Record Number\"]==rn].loc[:,\"Number %\"],\n",
    "                  label=\"Raw Data\")\n",
    "    ax[rn-1,1].plot(df_main.loc[df_main[\"Record Number\"]==rn].loc[:,\"Diameter (nm)\"],\n",
    "                  df_main.loc[df_main[\"Record Number\"]==rn].loc[:,\"Fitted Number %\"],\n",
    "                  label=\"Fitted Data\")\n",
    "\n",
    "    # format axes\n",
    "    \n",
    "    ax[rn-1,0].set_xscale('log')\n",
    "    ax[rn-1,1].set_xscale('log')\n",
    "    \n",
    "    ax[rn-1,0].set_title('Record Number '+str(rn))\n",
    "    \n",
    "    ax[rn-1,0].set_ylabel('Intensity %')\n",
    "    ax[rn-1,1].set_ylabel('Number %')\n",
    "    \n",
    "    ax[rn-1,0].set_xlabel('Diameter (nm)')\n",
    "    ax[rn-1,1].set_xlabel('Diameter (nm)')\n",
    "    \n",
    "    # format text\n",
    "    \n",
    "    ax[rn-1,0].text(df_main[\"Diameter (nm)\"].min(),\n",
    "                  0.5*df_main.loc[df_main[\"Record Number\"] == rn].loc[:,\"Intensity %\"].max(),\n",
    "                  \"mean = \" + \"{:.2f}\".format(df_main.loc[rn,\"x0 Intensity\"]) + \"\\n\" + \"$\\sigma$ = \" + \"10^{:.2f}\".format(df_rn.loc[rn,\"sigma Intensity\"]))\n",
    "\n",
    "    ax[rn-1,1].text(df_main[\"Diameter (nm)\"].min(),\n",
    "                  0.5*df_main.loc[df_main[\"Record Number\"] == rn].loc[:,\"Number %\"].max(),\n",
    "                  \"mean = \" + \"{:.2f}\".format(df_rn.loc[rn,\"x0 Number\"]) + \"\\n\" + \"$\\sigma$ = \" + \"10^{:.2f}\".format(df_rn.loc[rn,\"sigma Number\"]))\n",
    "\n",
    "    plt.tight_layout()\n",
    "'''"
   ]
  },
  {
   "cell_type": "markdown",
   "id": "459af9ac-2dc4-4ef7-8944-78766c47100e",
   "metadata": {},
   "source": [
    "#  Plot specific items"
   ]
  },
  {
   "cell_type": "markdown",
   "id": "26dd33e5-022a-4613-bd56-ba410841ddce",
   "metadata": {},
   "source": [
    "# R18 POPC LUV by pH"
   ]
  },
  {
   "cell_type": "code",
   "execution_count": null,
   "id": "e15b2a8e-b613-4be0-ad2f-c62e56b61a52",
   "metadata": {
    "tags": []
   },
   "outputs": [],
   "source": [
    "keeptitles = [\"R18 POPC LUV pH 5.5 0.05X\",\n",
    "              \"R18 POPC LUV pH 7.4 0.025X\"]\n",
    "             #\"R18 POPC LUV 0.01X\",]"
   ]
  },
  {
   "cell_type": "code",
   "execution_count": null,
   "id": "4c94ca6a-9a7a-43ad-b7f9-bd3e83d79af9",
   "metadata": {
    "tags": []
   },
   "outputs": [],
   "source": [
    "df_keep = df_main.loc[df_main[\"title\"].isin(keeptitles)]"
   ]
  },
  {
   "cell_type": "code",
   "execution_count": null,
   "id": "0976db65-bc71-40db-ab51-88a35216b178",
   "metadata": {
    "tags": []
   },
   "outputs": [],
   "source": [
    "fig, ax = plt.subplots(2,1, figsize=(4,4), sharex=True)\n",
    "\n",
    "sns.lineplot(data=df_keep,\n",
    "             x=\"Diameter (nm)\",\n",
    "             y=\"Intensity %\",\n",
    "             hue=\"pH\",\n",
    "             ax=ax[0])\n",
    "\n",
    "sns.lineplot(data=df_keep,\n",
    "             x=\"Diameter (nm)\",\n",
    "             y=\"Number %\",\n",
    "             hue=\"pH\",\n",
    "             ax=ax[1])\n",
    "\n",
    "ax[0].set_xscale('log')"
   ]
  },
  {
   "cell_type": "code",
   "execution_count": null,
   "id": "139c126a-c8ac-4d9a-8f56-0c80636eb2b8",
   "metadata": {
    "tags": []
   },
   "outputs": [],
   "source": [
    "fig, ax = plt.subplots(2,1, figsize=(4,4), sharex=True)\n",
    "\n",
    "sns.barplot(data=df_keep,\n",
    "             x=\"pH\",\n",
    "             y=\"x0 Intensity\",\n",
    "             ax=ax[0])\n",
    "\n",
    "sns.barplot(data=df_keep,\n",
    "             x=\"pH\",\n",
    "             y=\"x0 Number\",\n",
    "             ax=ax[1])\n",
    "\n",
    "for c in ax[0].containers:\n",
    "    # set the bar label\n",
    "    ax[0].bar_label(c, fmt='%.0f', label_type='edge', padding=1)\n"
   ]
  },
  {
   "cell_type": "code",
   "execution_count": null,
   "id": "8c3ba628-2120-431a-bc33-f823592f575b",
   "metadata": {
    "tags": []
   },
   "outputs": [],
   "source": [
    "fig, ax = plt.subplots(1,3, figsize=(12,4), sharey=True)\n",
    "\n",
    "var_id = 0\n",
    "\n",
    "for variable in ['Peak Diameter by Intensity %', 'x0 Intensity', 'Weighted Average Intensity_x']:\n",
    "\n",
    "    # plot peak diameter by intensity\n",
    "    sns.barplot(data=df_keep,\n",
    "                x=\"pH\",\n",
    "                y=variable,\n",
    "               ax=ax[var_id])\n",
    "\n",
    "    #ax[0,0].set_ylabel('Mean Diameter (nm) \\n by Intensity %')\n",
    "    #ax[0,0].legend(loc='center left', bbox_to_anchor=(1, 0.5), title=\"pH\")\n",
    "    #plt.xticks(rotation = 45)\n",
    "    var_id += 1\n",
    "    \n",
    "    plt.tight_layout()"
   ]
  },
  {
   "cell_type": "code",
   "execution_count": null,
   "id": "27430082-738e-45f6-983d-2de333624bb5",
   "metadata": {},
   "outputs": [],
   "source": []
  },
  {
   "cell_type": "code",
   "execution_count": 53,
   "id": "10b301ef-845a-432a-b972-45b85c6f0f35",
   "metadata": {
    "tags": []
   },
   "outputs": [
    {
     "data": {
      "image/png": "[encoded data removed]",
      "text/plain": [
       "<Figure size 640x480 with 2 Axes>"
      ]
     },
     "metadata": {},
     "output_type": "display_data"
    }
   ],
   "source": [
    "fig, ax = plt.subplots(2, sharex=True)\n",
    "\n",
    "# plot peak diameter by intensity\n",
    "sns.barplot(data=df_main,\n",
    "            x=\"lipidoid\",\n",
    "            y=\"Peak Diameter by Intensity %_x\",\n",
    "            hue=\"pH\",\n",
    "           ax=ax[0])\n",
    "\n",
    "ax[0].set_ylabel('Peak Diameter (nm) \\n by Intensity %_x')\n",
    "ax[0].legend(loc='center left', bbox_to_anchor=(1, 0.5), title=\"days old\")\n",
    "\n",
    "# plot peak diameter by number\n",
    "sns.barplot(data=df_main,\n",
    "            x=\"lipidoid\",\n",
    "            y=\"Peak Diameter by Number %_x\",\n",
    "            hue=\"pH\",\n",
    "            ax=ax[1])\n",
    "\n",
    "ax[1].set_ylabel('Peak Diameter (nm) \\n by Number %_x')\n",
    "ax[1].legend(loc='center left', bbox_to_anchor=(1, 0.5))\n",
    "\n",
    "plt.xticks(rotation = 45)\n",
    "\n",
    "plt.tight_layout()"
   ]
  }
 ],
 "metadata": {
  "colab": {
   "provenance": []
  },
  "kernelspec": {
   "display_name": "Python 3 (ipykernel)",
   "language": "python",
   "name": "python3"
  },
  "language_info": {
   "codemirror_mode": {
    "name": "ipython",
    "version": 3
   },
   "file_extension": ".py",
   "mimetype": "text/x-python",
   "name": "python",
   "nbconvert_exporter": "python",
   "pygments_lexer": "ipython3",
   "version": "3.11.2"
  }
 },
 "nbformat": 4,
 "nbformat_minor": 5
}
